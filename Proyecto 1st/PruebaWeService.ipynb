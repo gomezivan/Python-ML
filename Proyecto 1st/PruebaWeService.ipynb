{
 "cells": [
  {
   "cell_type": "code",
   "execution_count": 13,
   "metadata": {},
   "outputs": [],
   "source": [
    "import pandas as pd\n",
    "from sklearn.externals import joblib\n",
    "import category_encoders as ce\n",
    "import sys\n",
    "import os\n",
    "BinEncoder = joblib.load('BinEncoder.pkl') \n",
    "rf = joblib.load('RF_modelcars.pkl')\n",
    "\n",
    "def predict_car_value(Make_par, Model_par,State_par,Mileage_par,Year_par):\n",
    "       \n",
    "    #Crear un dataframe y aplicar el encoder binario\n",
    "    df = pd.DataFrame([{'Year': Year_par, 'Mileage': Mileage_par, 'State':State_par, 'Make':Make_par, 'Model':Model_par}] ) \n",
    "    df = createFeatures(df)\n",
    "    \n",
    "    df2 = BinEncoder.transform(df)\n",
    "    \n",
    "    value = rf.predict(df2)[0]\n",
    "    return round(value)\n",
    "\n",
    "\n",
    "def createFeatures(data):\n",
    "    stateRate = pd.read_csv(\"StatesRate.csv\")\n",
    "    data = data.set_index('State').join(stateRate.set_index('State')).reset_index()\n",
    "    data.Year = 2019-int(data.Year)\n",
    "    data[\"MakeModel4\"] = data[\"Make\"] + data[\"Model\"].str[:4]\n",
    "    data=data.drop(['State'], axis=1)\n",
    "    return data"
   ]
  },
  {
   "cell_type": "code",
   "execution_count": 18,
   "metadata": {},
   "outputs": [
    {
     "name": "stdout",
     "output_type": "stream",
     "text": [
      "15936.0\n"
     ]
    }
   ],
   "source": [
    "print (predict_car_value('Ford', 'EscapeFWD','MD','177909','2010'))"
   ]
  },
  {
   "cell_type": "code",
   "execution_count": 1,
   "metadata": {},
   "outputs": [
    {
     "name": "stdout",
     "output_type": "stream",
     "text": [
      " * Serving Flask app \"__main__\" (lazy loading)\n",
      " * Environment: production\n",
      "   WARNING: Do not use the development server in a production environment.\n",
      "   Use a production WSGI server instead.\n",
      " * Debug mode: on\n"
     ]
    },
    {
     "name": "stderr",
     "output_type": "stream",
     "text": [
      " * Running on http://0.0.0.0:8889/ (Press CTRL+C to quit)\n",
      "127.0.0.1 - - [10/Mar/2019 19:58:26] \"GET / HTTP/1.1\" 200 -\n",
      "127.0.0.1 - - [10/Mar/2019 19:58:26] \"GET /swagger.json HTTP/1.1\" 200 -\n",
      "C:\\ProgramData\\Anaconda3\\lib\\site-packages\\sklearn\\ensemble\\base.py:154: UserWarning: Loky-backed parallel loops cannot be nested below threads, setting n_jobs=1\n",
      "  n_jobs = min(effective_n_jobs(n_jobs), n_estimators)\n",
      "127.0.0.1 - - [10/Mar/2019 19:58:54] \"GET /Predict/?Make=Ford&Model=EscapeFWD&State=OH&Mileage=23388&Year=2015 HTTP/1.1\" 200 -\n",
      "127.0.0.1 - - [10/Mar/2019 19:58:54] \"GET /favicon.ico HTTP/1.1\" 404 -\n",
      "C:\\ProgramData\\Anaconda3\\lib\\site-packages\\sklearn\\ensemble\\base.py:154: UserWarning: Loky-backed parallel loops cannot be nested below threads, setting n_jobs=1\n",
      "  n_jobs = min(effective_n_jobs(n_jobs), n_estimators)\n",
      "127.0.0.1 - - [10/Mar/2019 19:59:04] \"GET /Predict/?Make=Nissan&Model=MuranoAWD&State=MD&Mileage=31909&Year=2014 HTTP/1.1\" 200 -\n"
     ]
    }
   ],
   "source": [
    "#!/usr/bin/python\n",
    "from flask import Flask\n",
    "from flask_restplus import Api, Resource, fields\n",
    "from sklearn.externals import joblib\n",
    "from Model_PriceCars import predict_car_value\n",
    "\n",
    "app = Flask(__name__)\n",
    "\n",
    "api = Api(\n",
    "    app, \n",
    "    version='1.0', \n",
    "    title='Estimador de precio vehicular',\n",
    "    description='Desarrollado por: Iván Gómez, Cristian Najera, Natalia Martínez')\n",
    "\n",
    "ns = api.namespace('Predict', \n",
    "     description='Predict price')\n",
    "   \n",
    "parser = api.parser()\n",
    "\n",
    "parser.add_argument(\n",
    "    'Make', \n",
    "    type=str, \n",
    "    required=True, \n",
    "    help='Car Maker', \n",
    "    location='args')\n",
    "\n",
    "parser.add_argument(\n",
    "    'Model', \n",
    "    type=str, \n",
    "    required=True, \n",
    "    help='Car Model', \n",
    "    location='args')\n",
    "\n",
    "parser.add_argument(\n",
    "    'State', \n",
    "    type=str, \n",
    "    required=True, \n",
    "    help='State', \n",
    "    location='args')\n",
    "\n",
    "parser.add_argument(\n",
    "    'Mileage', \n",
    "    type=str, \n",
    "    required=True, \n",
    "    help='Mileage', \n",
    "    location='args')\n",
    "\n",
    "parser.add_argument(\n",
    "    'Year', \n",
    "    type=str, \n",
    "    required=True, \n",
    "    help='Year', \n",
    "    location='args')\n",
    "\n",
    "\n",
    "resource_fields = api.model('Resource', {\n",
    "    'result': fields.String,\n",
    "})\n",
    "\n",
    "@ns.route('/')\n",
    "class PredPriceApi(Resource):\n",
    "\n",
    "    @api.doc(parser=parser)\n",
    "    @api.marshal_with(resource_fields)\n",
    "    def get(self):\n",
    "        args = parser.parse_args()\n",
    "        \n",
    "        return {\n",
    "         \"result\": predict_car_value(args['Make'],args['Model'],args['State'],args['Mileage'],args['Year'])\n",
    "        }, 200\n",
    "    \n",
    "    \n",
    "if __name__ == '__main__':\n",
    "    app.run(debug=True, use_reloader=False, host='0.0.0.0', port=8889)"
   ]
  }
 ],
 "metadata": {
  "kernelspec": {
   "display_name": "Python 3",
   "language": "python",
   "name": "python3"
  },
  "language_info": {
   "codemirror_mode": {
    "name": "ipython",
    "version": 3
   },
   "file_extension": ".py",
   "mimetype": "text/x-python",
   "name": "python",
   "nbconvert_exporter": "python",
   "pygments_lexer": "ipython3",
   "version": "3.7.1"
  }
 },
 "nbformat": 4,
 "nbformat_minor": 2
}
