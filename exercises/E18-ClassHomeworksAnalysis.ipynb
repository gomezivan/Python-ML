{
 "cells": [
  {
   "cell_type": "markdown",
   "metadata": {},
   "source": [
    "# Exercise 18\n",
    "\n",
    "## Analyze class homeworks\n"
   ]
  },
  {
   "cell_type": "code",
   "execution_count": 1,
   "metadata": {},
   "outputs": [
    {
     "name": "stdout",
     "output_type": "stream",
     "text": [
      "Requirement already satisfied: fuzzywuzzy in c:\\users\\ivandario.gomez\\appdata\\local\\continuum\\anaconda3\\lib\\site-packages (0.17.0)\n"
     ]
    }
   ],
   "source": [
    "!pip install fuzzywuzzy"
   ]
  },
  {
   "cell_type": "code",
   "execution_count": 2,
   "metadata": {},
   "outputs": [
    {
     "name": "stderr",
     "output_type": "stream",
     "text": [
      "C:\\Users\\ivandario.gomez\\AppData\\Local\\Continuum\\anaconda3\\lib\\site-packages\\fuzzywuzzy\\fuzz.py:11: UserWarning: Using slow pure-python SequenceMatcher. Install python-Levenshtein to remove this warning\n",
      "  warnings.warn('Using slow pure-python SequenceMatcher. Install python-Levenshtein to remove this warning')\n"
     ]
    },
    {
     "data": {
      "text/html": [
       "<div>\n",
       "<style scoped>\n",
       "    .dataframe tbody tr th:only-of-type {\n",
       "        vertical-align: middle;\n",
       "    }\n",
       "\n",
       "    .dataframe tbody tr th {\n",
       "        vertical-align: top;\n",
       "    }\n",
       "\n",
       "    .dataframe thead th {\n",
       "        text-align: right;\n",
       "    }\n",
       "</style>\n",
       "<table border=\"1\" class=\"dataframe\">\n",
       "  <thead>\n",
       "    <tr style=\"text-align: right;\">\n",
       "      <th></th>\n",
       "      <th>Sexo</th>\n",
       "      <th>T1</th>\n",
       "      <th>T2</th>\n",
       "      <th>T3</th>\n",
       "      <th>T4</th>\n",
       "      <th>T5</th>\n",
       "      <th>T6</th>\n",
       "    </tr>\n",
       "  </thead>\n",
       "  <tbody>\n",
       "    <tr>\n",
       "      <th>0</th>\n",
       "      <td>H</td>\n",
       "      <td>Un científico de datos y un ingeniero de datos...</td>\n",
       "      <td>NaN</td>\n",
       "      <td>Los árboles de decisión es uno de los algoritm...</td>\n",
       "      <td>NaN</td>\n",
       "      <td>En el documento \"Do We Need Hundreds of Classi...</td>\n",
       "      <td>Boosting builds models from individual so call...</td>\n",
       "    </tr>\n",
       "    <tr>\n",
       "      <th>1</th>\n",
       "      <td>H</td>\n",
       "      <td>Aunque los dos perfiles cuentan con habilidade...</td>\n",
       "      <td>Aunque el conceso no es total en el tema de ma...</td>\n",
       "      <td>NaN</td>\n",
       "      <td>En Machine Learing el propósito de los métodos...</td>\n",
       "      <td>El paper publicado en 2014 hace una evaluación...</td>\n",
       "      <td>Gradient Boosting ClassifierGradient Boosting ...</td>\n",
       "    </tr>\n",
       "    <tr>\n",
       "      <th>2</th>\n",
       "      <td>H</td>\n",
       "      <td>Python vs Stata. Analizar información es un pr...</td>\n",
       "      <td>En el marco del Machine Learning encontramos c...</td>\n",
       "      <td>Árbol de clasificación Como su nombre lo indic...</td>\n",
       "      <td>Este es un mecanismo que utiliza varios algori...</td>\n",
       "      <td>El paper analiza 179 clasificadores de 17 dife...</td>\n",
       "      <td>Gradient Boosting Classifier busca aprender de...</td>\n",
       "    </tr>\n",
       "    <tr>\n",
       "      <th>3</th>\n",
       "      <td>M</td>\n",
       "      <td>Los algoritmos de machine learning buscan pred...</td>\n",
       "      <td>Los algoritmos de machine learning buscan pred...</td>\n",
       "      <td>Los arboles de decisión pertenecen a los algor...</td>\n",
       "      <td>Consideremos el siguiente ejemplo: Una persona...</td>\n",
       "      <td>¿Se necesitan cientos de modelos para resolver...</td>\n",
       "      <td>NaN</td>\n",
       "    </tr>\n",
       "    <tr>\n",
       "      <th>4</th>\n",
       "      <td>H</td>\n",
       "      <td>Python vs R para análisis de datos. A pesar de...</td>\n",
       "      <td>Tipos de aprendizaje en Machine Learning. El M...</td>\n",
       "      <td>Tipos de árboles de decisión y aplicaciones. U...</td>\n",
       "      <td>La combinación de modelos o ensemble es un mod...</td>\n",
       "      <td>En el articulo se analizan cerca de 180 clasif...</td>\n",
       "      <td>XGBoosting vs GBoosting. A pesar de que el alg...</td>\n",
       "    </tr>\n",
       "  </tbody>\n",
       "</table>\n",
       "</div>"
      ],
      "text/plain": [
       "  Sexo                                                 T1  \\\n",
       "0    H  Un científico de datos y un ingeniero de datos...   \n",
       "1    H  Aunque los dos perfiles cuentan con habilidade...   \n",
       "2    H  Python vs Stata. Analizar información es un pr...   \n",
       "3    M  Los algoritmos de machine learning buscan pred...   \n",
       "4    H  Python vs R para análisis de datos. A pesar de...   \n",
       "\n",
       "                                                  T2  \\\n",
       "0                                                NaN   \n",
       "1  Aunque el conceso no es total en el tema de ma...   \n",
       "2  En el marco del Machine Learning encontramos c...   \n",
       "3  Los algoritmos de machine learning buscan pred...   \n",
       "4  Tipos de aprendizaje en Machine Learning. El M...   \n",
       "\n",
       "                                                  T3  \\\n",
       "0  Los árboles de decisión es uno de los algoritm...   \n",
       "1                                                NaN   \n",
       "2  Árbol de clasificación Como su nombre lo indic...   \n",
       "3  Los arboles de decisión pertenecen a los algor...   \n",
       "4  Tipos de árboles de decisión y aplicaciones. U...   \n",
       "\n",
       "                                                  T4  \\\n",
       "0                                                NaN   \n",
       "1  En Machine Learing el propósito de los métodos...   \n",
       "2  Este es un mecanismo que utiliza varios algori...   \n",
       "3  Consideremos el siguiente ejemplo: Una persona...   \n",
       "4  La combinación de modelos o ensemble es un mod...   \n",
       "\n",
       "                                                  T5  \\\n",
       "0  En el documento \"Do We Need Hundreds of Classi...   \n",
       "1  El paper publicado en 2014 hace una evaluación...   \n",
       "2  El paper analiza 179 clasificadores de 17 dife...   \n",
       "3  ¿Se necesitan cientos de modelos para resolver...   \n",
       "4  En el articulo se analizan cerca de 180 clasif...   \n",
       "\n",
       "                                                  T6  \n",
       "0  Boosting builds models from individual so call...  \n",
       "1  Gradient Boosting ClassifierGradient Boosting ...  \n",
       "2  Gradient Boosting Classifier busca aprender de...  \n",
       "3                                                NaN  \n",
       "4  XGBoosting vs GBoosting. A pesar de que el alg...  "
      ]
     },
     "execution_count": 2,
     "metadata": {},
     "output_type": "execute_result"
    }
   ],
   "source": [
    "import pandas as pd\n",
    "import numpy as np\n",
    "from fuzzywuzzy import fuzz\n",
    "import matplotlib.pyplot as plt\n",
    "from sklearn.feature_extraction.text import TfidfVectorizer\n",
    "from sklearn.cluster import KMeans\n",
    "from nltk.corpus import stopwords\n",
    "\n",
    "%matplotlib inline\n",
    "import matplotlib.pyplot as plt\n",
    "\n",
    "data = pd.read_excel('E18.xlsx')\n",
    "data.head()"
   ]
  },
  {
   "cell_type": "markdown",
   "metadata": {},
   "source": [
    "# Exercise 18.1\n",
    "\n",
    "Analyze the writing patterns of each student"
   ]
  },
  {
   "cell_type": "code",
   "execution_count": 3,
   "metadata": {},
   "outputs": [
    {
     "data": {
      "text/html": [
       "<div>\n",
       "<style scoped>\n",
       "    .dataframe tbody tr th:only-of-type {\n",
       "        vertical-align: middle;\n",
       "    }\n",
       "\n",
       "    .dataframe tbody tr th {\n",
       "        vertical-align: top;\n",
       "    }\n",
       "\n",
       "    .dataframe thead th {\n",
       "        text-align: right;\n",
       "    }\n",
       "</style>\n",
       "<table border=\"1\" class=\"dataframe\">\n",
       "  <thead>\n",
       "    <tr style=\"text-align: right;\">\n",
       "      <th></th>\n",
       "      <th>Sexo</th>\n",
       "      <th>T1</th>\n",
       "      <th>T2</th>\n",
       "      <th>T3</th>\n",
       "      <th>T4</th>\n",
       "      <th>T5</th>\n",
       "      <th>T6</th>\n",
       "      <th>cant_docs</th>\n",
       "    </tr>\n",
       "  </thead>\n",
       "  <tbody>\n",
       "    <tr>\n",
       "      <th>0</th>\n",
       "      <td>H</td>\n",
       "      <td>Un científico de datos y un ingeniero de datos...</td>\n",
       "      <td>NaN</td>\n",
       "      <td>Los árboles de decisión es uno de los algoritm...</td>\n",
       "      <td>NaN</td>\n",
       "      <td>En el documento \"Do We Need Hundreds of Classi...</td>\n",
       "      <td>Boosting builds models from individual so call...</td>\n",
       "      <td>5</td>\n",
       "    </tr>\n",
       "    <tr>\n",
       "      <th>1</th>\n",
       "      <td>H</td>\n",
       "      <td>Aunque los dos perfiles cuentan con habilidade...</td>\n",
       "      <td>Aunque el conceso no es total en el tema de ma...</td>\n",
       "      <td>NaN</td>\n",
       "      <td>En Machine Learing el propósito de los métodos...</td>\n",
       "      <td>El paper publicado en 2014 hace una evaluación...</td>\n",
       "      <td>Gradient Boosting ClassifierGradient Boosting ...</td>\n",
       "      <td>6</td>\n",
       "    </tr>\n",
       "    <tr>\n",
       "      <th>2</th>\n",
       "      <td>H</td>\n",
       "      <td>Python vs Stata. Analizar información es un pr...</td>\n",
       "      <td>En el marco del Machine Learning encontramos c...</td>\n",
       "      <td>Árbol de clasificación Como su nombre lo indic...</td>\n",
       "      <td>Este es un mecanismo que utiliza varios algori...</td>\n",
       "      <td>El paper analiza 179 clasificadores de 17 dife...</td>\n",
       "      <td>Gradient Boosting Classifier busca aprender de...</td>\n",
       "      <td>7</td>\n",
       "    </tr>\n",
       "    <tr>\n",
       "      <th>3</th>\n",
       "      <td>M</td>\n",
       "      <td>Los algoritmos de machine learning buscan pred...</td>\n",
       "      <td>Los algoritmos de machine learning buscan pred...</td>\n",
       "      <td>Los arboles de decisión pertenecen a los algor...</td>\n",
       "      <td>Consideremos el siguiente ejemplo: Una persona...</td>\n",
       "      <td>¿Se necesitan cientos de modelos para resolver...</td>\n",
       "      <td>NaN</td>\n",
       "      <td>6</td>\n",
       "    </tr>\n",
       "    <tr>\n",
       "      <th>4</th>\n",
       "      <td>H</td>\n",
       "      <td>Python vs R para análisis de datos. A pesar de...</td>\n",
       "      <td>Tipos de aprendizaje en Machine Learning. El M...</td>\n",
       "      <td>Tipos de árboles de decisión y aplicaciones. U...</td>\n",
       "      <td>La combinación de modelos o ensemble es un mod...</td>\n",
       "      <td>En el articulo se analizan cerca de 180 clasif...</td>\n",
       "      <td>XGBoosting vs GBoosting. A pesar de que el alg...</td>\n",
       "      <td>7</td>\n",
       "    </tr>\n",
       "  </tbody>\n",
       "</table>\n",
       "</div>"
      ],
      "text/plain": [
       "  Sexo                                                 T1  \\\n",
       "0    H  Un científico de datos y un ingeniero de datos...   \n",
       "1    H  Aunque los dos perfiles cuentan con habilidade...   \n",
       "2    H  Python vs Stata. Analizar información es un pr...   \n",
       "3    M  Los algoritmos de machine learning buscan pred...   \n",
       "4    H  Python vs R para análisis de datos. A pesar de...   \n",
       "\n",
       "                                                  T2  \\\n",
       "0                                                NaN   \n",
       "1  Aunque el conceso no es total en el tema de ma...   \n",
       "2  En el marco del Machine Learning encontramos c...   \n",
       "3  Los algoritmos de machine learning buscan pred...   \n",
       "4  Tipos de aprendizaje en Machine Learning. El M...   \n",
       "\n",
       "                                                  T3  \\\n",
       "0  Los árboles de decisión es uno de los algoritm...   \n",
       "1                                                NaN   \n",
       "2  Árbol de clasificación Como su nombre lo indic...   \n",
       "3  Los arboles de decisión pertenecen a los algor...   \n",
       "4  Tipos de árboles de decisión y aplicaciones. U...   \n",
       "\n",
       "                                                  T4  \\\n",
       "0                                                NaN   \n",
       "1  En Machine Learing el propósito de los métodos...   \n",
       "2  Este es un mecanismo que utiliza varios algori...   \n",
       "3  Consideremos el siguiente ejemplo: Una persona...   \n",
       "4  La combinación de modelos o ensemble es un mod...   \n",
       "\n",
       "                                                  T5  \\\n",
       "0  En el documento \"Do We Need Hundreds of Classi...   \n",
       "1  El paper publicado en 2014 hace una evaluación...   \n",
       "2  El paper analiza 179 clasificadores de 17 dife...   \n",
       "3  ¿Se necesitan cientos de modelos para resolver...   \n",
       "4  En el articulo se analizan cerca de 180 clasif...   \n",
       "\n",
       "                                                  T6  cant_docs  \n",
       "0  Boosting builds models from individual so call...          5  \n",
       "1  Gradient Boosting ClassifierGradient Boosting ...          6  \n",
       "2  Gradient Boosting Classifier busca aprender de...          7  \n",
       "3                                                NaN          6  \n",
       "4  XGBoosting vs GBoosting. A pesar de que el alg...          7  "
      ]
     },
     "execution_count": 3,
     "metadata": {},
     "output_type": "execute_result"
    }
   ],
   "source": [
    "data['cant_docs'] = data.notna().sum(axis=1)\n",
    "data.head()"
   ]
  },
  {
   "cell_type": "code",
   "execution_count": 4,
   "metadata": {},
   "outputs": [
    {
     "name": "stderr",
     "output_type": "stream",
     "text": [
      "C:\\Users\\ivandario.gomez\\AppData\\Local\\Continuum\\anaconda3\\lib\\site-packages\\ipykernel_launcher.py:15: SettingWithCopyWarning: \n",
      "A value is trying to be set on a copy of a slice from a DataFrame\n",
      "\n",
      "See the caveats in the documentation: http://pandas.pydata.org/pandas-docs/stable/indexing.html#indexing-view-versus-copy\n",
      "  from ipykernel import kernelapp as app\n",
      "C:\\Users\\ivandario.gomez\\AppData\\Local\\Continuum\\anaconda3\\lib\\site-packages\\ipykernel_launcher.py:16: SettingWithCopyWarning: \n",
      "A value is trying to be set on a copy of a slice from a DataFrame\n",
      "\n",
      "See the caveats in the documentation: http://pandas.pydata.org/pandas-docs/stable/indexing.html#indexing-view-versus-copy\n",
      "  app.launch_new_instance()\n"
     ]
    },
    {
     "data": {
      "text/html": [
       "<div>\n",
       "<style scoped>\n",
       "    .dataframe tbody tr th:only-of-type {\n",
       "        vertical-align: middle;\n",
       "    }\n",
       "\n",
       "    .dataframe tbody tr th {\n",
       "        vertical-align: top;\n",
       "    }\n",
       "\n",
       "    .dataframe thead th {\n",
       "        text-align: right;\n",
       "    }\n",
       "</style>\n",
       "<table border=\"1\" class=\"dataframe\">\n",
       "  <thead>\n",
       "    <tr style=\"text-align: right;\">\n",
       "      <th></th>\n",
       "      <th>Sexo</th>\n",
       "      <th>T1</th>\n",
       "      <th>T2</th>\n",
       "      <th>T3</th>\n",
       "      <th>T4</th>\n",
       "      <th>T5</th>\n",
       "      <th>T6</th>\n",
       "      <th>cant_docs</th>\n",
       "      <th>average_c</th>\n",
       "      <th>average_w</th>\n",
       "    </tr>\n",
       "  </thead>\n",
       "  <tbody>\n",
       "    <tr>\n",
       "      <th>0</th>\n",
       "      <td>H</td>\n",
       "      <td>Un científico de datos y un ingeniero de datos...</td>\n",
       "      <td>NaN</td>\n",
       "      <td>Los árboles de decisión es uno de los algoritm...</td>\n",
       "      <td>NaN</td>\n",
       "      <td>En el documento \"Do We Need Hundreds of Classi...</td>\n",
       "      <td>Boosting builds models from individual so call...</td>\n",
       "      <td>5</td>\n",
       "      <td>2314</td>\n",
       "      <td>369</td>\n",
       "    </tr>\n",
       "    <tr>\n",
       "      <th>1</th>\n",
       "      <td>H</td>\n",
       "      <td>Aunque los dos perfiles cuentan con habilidade...</td>\n",
       "      <td>Aunque el conceso no es total en el tema de ma...</td>\n",
       "      <td>NaN</td>\n",
       "      <td>En Machine Learing el propósito de los métodos...</td>\n",
       "      <td>El paper publicado en 2014 hace una evaluación...</td>\n",
       "      <td>Gradient Boosting ClassifierGradient Boosting ...</td>\n",
       "      <td>6</td>\n",
       "      <td>1418</td>\n",
       "      <td>220</td>\n",
       "    </tr>\n",
       "    <tr>\n",
       "      <th>2</th>\n",
       "      <td>H</td>\n",
       "      <td>Python vs Stata. Analizar información es un pr...</td>\n",
       "      <td>En el marco del Machine Learning encontramos c...</td>\n",
       "      <td>Árbol de clasificación Como su nombre lo indic...</td>\n",
       "      <td>Este es un mecanismo que utiliza varios algori...</td>\n",
       "      <td>El paper analiza 179 clasificadores de 17 dife...</td>\n",
       "      <td>Gradient Boosting Classifier busca aprender de...</td>\n",
       "      <td>7</td>\n",
       "      <td>1586</td>\n",
       "      <td>253</td>\n",
       "    </tr>\n",
       "    <tr>\n",
       "      <th>3</th>\n",
       "      <td>M</td>\n",
       "      <td>Los algoritmos de machine learning buscan pred...</td>\n",
       "      <td>Los algoritmos de machine learning buscan pred...</td>\n",
       "      <td>Los arboles de decisión pertenecen a los algor...</td>\n",
       "      <td>Consideremos el siguiente ejemplo: Una persona...</td>\n",
       "      <td>¿Se necesitan cientos de modelos para resolver...</td>\n",
       "      <td>NaN</td>\n",
       "      <td>6</td>\n",
       "      <td>1597</td>\n",
       "      <td>244</td>\n",
       "    </tr>\n",
       "    <tr>\n",
       "      <th>4</th>\n",
       "      <td>H</td>\n",
       "      <td>Python vs R para análisis de datos. A pesar de...</td>\n",
       "      <td>Tipos de aprendizaje en Machine Learning. El M...</td>\n",
       "      <td>Tipos de árboles de decisión y aplicaciones. U...</td>\n",
       "      <td>La combinación de modelos o ensemble es un mod...</td>\n",
       "      <td>En el articulo se analizan cerca de 180 clasif...</td>\n",
       "      <td>XGBoosting vs GBoosting. A pesar de que el alg...</td>\n",
       "      <td>7</td>\n",
       "      <td>1463</td>\n",
       "      <td>238</td>\n",
       "    </tr>\n",
       "  </tbody>\n",
       "</table>\n",
       "</div>"
      ],
      "text/plain": [
       "  Sexo                                                 T1  \\\n",
       "0    H  Un científico de datos y un ingeniero de datos...   \n",
       "1    H  Aunque los dos perfiles cuentan con habilidade...   \n",
       "2    H  Python vs Stata. Analizar información es un pr...   \n",
       "3    M  Los algoritmos de machine learning buscan pred...   \n",
       "4    H  Python vs R para análisis de datos. A pesar de...   \n",
       "\n",
       "                                                  T2  \\\n",
       "0                                                NaN   \n",
       "1  Aunque el conceso no es total en el tema de ma...   \n",
       "2  En el marco del Machine Learning encontramos c...   \n",
       "3  Los algoritmos de machine learning buscan pred...   \n",
       "4  Tipos de aprendizaje en Machine Learning. El M...   \n",
       "\n",
       "                                                  T3  \\\n",
       "0  Los árboles de decisión es uno de los algoritm...   \n",
       "1                                                NaN   \n",
       "2  Árbol de clasificación Como su nombre lo indic...   \n",
       "3  Los arboles de decisión pertenecen a los algor...   \n",
       "4  Tipos de árboles de decisión y aplicaciones. U...   \n",
       "\n",
       "                                                  T4  \\\n",
       "0                                                NaN   \n",
       "1  En Machine Learing el propósito de los métodos...   \n",
       "2  Este es un mecanismo que utiliza varios algori...   \n",
       "3  Consideremos el siguiente ejemplo: Una persona...   \n",
       "4  La combinación de modelos o ensemble es un mod...   \n",
       "\n",
       "                                                  T5  \\\n",
       "0  En el documento \"Do We Need Hundreds of Classi...   \n",
       "1  El paper publicado en 2014 hace una evaluación...   \n",
       "2  El paper analiza 179 clasificadores de 17 dife...   \n",
       "3  ¿Se necesitan cientos de modelos para resolver...   \n",
       "4  En el articulo se analizan cerca de 180 clasif...   \n",
       "\n",
       "                                                  T6  cant_docs  average_c  \\\n",
       "0  Boosting builds models from individual so call...          5       2314   \n",
       "1  Gradient Boosting ClassifierGradient Boosting ...          6       1418   \n",
       "2  Gradient Boosting Classifier busca aprender de...          7       1586   \n",
       "3                                                NaN          6       1597   \n",
       "4  XGBoosting vs GBoosting. A pesar de que el alg...          7       1463   \n",
       "\n",
       "   average_w  \n",
       "0        369  \n",
       "1        220  \n",
       "2        253  \n",
       "3        244  \n",
       "4        238  "
      ]
     },
     "execution_count": 4,
     "metadata": {},
     "output_type": "execute_result"
    }
   ],
   "source": [
    "# words average for each student\n",
    "data['average_c'] = 0\n",
    "data['average_w'] = 0\n",
    "for i in data.index:\n",
    "    average_c = 0\n",
    "    average_w = 0\n",
    "    for j in range(1,7):\n",
    "        try:\n",
    "            #print(len(data.iloc[i][j]))\n",
    "            average_c = average_c + len(data.iloc[i][j])\n",
    "            average_w = average_w + len(data.iloc[i][j].split())\n",
    "        except:\n",
    "            pass\n",
    "    #print(i,\"_________________________\")\n",
    "    data['average_c'][i] =  average_c / data['cant_docs'][i]\n",
    "    data['average_w'][i] =  average_w / data['cant_docs'][i]\n",
    "data.head()   "
   ]
  },
  {
   "cell_type": "markdown",
   "metadata": {},
   "source": [
    "# Distribution of number of documents per person"
   ]
  },
  {
   "cell_type": "code",
   "execution_count": 94,
   "metadata": {
    "scrolled": true
   },
   "outputs": [
    {
     "data": {
      "text/plain": [
       "<matplotlib.axes._subplots.AxesSubplot at 0x2688fbed400>"
      ]
     },
     "execution_count": 94,
     "metadata": {},
     "output_type": "execute_result"
    },
    {
     "data": {
      "image/png": "[encoded data removed]",
      "text/plain": [
       "<Figure size 720x144 with 1 Axes>"
      ]
     },
     "metadata": {
      "needs_background": "light"
     },
     "output_type": "display_data"
    }
   ],
   "source": [
    "data['cant_docs'].hist(color = \"red\", figsize=(10,2))"
   ]
  },
  {
   "cell_type": "markdown",
   "metadata": {},
   "source": [
    "# Distribution of number of words per document"
   ]
  },
  {
   "cell_type": "code",
   "execution_count": 93,
   "metadata": {
    "scrolled": true
   },
   "outputs": [
    {
     "data": {
      "text/plain": [
       "<matplotlib.axes._subplots.AxesSubplot at 0x2688fccd630>"
      ]
     },
     "execution_count": 93,
     "metadata": {},
     "output_type": "execute_result"
    },
    {
     "data": {
      "image/png": "[encoded data removed]",
      "text/plain": [
       "<Figure size 720x144 with 1 Axes>"
      ]
     },
     "metadata": {
      "needs_background": "light"
     },
     "output_type": "display_data"
    }
   ],
   "source": [
    "data['average_w'].hist(color = \"red\", figsize=(10,2))"
   ]
  },
  {
   "cell_type": "markdown",
   "metadata": {},
   "source": [
    "# Distribution of number of characters per document"
   ]
  },
  {
   "cell_type": "code",
   "execution_count": 92,
   "metadata": {
    "scrolled": true
   },
   "outputs": [
    {
     "data": {
      "text/plain": [
       "<matplotlib.axes._subplots.AxesSubplot at 0x2688da9a128>"
      ]
     },
     "execution_count": 92,
     "metadata": {},
     "output_type": "execute_result"
    },
    {
     "data": {
      "image/png": "[encoded data removed]",
      "text/plain": [
       "<Figure size 720x144 with 1 Axes>"
      ]
     },
     "metadata": {
      "needs_background": "light"
     },
     "output_type": "display_data"
    }
   ],
   "source": [
    "data['average_c'].hist(color = \"red\", figsize=(10,2))"
   ]
  },
  {
   "cell_type": "markdown",
   "metadata": {},
   "source": [
    "# Ranking of average words in document per person"
   ]
  },
  {
   "cell_type": "code",
   "execution_count": 89,
   "metadata": {
    "scrolled": true
   },
   "outputs": [
    {
     "data": {
      "text/plain": [
       "<matplotlib.axes._subplots.AxesSubplot at 0x2688d494b70>"
      ]
     },
     "execution_count": 89,
     "metadata": {},
     "output_type": "execute_result"
    },
    {
     "data": {
      "image/png": "[encoded data removed]",
      "text/plain": [
       "<Figure size 1440x144 with 1 Axes>"
      ]
     },
     "metadata": {
      "needs_background": "light"
     },
     "output_type": "display_data"
    }
   ],
   "source": [
    "data[['average_w']].sort_values('average_w',ascending=False).plot(kind = \"bar\",figsize=(20,2),rot = 0, color = \"green\")\n"
   ]
  },
  {
   "cell_type": "markdown",
   "metadata": {},
   "source": [
    "# Ranking sum of documents per person"
   ]
  },
  {
   "cell_type": "code",
   "execution_count": 90,
   "metadata": {
    "scrolled": true
   },
   "outputs": [
    {
     "data": {
      "text/plain": [
       "<matplotlib.axes._subplots.AxesSubplot at 0x2688ec03a58>"
      ]
     },
     "execution_count": 90,
     "metadata": {},
     "output_type": "execute_result"
    },
    {
     "data": {
      "image/png": "[encoded data removed]",
      "text/plain": [
       "<Figure size 1440x144 with 1 Axes>"
      ]
     },
     "metadata": {
      "needs_background": "light"
     },
     "output_type": "display_data"
    }
   ],
   "source": [
    "data[['cant_docs']].sort_values('cant_docs',ascending=False).plot(kind = \"bar\",figsize=(20,2),rot = 0, color = \"green\")"
   ]
  },
  {
   "cell_type": "markdown",
   "metadata": {},
   "source": [
    "# Exercise 18.2\n",
    "\n",
    "Evaluate the similarities of the homeworks of the students\n",
    "\n",
    "tip: https://github.com/orsinium/textdistance"
   ]
  },
  {
   "cell_type": "code",
   "execution_count": 10,
   "metadata": {},
   "outputs": [],
   "source": [
    "T1 = pd.DataFrame(data.T1)\n",
    "T2 = pd.DataFrame(data.T2)\n",
    "T3 = pd.DataFrame(data.T3)\n",
    "T4 = pd.DataFrame(data.T4)\n",
    "T5 = pd.DataFrame(data.T5)\n",
    "T6 = pd.DataFrame(data.T6)"
   ]
  },
  {
   "cell_type": "code",
   "execution_count": 11,
   "metadata": {},
   "outputs": [],
   "source": [
    "T1.fillna('nan', inplace=True)\n",
    "T2.fillna('nan', inplace=True)\n",
    "T3.fillna('nan', inplace=True)\n",
    "T4.fillna('nan', inplace=True)\n",
    "T5.fillna('nan', inplace=True)\n",
    "T6.fillna('nan', inplace=True)"
   ]
  },
  {
   "cell_type": "code",
   "execution_count": 12,
   "metadata": {},
   "outputs": [],
   "source": [
    "stpw = stopwords.words('spanish')\n",
    "stpw.append('nan')"
   ]
  },
  {
   "cell_type": "code",
   "execution_count": 13,
   "metadata": {},
   "outputs": [],
   "source": [
    "tf = TfidfVectorizer(ngram_range=(1,5), stop_words=stpw)"
   ]
  },
  {
   "cell_type": "code",
   "execution_count": 20,
   "metadata": {},
   "outputs": [],
   "source": [
    "def similarity(data, column):\n",
    "    results = pd.DataFrame(0, index=data.index, columns=data.index)\n",
    "    for txt in data[column].iteritems():\n",
    "        for line in data[column].iteritems():\n",
    "            results[txt[0]][line[0]]=fuzz.ratio(txt[1],line[1])\n",
    "            \n",
    "    assert results.shape == (data.shape[0], data.shape[0])\n",
    "    return results"
   ]
  },
  {
   "cell_type": "code",
   "execution_count": 21,
   "metadata": {},
   "outputs": [],
   "source": [
    "t1_ = similarity(T1, 'T1')\n",
    "t2_ = similarity(T2, 'T2')\n",
    "t3_ = similarity(T3, 'T3')\n",
    "t4_ = similarity(T4, 'T4')\n",
    "t5_ = similarity(T5, 'T5')\n",
    "t6_ = similarity(T6, 'T6')"
   ]
  },
  {
   "cell_type": "code",
   "execution_count": 124,
   "metadata": {},
   "outputs": [
    {
     "data": {
      "image/png": "[encoded data removed]",
      "text/plain": [
       "<Figure size 360x360 with 2 Axes>"
      ]
     },
     "metadata": {
      "needs_background": "light"
     },
     "output_type": "display_data"
    }
   ],
   "source": [
    "plt.figure(figsize=(5,5))\n",
    "plt.imshow(t1_);\n",
    "plt.colorbar()\n",
    "plt.show()"
   ]
  },
  {
   "cell_type": "code",
   "execution_count": 113,
   "metadata": {},
   "outputs": [
    {
     "data": {
      "image/png": "[encoded data removed]",
      "text/plain": [
       "<Figure size 288x288 with 2 Axes>"
      ]
     },
     "metadata": {
      "needs_background": "light"
     },
     "output_type": "display_data"
    }
   ],
   "source": [
    "plt.figure(figsize=(4,4))\n",
    "plt.imshow(t2_);\n",
    "plt.colorbar()\n",
    "plt.show()"
   ]
  },
  {
   "cell_type": "code",
   "execution_count": 114,
   "metadata": {},
   "outputs": [
    {
     "data": {
      "image/png": "[encoded data removed]",
      "text/plain": [
       "<Figure size 288x288 with 2 Axes>"
      ]
     },
     "metadata": {
      "needs_background": "light"
     },
     "output_type": "display_data"
    }
   ],
   "source": [
    "plt.figure(figsize=(4,4))\n",
    "plt.imshow(t3_);\n",
    "plt.colorbar()\n",
    "plt.show()"
   ]
  },
  {
   "cell_type": "code",
   "execution_count": 115,
   "metadata": {},
   "outputs": [
    {
     "data": {
      "image/png": "[encoded data removed]",
      "text/plain": [
       "<Figure size 288x288 with 2 Axes>"
      ]
     },
     "metadata": {
      "needs_background": "light"
     },
     "output_type": "display_data"
    }
   ],
   "source": [
    "plt.figure(figsize=(4,4))\n",
    "plt.imshow(t4_);\n",
    "plt.colorbar()\n",
    "plt.show()"
   ]
  },
  {
   "cell_type": "code",
   "execution_count": 116,
   "metadata": {},
   "outputs": [
    {
     "data": {
      "image/png": "[encoded data removed]",
      "text/plain": [
       "<Figure size 288x288 with 2 Axes>"
      ]
     },
     "metadata": {
      "needs_background": "light"
     },
     "output_type": "display_data"
    }
   ],
   "source": [
    "plt.figure(figsize=(4,4))\n",
    "plt.imshow(t5_);\n",
    "plt.colorbar()\n",
    "plt.show()"
   ]
  },
  {
   "cell_type": "code",
   "execution_count": 117,
   "metadata": {},
   "outputs": [
    {
     "data": {
      "image/png": "[encoded data removed]",
      "text/plain": [
       "<Figure size 288x288 with 2 Axes>"
      ]
     },
     "metadata": {
      "needs_background": "light"
     },
     "output_type": "display_data"
    }
   ],
   "source": [
    "plt.figure(figsize=(4,4))\n",
    "plt.imshow(t6_);\n",
    "plt.colorbar()\n",
    "plt.show()"
   ]
  },
  {
   "cell_type": "markdown",
   "metadata": {},
   "source": [
    "# Exercise 18.3\n",
    "\n",
    "Create a classifier to predict the sex of each student\n",
    "\n"
   ]
  },
  {
   "cell_type": "code",
   "execution_count": 28,
   "metadata": {
    "scrolled": true
   },
   "outputs": [
    {
     "data": {
      "text/plain": [
       "H    34\n",
       "M     8\n",
       "Name: Sexo, dtype: int64"
      ]
     },
     "execution_count": 28,
     "metadata": {},
     "output_type": "execute_result"
    }
   ],
   "source": [
    "data.Sexo.value_counts()"
   ]
  },
  {
   "cell_type": "code",
   "execution_count": 29,
   "metadata": {},
   "outputs": [],
   "source": [
    "data_ = data.fillna('Vacío')\n",
    "data_['TT'] = data_['T1'].str.cat(data_['T2'].str.cat(data_['T3'].str.cat(data_['T4'].str.cat(data_['T5'].str.cat(data_['T6'],sep=\" \"),sep=\" \"),sep=\" \"),sep=\" \"),sep=\" \")"
   ]
  },
  {
   "cell_type": "code",
   "execution_count": 30,
   "metadata": {
    "scrolled": true
   },
   "outputs": [],
   "source": [
    "Sexo_ = pd.Series(pd.Categorical(data.Sexo).codes).tolist()"
   ]
  },
  {
   "cell_type": "code",
   "execution_count": 31,
   "metadata": {},
   "outputs": [],
   "source": [
    "data_['Sexo_'] = Sexo_"
   ]
  },
  {
   "cell_type": "code",
   "execution_count": 32,
   "metadata": {},
   "outputs": [
    {
     "data": {
      "text/plain": [
       "H    34\n",
       "M     8\n",
       "Name: Sexo, dtype: int64"
      ]
     },
     "execution_count": 32,
     "metadata": {},
     "output_type": "execute_result"
    }
   ],
   "source": [
    "data_.Sexo.value_counts()"
   ]
  },
  {
   "cell_type": "code",
   "execution_count": 33,
   "metadata": {},
   "outputs": [
    {
     "data": {
      "text/plain": [
       "0    34\n",
       "1     8\n",
       "Name: Sexo_, dtype: int64"
      ]
     },
     "execution_count": 33,
     "metadata": {},
     "output_type": "execute_result"
    }
   ],
   "source": [
    "data_.Sexo_.value_counts()"
   ]
  },
  {
   "cell_type": "code",
   "execution_count": 34,
   "metadata": {},
   "outputs": [],
   "source": [
    "from sklearn.model_selection import train_test_split"
   ]
  },
  {
   "cell_type": "code",
   "execution_count": 35,
   "metadata": {},
   "outputs": [
    {
     "data": {
      "text/html": [
       "<div>\n",
       "<style scoped>\n",
       "    .dataframe tbody tr th:only-of-type {\n",
       "        vertical-align: middle;\n",
       "    }\n",
       "\n",
       "    .dataframe tbody tr th {\n",
       "        vertical-align: top;\n",
       "    }\n",
       "\n",
       "    .dataframe thead th {\n",
       "        text-align: right;\n",
       "    }\n",
       "</style>\n",
       "<table border=\"1\" class=\"dataframe\">\n",
       "  <thead>\n",
       "    <tr style=\"text-align: right;\">\n",
       "      <th></th>\n",
       "      <th>Sexo</th>\n",
       "      <th>T1</th>\n",
       "      <th>T2</th>\n",
       "      <th>T3</th>\n",
       "      <th>T4</th>\n",
       "      <th>T5</th>\n",
       "      <th>T6</th>\n",
       "      <th>cant_docs</th>\n",
       "      <th>average_c</th>\n",
       "      <th>average_w</th>\n",
       "      <th>TT</th>\n",
       "      <th>Sexo_</th>\n",
       "    </tr>\n",
       "  </thead>\n",
       "  <tbody>\n",
       "    <tr>\n",
       "      <th>0</th>\n",
       "      <td>H</td>\n",
       "      <td>Un científico de datos y un ingeniero de datos...</td>\n",
       "      <td>Vacío</td>\n",
       "      <td>Los árboles de decisión es uno de los algoritm...</td>\n",
       "      <td>Vacío</td>\n",
       "      <td>En el documento \"Do We Need Hundreds of Classi...</td>\n",
       "      <td>Boosting builds models from individual so call...</td>\n",
       "      <td>5</td>\n",
       "      <td>2314</td>\n",
       "      <td>369</td>\n",
       "      <td>Un científico de datos y un ingeniero de datos...</td>\n",
       "      <td>0</td>\n",
       "    </tr>\n",
       "    <tr>\n",
       "      <th>1</th>\n",
       "      <td>H</td>\n",
       "      <td>Aunque los dos perfiles cuentan con habilidade...</td>\n",
       "      <td>Aunque el conceso no es total en el tema de ma...</td>\n",
       "      <td>Vacío</td>\n",
       "      <td>En Machine Learing el propósito de los métodos...</td>\n",
       "      <td>El paper publicado en 2014 hace una evaluación...</td>\n",
       "      <td>Gradient Boosting ClassifierGradient Boosting ...</td>\n",
       "      <td>6</td>\n",
       "      <td>1418</td>\n",
       "      <td>220</td>\n",
       "      <td>Aunque los dos perfiles cuentan con habilidade...</td>\n",
       "      <td>0</td>\n",
       "    </tr>\n",
       "    <tr>\n",
       "      <th>2</th>\n",
       "      <td>H</td>\n",
       "      <td>Python vs Stata. Analizar información es un pr...</td>\n",
       "      <td>En el marco del Machine Learning encontramos c...</td>\n",
       "      <td>Árbol de clasificación Como su nombre lo indic...</td>\n",
       "      <td>Este es un mecanismo que utiliza varios algori...</td>\n",
       "      <td>El paper analiza 179 clasificadores de 17 dife...</td>\n",
       "      <td>Gradient Boosting Classifier busca aprender de...</td>\n",
       "      <td>7</td>\n",
       "      <td>1586</td>\n",
       "      <td>253</td>\n",
       "      <td>Python vs Stata. Analizar información es un pr...</td>\n",
       "      <td>0</td>\n",
       "    </tr>\n",
       "    <tr>\n",
       "      <th>3</th>\n",
       "      <td>M</td>\n",
       "      <td>Los algoritmos de machine learning buscan pred...</td>\n",
       "      <td>Los algoritmos de machine learning buscan pred...</td>\n",
       "      <td>Los arboles de decisión pertenecen a los algor...</td>\n",
       "      <td>Consideremos el siguiente ejemplo: Una persona...</td>\n",
       "      <td>¿Se necesitan cientos de modelos para resolver...</td>\n",
       "      <td>Vacío</td>\n",
       "      <td>6</td>\n",
       "      <td>1597</td>\n",
       "      <td>244</td>\n",
       "      <td>Los algoritmos de machine learning buscan pred...</td>\n",
       "      <td>1</td>\n",
       "    </tr>\n",
       "    <tr>\n",
       "      <th>4</th>\n",
       "      <td>H</td>\n",
       "      <td>Python vs R para análisis de datos. A pesar de...</td>\n",
       "      <td>Tipos de aprendizaje en Machine Learning. El M...</td>\n",
       "      <td>Tipos de árboles de decisión y aplicaciones. U...</td>\n",
       "      <td>La combinación de modelos o ensemble es un mod...</td>\n",
       "      <td>En el articulo se analizan cerca de 180 clasif...</td>\n",
       "      <td>XGBoosting vs GBoosting. A pesar de que el alg...</td>\n",
       "      <td>7</td>\n",
       "      <td>1463</td>\n",
       "      <td>238</td>\n",
       "      <td>Python vs R para análisis de datos. A pesar de...</td>\n",
       "      <td>0</td>\n",
       "    </tr>\n",
       "  </tbody>\n",
       "</table>\n",
       "</div>"
      ],
      "text/plain": [
       "  Sexo                                                 T1  \\\n",
       "0    H  Un científico de datos y un ingeniero de datos...   \n",
       "1    H  Aunque los dos perfiles cuentan con habilidade...   \n",
       "2    H  Python vs Stata. Analizar información es un pr...   \n",
       "3    M  Los algoritmos de machine learning buscan pred...   \n",
       "4    H  Python vs R para análisis de datos. A pesar de...   \n",
       "\n",
       "                                                  T2  \\\n",
       "0                                              Vacío   \n",
       "1  Aunque el conceso no es total en el tema de ma...   \n",
       "2  En el marco del Machine Learning encontramos c...   \n",
       "3  Los algoritmos de machine learning buscan pred...   \n",
       "4  Tipos de aprendizaje en Machine Learning. El M...   \n",
       "\n",
       "                                                  T3  \\\n",
       "0  Los árboles de decisión es uno de los algoritm...   \n",
       "1                                              Vacío   \n",
       "2  Árbol de clasificación Como su nombre lo indic...   \n",
       "3  Los arboles de decisión pertenecen a los algor...   \n",
       "4  Tipos de árboles de decisión y aplicaciones. U...   \n",
       "\n",
       "                                                  T4  \\\n",
       "0                                              Vacío   \n",
       "1  En Machine Learing el propósito de los métodos...   \n",
       "2  Este es un mecanismo que utiliza varios algori...   \n",
       "3  Consideremos el siguiente ejemplo: Una persona...   \n",
       "4  La combinación de modelos o ensemble es un mod...   \n",
       "\n",
       "                                                  T5  \\\n",
       "0  En el documento \"Do We Need Hundreds of Classi...   \n",
       "1  El paper publicado en 2014 hace una evaluación...   \n",
       "2  El paper analiza 179 clasificadores de 17 dife...   \n",
       "3  ¿Se necesitan cientos de modelos para resolver...   \n",
       "4  En el articulo se analizan cerca de 180 clasif...   \n",
       "\n",
       "                                                  T6  cant_docs  average_c  \\\n",
       "0  Boosting builds models from individual so call...          5       2314   \n",
       "1  Gradient Boosting ClassifierGradient Boosting ...          6       1418   \n",
       "2  Gradient Boosting Classifier busca aprender de...          7       1586   \n",
       "3                                              Vacío          6       1597   \n",
       "4  XGBoosting vs GBoosting. A pesar de que el alg...          7       1463   \n",
       "\n",
       "   average_w                                                 TT  Sexo_  \n",
       "0        369  Un científico de datos y un ingeniero de datos...      0  \n",
       "1        220  Aunque los dos perfiles cuentan con habilidade...      0  \n",
       "2        253  Python vs Stata. Analizar información es un pr...      0  \n",
       "3        244  Los algoritmos de machine learning buscan pred...      1  \n",
       "4        238  Python vs R para análisis de datos. A pesar de...      0  "
      ]
     },
     "execution_count": 35,
     "metadata": {},
     "output_type": "execute_result"
    }
   ],
   "source": [
    "data_.head()"
   ]
  },
  {
   "cell_type": "code",
   "execution_count": 36,
   "metadata": {},
   "outputs": [],
   "source": [
    "y = data_.Sexo_\n",
    "X = data_.drop(['Sexo_', 'Sexo', 'T1', 'T2', 'T3', 'T4', 'T5', 'T6'], axis=1)"
   ]
  },
  {
   "cell_type": "code",
   "execution_count": 37,
   "metadata": {},
   "outputs": [],
   "source": [
    "X_train, X_test, y_train, y_test = train_test_split(X, y, random_state=17)"
   ]
  },
  {
   "cell_type": "code",
   "execution_count": 38,
   "metadata": {},
   "outputs": [
    {
     "data": {
      "text/plain": [
       "0    10\n",
       "1     1\n",
       "Name: Sexo_, dtype: int64"
      ]
     },
     "execution_count": 38,
     "metadata": {},
     "output_type": "execute_result"
    }
   ],
   "source": [
    "y_test.value_counts()"
   ]
  },
  {
   "cell_type": "code",
   "execution_count": 39,
   "metadata": {},
   "outputs": [],
   "source": [
    "X = pd.concat([X_train, y_train], axis=1)"
   ]
  },
  {
   "cell_type": "code",
   "execution_count": 40,
   "metadata": {},
   "outputs": [],
   "source": [
    "Hombres = X[X.Sexo_==0]\n",
    "Mujeres = X[X.Sexo_==1]"
   ]
  },
  {
   "cell_type": "code",
   "execution_count": 49,
   "metadata": {},
   "outputs": [
    {
     "name": "stdout",
     "output_type": "stream",
     "text": [
      "Collecting sklearn.utils.resample\n"
     ]
    },
    {
     "name": "stderr",
     "output_type": "stream",
     "text": [
      "  Could not find a version that satisfies the requirement sklearn.utils.resample (from versions: )\n",
      "No matching distribution found for sklearn.utils.resample\n"
     ]
    }
   ],
   "source": [
    "!pip install sklearn.utils.resample"
   ]
  },
  {
   "cell_type": "code",
   "execution_count": 61,
   "metadata": {},
   "outputs": [],
   "source": [
    "from sklearn.utils import resample\n",
    "\n",
    "Mujeres_upsampled = resample(Mujeres,\n",
    "                          replace=True,\n",
    "                          n_samples=len(Hombres),\n",
    "                          random_state=17)"
   ]
  },
  {
   "cell_type": "code",
   "execution_count": 62,
   "metadata": {},
   "outputs": [],
   "source": [
    "upsampled = pd.concat([Hombres, Mujeres_upsampled])"
   ]
  },
  {
   "cell_type": "code",
   "execution_count": 63,
   "metadata": {},
   "outputs": [
    {
     "data": {
      "text/plain": [
       "1    24\n",
       "0    24\n",
       "Name: Sexo_, dtype: int64"
      ]
     },
     "execution_count": 63,
     "metadata": {},
     "output_type": "execute_result"
    }
   ],
   "source": [
    "upsampled.Sexo_.value_counts()"
   ]
  },
  {
   "cell_type": "code",
   "execution_count": 64,
   "metadata": {},
   "outputs": [],
   "source": [
    "y_train = upsampled.Sexo_\n",
    "X_train = upsampled.drop('Sexo_', axis=1)"
   ]
  },
  {
   "cell_type": "code",
   "execution_count": 65,
   "metadata": {
    "scrolled": true
   },
   "outputs": [
    {
     "data": {
      "text/html": [
       "<div>\n",
       "<style scoped>\n",
       "    .dataframe tbody tr th:only-of-type {\n",
       "        vertical-align: middle;\n",
       "    }\n",
       "\n",
       "    .dataframe tbody tr th {\n",
       "        vertical-align: top;\n",
       "    }\n",
       "\n",
       "    .dataframe thead th {\n",
       "        text-align: right;\n",
       "    }\n",
       "</style>\n",
       "<table border=\"1\" class=\"dataframe\">\n",
       "  <thead>\n",
       "    <tr style=\"text-align: right;\">\n",
       "      <th></th>\n",
       "      <th>cant_docs</th>\n",
       "      <th>average_c</th>\n",
       "      <th>average_w</th>\n",
       "      <th>TT</th>\n",
       "    </tr>\n",
       "  </thead>\n",
       "  <tbody>\n",
       "    <tr>\n",
       "      <th>30</th>\n",
       "      <td>5</td>\n",
       "      <td>1707</td>\n",
       "      <td>276</td>\n",
       "      <td>Las diferencias entre un científico de datos y...</td>\n",
       "    </tr>\n",
       "    <tr>\n",
       "      <th>41</th>\n",
       "      <td>6</td>\n",
       "      <td>1429</td>\n",
       "      <td>220</td>\n",
       "      <td>Aunque un científico de datos y un ingeniero d...</td>\n",
       "    </tr>\n",
       "    <tr>\n",
       "      <th>12</th>\n",
       "      <td>6</td>\n",
       "      <td>1859</td>\n",
       "      <td>284</td>\n",
       "      <td>Diferencias entre los científicos de datos y l...</td>\n",
       "    </tr>\n",
       "    <tr>\n",
       "      <th>25</th>\n",
       "      <td>7</td>\n",
       "      <td>1638</td>\n",
       "      <td>265</td>\n",
       "      <td>Python vs R vs SAS for Data Science. Cuando se...</td>\n",
       "    </tr>\n",
       "    <tr>\n",
       "      <th>35</th>\n",
       "      <td>5</td>\n",
       "      <td>1844</td>\n",
       "      <td>275</td>\n",
       "      <td>Un ingeniero de datos está encargado de la inf...</td>\n",
       "    </tr>\n",
       "  </tbody>\n",
       "</table>\n",
       "</div>"
      ],
      "text/plain": [
       "    cant_docs  average_c  average_w  \\\n",
       "30          5       1707        276   \n",
       "41          6       1429        220   \n",
       "12          6       1859        284   \n",
       "25          7       1638        265   \n",
       "35          5       1844        275   \n",
       "\n",
       "                                                   TT  \n",
       "30  Las diferencias entre un científico de datos y...  \n",
       "41  Aunque un científico de datos y un ingeniero d...  \n",
       "12  Diferencias entre los científicos de datos y l...  \n",
       "25  Python vs R vs SAS for Data Science. Cuando se...  \n",
       "35  Un ingeniero de datos está encargado de la inf...  "
      ]
     },
     "execution_count": 65,
     "metadata": {},
     "output_type": "execute_result"
    }
   ],
   "source": [
    "X_train.head()"
   ]
  },
  {
   "cell_type": "code",
   "execution_count": 66,
   "metadata": {},
   "outputs": [
    {
     "data": {
      "text/plain": [
       "30    0\n",
       "41    0\n",
       "12    0\n",
       "25    0\n",
       "35    0\n",
       "Name: Sexo_, dtype: int64"
      ]
     },
     "execution_count": 66,
     "metadata": {},
     "output_type": "execute_result"
    }
   ],
   "source": [
    "y_train.head()"
   ]
  },
  {
   "cell_type": "code",
   "execution_count": 67,
   "metadata": {},
   "outputs": [],
   "source": [
    "tf_ = TfidfVectorizer(ngram_range=(1,5), stop_words=stpw)"
   ]
  },
  {
   "cell_type": "code",
   "execution_count": 68,
   "metadata": {},
   "outputs": [
    {
     "data": {
      "text/plain": [
       "TfidfVectorizer(analyzer='word', binary=False, decode_error='strict',\n",
       "        dtype=<class 'numpy.float64'>, encoding='utf-8', input='content',\n",
       "        lowercase=True, max_df=1.0, max_features=None, min_df=1,\n",
       "        ngram_range=(1, 5), norm='l2', preprocessor=None, smooth_idf=True,\n",
       "        stop_words=['de', 'la', 'que', 'el', 'en', 'y', 'a', 'los', 'del', 'se', 'las', 'por', 'un', 'para', 'con', 'no', 'una', 'su', 'al', 'lo', 'como', 'más', 'pero', 'sus', 'le', 'ya', 'o', 'este', 'sí', 'porque', 'esta', 'entre', 'cuando', 'muy', 'sin', 'sobre', 'también', 'me', 'hasta', 'hay', 'donde'...mos', 'tuvieseis', 'tuviesen', 'teniendo', 'tenido', 'tenida', 'tenidos', 'tenidas', 'tened', 'nan'],\n",
       "        strip_accents=None, sublinear_tf=False,\n",
       "        token_pattern='(?u)\\\\b\\\\w\\\\w+\\\\b', tokenizer=None, use_idf=True,\n",
       "        vocabulary=None)"
      ]
     },
     "execution_count": 68,
     "metadata": {},
     "output_type": "execute_result"
    }
   ],
   "source": [
    "tf_.fit(data_.TT)"
   ]
  },
  {
   "cell_type": "code",
   "execution_count": 69,
   "metadata": {
    "scrolled": true
   },
   "outputs": [],
   "source": [
    "X_train_ = tf_.transform(X_train.TT)\n",
    "X_train_ = pd.DataFrame(X_train_.todense(), columns=tf_.get_feature_names())"
   ]
  },
  {
   "cell_type": "code",
   "execution_count": 70,
   "metadata": {},
   "outputs": [],
   "source": [
    "X_test_ = tf_.transform(X_test.TT)\n",
    "X_test_ = pd.DataFrame(X_test_.todense(), columns=tf_.get_feature_names())"
   ]
  },
  {
   "cell_type": "code",
   "execution_count": 71,
   "metadata": {},
   "outputs": [],
   "source": [
    "c_docs = X_train.cant_docs.tolist()\n",
    "avg_c = X_train.average_c.tolist()\n",
    "avg_w = X_train.average_w.tolist()\n",
    "\n",
    "c_docst = X_test.cant_docs.tolist()\n",
    "avg_ct = X_test.average_c.tolist()\n",
    "avg_wt = X_test.average_w.tolist()"
   ]
  },
  {
   "cell_type": "code",
   "execution_count": 72,
   "metadata": {},
   "outputs": [],
   "source": [
    "X_train_['c_docs'] = c_docs\n",
    "X_train_['avg_c'] = avg_c\n",
    "X_train_['avg_w'] = avg_w\n",
    "\n",
    "X_test_['c_docs'] = c_docst\n",
    "X_test_['avg_c'] = avg_ct\n",
    "X_test_['avg_w'] = avg_wt"
   ]
  },
  {
   "cell_type": "code",
   "execution_count": 73,
   "metadata": {},
   "outputs": [],
   "source": [
    "from sklearn.ensemble import RandomForestClassifier"
   ]
  },
  {
   "cell_type": "code",
   "execution_count": 74,
   "metadata": {},
   "outputs": [],
   "source": [
    "clf = RandomForestClassifier(random_state=17, n_jobs=-1)"
   ]
  },
  {
   "cell_type": "code",
   "execution_count": 75,
   "metadata": {
    "scrolled": true
   },
   "outputs": [
    {
     "name": "stderr",
     "output_type": "stream",
     "text": [
      "C:\\Users\\ivandario.gomez\\AppData\\Local\\Continuum\\anaconda3\\lib\\site-packages\\sklearn\\ensemble\\forest.py:246: FutureWarning: The default value of n_estimators will change from 10 in version 0.20 to 100 in 0.22.\n",
      "  \"10 in version 0.20 to 100 in 0.22.\", FutureWarning)\n"
     ]
    },
    {
     "data": {
      "text/plain": [
       "RandomForestClassifier(bootstrap=True, class_weight=None, criterion='gini',\n",
       "            max_depth=None, max_features='auto', max_leaf_nodes=None,\n",
       "            min_impurity_decrease=0.0, min_impurity_split=None,\n",
       "            min_samples_leaf=1, min_samples_split=2,\n",
       "            min_weight_fraction_leaf=0.0, n_estimators=10, n_jobs=-1,\n",
       "            oob_score=False, random_state=17, verbose=0, warm_start=False)"
      ]
     },
     "execution_count": 75,
     "metadata": {},
     "output_type": "execute_result"
    }
   ],
   "source": [
    "clf.fit(X_train_, y_train)"
   ]
  },
  {
   "cell_type": "code",
   "execution_count": 77,
   "metadata": {
    "scrolled": true
   },
   "outputs": [
    {
     "data": {
      "text/plain": [
       "0.8181818181818182"
      ]
     },
     "execution_count": 77,
     "metadata": {},
     "output_type": "execute_result"
    }
   ],
   "source": [
    "from sklearn.metrics import accuracy_score\n",
    "accuracy_score(clf.predict(X_test_), y_test)"
   ]
  },
  {
   "cell_type": "code",
   "execution_count": 79,
   "metadata": {},
   "outputs": [
    {
     "data": {
      "text/plain": [
       "0.45"
      ]
     },
     "execution_count": 79,
     "metadata": {},
     "output_type": "execute_result"
    }
   ],
   "source": [
    "from sklearn.metrics import roc_auc_score\n",
    "roc_auc_score(clf.predict(X_test_), y_test)"
   ]
  },
  {
   "cell_type": "code",
   "execution_count": null,
   "metadata": {},
   "outputs": [],
   "source": []
  }
 ],
 "metadata": {
  "kernelspec": {
   "display_name": "Python 3",
   "language": "python",
   "name": "python3"
  },
  "language_info": {
   "codemirror_mode": {
    "name": "ipython",
    "version": 3
   },
   "file_extension": ".py",
   "mimetype": "text/x-python",
   "name": "python",
   "nbconvert_exporter": "python",
   "pygments_lexer": "ipython3",
   "version": "3.7.1"
  }
 },
 "nbformat": 4,
 "nbformat_minor": 2
}
