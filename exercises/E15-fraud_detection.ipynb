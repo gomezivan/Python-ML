{
 "cells": [
  {
   "cell_type": "markdown",
   "metadata": {},
   "source": [
    "# Exercise 15\n",
    "\n",
    "# Fraud Detection"
   ]
  },
  {
   "cell_type": "markdown",
   "metadata": {},
   "source": [
    "## Introduction\n",
    "\n",
    "- Fraud Detection Dataset from Microsoft Azure: [data](http://gallery.cortanaintelligence.com/Experiment/8e9fe4e03b8b4c65b9ca947c72b8e463)\n",
    "\n",
    "Fraud detection is one of the earliest industrial applications of data mining and machine learning. Fraud detection is typically handled as a binary classification problem, but the class population is unbalanced because instances of fraud are usually very rare compared to the overall volume of transactions. Moreover, when fraudulent transactions are discovered, the business typically takes measures to block the accounts from transacting to prevent further losses. "
   ]
  },
  {
   "cell_type": "code",
   "execution_count": 1,
   "metadata": {},
   "outputs": [],
   "source": [
    "%matplotlib inline\n",
    "import pandas as pd\n",
    "import numpy as np\n",
    "from sklearn.model_selection import cross_val_score\n",
    "from sklearn.linear_model import LogisticRegression\n",
    "from sklearn.tree import DecisionTreeClassifier\n",
    "from sklearn.metrics import accuracy_score\n",
    "from sklearn.metrics import f1_score\n",
    "from sklearn.metrics import fbeta_score\n",
    "import seaborn as sns"
   ]
  },
  {
   "cell_type": "code",
   "execution_count": 2,
   "metadata": {},
   "outputs": [
    {
     "data": {
      "text/html": [
       "<div>\n",
       "<style scoped>\n",
       "    .dataframe tbody tr th:only-of-type {\n",
       "        vertical-align: middle;\n",
       "    }\n",
       "\n",
       "    .dataframe tbody tr th {\n",
       "        vertical-align: top;\n",
       "    }\n",
       "\n",
       "    .dataframe thead th {\n",
       "        text-align: right;\n",
       "    }\n",
       "</style>\n",
       "<table border=\"1\" class=\"dataframe\">\n",
       "  <thead>\n",
       "    <tr style=\"text-align: right;\">\n",
       "      <th></th>\n",
       "      <th>accountAge</th>\n",
       "      <th>digitalItemCount</th>\n",
       "      <th>sumPurchaseCount1Day</th>\n",
       "      <th>sumPurchaseAmount1Day</th>\n",
       "      <th>sumPurchaseAmount30Day</th>\n",
       "      <th>paymentBillingPostalCode - LogOddsForClass_0</th>\n",
       "      <th>accountPostalCode - LogOddsForClass_0</th>\n",
       "      <th>paymentBillingState - LogOddsForClass_0</th>\n",
       "      <th>accountState - LogOddsForClass_0</th>\n",
       "      <th>paymentInstrumentAgeInAccount</th>\n",
       "      <th>ipState - LogOddsForClass_0</th>\n",
       "      <th>transactionAmount</th>\n",
       "      <th>transactionAmountUSD</th>\n",
       "      <th>ipPostalCode - LogOddsForClass_0</th>\n",
       "      <th>localHour - LogOddsForClass_0</th>\n",
       "      <th>Label</th>\n",
       "    </tr>\n",
       "  </thead>\n",
       "  <tbody>\n",
       "    <tr>\n",
       "      <th>0</th>\n",
       "      <td>2000</td>\n",
       "      <td>0</td>\n",
       "      <td>0</td>\n",
       "      <td>0.00</td>\n",
       "      <td>720.25</td>\n",
       "      <td>5.064533</td>\n",
       "      <td>0.421214</td>\n",
       "      <td>1.312186</td>\n",
       "      <td>0.566395</td>\n",
       "      <td>3279.574306</td>\n",
       "      <td>1.218157</td>\n",
       "      <td>599.00</td>\n",
       "      <td>626.164650</td>\n",
       "      <td>1.259543</td>\n",
       "      <td>4.745402</td>\n",
       "      <td>0</td>\n",
       "    </tr>\n",
       "    <tr>\n",
       "      <th>1</th>\n",
       "      <td>62</td>\n",
       "      <td>1</td>\n",
       "      <td>1</td>\n",
       "      <td>1185.44</td>\n",
       "      <td>2530.37</td>\n",
       "      <td>0.538996</td>\n",
       "      <td>0.481838</td>\n",
       "      <td>4.401370</td>\n",
       "      <td>4.500157</td>\n",
       "      <td>61.970139</td>\n",
       "      <td>4.035601</td>\n",
       "      <td>1185.44</td>\n",
       "      <td>1185.440000</td>\n",
       "      <td>3.981118</td>\n",
       "      <td>4.921349</td>\n",
       "      <td>0</td>\n",
       "    </tr>\n",
       "    <tr>\n",
       "      <th>2</th>\n",
       "      <td>2000</td>\n",
       "      <td>0</td>\n",
       "      <td>0</td>\n",
       "      <td>0.00</td>\n",
       "      <td>0.00</td>\n",
       "      <td>5.064533</td>\n",
       "      <td>5.096396</td>\n",
       "      <td>3.056357</td>\n",
       "      <td>3.155226</td>\n",
       "      <td>0.000000</td>\n",
       "      <td>3.314186</td>\n",
       "      <td>32.09</td>\n",
       "      <td>32.090000</td>\n",
       "      <td>5.008490</td>\n",
       "      <td>4.742303</td>\n",
       "      <td>0</td>\n",
       "    </tr>\n",
       "    <tr>\n",
       "      <th>3</th>\n",
       "      <td>1</td>\n",
       "      <td>1</td>\n",
       "      <td>0</td>\n",
       "      <td>0.00</td>\n",
       "      <td>0.00</td>\n",
       "      <td>5.064533</td>\n",
       "      <td>5.096396</td>\n",
       "      <td>3.331154</td>\n",
       "      <td>3.331239</td>\n",
       "      <td>0.000000</td>\n",
       "      <td>3.529398</td>\n",
       "      <td>133.28</td>\n",
       "      <td>132.729554</td>\n",
       "      <td>1.324925</td>\n",
       "      <td>4.745402</td>\n",
       "      <td>0</td>\n",
       "    </tr>\n",
       "    <tr>\n",
       "      <th>4</th>\n",
       "      <td>1</td>\n",
       "      <td>1</td>\n",
       "      <td>0</td>\n",
       "      <td>0.00</td>\n",
       "      <td>132.73</td>\n",
       "      <td>5.412885</td>\n",
       "      <td>0.342945</td>\n",
       "      <td>5.563677</td>\n",
       "      <td>4.086965</td>\n",
       "      <td>0.001389</td>\n",
       "      <td>3.529398</td>\n",
       "      <td>543.66</td>\n",
       "      <td>543.660000</td>\n",
       "      <td>2.693451</td>\n",
       "      <td>4.876771</td>\n",
       "      <td>0</td>\n",
       "    </tr>\n",
       "  </tbody>\n",
       "</table>\n",
       "</div>"
      ],
      "text/plain": [
       "   accountAge  digitalItemCount  sumPurchaseCount1Day  sumPurchaseAmount1Day  \\\n",
       "0        2000                 0                     0                   0.00   \n",
       "1          62                 1                     1                1185.44   \n",
       "2        2000                 0                     0                   0.00   \n",
       "3           1                 1                     0                   0.00   \n",
       "4           1                 1                     0                   0.00   \n",
       "\n",
       "   sumPurchaseAmount30Day  paymentBillingPostalCode - LogOddsForClass_0  \\\n",
       "0                  720.25                                      5.064533   \n",
       "1                 2530.37                                      0.538996   \n",
       "2                    0.00                                      5.064533   \n",
       "3                    0.00                                      5.064533   \n",
       "4                  132.73                                      5.412885   \n",
       "\n",
       "   accountPostalCode - LogOddsForClass_0  \\\n",
       "0                               0.421214   \n",
       "1                               0.481838   \n",
       "2                               5.096396   \n",
       "3                               5.096396   \n",
       "4                               0.342945   \n",
       "\n",
       "   paymentBillingState - LogOddsForClass_0  accountState - LogOddsForClass_0  \\\n",
       "0                                 1.312186                          0.566395   \n",
       "1                                 4.401370                          4.500157   \n",
       "2                                 3.056357                          3.155226   \n",
       "3                                 3.331154                          3.331239   \n",
       "4                                 5.563677                          4.086965   \n",
       "\n",
       "   paymentInstrumentAgeInAccount  ipState - LogOddsForClass_0  \\\n",
       "0                    3279.574306                     1.218157   \n",
       "1                      61.970139                     4.035601   \n",
       "2                       0.000000                     3.314186   \n",
       "3                       0.000000                     3.529398   \n",
       "4                       0.001389                     3.529398   \n",
       "\n",
       "   transactionAmount  transactionAmountUSD  ipPostalCode - LogOddsForClass_0  \\\n",
       "0             599.00            626.164650                          1.259543   \n",
       "1            1185.44           1185.440000                          3.981118   \n",
       "2              32.09             32.090000                          5.008490   \n",
       "3             133.28            132.729554                          1.324925   \n",
       "4             543.66            543.660000                          2.693451   \n",
       "\n",
       "   localHour - LogOddsForClass_0  Label  \n",
       "0                       4.745402      0  \n",
       "1                       4.921349      0  \n",
       "2                       4.742303      0  \n",
       "3                       4.745402      0  \n",
       "4                       4.876771      0  "
      ]
     },
     "execution_count": 2,
     "metadata": {},
     "output_type": "execute_result"
    }
   ],
   "source": [
    "import pandas as pd\n",
    "\n",
    "url = 'https://raw.githubusercontent.com/albahnsen/PracticalMachineLearningClass/master/datasets/15_fraud_detection.csv.zip'\n",
    "df = pd.read_csv(url, index_col=0)\n",
    "df.head()"
   ]
  },
  {
   "cell_type": "code",
   "execution_count": 3,
   "metadata": {},
   "outputs": [
    {
     "data": {
      "text/html": [
       "<div>\n",
       "<style scoped>\n",
       "    .dataframe tbody tr th:only-of-type {\n",
       "        vertical-align: middle;\n",
       "    }\n",
       "\n",
       "    .dataframe tbody tr th {\n",
       "        vertical-align: top;\n",
       "    }\n",
       "\n",
       "    .dataframe thead th {\n",
       "        text-align: right;\n",
       "    }\n",
       "</style>\n",
       "<table border=\"1\" class=\"dataframe\">\n",
       "  <thead>\n",
       "    <tr style=\"text-align: right;\">\n",
       "      <th></th>\n",
       "      <th>accountAge</th>\n",
       "      <th>digitalItemCount</th>\n",
       "      <th>sumPurchaseCount1Day</th>\n",
       "      <th>sumPurchaseAmount1Day</th>\n",
       "      <th>sumPurchaseAmount30Day</th>\n",
       "      <th>paymentBillingPostalCode - LogOddsForClass_0</th>\n",
       "      <th>accountPostalCode - LogOddsForClass_0</th>\n",
       "      <th>paymentBillingState - LogOddsForClass_0</th>\n",
       "      <th>accountState - LogOddsForClass_0</th>\n",
       "      <th>paymentInstrumentAgeInAccount</th>\n",
       "      <th>ipState - LogOddsForClass_0</th>\n",
       "      <th>transactionAmount</th>\n",
       "      <th>transactionAmountUSD</th>\n",
       "      <th>ipPostalCode - LogOddsForClass_0</th>\n",
       "      <th>localHour - LogOddsForClass_0</th>\n",
       "      <th>Label</th>\n",
       "    </tr>\n",
       "  </thead>\n",
       "  <tbody>\n",
       "    <tr>\n",
       "      <th>0</th>\n",
       "      <td>2000</td>\n",
       "      <td>0</td>\n",
       "      <td>0</td>\n",
       "      <td>0.00</td>\n",
       "      <td>720.25</td>\n",
       "      <td>5.064533</td>\n",
       "      <td>0.421214</td>\n",
       "      <td>1.312186</td>\n",
       "      <td>0.566395</td>\n",
       "      <td>3279.574306</td>\n",
       "      <td>1.218157</td>\n",
       "      <td>599.00</td>\n",
       "      <td>626.164650</td>\n",
       "      <td>1.259543</td>\n",
       "      <td>4.745402</td>\n",
       "      <td>0</td>\n",
       "    </tr>\n",
       "    <tr>\n",
       "      <th>1</th>\n",
       "      <td>62</td>\n",
       "      <td>1</td>\n",
       "      <td>1</td>\n",
       "      <td>1185.44</td>\n",
       "      <td>2530.37</td>\n",
       "      <td>0.538996</td>\n",
       "      <td>0.481838</td>\n",
       "      <td>4.401370</td>\n",
       "      <td>4.500157</td>\n",
       "      <td>61.970139</td>\n",
       "      <td>4.035601</td>\n",
       "      <td>1185.44</td>\n",
       "      <td>1185.440000</td>\n",
       "      <td>3.981118</td>\n",
       "      <td>4.921349</td>\n",
       "      <td>0</td>\n",
       "    </tr>\n",
       "    <tr>\n",
       "      <th>2</th>\n",
       "      <td>2000</td>\n",
       "      <td>0</td>\n",
       "      <td>0</td>\n",
       "      <td>0.00</td>\n",
       "      <td>0.00</td>\n",
       "      <td>5.064533</td>\n",
       "      <td>5.096396</td>\n",
       "      <td>3.056357</td>\n",
       "      <td>3.155226</td>\n",
       "      <td>0.000000</td>\n",
       "      <td>3.314186</td>\n",
       "      <td>32.09</td>\n",
       "      <td>32.090000</td>\n",
       "      <td>5.008490</td>\n",
       "      <td>4.742303</td>\n",
       "      <td>0</td>\n",
       "    </tr>\n",
       "    <tr>\n",
       "      <th>3</th>\n",
       "      <td>1</td>\n",
       "      <td>1</td>\n",
       "      <td>0</td>\n",
       "      <td>0.00</td>\n",
       "      <td>0.00</td>\n",
       "      <td>5.064533</td>\n",
       "      <td>5.096396</td>\n",
       "      <td>3.331154</td>\n",
       "      <td>3.331239</td>\n",
       "      <td>0.000000</td>\n",
       "      <td>3.529398</td>\n",
       "      <td>133.28</td>\n",
       "      <td>132.729554</td>\n",
       "      <td>1.324925</td>\n",
       "      <td>4.745402</td>\n",
       "      <td>0</td>\n",
       "    </tr>\n",
       "    <tr>\n",
       "      <th>4</th>\n",
       "      <td>1</td>\n",
       "      <td>1</td>\n",
       "      <td>0</td>\n",
       "      <td>0.00</td>\n",
       "      <td>132.73</td>\n",
       "      <td>5.412885</td>\n",
       "      <td>0.342945</td>\n",
       "      <td>5.563677</td>\n",
       "      <td>4.086965</td>\n",
       "      <td>0.001389</td>\n",
       "      <td>3.529398</td>\n",
       "      <td>543.66</td>\n",
       "      <td>543.660000</td>\n",
       "      <td>2.693451</td>\n",
       "      <td>4.876771</td>\n",
       "      <td>0</td>\n",
       "    </tr>\n",
       "  </tbody>\n",
       "</table>\n",
       "</div>"
      ],
      "text/plain": [
       "   accountAge  digitalItemCount  sumPurchaseCount1Day  sumPurchaseAmount1Day  \\\n",
       "0        2000                 0                     0                   0.00   \n",
       "1          62                 1                     1                1185.44   \n",
       "2        2000                 0                     0                   0.00   \n",
       "3           1                 1                     0                   0.00   \n",
       "4           1                 1                     0                   0.00   \n",
       "\n",
       "   sumPurchaseAmount30Day  paymentBillingPostalCode - LogOddsForClass_0  \\\n",
       "0                  720.25                                      5.064533   \n",
       "1                 2530.37                                      0.538996   \n",
       "2                    0.00                                      5.064533   \n",
       "3                    0.00                                      5.064533   \n",
       "4                  132.73                                      5.412885   \n",
       "\n",
       "   accountPostalCode - LogOddsForClass_0  \\\n",
       "0                               0.421214   \n",
       "1                               0.481838   \n",
       "2                               5.096396   \n",
       "3                               5.096396   \n",
       "4                               0.342945   \n",
       "\n",
       "   paymentBillingState - LogOddsForClass_0  accountState - LogOddsForClass_0  \\\n",
       "0                                 1.312186                          0.566395   \n",
       "1                                 4.401370                          4.500157   \n",
       "2                                 3.056357                          3.155226   \n",
       "3                                 3.331154                          3.331239   \n",
       "4                                 5.563677                          4.086965   \n",
       "\n",
       "   paymentInstrumentAgeInAccount  ipState - LogOddsForClass_0  \\\n",
       "0                    3279.574306                     1.218157   \n",
       "1                      61.970139                     4.035601   \n",
       "2                       0.000000                     3.314186   \n",
       "3                       0.000000                     3.529398   \n",
       "4                       0.001389                     3.529398   \n",
       "\n",
       "   transactionAmount  transactionAmountUSD  ipPostalCode - LogOddsForClass_0  \\\n",
       "0             599.00            626.164650                          1.259543   \n",
       "1            1185.44           1185.440000                          3.981118   \n",
       "2              32.09             32.090000                          5.008490   \n",
       "3             133.28            132.729554                          1.324925   \n",
       "4             543.66            543.660000                          2.693451   \n",
       "\n",
       "   localHour - LogOddsForClass_0  Label  \n",
       "0                       4.745402      0  \n",
       "1                       4.921349      0  \n",
       "2                       4.742303      0  \n",
       "3                       4.745402      0  \n",
       "4                       4.876771      0  "
      ]
     },
     "execution_count": 3,
     "metadata": {},
     "output_type": "execute_result"
    }
   ],
   "source": [
    "df.head()"
   ]
  },
  {
   "cell_type": "code",
   "execution_count": 4,
   "metadata": {},
   "outputs": [
    {
     "data": {
      "text/plain": [
       "((138721, 16), 797, 0.0057453449730033666)"
      ]
     },
     "execution_count": 4,
     "metadata": {},
     "output_type": "execute_result"
    }
   ],
   "source": [
    "df.shape, df.Label.sum(), df.Label.mean()"
   ]
  },
  {
   "cell_type": "markdown",
   "metadata": {},
   "source": [
    "# Exercise 15.1\n",
    "\n",
    "Estimate a Logistic Regression and a Decision Tree\n",
    "\n",
    "Evaluate using the following metrics:\n",
    "* Accuracy\n",
    "* F1-Score\n",
    "* F_Beta-Score (Beta=10)\n",
    "\n",
    "Comment about the results"
   ]
  },
  {
   "cell_type": "code",
   "execution_count": 5,
   "metadata": {},
   "outputs": [
    {
     "name": "stdout",
     "output_type": "stream",
     "text": [
      "Y sample:  (138721,)\n",
      "X sample:  (138721, 15)\n"
     ]
    }
   ],
   "source": [
    "seed = 42\n",
    "##Train and Test before balancing test database\n",
    "Y = df.Label\n",
    "X = df.drop(['Label'], axis=1)\n",
    "print(\"Y sample: \", Y.shape)\n",
    "print(\"X sample: \", X.shape)"
   ]
  },
  {
   "cell_type": "code",
   "execution_count": 6,
   "metadata": {},
   "outputs": [
    {
     "name": "stdout",
     "output_type": "stream",
     "text": [
      "Rows train:  97104\n",
      "Sum_Label train:  552\n"
     ]
    }
   ],
   "source": [
    "#Train the model selecting the best found parameters\n",
    "from sklearn.model_selection import train_test_split\n",
    "size = 0.30\n",
    "X_train, X_validation, Y_train, Y_validation = train_test_split(X, Y,test_size=size, random_state=seed).copy()\n",
    "print (\"Rows train: \", len(Y_train))\n",
    "print (\"Sum_Label train: \", sum(Y_train))"
   ]
  },
  {
   "cell_type": "markdown",
   "metadata": {},
   "source": [
    "### DecisionTreeClassifier before balancing test database"
   ]
  },
  {
   "cell_type": "code",
   "execution_count": 7,
   "metadata": {},
   "outputs": [
    {
     "data": {
      "text/plain": [
       "DecisionTreeClassifier(class_weight=None, criterion='gini', max_depth=None,\n",
       "            max_features=None, max_leaf_nodes=None,\n",
       "            min_impurity_decrease=0.0, min_impurity_split=None,\n",
       "            min_samples_leaf=1, min_samples_split=2,\n",
       "            min_weight_fraction_leaf=0.0, presort=False, random_state=None,\n",
       "            splitter='best')"
      ]
     },
     "execution_count": 7,
     "metadata": {},
     "output_type": "execute_result"
    }
   ],
   "source": [
    "#Train DecisionTreeClassifier and metrics\n",
    "regTree = DecisionTreeClassifier()\n",
    "regTree.fit(X_train, Y_train)"
   ]
  },
  {
   "cell_type": "code",
   "execution_count": 8,
   "metadata": {},
   "outputs": [
    {
     "name": "stdout",
     "output_type": "stream",
     "text": [
      "accuracy_score:  0.9888987673306582\n",
      "f1_score:  0.1380597014925373\n",
      "fbeta_score:  0.15074018797144126\n"
     ]
    }
   ],
   "source": [
    "Y_pred = regTree.predict(X_validation)\n",
    "print (\"accuracy_score: \",accuracy_score(Y_validation, Y_pred))\n",
    "print (\"f1_score: \",f1_score(Y_validation, Y_pred))\n",
    "print (\"fbeta_score: \",fbeta_score(Y_validation, Y_pred, beta=10))"
   ]
  },
  {
   "cell_type": "markdown",
   "metadata": {},
   "source": [
    "### LogisticRegression before balancing test database"
   ]
  },
  {
   "cell_type": "code",
   "execution_count": 9,
   "metadata": {},
   "outputs": [
    {
     "name": "stderr",
     "output_type": "stream",
     "text": [
      "C:\\Users\\ivandario.gomez\\AppData\\Local\\Continuum\\anaconda3\\lib\\site-packages\\sklearn\\svm\\base.py:922: ConvergenceWarning: Liblinear failed to converge, increase the number of iterations.\n",
      "  \"the number of iterations.\", ConvergenceWarning)\n"
     ]
    },
    {
     "data": {
      "text/plain": [
       "LogisticRegression(C=1.0, class_weight=None, dual=False, fit_intercept=True,\n",
       "          intercept_scaling=1, max_iter=200, multi_class='warn',\n",
       "          n_jobs=None, penalty='l2', random_state=None, solver='liblinear',\n",
       "          tol=0.0001, verbose=0, warm_start=False)"
      ]
     },
     "execution_count": 9,
     "metadata": {},
     "output_type": "execute_result"
    }
   ],
   "source": [
    "#Train LogisticRegression and metrics\n",
    "logreg = LogisticRegression(solver='liblinear', max_iter=200)\n",
    "logreg.fit(X_train, Y_train)"
   ]
  },
  {
   "cell_type": "code",
   "execution_count": 10,
   "metadata": {},
   "outputs": [
    {
     "name": "stdout",
     "output_type": "stream",
     "text": [
      "accuracy_score:  0.994112982675349\n",
      "f1_score:  0.0\n",
      "fbeta_score:  0.0\n"
     ]
    },
    {
     "name": "stderr",
     "output_type": "stream",
     "text": [
      "C:\\Users\\ivandario.gomez\\AppData\\Local\\Continuum\\anaconda3\\lib\\site-packages\\sklearn\\metrics\\classification.py:1143: UndefinedMetricWarning: F-score is ill-defined and being set to 0.0 due to no predicted samples.\n",
      "  'precision', 'predicted', average, warn_for)\n",
      "C:\\Users\\ivandario.gomez\\AppData\\Local\\Continuum\\anaconda3\\lib\\site-packages\\sklearn\\metrics\\classification.py:1143: UndefinedMetricWarning: F-score is ill-defined and being set to 0.0 due to no predicted samples.\n",
      "  'precision', 'predicted', average, warn_for)\n"
     ]
    }
   ],
   "source": [
    "Y_pred = logreg.predict(X_validation)\n",
    "print (\"accuracy_score: \",accuracy_score(Y_validation, Y_pred))\n",
    "print (\"f1_score: \",f1_score(Y_validation, Y_pred))\n",
    "print (\"fbeta_score: \",fbeta_score(Y_validation, Y_pred, beta=10))"
   ]
  },
  {
   "cell_type": "markdown",
   "metadata": {},
   "source": [
    "# Exercise 15.2\n",
    "\n",
    "Under-sample the negative class using random-under-sampling\n",
    "\n",
    "Which is parameter for target_percentage did you choose?\n",
    "How the results change?\n",
    "\n",
    "**Only apply under-sampling to the training set, evaluate using the whole test set**"
   ]
  },
  {
   "cell_type": "code",
   "execution_count": 11,
   "metadata": {},
   "outputs": [
    {
     "name": "stdout",
     "output_type": "stream",
     "text": [
      "Total rows in train dataset:  97104\n",
      "Sum frauds in train dataset:  552\n",
      "Sum non in frauds train:  96552\n"
     ]
    }
   ],
   "source": [
    "print (\"Total rows in train dataset: \", len(Y_train))\n",
    "print (\"Sum frauds in train dataset: \", sum(Y_train))\n",
    "non_fraud_indices = Y_train[Y_train == 0].index\n",
    "print (\"Sum non in frauds train: \", len(non_fraud_indices))"
   ]
  },
  {
   "cell_type": "code",
   "execution_count": 12,
   "metadata": {},
   "outputs": [],
   "source": [
    "def GetInidicesUnderSampling(Y_train, target_percentage=0.5, seed=42):\n",
    "    n_samples_0_new = int(sum(Y_train) / target_percentage - sum(Y_train))\n",
    "    np.random.seed(seed)\n",
    "    random_indices = np.random.choice(non_fraud_indices, n_samples_0_new, replace=False)#, random_state=seed)\n",
    "    #print(\"count under-sampled non fraud indices:\", len(random_indices))\n",
    "\n",
    "    #Find the indices of fraud samples\n",
    "    fraud_indices = Y_train[Y_train== 1].index\n",
    "    #print(\"count total fraud indices:\", len(fraud_indices))\n",
    "\n",
    "    #Concat fraud indices with sample non-fraud ones\n",
    "    indices_train = np.concatenate([fraud_indices,random_indices])\n",
    "    #print(\"total indices to train: \", len(indices_train))\n",
    "\n",
    "    #print(\"indices array: \", indices_train)\n",
    "    \n",
    "    return indices_train"
   ]
  },
  {
   "cell_type": "code",
   "execution_count": 13,
   "metadata": {},
   "outputs": [],
   "source": [
    "def UnderSampling(X, y, target_percentage=0.5, seed=42):\n",
    "    # Assuming minority class is the positive\n",
    "    n_samples = y.shape[0]\n",
    "    n_samples_0 = (y == 0).sum()\n",
    "    n_samples_1 = (y == 1).sum()\n",
    "\n",
    "    n_samples_0_new =  n_samples_1 / target_percentage - n_samples_1\n",
    "    n_samples_0_new_per = n_samples_0_new / n_samples_0\n",
    "\n",
    "    filter_ = y == 0\n",
    "\n",
    "    np.random.seed(seed)\n",
    "    rand_1 = np.random.binomial(n=1, p=n_samples_0_new_per, size=n_samples)\n",
    "    \n",
    "    filter_ = filter_ & rand_1\n",
    "    filter_ = filter_ | (y == 1)\n",
    "    filter_ = filter_.astype(bool)\n",
    "    \n",
    "    return X[filter_], y[filter_]"
   ]
  },
  {
   "cell_type": "markdown",
   "metadata": {},
   "source": [
    "# Test balanced model\n",
    "### DecisionTreeClassifier  under-sampling "
   ]
  },
  {
   "cell_type": "code",
   "execution_count": 14,
   "metadata": {},
   "outputs": [
    {
     "data": {
      "text/html": [
       "<div>\n",
       "<style scoped>\n",
       "    .dataframe tbody tr th:only-of-type {\n",
       "        vertical-align: middle;\n",
       "    }\n",
       "\n",
       "    .dataframe tbody tr th {\n",
       "        vertical-align: top;\n",
       "    }\n",
       "\n",
       "    .dataframe thead th {\n",
       "        text-align: right;\n",
       "    }\n",
       "</style>\n",
       "<table border=\"1\" class=\"dataframe\">\n",
       "  <thead>\n",
       "    <tr style=\"text-align: right;\">\n",
       "      <th></th>\n",
       "      <th>number_records</th>\n",
       "      <th>target_percentage</th>\n",
       "      <th>Accuracy</th>\n",
       "      <th>F1 Score</th>\n",
       "      <th>FBeta Score</th>\n",
       "    </tr>\n",
       "  </thead>\n",
       "  <tbody>\n",
       "    <tr>\n",
       "      <th>0</th>\n",
       "      <td>5409</td>\n",
       "      <td>0.1</td>\n",
       "      <td>0.917390</td>\n",
       "      <td>0.053414</td>\n",
       "      <td>0.351311</td>\n",
       "    </tr>\n",
       "    <tr>\n",
       "      <th>1</th>\n",
       "      <td>2700</td>\n",
       "      <td>0.2</td>\n",
       "      <td>0.847322</td>\n",
       "      <td>0.034347</td>\n",
       "      <td>0.370131</td>\n",
       "    </tr>\n",
       "    <tr>\n",
       "      <th>2</th>\n",
       "      <td>1826</td>\n",
       "      <td>0.3</td>\n",
       "      <td>0.795204</td>\n",
       "      <td>0.034877</td>\n",
       "      <td>0.470108</td>\n",
       "    </tr>\n",
       "    <tr>\n",
       "      <th>3</th>\n",
       "      <td>1358</td>\n",
       "      <td>0.4</td>\n",
       "      <td>0.743422</td>\n",
       "      <td>0.026973</td>\n",
       "      <td>0.424310</td>\n",
       "    </tr>\n",
       "    <tr>\n",
       "      <th>4</th>\n",
       "      <td>1072</td>\n",
       "      <td>0.5</td>\n",
       "      <td>0.633275</td>\n",
       "      <td>0.022919</td>\n",
       "      <td>0.453392</td>\n",
       "    </tr>\n",
       "    <tr>\n",
       "      <th>5</th>\n",
       "      <td>908</td>\n",
       "      <td>0.6</td>\n",
       "      <td>0.588221</td>\n",
       "      <td>0.020463</td>\n",
       "      <td>0.433030</td>\n",
       "    </tr>\n",
       "    <tr>\n",
       "      <th>6</th>\n",
       "      <td>778</td>\n",
       "      <td>0.7</td>\n",
       "      <td>0.482495</td>\n",
       "      <td>0.017607</td>\n",
       "      <td>0.422127</td>\n",
       "    </tr>\n",
       "    <tr>\n",
       "      <th>7</th>\n",
       "      <td>686</td>\n",
       "      <td>0.8</td>\n",
       "      <td>0.425739</td>\n",
       "      <td>0.016381</td>\n",
       "      <td>0.413969</td>\n",
       "    </tr>\n",
       "    <tr>\n",
       "      <th>8</th>\n",
       "      <td>616</td>\n",
       "      <td>0.9</td>\n",
       "      <td>0.253502</td>\n",
       "      <td>0.014215</td>\n",
       "      <td>0.405666</td>\n",
       "    </tr>\n",
       "  </tbody>\n",
       "</table>\n",
       "</div>"
      ],
      "text/plain": [
       "   number_records  target_percentage  Accuracy  F1 Score  FBeta Score\n",
       "0            5409                0.1  0.917390  0.053414     0.351311\n",
       "1            2700                0.2  0.847322  0.034347     0.370131\n",
       "2            1826                0.3  0.795204  0.034877     0.470108\n",
       "3            1358                0.4  0.743422  0.026973     0.424310\n",
       "4            1072                0.5  0.633275  0.022919     0.453392\n",
       "5             908                0.6  0.588221  0.020463     0.433030\n",
       "6             778                0.7  0.482495  0.017607     0.422127\n",
       "7             686                0.8  0.425739  0.016381     0.413969\n",
       "8             616                0.9  0.253502  0.014215     0.405666"
      ]
     },
     "execution_count": 14,
     "metadata": {},
     "output_type": "execute_result"
    }
   ],
   "source": [
    "#Train DecisionTreeClassifier and metrics\n",
    "regTree = DecisionTreeClassifier()\n",
    "eval_DTC = []\n",
    "\n",
    "for target_percentage in [0.1, 0.2, 0.3, 0.4, 0.5, 0.6, 0.7, 0.8, 0.9]:\n",
    "    #indices_for_train = GetInidicesUnderSampling(Y_train, target_percentage)\n",
    "    X_under_sample, Y_under_sample = UnderSampling(X_train, Y_train, target_percentage)\n",
    "    regTree.fit(X_under_sample, Y_under_sample)\n",
    "    Y_pred = regTree.predict(X_validation)\n",
    "    eval_DTC.append([len(Y_under_sample),\n",
    "                 target_percentage,\n",
    "                 accuracy_score(Y_validation, Y_pred), \n",
    "                 f1_score(Y_validation, Y_pred), \n",
    "                 fbeta_score(Y_validation, Y_pred, beta=10)])\n",
    "\n",
    "eval_DTC = pd.DataFrame(eval_DTC, columns=['number_records','target_percentage', 'Accuracy', 'F1 Score', 'FBeta Score'])\n",
    "eval_DTC"
   ]
  },
  {
   "cell_type": "markdown",
   "metadata": {},
   "source": [
    "### LogisticRegression  under-sampling"
   ]
  },
  {
   "cell_type": "code",
   "execution_count": 15,
   "metadata": {},
   "outputs": [
    {
     "data": {
      "text/html": [
       "<div>\n",
       "<style scoped>\n",
       "    .dataframe tbody tr th:only-of-type {\n",
       "        vertical-align: middle;\n",
       "    }\n",
       "\n",
       "    .dataframe tbody tr th {\n",
       "        vertical-align: top;\n",
       "    }\n",
       "\n",
       "    .dataframe thead th {\n",
       "        text-align: right;\n",
       "    }\n",
       "</style>\n",
       "<table border=\"1\" class=\"dataframe\">\n",
       "  <thead>\n",
       "    <tr style=\"text-align: right;\">\n",
       "      <th></th>\n",
       "      <th>number_records</th>\n",
       "      <th>target_percentage</th>\n",
       "      <th>Accuracy</th>\n",
       "      <th>F1 Score</th>\n",
       "      <th>FBeta Score</th>\n",
       "    </tr>\n",
       "  </thead>\n",
       "  <tbody>\n",
       "    <tr>\n",
       "      <th>0</th>\n",
       "      <td>5409</td>\n",
       "      <td>0.1</td>\n",
       "      <td>0.991109</td>\n",
       "      <td>0.010695</td>\n",
       "      <td>0.008202</td>\n",
       "    </tr>\n",
       "    <tr>\n",
       "      <th>1</th>\n",
       "      <td>2700</td>\n",
       "      <td>0.2</td>\n",
       "      <td>0.970084</td>\n",
       "      <td>0.053232</td>\n",
       "      <td>0.138248</td>\n",
       "    </tr>\n",
       "    <tr>\n",
       "      <th>2</th>\n",
       "      <td>1826</td>\n",
       "      <td>0.3</td>\n",
       "      <td>0.932191</td>\n",
       "      <td>0.040789</td>\n",
       "      <td>0.222819</td>\n",
       "    </tr>\n",
       "    <tr>\n",
       "      <th>3</th>\n",
       "      <td>1358</td>\n",
       "      <td>0.4</td>\n",
       "      <td>0.870125</td>\n",
       "      <td>0.034304</td>\n",
       "      <td>0.324802</td>\n",
       "    </tr>\n",
       "    <tr>\n",
       "      <th>4</th>\n",
       "      <td>1072</td>\n",
       "      <td>0.5</td>\n",
       "      <td>0.583584</td>\n",
       "      <td>0.019020</td>\n",
       "      <td>0.404761</td>\n",
       "    </tr>\n",
       "    <tr>\n",
       "      <th>5</th>\n",
       "      <td>908</td>\n",
       "      <td>0.6</td>\n",
       "      <td>0.393349</td>\n",
       "      <td>0.016517</td>\n",
       "      <td>0.428875</td>\n",
       "    </tr>\n",
       "    <tr>\n",
       "      <th>6</th>\n",
       "      <td>778</td>\n",
       "      <td>0.7</td>\n",
       "      <td>0.267126</td>\n",
       "      <td>0.015240</td>\n",
       "      <td>0.431600</td>\n",
       "    </tr>\n",
       "    <tr>\n",
       "      <th>7</th>\n",
       "      <td>686</td>\n",
       "      <td>0.8</td>\n",
       "      <td>0.175962</td>\n",
       "      <td>0.013690</td>\n",
       "      <td>0.407251</td>\n",
       "    </tr>\n",
       "    <tr>\n",
       "      <th>8</th>\n",
       "      <td>616</td>\n",
       "      <td>0.9</td>\n",
       "      <td>0.067208</td>\n",
       "      <td>0.012465</td>\n",
       "      <td>0.389287</td>\n",
       "    </tr>\n",
       "  </tbody>\n",
       "</table>\n",
       "</div>"
      ],
      "text/plain": [
       "   number_records  target_percentage  Accuracy  F1 Score  FBeta Score\n",
       "0            5409                0.1  0.991109  0.010695     0.008202\n",
       "1            2700                0.2  0.970084  0.053232     0.138248\n",
       "2            1826                0.3  0.932191  0.040789     0.222819\n",
       "3            1358                0.4  0.870125  0.034304     0.324802\n",
       "4            1072                0.5  0.583584  0.019020     0.404761\n",
       "5             908                0.6  0.393349  0.016517     0.428875\n",
       "6             778                0.7  0.267126  0.015240     0.431600\n",
       "7             686                0.8  0.175962  0.013690     0.407251\n",
       "8             616                0.9  0.067208  0.012465     0.389287"
      ]
     },
     "execution_count": 15,
     "metadata": {},
     "output_type": "execute_result"
    }
   ],
   "source": [
    "#Train DecisionTreeClassifier and metrics\n",
    "logreg = LogisticRegression(solver='liblinear', max_iter=200)\n",
    "eval_logreg = []\n",
    "\n",
    "for target_percentage in [0.1, 0.2, 0.3, 0.4, 0.5, 0.6, 0.7, 0.8, 0.9]:\n",
    "    #indices_for_train = GetInidicesUnderSampling(Y_train, target_percentage)\n",
    "    X_under_sample, Y_under_sample = UnderSampling(X_train, Y_train, target_percentage)\n",
    "    logreg.fit(X_under_sample, Y_under_sample)\n",
    "    Y_pred = logreg.predict(X_validation)\n",
    "    eval_logreg.append([len(Y_under_sample),\n",
    "                 target_percentage,\n",
    "                 accuracy_score(Y_validation, Y_pred), \n",
    "                 f1_score(Y_validation, Y_pred), \n",
    "                 fbeta_score(Y_validation, Y_pred, beta=10)])\n",
    "\n",
    "eval_logreg = pd.DataFrame(eval_logreg, columns=['number_records','target_percentage', 'Accuracy', 'F1 Score', 'FBeta Score'])\n",
    "eval_logreg"
   ]
  },
  {
   "cell_type": "code",
   "execution_count": 16,
   "metadata": {},
   "outputs": [
    {
     "data": {
      "text/plain": [
       "<matplotlib.axes._subplots.AxesSubplot at 0x2143f35eba8>"
      ]
     },
     "execution_count": 16,
     "metadata": {},
     "output_type": "execute_result"
    },
    {
     "data": {
      "image/png": "[encoded data removed]",
      "text/plain": [
       "<Figure size 432x288 with 1 Axes>"
      ]
     },
     "metadata": {
      "needs_background": "light"
     },
     "output_type": "display_data"
    }
   ],
   "source": [
    "sns.lineplot(x=\"target_percentage\", y=\"Accuracy\", data=eval_DTC)\n",
    "sns.lineplot(x=\"target_percentage\", y=\"Accuracy\", data=eval_logreg)"
   ]
  },
  {
   "cell_type": "code",
   "execution_count": 17,
   "metadata": {},
   "outputs": [
    {
     "ename": "ValueError",
     "evalue": "Could not interpret input 'un '",
     "output_type": "error",
     "traceback": [
      "\u001b[1;31m---------------------------------------------------------------------------\u001b[0m",
      "\u001b[1;31mValueError\u001b[0m                                Traceback (most recent call last)",
      "\u001b[1;32m<ipython-input-17-72ce243af390>\u001b[0m in \u001b[0;36m<module>\u001b[1;34m\u001b[0m\n\u001b[1;32m----> 1\u001b[1;33m \u001b[0msns\u001b[0m\u001b[1;33m.\u001b[0m\u001b[0mlineplot\u001b[0m\u001b[1;33m(\u001b[0m\u001b[0mx\u001b[0m\u001b[1;33m=\u001b[0m\u001b[1;34m\"un \"\u001b[0m\u001b[1;33m,\u001b[0m \u001b[0my\u001b[0m\u001b[1;33m=\u001b[0m\u001b[1;34m\"F1 Score\"\u001b[0m\u001b[1;33m,\u001b[0m \u001b[0mdata\u001b[0m\u001b[1;33m=\u001b[0m\u001b[0meval_DTC\u001b[0m\u001b[1;33m)\u001b[0m\u001b[1;33m\u001b[0m\u001b[1;33m\u001b[0m\u001b[0m\n\u001b[0m\u001b[0;32m      2\u001b[0m \u001b[0msns\u001b[0m\u001b[1;33m.\u001b[0m\u001b[0mlineplot\u001b[0m\u001b[1;33m(\u001b[0m\u001b[0mx\u001b[0m\u001b[1;33m=\u001b[0m\u001b[1;34m\"target_percentage\"\u001b[0m\u001b[1;33m,\u001b[0m \u001b[0my\u001b[0m\u001b[1;33m=\u001b[0m\u001b[1;34m\"F1 Score\"\u001b[0m\u001b[1;33m,\u001b[0m \u001b[0mdata\u001b[0m\u001b[1;33m=\u001b[0m\u001b[0meval_logreg\u001b[0m\u001b[1;33m)\u001b[0m\u001b[1;33m\u001b[0m\u001b[1;33m\u001b[0m\u001b[0m\n",
      "\u001b[1;32m~\\AppData\\Local\\Continuum\\anaconda3\\lib\\site-packages\\seaborn\\relational.py\u001b[0m in \u001b[0;36mlineplot\u001b[1;34m(x, y, hue, size, style, data, palette, hue_order, hue_norm, sizes, size_order, size_norm, dashes, markers, style_order, units, estimator, ci, n_boot, sort, err_style, err_kws, legend, ax, **kwargs)\u001b[0m\n\u001b[0;32m   1076\u001b[0m         \u001b[0mdashes\u001b[0m\u001b[1;33m=\u001b[0m\u001b[0mdashes\u001b[0m\u001b[1;33m,\u001b[0m \u001b[0mmarkers\u001b[0m\u001b[1;33m=\u001b[0m\u001b[0mmarkers\u001b[0m\u001b[1;33m,\u001b[0m \u001b[0mstyle_order\u001b[0m\u001b[1;33m=\u001b[0m\u001b[0mstyle_order\u001b[0m\u001b[1;33m,\u001b[0m\u001b[1;33m\u001b[0m\u001b[1;33m\u001b[0m\u001b[0m\n\u001b[0;32m   1077\u001b[0m         \u001b[0munits\u001b[0m\u001b[1;33m=\u001b[0m\u001b[0munits\u001b[0m\u001b[1;33m,\u001b[0m \u001b[0mestimator\u001b[0m\u001b[1;33m=\u001b[0m\u001b[0mestimator\u001b[0m\u001b[1;33m,\u001b[0m \u001b[0mci\u001b[0m\u001b[1;33m=\u001b[0m\u001b[0mci\u001b[0m\u001b[1;33m,\u001b[0m \u001b[0mn_boot\u001b[0m\u001b[1;33m=\u001b[0m\u001b[0mn_boot\u001b[0m\u001b[1;33m,\u001b[0m\u001b[1;33m\u001b[0m\u001b[1;33m\u001b[0m\u001b[0m\n\u001b[1;32m-> 1078\u001b[1;33m         \u001b[0msort\u001b[0m\u001b[1;33m=\u001b[0m\u001b[0msort\u001b[0m\u001b[1;33m,\u001b[0m \u001b[0merr_style\u001b[0m\u001b[1;33m=\u001b[0m\u001b[0merr_style\u001b[0m\u001b[1;33m,\u001b[0m \u001b[0merr_kws\u001b[0m\u001b[1;33m=\u001b[0m\u001b[0merr_kws\u001b[0m\u001b[1;33m,\u001b[0m \u001b[0mlegend\u001b[0m\u001b[1;33m=\u001b[0m\u001b[0mlegend\u001b[0m\u001b[1;33m,\u001b[0m\u001b[1;33m\u001b[0m\u001b[1;33m\u001b[0m\u001b[0m\n\u001b[0m\u001b[0;32m   1079\u001b[0m     )\n\u001b[0;32m   1080\u001b[0m \u001b[1;33m\u001b[0m\u001b[0m\n",
      "\u001b[1;32m~\\AppData\\Local\\Continuum\\anaconda3\\lib\\site-packages\\seaborn\\relational.py\u001b[0m in \u001b[0;36m__init__\u001b[1;34m(self, x, y, hue, size, style, data, palette, hue_order, hue_norm, sizes, size_order, size_norm, dashes, markers, style_order, units, estimator, ci, n_boot, sort, err_style, err_kws, legend)\u001b[0m\n\u001b[0;32m    661\u001b[0m \u001b[1;33m\u001b[0m\u001b[0m\n\u001b[0;32m    662\u001b[0m         plot_data = self.establish_variables(\n\u001b[1;32m--> 663\u001b[1;33m             \u001b[0mx\u001b[0m\u001b[1;33m,\u001b[0m \u001b[0my\u001b[0m\u001b[1;33m,\u001b[0m \u001b[0mhue\u001b[0m\u001b[1;33m,\u001b[0m \u001b[0msize\u001b[0m\u001b[1;33m,\u001b[0m \u001b[0mstyle\u001b[0m\u001b[1;33m,\u001b[0m \u001b[0munits\u001b[0m\u001b[1;33m,\u001b[0m \u001b[0mdata\u001b[0m\u001b[1;33m\u001b[0m\u001b[1;33m\u001b[0m\u001b[0m\n\u001b[0m\u001b[0;32m    664\u001b[0m         )\n\u001b[0;32m    665\u001b[0m \u001b[1;33m\u001b[0m\u001b[0m\n",
      "\u001b[1;32m~\\AppData\\Local\\Continuum\\anaconda3\\lib\\site-packages\\seaborn\\relational.py\u001b[0m in \u001b[0;36mestablish_variables\u001b[1;34m(self, x, y, hue, size, style, units, data)\u001b[0m\n\u001b[0;32m    140\u001b[0m                 \u001b[1;32mif\u001b[0m \u001b[0misinstance\u001b[0m\u001b[1;33m(\u001b[0m\u001b[0mvar\u001b[0m\u001b[1;33m,\u001b[0m \u001b[0mstring_types\u001b[0m\u001b[1;33m)\u001b[0m\u001b[1;33m:\u001b[0m\u001b[1;33m\u001b[0m\u001b[1;33m\u001b[0m\u001b[0m\n\u001b[0;32m    141\u001b[0m                     \u001b[0merr\u001b[0m \u001b[1;33m=\u001b[0m \u001b[1;34m\"Could not interpret input '{}'\"\u001b[0m\u001b[1;33m.\u001b[0m\u001b[0mformat\u001b[0m\u001b[1;33m(\u001b[0m\u001b[0mvar\u001b[0m\u001b[1;33m)\u001b[0m\u001b[1;33m\u001b[0m\u001b[1;33m\u001b[0m\u001b[0m\n\u001b[1;32m--> 142\u001b[1;33m                     \u001b[1;32mraise\u001b[0m \u001b[0mValueError\u001b[0m\u001b[1;33m(\u001b[0m\u001b[0merr\u001b[0m\u001b[1;33m)\u001b[0m\u001b[1;33m\u001b[0m\u001b[1;33m\u001b[0m\u001b[0m\n\u001b[0m\u001b[0;32m    143\u001b[0m \u001b[1;33m\u001b[0m\u001b[0m\n\u001b[0;32m    144\u001b[0m             \u001b[1;31m# Extract variable names\u001b[0m\u001b[1;33m\u001b[0m\u001b[1;33m\u001b[0m\u001b[1;33m\u001b[0m\u001b[0m\n",
      "\u001b[1;31mValueError\u001b[0m: Could not interpret input 'un '"
     ]
    }
   ],
   "source": [
    "sns.lineplot(x=\"un \", y=\"F1 Score\", data=eval_DTC)\n",
    "sns.lineplot(x=\"target_percentage\", y=\"F1 Score\", data=eval_logreg)"
   ]
  },
  {
   "cell_type": "code",
   "execution_count": null,
   "metadata": {},
   "outputs": [],
   "source": [
    "sns.lineplot(x=\"target_percentage\", y=\"FBeta Score\", data=eval_DTC)\n",
    "sns.lineplot(x=\"target_percentage\", y=\"FBeta Score\", data=eval_logreg)"
   ]
  },
  {
   "cell_type": "markdown",
   "metadata": {},
   "source": [
    "Se selecciona un target_percentage del 50% dado que es el punto donde se puede observar que el FBeta Score y el F1 Score adquieren un comportamiento estable, aunque el accuracy sigue decendiento a mayor target_percentage esto se debe a que la base de datos de test tiene e su mayoría resultados negativos.\n",
    "\n",
    "El error en el accuracy se debe principalmente a que el modelo está generando falso fraudes positivos como se puede ver en la siguiente tabla de confusión "
   ]
  },
  {
   "cell_type": "code",
   "execution_count": null,
   "metadata": {},
   "outputs": [],
   "source": [
    "X_under_sample, Y_under_sample = UnderSampling(X_train, Y_train, 0.5)\n",
    "logreg.fit(X_under_sample, Y_under_sample)\n",
    "Y_pred = logreg.predict(X_validation)\n",
    "# Confusion matrix\n",
    "from sklearn.metrics import confusion_matrix\n",
    "confusion_matrix(Y_validation, Y_pred)"
   ]
  },
  {
   "cell_type": "markdown",
   "metadata": {},
   "source": [
    "# Exercise 15.3\n",
    "\n",
    "Same analysis using random-over-sampling"
   ]
  },
  {
   "cell_type": "code",
   "execution_count": 408,
   "metadata": {},
   "outputs": [
    {
     "data": {
      "text/plain": [
       "1"
      ]
     },
     "execution_count": 408,
     "metadata": {},
     "output_type": "execute_result"
    }
   ],
   "source": [
    "filter_ = np.random.choice(X_train[Y_train == 1].index, 10)\n",
    "filter_\n",
    "#X_train.iloc[[8626]]\n",
    "X_train.loc[filter_]\n",
    "#np.nonzero(Y_train == 1)[0][filter_]\n",
    "X_train[Y_train == 1]\n",
    "Y_train[137504]"
   ]
  },
  {
   "cell_type": "code",
   "execution_count": 416,
   "metadata": {},
   "outputs": [],
   "source": [
    "import random\n",
    "def OverSampling(X, y, target_percentage=0.5, seed=42):\n",
    "    # Assuming minority class is the positive\n",
    "    n_samples = y.shape[0]\n",
    "    n_samples_0 = (y == 0).sum()\n",
    "    n_samples_1 = (y == 1).sum()\n",
    "\n",
    "    n_samples_1_new =  -target_percentage * n_samples_0 / (target_percentage- 1)\n",
    "\n",
    "    np.random.seed(seed)\n",
    "    filter_ = np.random.choice(X[y == 1].index, int(n_samples_1_new))\n",
    "    # filter_ is within the positives, change to be of all\n",
    "    #filter_ = np.nonzero(y == 1)[0][filter_]\n",
    "    #filter_ = np.concatenate((filter_, np.nonzero(y == 0)[0]), axis=0)\n",
    "    \n",
    "    filter_ = indices_train = np.concatenate([filter_,X[y == 0].index])    \n",
    "    return X.loc[filter_], y[filter_]"
   ]
  },
  {
   "cell_type": "markdown",
   "metadata": {},
   "source": [
    "### DecisionTreeClassifier random-over-sampling"
   ]
  },
  {
   "cell_type": "code",
   "execution_count": 419,
   "metadata": {},
   "outputs": [
    {
     "data": {
      "text/html": [
       "<div>\n",
       "<style scoped>\n",
       "    .dataframe tbody tr th:only-of-type {\n",
       "        vertical-align: middle;\n",
       "    }\n",
       "\n",
       "    .dataframe tbody tr th {\n",
       "        vertical-align: top;\n",
       "    }\n",
       "\n",
       "    .dataframe thead th {\n",
       "        text-align: right;\n",
       "    }\n",
       "</style>\n",
       "<table border=\"1\" class=\"dataframe\">\n",
       "  <thead>\n",
       "    <tr style=\"text-align: right;\">\n",
       "      <th></th>\n",
       "      <th>number_records</th>\n",
       "      <th>target_percentage</th>\n",
       "      <th>Accuracy</th>\n",
       "      <th>F1 Score</th>\n",
       "      <th>FBeta Score</th>\n",
       "    </tr>\n",
       "  </thead>\n",
       "  <tbody>\n",
       "    <tr>\n",
       "      <th>0</th>\n",
       "      <td>107280</td>\n",
       "      <td>0.1</td>\n",
       "      <td>0.988634</td>\n",
       "      <td>0.119181</td>\n",
       "      <td>0.130365</td>\n",
       "    </tr>\n",
       "    <tr>\n",
       "      <th>1</th>\n",
       "      <td>120690</td>\n",
       "      <td>0.2</td>\n",
       "      <td>0.990316</td>\n",
       "      <td>0.140725</td>\n",
       "      <td>0.134808</td>\n",
       "    </tr>\n",
       "    <tr>\n",
       "      <th>2</th>\n",
       "      <td>137931</td>\n",
       "      <td>0.3</td>\n",
       "      <td>0.989956</td>\n",
       "      <td>0.129167</td>\n",
       "      <td>0.126582</td>\n",
       "    </tr>\n",
       "    <tr>\n",
       "      <th>3</th>\n",
       "      <td>160920</td>\n",
       "      <td>0.4</td>\n",
       "      <td>0.989788</td>\n",
       "      <td>0.127310</td>\n",
       "      <td>0.126546</td>\n",
       "    </tr>\n",
       "    <tr>\n",
       "      <th>4</th>\n",
       "      <td>193104</td>\n",
       "      <td>0.5</td>\n",
       "      <td>0.989836</td>\n",
       "      <td>0.127835</td>\n",
       "      <td>0.126556</td>\n",
       "    </tr>\n",
       "    <tr>\n",
       "      <th>5</th>\n",
       "      <td>241379</td>\n",
       "      <td>0.6</td>\n",
       "      <td>0.990437</td>\n",
       "      <td>0.127193</td>\n",
       "      <td>0.118530</td>\n",
       "    </tr>\n",
       "    <tr>\n",
       "      <th>6</th>\n",
       "      <td>321839</td>\n",
       "      <td>0.7</td>\n",
       "      <td>0.990797</td>\n",
       "      <td>0.139326</td>\n",
       "      <td>0.126761</td>\n",
       "    </tr>\n",
       "    <tr>\n",
       "      <th>7</th>\n",
       "      <td>482760</td>\n",
       "      <td>0.8</td>\n",
       "      <td>0.990509</td>\n",
       "      <td>0.128035</td>\n",
       "      <td>0.118545</td>\n",
       "    </tr>\n",
       "    <tr>\n",
       "      <th>8</th>\n",
       "      <td>965520</td>\n",
       "      <td>0.9</td>\n",
       "      <td>0.990124</td>\n",
       "      <td>0.127389</td>\n",
       "      <td>0.122543</td>\n",
       "    </tr>\n",
       "  </tbody>\n",
       "</table>\n",
       "</div>"
      ],
      "text/plain": [
       "   number_records  target_percentage  Accuracy  F1 Score  FBeta Score\n",
       "0          107280                0.1  0.988634  0.119181     0.130365\n",
       "1          120690                0.2  0.990316  0.140725     0.134808\n",
       "2          137931                0.3  0.989956  0.129167     0.126582\n",
       "3          160920                0.4  0.989788  0.127310     0.126546\n",
       "4          193104                0.5  0.989836  0.127835     0.126556\n",
       "5          241379                0.6  0.990437  0.127193     0.118530\n",
       "6          321839                0.7  0.990797  0.139326     0.126761\n",
       "7          482760                0.8  0.990509  0.128035     0.118545\n",
       "8          965520                0.9  0.990124  0.127389     0.122543"
      ]
     },
     "execution_count": 419,
     "metadata": {},
     "output_type": "execute_result"
    }
   ],
   "source": [
    "#Train DecisionTreeClassifier and metrics\n",
    "regTree = DecisionTreeClassifier()\n",
    "eval_DTC = []\n",
    "\n",
    "for target_percentage in [0.1, 0.2, 0.3, 0.4, 0.5, 0.6, 0.7, 0.8, 0.9]:\n",
    "    #indices_for_train = GetInidicesUnderSampling(Y_train, target_percentage)\n",
    "    X_over_sample, Y_over_sample = OverSampling(X_train, Y_train, target_percentage)\n",
    "    regTree.fit(X_over_sample, Y_over_sample)\n",
    "    Y_pred = regTree.predict(X_validation)\n",
    "    eval_DTC.append([len(Y_over_sample),\n",
    "                 target_percentage,\n",
    "                 accuracy_score(Y_validation, Y_pred), \n",
    "                 f1_score(Y_validation, Y_pred), \n",
    "                 fbeta_score(Y_validation, Y_pred, beta=10)])\n",
    "\n",
    "eval_DTC = pd.DataFrame(eval_DTC, columns=['number_records','target_percentage', 'Accuracy', 'F1 Score', 'FBeta Score'])\n",
    "eval_DTC"
   ]
  },
  {
   "cell_type": "markdown",
   "metadata": {},
   "source": [
    "### LogisticRegression random-over-sampling"
   ]
  },
  {
   "cell_type": "code",
   "execution_count": 425,
   "metadata": {},
   "outputs": [
    {
     "name": "stderr",
     "output_type": "stream",
     "text": [
      "C:\\Users\\ivandario.gomez\\AppData\\Local\\Continuum\\anaconda3\\lib\\site-packages\\sklearn\\svm\\base.py:922: ConvergenceWarning: Liblinear failed to converge, increase the number of iterations.\n",
      "  \"the number of iterations.\", ConvergenceWarning)\n",
      "C:\\Users\\ivandario.gomez\\AppData\\Local\\Continuum\\anaconda3\\lib\\site-packages\\sklearn\\svm\\base.py:922: ConvergenceWarning: Liblinear failed to converge, increase the number of iterations.\n",
      "  \"the number of iterations.\", ConvergenceWarning)\n"
     ]
    },
    {
     "data": {
      "text/html": [
       "<div>\n",
       "<style scoped>\n",
       "    .dataframe tbody tr th:only-of-type {\n",
       "        vertical-align: middle;\n",
       "    }\n",
       "\n",
       "    .dataframe tbody tr th {\n",
       "        vertical-align: top;\n",
       "    }\n",
       "\n",
       "    .dataframe thead th {\n",
       "        text-align: right;\n",
       "    }\n",
       "</style>\n",
       "<table border=\"1\" class=\"dataframe\">\n",
       "  <thead>\n",
       "    <tr style=\"text-align: right;\">\n",
       "      <th></th>\n",
       "      <th>number_records</th>\n",
       "      <th>target_percentage</th>\n",
       "      <th>Accuracy</th>\n",
       "      <th>F1 Score</th>\n",
       "      <th>FBeta Score</th>\n",
       "    </tr>\n",
       "  </thead>\n",
       "  <tbody>\n",
       "    <tr>\n",
       "      <th>0</th>\n",
       "      <td>107280</td>\n",
       "      <td>0.1</td>\n",
       "      <td>0.990821</td>\n",
       "      <td>0.000000</td>\n",
       "      <td>0.000000</td>\n",
       "    </tr>\n",
       "    <tr>\n",
       "      <th>1</th>\n",
       "      <td>120690</td>\n",
       "      <td>0.2</td>\n",
       "      <td>0.991037</td>\n",
       "      <td>0.005333</td>\n",
       "      <td>0.004101</td>\n",
       "    </tr>\n",
       "    <tr>\n",
       "      <th>2</th>\n",
       "      <td>137931</td>\n",
       "      <td>0.3</td>\n",
       "      <td>0.947161</td>\n",
       "      <td>0.043497</td>\n",
       "      <td>0.190179</td>\n",
       "    </tr>\n",
       "    <tr>\n",
       "      <th>3</th>\n",
       "      <td>160920</td>\n",
       "      <td>0.4</td>\n",
       "      <td>0.901627</td>\n",
       "      <td>0.037612</td>\n",
       "      <td>0.283419</td>\n",
       "    </tr>\n",
       "    <tr>\n",
       "      <th>4</th>\n",
       "      <td>193104</td>\n",
       "      <td>0.5</td>\n",
       "      <td>0.576447</td>\n",
       "      <td>0.019687</td>\n",
       "      <td>0.423265</td>\n",
       "    </tr>\n",
       "    <tr>\n",
       "      <th>5</th>\n",
       "      <td>241379</td>\n",
       "      <td>0.6</td>\n",
       "      <td>0.376553</td>\n",
       "      <td>0.017048</td>\n",
       "      <td>0.448658</td>\n",
       "    </tr>\n",
       "    <tr>\n",
       "      <th>6</th>\n",
       "      <td>321839</td>\n",
       "      <td>0.7</td>\n",
       "      <td>0.253238</td>\n",
       "      <td>0.014960</td>\n",
       "      <td>0.427130</td>\n",
       "    </tr>\n",
       "    <tr>\n",
       "      <th>7</th>\n",
       "      <td>482760</td>\n",
       "      <td>0.8</td>\n",
       "      <td>0.111589</td>\n",
       "      <td>0.012869</td>\n",
       "      <td>0.394442</td>\n",
       "    </tr>\n",
       "    <tr>\n",
       "      <th>8</th>\n",
       "      <td>965520</td>\n",
       "      <td>0.9</td>\n",
       "      <td>0.015571</td>\n",
       "      <td>0.011819</td>\n",
       "      <td>0.376556</td>\n",
       "    </tr>\n",
       "  </tbody>\n",
       "</table>\n",
       "</div>"
      ],
      "text/plain": [
       "   number_records  target_percentage  Accuracy  F1 Score  FBeta Score\n",
       "0          107280                0.1  0.990821  0.000000     0.000000\n",
       "1          120690                0.2  0.991037  0.005333     0.004101\n",
       "2          137931                0.3  0.947161  0.043497     0.190179\n",
       "3          160920                0.4  0.901627  0.037612     0.283419\n",
       "4          193104                0.5  0.576447  0.019687     0.423265\n",
       "5          241379                0.6  0.376553  0.017048     0.448658\n",
       "6          321839                0.7  0.253238  0.014960     0.427130\n",
       "7          482760                0.8  0.111589  0.012869     0.394442\n",
       "8          965520                0.9  0.015571  0.011819     0.376556"
      ]
     },
     "execution_count": 425,
     "metadata": {},
     "output_type": "execute_result"
    }
   ],
   "source": [
    "#Train DecisionTreeClassifier and metrics\n",
    "logreg = LogisticRegression(solver='liblinear')\n",
    "eval_logreg = []\n",
    "\n",
    "for target_percentage in [0.1, 0.2, 0.3, 0.4, 0.5, 0.6, 0.7, 0.8, 0.9]:\n",
    "    #indices_for_train = GetInidicesUnderSampling(Y_train, target_percentage)\n",
    "    X_over_sample, Y_over_sample = OverSampling(X_train, Y_train, target_percentage)\n",
    "    logreg.fit(X_over_sample, Y_over_sample)\n",
    "    Y_pred = logreg.predict(X_validation)\n",
    "    eval_logreg.append([len(Y_over_sample),\n",
    "                 target_percentage,\n",
    "                 accuracy_score(Y_validation, Y_pred), \n",
    "                 f1_score(Y_validation, Y_pred), \n",
    "                 fbeta_score(Y_validation, Y_pred, beta=10)])\n",
    "\n",
    "eval_logreg = pd.DataFrame(eval_logreg, columns=['number_records','target_percentage', 'Accuracy', 'F1 Score', 'FBeta Score'])\n",
    "eval_logreg"
   ]
  },
  {
   "cell_type": "code",
   "execution_count": 426,
   "metadata": {},
   "outputs": [
    {
     "data": {
      "text/plain": [
       "<matplotlib.axes._subplots.AxesSubplot at 0x17108d5efd0>"
      ]
     },
     "execution_count": 426,
     "metadata": {},
     "output_type": "execute_result"
    },
    {
     "data": {
      "image/png": "[encoded data removed]",
      "text/plain": [
       "<Figure size 432x288 with 1 Axes>"
      ]
     },
     "metadata": {
      "needs_background": "light"
     },
     "output_type": "display_data"
    }
   ],
   "source": [
    "sns.lineplot(x=\"target_percentage\", y=\"Accuracy\", data=eval_DTC)\n",
    "sns.lineplot(x=\"target_percentage\", y=\"Accuracy\", data=eval_logreg)"
   ]
  },
  {
   "cell_type": "code",
   "execution_count": 427,
   "metadata": {},
   "outputs": [
    {
     "data": {
      "text/plain": [
       "<matplotlib.axes._subplots.AxesSubplot at 0x171083cb908>"
      ]
     },
     "execution_count": 427,
     "metadata": {},
     "output_type": "execute_result"
    },
    {
     "data": {
      "image/png": "[encoded data removed]",
      "text/plain": [
       "<Figure size 432x288 with 1 Axes>"
      ]
     },
     "metadata": {
      "needs_background": "light"
     },
     "output_type": "display_data"
    }
   ],
   "source": [
    "sns.lineplot(x=\"target_percentage\", y=\"F1 Score\", data=eval_DTC)\n",
    "sns.lineplot(x=\"target_percentage\", y=\"F1 Score\", data=eval_logreg)"
   ]
  },
  {
   "cell_type": "code",
   "execution_count": 428,
   "metadata": {},
   "outputs": [
    {
     "data": {
      "text/plain": [
       "<matplotlib.axes._subplots.AxesSubplot at 0x17108391eb8>"
      ]
     },
     "execution_count": 428,
     "metadata": {},
     "output_type": "execute_result"
    },
    {
     "data": {
      "image/png": "[encoded data removed]",
      "text/plain": [
       "<Figure size 432x288 with 1 Axes>"
      ]
     },
     "metadata": {
      "needs_background": "light"
     },
     "output_type": "display_data"
    }
   ],
   "source": [
    "sns.lineplot(x=\"target_percentage\", y=\"FBeta Score\", data=eval_DTC)\n",
    "sns.lineplot(x=\"target_percentage\", y=\"FBeta Score\", data=eval_logreg)"
   ]
  },
  {
   "cell_type": "markdown",
   "metadata": {},
   "source": [
    "Se observa que el arbol de decisión se ve poco afectado por el over sampling dado que sus medidas de error se mantienen constantes, por el contrario la regresión logística tiene una alta variación en el accuracy, con un F1 y FBeta Score que se estabilizan desde el 50%.\n",
    "\n",
    "Por lo cual el balance para cada uno de los modelos debería ser:\n",
    "\n",
    "- DecisionTreeClassifier: 20%\n",
    "- LogisticRegression: 50%\n"
   ]
  },
  {
   "cell_type": "markdown",
   "metadata": {},
   "source": [
    "# Exercise 15.4 (3 points)\n",
    "\n",
    "Evaluate the results using SMOTE\n",
    "\n",
    "Which parameters did you choose?"
   ]
  },
  {
   "cell_type": "code",
   "execution_count": 495,
   "metadata": {},
   "outputs": [
    {
     "name": "stdout",
     "output_type": "stream",
     "text": [
      "Original dataset shape Counter({0: 96552, 1: 552})\n",
      "Resampled dataset shape auto Counter({0: 96552, 1: 96552})\n"
     ]
    }
   ],
   "source": [
    "from collections import Counter\n",
    "from imblearn.over_sampling import SMOTE\n",
    "X_smote, Y_smote = SMOTE(random_state=42,  k_neighbors=5, sampling_strategy=\"auto\").fit_resample(X_train, Y_train)\n",
    "print('Original dataset shape %s' % Counter(Y_train))\n",
    "print('Resampled dataset shape auto %s' % Counter(Y_smote))"
   ]
  },
  {
   "cell_type": "markdown",
   "metadata": {},
   "source": [
    "### DecisionTreeClassifier SMOTE"
   ]
  },
  {
   "cell_type": "code",
   "execution_count": 498,
   "metadata": {},
   "outputs": [
    {
     "data": {
      "text/html": [
       "<div>\n",
       "<style scoped>\n",
       "    .dataframe tbody tr th:only-of-type {\n",
       "        vertical-align: middle;\n",
       "    }\n",
       "\n",
       "    .dataframe tbody tr th {\n",
       "        vertical-align: top;\n",
       "    }\n",
       "\n",
       "    .dataframe thead th {\n",
       "        text-align: right;\n",
       "    }\n",
       "</style>\n",
       "<table border=\"1\" class=\"dataframe\">\n",
       "  <thead>\n",
       "    <tr style=\"text-align: right;\">\n",
       "      <th></th>\n",
       "      <th>number_records</th>\n",
       "      <th>target_percentage</th>\n",
       "      <th>Accuracy</th>\n",
       "      <th>F1 Score</th>\n",
       "      <th>FBeta Score</th>\n",
       "    </tr>\n",
       "  </thead>\n",
       "  <tbody>\n",
       "    <tr>\n",
       "      <th>0</th>\n",
       "      <td>106207</td>\n",
       "      <td>0.1</td>\n",
       "      <td>0.985367</td>\n",
       "      <td>0.121212</td>\n",
       "      <td>0.170034</td>\n",
       "    </tr>\n",
       "    <tr>\n",
       "      <th>1</th>\n",
       "      <td>115862</td>\n",
       "      <td>0.2</td>\n",
       "      <td>0.984502</td>\n",
       "      <td>0.107884</td>\n",
       "      <td>0.157699</td>\n",
       "    </tr>\n",
       "    <tr>\n",
       "      <th>2</th>\n",
       "      <td>125517</td>\n",
       "      <td>0.3</td>\n",
       "      <td>0.985222</td>\n",
       "      <td>0.107402</td>\n",
       "      <td>0.149816</td>\n",
       "    </tr>\n",
       "    <tr>\n",
       "      <th>3</th>\n",
       "      <td>135172</td>\n",
       "      <td>0.4</td>\n",
       "      <td>0.984862</td>\n",
       "      <td>0.105114</td>\n",
       "      <td>0.149726</td>\n",
       "    </tr>\n",
       "    <tr>\n",
       "      <th>4</th>\n",
       "      <td>144828</td>\n",
       "      <td>0.5</td>\n",
       "      <td>0.984622</td>\n",
       "      <td>0.088319</td>\n",
       "      <td>0.125456</td>\n",
       "    </tr>\n",
       "    <tr>\n",
       "      <th>5</th>\n",
       "      <td>154483</td>\n",
       "      <td>0.6</td>\n",
       "      <td>0.984189</td>\n",
       "      <td>0.101093</td>\n",
       "      <td>0.149558</td>\n",
       "    </tr>\n",
       "    <tr>\n",
       "      <th>6</th>\n",
       "      <td>164138</td>\n",
       "      <td>0.7</td>\n",
       "      <td>0.985751</td>\n",
       "      <td>0.124077</td>\n",
       "      <td>0.170143</td>\n",
       "    </tr>\n",
       "    <tr>\n",
       "      <th>7</th>\n",
       "      <td>173793</td>\n",
       "      <td>0.8</td>\n",
       "      <td>0.983757</td>\n",
       "      <td>0.096257</td>\n",
       "      <td>0.145423</td>\n",
       "    </tr>\n",
       "    <tr>\n",
       "      <th>8</th>\n",
       "      <td>183448</td>\n",
       "      <td>0.9</td>\n",
       "      <td>0.984141</td>\n",
       "      <td>0.098361</td>\n",
       "      <td>0.145516</td>\n",
       "    </tr>\n",
       "    <tr>\n",
       "      <th>9</th>\n",
       "      <td>193104</td>\n",
       "      <td>1.0</td>\n",
       "      <td>0.983661</td>\n",
       "      <td>0.086022</td>\n",
       "      <td>0.129285</td>\n",
       "    </tr>\n",
       "  </tbody>\n",
       "</table>\n",
       "</div>"
      ],
      "text/plain": [
       "   number_records  target_percentage  Accuracy  F1 Score  FBeta Score\n",
       "0          106207                0.1  0.985367  0.121212     0.170034\n",
       "1          115862                0.2  0.984502  0.107884     0.157699\n",
       "2          125517                0.3  0.985222  0.107402     0.149816\n",
       "3          135172                0.4  0.984862  0.105114     0.149726\n",
       "4          144828                0.5  0.984622  0.088319     0.125456\n",
       "5          154483                0.6  0.984189  0.101093     0.149558\n",
       "6          164138                0.7  0.985751  0.124077     0.170143\n",
       "7          173793                0.8  0.983757  0.096257     0.145423\n",
       "8          183448                0.9  0.984141  0.098361     0.145516\n",
       "9          193104                1.0  0.983661  0.086022     0.129285"
      ]
     },
     "execution_count": 498,
     "metadata": {},
     "output_type": "execute_result"
    }
   ],
   "source": [
    "#Train DecisionTreeClassifier and metrics\n",
    "regTree = DecisionTreeClassifier()\n",
    "eval_DTC = []\n",
    "\n",
    "for target_percentage in [0.1, 0.2, 0.3, 0.4, 0.5, 0.6, 0.7, 0.8, 0.9, 1]:\n",
    "    X_smote, Y_smote = SMOTE(random_state=42,  k_neighbors=5, sampling_strategy=target_percentage).fit_resample(X_train, Y_train)\n",
    "    regTree.fit(X_smote, Y_smote)\n",
    "    Y_pred = regTree.predict(X_validation)\n",
    "    eval_DTC.append([len(Y_smote),\n",
    "                 target_percentage,\n",
    "                 accuracy_score(Y_validation, Y_pred), \n",
    "                 f1_score(Y_validation, Y_pred), \n",
    "                 fbeta_score(Y_validation, Y_pred, beta=10)])\n",
    "\n",
    "eval_DTC = pd.DataFrame(eval_DTC, columns=['number_records','target_percentage', 'Accuracy', 'F1 Score', 'FBeta Score'])\n",
    "eval_DTC"
   ]
  },
  {
   "cell_type": "markdown",
   "metadata": {},
   "source": [
    "### LogisticRegression SMOTE"
   ]
  },
  {
   "cell_type": "code",
   "execution_count": 499,
   "metadata": {},
   "outputs": [
    {
     "name": "stderr",
     "output_type": "stream",
     "text": [
      "C:\\Users\\ivandario.gomez\\AppData\\Local\\Continuum\\anaconda3\\lib\\site-packages\\sklearn\\svm\\base.py:922: ConvergenceWarning: Liblinear failed to converge, increase the number of iterations.\n",
      "  \"the number of iterations.\", ConvergenceWarning)\n",
      "C:\\Users\\ivandario.gomez\\AppData\\Local\\Continuum\\anaconda3\\lib\\site-packages\\sklearn\\metrics\\classification.py:1143: UndefinedMetricWarning: F-score is ill-defined and being set to 0.0 due to no predicted samples.\n",
      "  'precision', 'predicted', average, warn_for)\n",
      "C:\\Users\\ivandario.gomez\\AppData\\Local\\Continuum\\anaconda3\\lib\\site-packages\\sklearn\\metrics\\classification.py:1143: UndefinedMetricWarning: F-score is ill-defined and being set to 0.0 due to no predicted samples.\n",
      "  'precision', 'predicted', average, warn_for)\n",
      "C:\\Users\\ivandario.gomez\\AppData\\Local\\Continuum\\anaconda3\\lib\\site-packages\\sklearn\\svm\\base.py:922: ConvergenceWarning: Liblinear failed to converge, increase the number of iterations.\n",
      "  \"the number of iterations.\", ConvergenceWarning)\n"
     ]
    },
    {
     "data": {
      "text/html": [
       "<div>\n",
       "<style scoped>\n",
       "    .dataframe tbody tr th:only-of-type {\n",
       "        vertical-align: middle;\n",
       "    }\n",
       "\n",
       "    .dataframe tbody tr th {\n",
       "        vertical-align: top;\n",
       "    }\n",
       "\n",
       "    .dataframe thead th {\n",
       "        text-align: right;\n",
       "    }\n",
       "</style>\n",
       "<table border=\"1\" class=\"dataframe\">\n",
       "  <thead>\n",
       "    <tr style=\"text-align: right;\">\n",
       "      <th></th>\n",
       "      <th>number_records</th>\n",
       "      <th>target_percentage</th>\n",
       "      <th>Accuracy</th>\n",
       "      <th>F1 Score</th>\n",
       "      <th>FBeta Score</th>\n",
       "    </tr>\n",
       "  </thead>\n",
       "  <tbody>\n",
       "    <tr>\n",
       "      <th>0</th>\n",
       "      <td>106207</td>\n",
       "      <td>0.1</td>\n",
       "      <td>0.994113</td>\n",
       "      <td>0.000000</td>\n",
       "      <td>0.000000</td>\n",
       "    </tr>\n",
       "    <tr>\n",
       "      <th>1</th>\n",
       "      <td>115862</td>\n",
       "      <td>0.2</td>\n",
       "      <td>0.993945</td>\n",
       "      <td>0.000000</td>\n",
       "      <td>0.000000</td>\n",
       "    </tr>\n",
       "    <tr>\n",
       "      <th>2</th>\n",
       "      <td>125517</td>\n",
       "      <td>0.3</td>\n",
       "      <td>0.972944</td>\n",
       "      <td>0.047377</td>\n",
       "      <td>0.111177</td>\n",
       "    </tr>\n",
       "    <tr>\n",
       "      <th>3</th>\n",
       "      <td>135172</td>\n",
       "      <td>0.4</td>\n",
       "      <td>0.945647</td>\n",
       "      <td>0.040712</td>\n",
       "      <td>0.182167</td>\n",
       "    </tr>\n",
       "    <tr>\n",
       "      <th>4</th>\n",
       "      <td>144828</td>\n",
       "      <td>0.5</td>\n",
       "      <td>0.935723</td>\n",
       "      <td>0.042248</td>\n",
       "      <td>0.220312</td>\n",
       "    </tr>\n",
       "    <tr>\n",
       "      <th>5</th>\n",
       "      <td>154483</td>\n",
       "      <td>0.6</td>\n",
       "      <td>0.899104</td>\n",
       "      <td>0.035821</td>\n",
       "      <td>0.275358</td>\n",
       "    </tr>\n",
       "    <tr>\n",
       "      <th>6</th>\n",
       "      <td>164138</td>\n",
       "      <td>0.7</td>\n",
       "      <td>0.863325</td>\n",
       "      <td>0.031005</td>\n",
       "      <td>0.305095</td>\n",
       "    </tr>\n",
       "    <tr>\n",
       "      <th>7</th>\n",
       "      <td>173793</td>\n",
       "      <td>0.8</td>\n",
       "      <td>0.794339</td>\n",
       "      <td>0.027055</td>\n",
       "      <td>0.363639</td>\n",
       "    </tr>\n",
       "    <tr>\n",
       "      <th>8</th>\n",
       "      <td>183448</td>\n",
       "      <td>0.9</td>\n",
       "      <td>0.681669</td>\n",
       "      <td>0.021566</td>\n",
       "      <td>0.390157</td>\n",
       "    </tr>\n",
       "    <tr>\n",
       "      <th>9</th>\n",
       "      <td>193104</td>\n",
       "      <td>1.0</td>\n",
       "      <td>0.601653</td>\n",
       "      <td>0.020213</td>\n",
       "      <td>0.419454</td>\n",
       "    </tr>\n",
       "  </tbody>\n",
       "</table>\n",
       "</div>"
      ],
      "text/plain": [
       "   number_records  target_percentage  Accuracy  F1 Score  FBeta Score\n",
       "0          106207                0.1  0.994113  0.000000     0.000000\n",
       "1          115862                0.2  0.993945  0.000000     0.000000\n",
       "2          125517                0.3  0.972944  0.047377     0.111177\n",
       "3          135172                0.4  0.945647  0.040712     0.182167\n",
       "4          144828                0.5  0.935723  0.042248     0.220312\n",
       "5          154483                0.6  0.899104  0.035821     0.275358\n",
       "6          164138                0.7  0.863325  0.031005     0.305095\n",
       "7          173793                0.8  0.794339  0.027055     0.363639\n",
       "8          183448                0.9  0.681669  0.021566     0.390157\n",
       "9          193104                1.0  0.601653  0.020213     0.419454"
      ]
     },
     "execution_count": 499,
     "metadata": {},
     "output_type": "execute_result"
    }
   ],
   "source": [
    "#Train DecisionTreeClassifier and metrics\n",
    "logreg = LogisticRegression(solver='liblinear')\n",
    "eval_logreg = []\n",
    "\n",
    "for target_percentage in [0.1, 0.2, 0.3, 0.4, 0.5, 0.6, 0.7, 0.8, 0.9, 1]:\n",
    "    X_smote, Y_smote = SMOTE(random_state=42,  k_neighbors=5, sampling_strategy=target_percentage).fit_resample(X_train, Y_train)\n",
    "    logreg.fit(X_smote, Y_smote)\n",
    "    Y_pred = logreg.predict(X_validation)\n",
    "    eval_logreg.append([len(Y_smote),\n",
    "                 target_percentage,\n",
    "                 accuracy_score(Y_validation, Y_pred), \n",
    "                 f1_score(Y_validation, Y_pred), \n",
    "                 fbeta_score(Y_validation, Y_pred, beta=10)])\n",
    "\n",
    "eval_logreg = pd.DataFrame(eval_logreg, columns=['number_records','target_percentage', 'Accuracy', 'F1 Score', 'FBeta Score'])\n",
    "eval_logreg"
   ]
  },
  {
   "cell_type": "code",
   "execution_count": 500,
   "metadata": {},
   "outputs": [
    {
     "data": {
      "text/plain": [
       "<matplotlib.axes._subplots.AxesSubplot at 0x1710877d400>"
      ]
     },
     "execution_count": 500,
     "metadata": {},
     "output_type": "execute_result"
    },
    {
     "data": {
      "image/png": "[encoded data removed]",
      "text/plain": [
       "<Figure size 432x288 with 1 Axes>"
      ]
     },
     "metadata": {
      "needs_background": "light"
     },
     "output_type": "display_data"
    }
   ],
   "source": [
    "sns.lineplot(x=\"target_percentage\", y=\"Accuracy\", data=eval_DTC)\n",
    "sns.lineplot(x=\"target_percentage\", y=\"Accuracy\", data=eval_logreg)"
   ]
  },
  {
   "cell_type": "code",
   "execution_count": 501,
   "metadata": {},
   "outputs": [
    {
     "data": {
      "text/plain": [
       "<matplotlib.axes._subplots.AxesSubplot at 0x17108ca1cc0>"
      ]
     },
     "execution_count": 501,
     "metadata": {},
     "output_type": "execute_result"
    },
    {
     "data": {
      "image/png": "[encoded data removed]",
      "text/plain": [
       "<Figure size 432x288 with 1 Axes>"
      ]
     },
     "metadata": {
      "needs_background": "light"
     },
     "output_type": "display_data"
    }
   ],
   "source": [
    "sns.lineplot(x=\"target_percentage\", y=\"F1 Score\", data=eval_DTC)\n",
    "sns.lineplot(x=\"target_percentage\", y=\"F1 Score\", data=eval_logreg)"
   ]
  },
  {
   "cell_type": "code",
   "execution_count": 502,
   "metadata": {},
   "outputs": [
    {
     "data": {
      "text/plain": [
       "<matplotlib.axes._subplots.AxesSubplot at 0x1710cfd22e8>"
      ]
     },
     "execution_count": 502,
     "metadata": {},
     "output_type": "execute_result"
    },
    {
     "data": {
      "image/png": "[encoded data removed]",
      "text/plain": [
       "<Figure size 432x288 with 1 Axes>"
      ]
     },
     "metadata": {
      "needs_background": "light"
     },
     "output_type": "display_data"
    }
   ],
   "source": [
    "sns.lineplot(x=\"target_percentage\", y=\"FBeta Score\", data=eval_DTC)\n",
    "sns.lineplot(x=\"target_percentage\", y=\"FBeta Score\", data=eval_logreg)"
   ]
  },
  {
   "cell_type": "markdown",
   "metadata": {},
   "source": [
    "Se observa que el arbol de decisión se ve poco afectado por el over sampling dado que sus medidas de error se mantienen casi constantes, por el contrario la regresión logística tiene una alta variación en el accuracy y el FBeta Score, con un F1 Score que se estabiliza desde el 50%, aunque conserva una pequeña caida despues del 50%.\n",
    "\n",
    "Por lo cual el balance para cada uno de los modelos debería ser:\n",
    "\n",
    "- DecisionTreeClassifier: 20%\n",
    "- LogisticRegression: 50%\n"
   ]
  },
  {
   "cell_type": "markdown",
   "metadata": {},
   "source": [
    "# Exercise 15.5 (3 points)\n",
    "\n",
    "Evaluate the results using Adaptive Synthetic Sampling Approach for Imbalanced\n",
    "Learning (ADASYN)\n",
    "\n",
    "http://www.ele.uri.edu/faculty/he/PDFfiles/adasyn.pdf\n",
    "https://imbalanced-learn.readthedocs.io/en/stable/generated/imblearn.over_sampling.ADASYN.html#rf9172e970ca5-1"
   ]
  },
  {
   "cell_type": "code",
   "execution_count": 506,
   "metadata": {},
   "outputs": [
    {
     "name": "stdout",
     "output_type": "stream",
     "text": [
      "Resampled dataset shape Counter({0: 96552, 1: 552})\n",
      "Resampled dataset shape Counter({0: 96552, 1: 48187})\n"
     ]
    }
   ],
   "source": [
    "#import library and sample the train dataset\n",
    "from collections import Counter\n",
    "from imblearn.over_sampling import ADASYN \n",
    "X_ada, y_ada = ADASYN(random_state=42, sampling_strategy=0.5).fit_resample(X_train, Y_train)\n",
    "print('Resampled dataset shape %s' % Counter(Y_train))\n",
    "print('Resampled dataset shape %s' % Counter(y_ada))"
   ]
  },
  {
   "cell_type": "markdown",
   "metadata": {},
   "source": [
    "### DecisionTreeClassifier ADASYN"
   ]
  },
  {
   "cell_type": "code",
   "execution_count": 508,
   "metadata": {},
   "outputs": [
    {
     "data": {
      "text/html": [
       "<div>\n",
       "<style scoped>\n",
       "    .dataframe tbody tr th:only-of-type {\n",
       "        vertical-align: middle;\n",
       "    }\n",
       "\n",
       "    .dataframe tbody tr th {\n",
       "        vertical-align: top;\n",
       "    }\n",
       "\n",
       "    .dataframe thead th {\n",
       "        text-align: right;\n",
       "    }\n",
       "</style>\n",
       "<table border=\"1\" class=\"dataframe\">\n",
       "  <thead>\n",
       "    <tr style=\"text-align: right;\">\n",
       "      <th></th>\n",
       "      <th>number_records</th>\n",
       "      <th>target_percentage</th>\n",
       "      <th>Accuracy</th>\n",
       "      <th>F1 Score</th>\n",
       "      <th>FBeta Score</th>\n",
       "    </tr>\n",
       "  </thead>\n",
       "  <tbody>\n",
       "    <tr>\n",
       "      <th>0</th>\n",
       "      <td>106206</td>\n",
       "      <td>0.1</td>\n",
       "      <td>0.985102</td>\n",
       "      <td>0.104046</td>\n",
       "      <td>0.145749</td>\n",
       "    </tr>\n",
       "    <tr>\n",
       "      <th>1</th>\n",
       "      <td>115865</td>\n",
       "      <td>0.2</td>\n",
       "      <td>0.984910</td>\n",
       "      <td>0.107955</td>\n",
       "      <td>0.153772</td>\n",
       "    </tr>\n",
       "    <tr>\n",
       "      <th>2</th>\n",
       "      <td>125487</td>\n",
       "      <td>0.3</td>\n",
       "      <td>0.985391</td>\n",
       "      <td>0.100592</td>\n",
       "      <td>0.137740</td>\n",
       "    </tr>\n",
       "    <tr>\n",
       "      <th>3</th>\n",
       "      <td>135099</td>\n",
       "      <td>0.4</td>\n",
       "      <td>0.984189</td>\n",
       "      <td>0.083565</td>\n",
       "      <td>0.121331</td>\n",
       "    </tr>\n",
       "    <tr>\n",
       "      <th>4</th>\n",
       "      <td>144739</td>\n",
       "      <td>0.5</td>\n",
       "      <td>0.984574</td>\n",
       "      <td>0.115702</td>\n",
       "      <td>0.169809</td>\n",
       "    </tr>\n",
       "    <tr>\n",
       "      <th>5</th>\n",
       "      <td>154394</td>\n",
       "      <td>0.6</td>\n",
       "      <td>0.984429</td>\n",
       "      <td>0.109890</td>\n",
       "      <td>0.161710</td>\n",
       "    </tr>\n",
       "    <tr>\n",
       "      <th>6</th>\n",
       "      <td>163992</td>\n",
       "      <td>0.7</td>\n",
       "      <td>0.983877</td>\n",
       "      <td>0.101740</td>\n",
       "      <td>0.153508</td>\n",
       "    </tr>\n",
       "    <tr>\n",
       "      <th>7</th>\n",
       "      <td>173632</td>\n",
       "      <td>0.8</td>\n",
       "      <td>0.983829</td>\n",
       "      <td>0.071724</td>\n",
       "      <td>0.105124</td>\n",
       "    </tr>\n",
       "    <tr>\n",
       "      <th>8</th>\n",
       "      <td>183226</td>\n",
       "      <td>0.9</td>\n",
       "      <td>0.983757</td>\n",
       "      <td>0.076503</td>\n",
       "      <td>0.113179</td>\n",
       "    </tr>\n",
       "    <tr>\n",
       "      <th>9</th>\n",
       "      <td>192927</td>\n",
       "      <td>1.0</td>\n",
       "      <td>0.983877</td>\n",
       "      <td>0.087075</td>\n",
       "      <td>0.129332</td>\n",
       "    </tr>\n",
       "  </tbody>\n",
       "</table>\n",
       "</div>"
      ],
      "text/plain": [
       "   number_records  target_percentage  Accuracy  F1 Score  FBeta Score\n",
       "0          106206                0.1  0.985102  0.104046     0.145749\n",
       "1          115865                0.2  0.984910  0.107955     0.153772\n",
       "2          125487                0.3  0.985391  0.100592     0.137740\n",
       "3          135099                0.4  0.984189  0.083565     0.121331\n",
       "4          144739                0.5  0.984574  0.115702     0.169809\n",
       "5          154394                0.6  0.984429  0.109890     0.161710\n",
       "6          163992                0.7  0.983877  0.101740     0.153508\n",
       "7          173632                0.8  0.983829  0.071724     0.105124\n",
       "8          183226                0.9  0.983757  0.076503     0.113179\n",
       "9          192927                1.0  0.983877  0.087075     0.129332"
      ]
     },
     "execution_count": 508,
     "metadata": {},
     "output_type": "execute_result"
    }
   ],
   "source": [
    "#Train DecisionTreeClassifier and metrics\n",
    "regTree = DecisionTreeClassifier()\n",
    "eval_DTC = []\n",
    "\n",
    "for target_percentage in [0.1, 0.2, 0.3, 0.4, 0.5, 0.6, 0.7, 0.8, 0.9, 1]:\n",
    "    X_ada, y_ada = ADASYN(random_state=42, sampling_strategy=target_percentage).fit_resample(X_train, Y_train)\n",
    "    regTree.fit(X_ada, y_ada)\n",
    "    Y_pred = regTree.predict(X_validation)\n",
    "    eval_DTC.append([len(y_ada),\n",
    "                 target_percentage,\n",
    "                 accuracy_score(Y_validation, Y_pred), \n",
    "                 f1_score(Y_validation, Y_pred), \n",
    "                 fbeta_score(Y_validation, Y_pred, beta=10)])\n",
    "\n",
    "eval_DTC = pd.DataFrame(eval_DTC, columns=['number_records','target_percentage', 'Accuracy', 'F1 Score', 'FBeta Score'])\n",
    "eval_DTC"
   ]
  },
  {
   "cell_type": "markdown",
   "metadata": {},
   "source": [
    "### LogisticRegression SMOTE"
   ]
  },
  {
   "cell_type": "code",
   "execution_count": 509,
   "metadata": {},
   "outputs": [
    {
     "name": "stderr",
     "output_type": "stream",
     "text": [
      "C:\\Users\\ivandario.gomez\\AppData\\Local\\Continuum\\anaconda3\\lib\\site-packages\\sklearn\\svm\\base.py:922: ConvergenceWarning: Liblinear failed to converge, increase the number of iterations.\n",
      "  \"the number of iterations.\", ConvergenceWarning)\n",
      "C:\\Users\\ivandario.gomez\\AppData\\Local\\Continuum\\anaconda3\\lib\\site-packages\\sklearn\\metrics\\classification.py:1143: UndefinedMetricWarning: F-score is ill-defined and being set to 0.0 due to no predicted samples.\n",
      "  'precision', 'predicted', average, warn_for)\n",
      "C:\\Users\\ivandario.gomez\\AppData\\Local\\Continuum\\anaconda3\\lib\\site-packages\\sklearn\\metrics\\classification.py:1143: UndefinedMetricWarning: F-score is ill-defined and being set to 0.0 due to no predicted samples.\n",
      "  'precision', 'predicted', average, warn_for)\n",
      "C:\\Users\\ivandario.gomez\\AppData\\Local\\Continuum\\anaconda3\\lib\\site-packages\\sklearn\\svm\\base.py:922: ConvergenceWarning: Liblinear failed to converge, increase the number of iterations.\n",
      "  \"the number of iterations.\", ConvergenceWarning)\n"
     ]
    },
    {
     "data": {
      "text/html": [
       "<div>\n",
       "<style scoped>\n",
       "    .dataframe tbody tr th:only-of-type {\n",
       "        vertical-align: middle;\n",
       "    }\n",
       "\n",
       "    .dataframe tbody tr th {\n",
       "        vertical-align: top;\n",
       "    }\n",
       "\n",
       "    .dataframe thead th {\n",
       "        text-align: right;\n",
       "    }\n",
       "</style>\n",
       "<table border=\"1\" class=\"dataframe\">\n",
       "  <thead>\n",
       "    <tr style=\"text-align: right;\">\n",
       "      <th></th>\n",
       "      <th>number_records</th>\n",
       "      <th>target_percentage</th>\n",
       "      <th>Accuracy</th>\n",
       "      <th>F1 Score</th>\n",
       "      <th>FBeta Score</th>\n",
       "    </tr>\n",
       "  </thead>\n",
       "  <tbody>\n",
       "    <tr>\n",
       "      <th>0</th>\n",
       "      <td>106207</td>\n",
       "      <td>0.1</td>\n",
       "      <td>0.994113</td>\n",
       "      <td>0.000000</td>\n",
       "      <td>0.000000</td>\n",
       "    </tr>\n",
       "    <tr>\n",
       "      <th>1</th>\n",
       "      <td>115862</td>\n",
       "      <td>0.2</td>\n",
       "      <td>0.993945</td>\n",
       "      <td>0.000000</td>\n",
       "      <td>0.000000</td>\n",
       "    </tr>\n",
       "    <tr>\n",
       "      <th>2</th>\n",
       "      <td>125517</td>\n",
       "      <td>0.3</td>\n",
       "      <td>0.972944</td>\n",
       "      <td>0.047377</td>\n",
       "      <td>0.111177</td>\n",
       "    </tr>\n",
       "    <tr>\n",
       "      <th>3</th>\n",
       "      <td>135172</td>\n",
       "      <td>0.4</td>\n",
       "      <td>0.945647</td>\n",
       "      <td>0.040712</td>\n",
       "      <td>0.182167</td>\n",
       "    </tr>\n",
       "    <tr>\n",
       "      <th>4</th>\n",
       "      <td>144828</td>\n",
       "      <td>0.5</td>\n",
       "      <td>0.935723</td>\n",
       "      <td>0.042248</td>\n",
       "      <td>0.220312</td>\n",
       "    </tr>\n",
       "    <tr>\n",
       "      <th>5</th>\n",
       "      <td>154483</td>\n",
       "      <td>0.6</td>\n",
       "      <td>0.899104</td>\n",
       "      <td>0.035821</td>\n",
       "      <td>0.275358</td>\n",
       "    </tr>\n",
       "    <tr>\n",
       "      <th>6</th>\n",
       "      <td>164138</td>\n",
       "      <td>0.7</td>\n",
       "      <td>0.863325</td>\n",
       "      <td>0.031005</td>\n",
       "      <td>0.305095</td>\n",
       "    </tr>\n",
       "    <tr>\n",
       "      <th>7</th>\n",
       "      <td>173793</td>\n",
       "      <td>0.8</td>\n",
       "      <td>0.794339</td>\n",
       "      <td>0.027055</td>\n",
       "      <td>0.363639</td>\n",
       "    </tr>\n",
       "    <tr>\n",
       "      <th>8</th>\n",
       "      <td>183448</td>\n",
       "      <td>0.9</td>\n",
       "      <td>0.681669</td>\n",
       "      <td>0.021566</td>\n",
       "      <td>0.390157</td>\n",
       "    </tr>\n",
       "    <tr>\n",
       "      <th>9</th>\n",
       "      <td>193104</td>\n",
       "      <td>1.0</td>\n",
       "      <td>0.601653</td>\n",
       "      <td>0.020213</td>\n",
       "      <td>0.419454</td>\n",
       "    </tr>\n",
       "  </tbody>\n",
       "</table>\n",
       "</div>"
      ],
      "text/plain": [
       "   number_records  target_percentage  Accuracy  F1 Score  FBeta Score\n",
       "0          106207                0.1  0.994113  0.000000     0.000000\n",
       "1          115862                0.2  0.993945  0.000000     0.000000\n",
       "2          125517                0.3  0.972944  0.047377     0.111177\n",
       "3          135172                0.4  0.945647  0.040712     0.182167\n",
       "4          144828                0.5  0.935723  0.042248     0.220312\n",
       "5          154483                0.6  0.899104  0.035821     0.275358\n",
       "6          164138                0.7  0.863325  0.031005     0.305095\n",
       "7          173793                0.8  0.794339  0.027055     0.363639\n",
       "8          183448                0.9  0.681669  0.021566     0.390157\n",
       "9          193104                1.0  0.601653  0.020213     0.419454"
      ]
     },
     "execution_count": 509,
     "metadata": {},
     "output_type": "execute_result"
    }
   ],
   "source": [
    "#Train DecisionTreeClassifier and metrics\n",
    "logreg = LogisticRegression(solver='liblinear')\n",
    "eval_logreg = []\n",
    "\n",
    "for target_percentage in [0.1, 0.2, 0.3, 0.4, 0.5, 0.6, 0.7, 0.8, 0.9, 1]:\n",
    "    X_ada, y_ada = SMOTE(random_state=42, sampling_strategy=target_percentage).fit_resample(X_train, Y_train)\n",
    "    logreg.fit(X_ada, y_ada)\n",
    "    Y_pred = logreg.predict(X_validation)\n",
    "    eval_logreg.append([len(y_ada),\n",
    "                 target_percentage,\n",
    "                 accuracy_score(Y_validation, Y_pred), \n",
    "                 f1_score(Y_validation, Y_pred), \n",
    "                 fbeta_score(Y_validation, Y_pred, beta=10)])\n",
    "\n",
    "eval_logreg = pd.DataFrame(eval_logreg, columns=['number_records','target_percentage', 'Accuracy', 'F1 Score', 'FBeta Score'])\n",
    "eval_logreg"
   ]
  },
  {
   "cell_type": "code",
   "execution_count": 510,
   "metadata": {},
   "outputs": [
    {
     "data": {
      "text/plain": [
       "<matplotlib.axes._subplots.AxesSubplot at 0x171080ca940>"
      ]
     },
     "execution_count": 510,
     "metadata": {},
     "output_type": "execute_result"
    },
    {
     "data": {
      "image/png": "[encoded data removed]",
      "text/plain": [
       "<Figure size 432x288 with 1 Axes>"
      ]
     },
     "metadata": {
      "needs_background": "light"
     },
     "output_type": "display_data"
    }
   ],
   "source": [
    "sns.lineplot(x=\"target_percentage\", y=\"Accuracy\", data=eval_DTC)\n",
    "sns.lineplot(x=\"target_percentage\", y=\"Accuracy\", data=eval_logreg)"
   ]
  },
  {
   "cell_type": "code",
   "execution_count": 511,
   "metadata": {},
   "outputs": [
    {
     "data": {
      "text/plain": [
       "<matplotlib.axes._subplots.AxesSubplot at 0x1710cfa2b70>"
      ]
     },
     "execution_count": 511,
     "metadata": {},
     "output_type": "execute_result"
    },
    {
     "data": {
      "image/png": "[encoded data removed]",
      "text/plain": [
       "<Figure size 432x288 with 1 Axes>"
      ]
     },
     "metadata": {
      "needs_background": "light"
     },
     "output_type": "display_data"
    }
   ],
   "source": [
    "sns.lineplot(x=\"target_percentage\", y=\"F1 Score\", data=eval_DTC)\n",
    "sns.lineplot(x=\"target_percentage\", y=\"F1 Score\", data=eval_logreg)"
   ]
  },
  {
   "cell_type": "code",
   "execution_count": 512,
   "metadata": {},
   "outputs": [
    {
     "data": {
      "text/plain": [
       "<matplotlib.axes._subplots.AxesSubplot at 0x1710b5cce48>"
      ]
     },
     "execution_count": 512,
     "metadata": {},
     "output_type": "execute_result"
    },
    {
     "data": {
      "image/png": "[encoded data removed]",
      "text/plain": [
       "<Figure size 432x288 with 1 Axes>"
      ]
     },
     "metadata": {
      "needs_background": "light"
     },
     "output_type": "display_data"
    }
   ],
   "source": [
    "sns.lineplot(x=\"target_percentage\", y=\"FBeta Score\", data=eval_DTC)\n",
    "sns.lineplot(x=\"target_percentage\", y=\"FBeta Score\", data=eval_logreg)"
   ]
  },
  {
   "cell_type": "markdown",
   "metadata": {},
   "source": [
    "# Exercise 15.6 (3 points)\n",
    "\n",
    "Compare and comment about the results"
   ]
  },
  {
   "cell_type": "markdown",
   "metadata": {},
   "source": [
    "### DecisionTreeClassifier ADASYN"
   ]
  },
  {
   "cell_type": "code",
   "execution_count": 467,
   "metadata": {},
   "outputs": [],
   "source": [
    "#Train DecisionTreeClassifier\n",
    "regTreeADASYN = DecisionTreeClassifier()\n",
    "regTreeADASYN.fit(X_ada, y_ada)\n",
    "Y_pred = regTreeADASYN.predict(X_validation)\n",
    "eval_models =[]\n",
    "\n",
    "eval_models.append([\"DecisionTreeClassifier\",\n",
    "             \"ADASYN\",       \n",
    "             len(y_ada),\n",
    "             target_percentage,\n",
    "             accuracy_score(Y_validation, Y_pred), \n",
    "             f1_score(Y_validation, Y_pred), \n",
    "             fbeta_score(Y_validation, Y_pred, beta=10)])"
   ]
  },
  {
   "cell_type": "markdown",
   "metadata": {},
   "source": [
    "### LogisticRegression ADASYN"
   ]
  },
  {
   "cell_type": "code",
   "execution_count": 468,
   "metadata": {},
   "outputs": [
    {
     "data": {
      "text/html": [
       "<div>\n",
       "<style scoped>\n",
       "    .dataframe tbody tr th:only-of-type {\n",
       "        vertical-align: middle;\n",
       "    }\n",
       "\n",
       "    .dataframe tbody tr th {\n",
       "        vertical-align: top;\n",
       "    }\n",
       "\n",
       "    .dataframe thead th {\n",
       "        text-align: right;\n",
       "    }\n",
       "</style>\n",
       "<table border=\"1\" class=\"dataframe\">\n",
       "  <thead>\n",
       "    <tr style=\"text-align: right;\">\n",
       "      <th></th>\n",
       "      <th>model</th>\n",
       "      <th>Balanced by</th>\n",
       "      <th>number_records</th>\n",
       "      <th>target_percentage</th>\n",
       "      <th>Accuracy</th>\n",
       "      <th>F1 Score</th>\n",
       "      <th>FBeta Score</th>\n",
       "    </tr>\n",
       "  </thead>\n",
       "  <tbody>\n",
       "    <tr>\n",
       "      <th>0</th>\n",
       "      <td>DecisionTreeClassifier</td>\n",
       "      <td>ADASYN</td>\n",
       "      <td>192927</td>\n",
       "      <td>0.8</td>\n",
       "      <td>0.983516</td>\n",
       "      <td>0.080429</td>\n",
       "      <td>0.121195</td>\n",
       "    </tr>\n",
       "    <tr>\n",
       "      <th>1</th>\n",
       "      <td>LogisticRegression</td>\n",
       "      <td>ADASYN</td>\n",
       "      <td>192927</td>\n",
       "      <td>0.8</td>\n",
       "      <td>0.572506</td>\n",
       "      <td>0.019077</td>\n",
       "      <td>0.412177</td>\n",
       "    </tr>\n",
       "  </tbody>\n",
       "</table>\n",
       "</div>"
      ],
      "text/plain": [
       "                    model Balanced by  number_records  target_percentage  \\\n",
       "0  DecisionTreeClassifier      ADASYN          192927                0.8   \n",
       "1      LogisticRegression      ADASYN          192927                0.8   \n",
       "\n",
       "   Accuracy  F1 Score  FBeta Score  \n",
       "0  0.983516  0.080429     0.121195  \n",
       "1  0.572506  0.019077     0.412177  "
      ]
     },
     "execution_count": 468,
     "metadata": {},
     "output_type": "execute_result"
    }
   ],
   "source": [
    "#Train DecisionTreeClassifier and metrics\n",
    "logregADASYN = LogisticRegression(solver='liblinear')\n",
    "\n",
    "logregADASYN.fit(X_ada, y_ada)\n",
    "Y_pred = logregADASYN.predict(X_validation)\n",
    "\n",
    "eval_models.append([\"LogisticRegression\",\n",
    "             \"ADASYN\",\n",
    "             len(y_ada),\n",
    "             target_percentage,\n",
    "             accuracy_score(Y_validation, Y_pred), \n",
    "             f1_score(Y_validation, Y_pred), \n",
    "             fbeta_score(Y_validation, Y_pred, beta=10)])\n",
    "\n",
    "eval_models = pd.DataFrame(eval_models, columns=['model','Balanced by','number_records','target_percentage', 'Accuracy', 'F1 Score', 'FBeta Score'])\n",
    "eval_models"
   ]
  },
  {
   "cell_type": "markdown",
   "metadata": {},
   "source": [
    "Se observa que el arbol de decisión se ve poco afectado por el over sampling dado que sus medidas de error se mantienen casi constantes con un maximo en el 50%, por el contrario la regresión logística tiene una alta variación en el accuracy y el FBeta Score, con un F1 Score que se estabiliza desde el 50%, aunque conserva una pequeña caida despues del 50%.\n",
    "\n",
    "Por lo cual el balance para cada uno de los modelos debería ser:\n",
    "\n",
    "- DecisionTreeClassifier: 50%\n",
    "- LogisticRegression: 50%"
   ]
  }
 ],
 "metadata": {
  "kernelspec": {
   "display_name": "Python 3",
   "language": "python",
   "name": "python3"
  },
  "language_info": {
   "codemirror_mode": {
    "name": "ipython",
    "version": 3
   },
   "file_extension": ".py",
   "mimetype": "text/x-python",
   "name": "python",
   "nbconvert_exporter": "python",
   "pygments_lexer": "ipython3",
   "version": "3.7.1"
  }
 },
 "nbformat": 4,
 "nbformat_minor": 1
}
