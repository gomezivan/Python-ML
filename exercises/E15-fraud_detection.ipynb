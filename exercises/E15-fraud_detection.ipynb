{
 "cells": [
  {
   "cell_type": "markdown",
   "metadata": {},
   "source": [
    "# Exercise 15\n",
    "\n",
    "# Fraud Detection"
   ]
  },
  {
   "cell_type": "markdown",
   "metadata": {},
   "source": [
    "## Introduction\n",
    "\n",
    "- Fraud Detection Dataset from Microsoft Azure: [data](http://gallery.cortanaintelligence.com/Experiment/8e9fe4e03b8b4c65b9ca947c72b8e463)\n",
    "\n",
    "Fraud detection is one of the earliest industrial applications of data mining and machine learning. Fraud detection is typically handled as a binary classification problem, but the class population is unbalanced because instances of fraud are usually very rare compared to the overall volume of transactions. Moreover, when fraudulent transactions are discovered, the business typically takes measures to block the accounts from transacting to prevent further losses. "
   ]
  },
  {
   "cell_type": "code",
   "execution_count": 41,
   "metadata": {},
   "outputs": [],
   "source": [
    "%matplotlib inline\n",
    "import pandas as pd\n",
    "import numpy as np\n",
    "from sklearn.model_selection import cross_val_score\n",
    "from sklearn.linear_model import LogisticRegression\n",
    "from sklearn.tree import DecisionTreeClassifier\n",
    "from sklearn.metrics import accuracy_score\n",
    "from sklearn.metrics import f1_score\n",
    "from sklearn.metrics import fbeta_score\n",
    "import seaborn as sns"
   ]
  },
  {
   "cell_type": "code",
   "execution_count": 2,
   "metadata": {},
   "outputs": [
    {
     "data": {
      "text/html": [
       "<div>\n",
       "<style scoped>\n",
       "    .dataframe tbody tr th:only-of-type {\n",
       "        vertical-align: middle;\n",
       "    }\n",
       "\n",
       "    .dataframe tbody tr th {\n",
       "        vertical-align: top;\n",
       "    }\n",
       "\n",
       "    .dataframe thead th {\n",
       "        text-align: right;\n",
       "    }\n",
       "</style>\n",
       "<table border=\"1\" class=\"dataframe\">\n",
       "  <thead>\n",
       "    <tr style=\"text-align: right;\">\n",
       "      <th></th>\n",
       "      <th>accountAge</th>\n",
       "      <th>digitalItemCount</th>\n",
       "      <th>sumPurchaseCount1Day</th>\n",
       "      <th>sumPurchaseAmount1Day</th>\n",
       "      <th>sumPurchaseAmount30Day</th>\n",
       "      <th>paymentBillingPostalCode - LogOddsForClass_0</th>\n",
       "      <th>accountPostalCode - LogOddsForClass_0</th>\n",
       "      <th>paymentBillingState - LogOddsForClass_0</th>\n",
       "      <th>accountState - LogOddsForClass_0</th>\n",
       "      <th>paymentInstrumentAgeInAccount</th>\n",
       "      <th>ipState - LogOddsForClass_0</th>\n",
       "      <th>transactionAmount</th>\n",
       "      <th>transactionAmountUSD</th>\n",
       "      <th>ipPostalCode - LogOddsForClass_0</th>\n",
       "      <th>localHour - LogOddsForClass_0</th>\n",
       "      <th>Label</th>\n",
       "    </tr>\n",
       "  </thead>\n",
       "  <tbody>\n",
       "    <tr>\n",
       "      <th>0</th>\n",
       "      <td>2000</td>\n",
       "      <td>0</td>\n",
       "      <td>0</td>\n",
       "      <td>0.00</td>\n",
       "      <td>720.25</td>\n",
       "      <td>5.064533</td>\n",
       "      <td>0.421214</td>\n",
       "      <td>1.312186</td>\n",
       "      <td>0.566395</td>\n",
       "      <td>3279.574306</td>\n",
       "      <td>1.218157</td>\n",
       "      <td>599.00</td>\n",
       "      <td>626.164650</td>\n",
       "      <td>1.259543</td>\n",
       "      <td>4.745402</td>\n",
       "      <td>0</td>\n",
       "    </tr>\n",
       "    <tr>\n",
       "      <th>1</th>\n",
       "      <td>62</td>\n",
       "      <td>1</td>\n",
       "      <td>1</td>\n",
       "      <td>1185.44</td>\n",
       "      <td>2530.37</td>\n",
       "      <td>0.538996</td>\n",
       "      <td>0.481838</td>\n",
       "      <td>4.401370</td>\n",
       "      <td>4.500157</td>\n",
       "      <td>61.970139</td>\n",
       "      <td>4.035601</td>\n",
       "      <td>1185.44</td>\n",
       "      <td>1185.440000</td>\n",
       "      <td>3.981118</td>\n",
       "      <td>4.921349</td>\n",
       "      <td>0</td>\n",
       "    </tr>\n",
       "    <tr>\n",
       "      <th>2</th>\n",
       "      <td>2000</td>\n",
       "      <td>0</td>\n",
       "      <td>0</td>\n",
       "      <td>0.00</td>\n",
       "      <td>0.00</td>\n",
       "      <td>5.064533</td>\n",
       "      <td>5.096396</td>\n",
       "      <td>3.056357</td>\n",
       "      <td>3.155226</td>\n",
       "      <td>0.000000</td>\n",
       "      <td>3.314186</td>\n",
       "      <td>32.09</td>\n",
       "      <td>32.090000</td>\n",
       "      <td>5.008490</td>\n",
       "      <td>4.742303</td>\n",
       "      <td>0</td>\n",
       "    </tr>\n",
       "    <tr>\n",
       "      <th>3</th>\n",
       "      <td>1</td>\n",
       "      <td>1</td>\n",
       "      <td>0</td>\n",
       "      <td>0.00</td>\n",
       "      <td>0.00</td>\n",
       "      <td>5.064533</td>\n",
       "      <td>5.096396</td>\n",
       "      <td>3.331154</td>\n",
       "      <td>3.331239</td>\n",
       "      <td>0.000000</td>\n",
       "      <td>3.529398</td>\n",
       "      <td>133.28</td>\n",
       "      <td>132.729554</td>\n",
       "      <td>1.324925</td>\n",
       "      <td>4.745402</td>\n",
       "      <td>0</td>\n",
       "    </tr>\n",
       "    <tr>\n",
       "      <th>4</th>\n",
       "      <td>1</td>\n",
       "      <td>1</td>\n",
       "      <td>0</td>\n",
       "      <td>0.00</td>\n",
       "      <td>132.73</td>\n",
       "      <td>5.412885</td>\n",
       "      <td>0.342945</td>\n",
       "      <td>5.563677</td>\n",
       "      <td>4.086965</td>\n",
       "      <td>0.001389</td>\n",
       "      <td>3.529398</td>\n",
       "      <td>543.66</td>\n",
       "      <td>543.660000</td>\n",
       "      <td>2.693451</td>\n",
       "      <td>4.876771</td>\n",
       "      <td>0</td>\n",
       "    </tr>\n",
       "  </tbody>\n",
       "</table>\n",
       "</div>"
      ],
      "text/plain": [
       "   accountAge  digitalItemCount  sumPurchaseCount1Day  sumPurchaseAmount1Day  \\\n",
       "0        2000                 0                     0                   0.00   \n",
       "1          62                 1                     1                1185.44   \n",
       "2        2000                 0                     0                   0.00   \n",
       "3           1                 1                     0                   0.00   \n",
       "4           1                 1                     0                   0.00   \n",
       "\n",
       "   sumPurchaseAmount30Day  paymentBillingPostalCode - LogOddsForClass_0  \\\n",
       "0                  720.25                                      5.064533   \n",
       "1                 2530.37                                      0.538996   \n",
       "2                    0.00                                      5.064533   \n",
       "3                    0.00                                      5.064533   \n",
       "4                  132.73                                      5.412885   \n",
       "\n",
       "   accountPostalCode - LogOddsForClass_0  \\\n",
       "0                               0.421214   \n",
       "1                               0.481838   \n",
       "2                               5.096396   \n",
       "3                               5.096396   \n",
       "4                               0.342945   \n",
       "\n",
       "   paymentBillingState - LogOddsForClass_0  accountState - LogOddsForClass_0  \\\n",
       "0                                 1.312186                          0.566395   \n",
       "1                                 4.401370                          4.500157   \n",
       "2                                 3.056357                          3.155226   \n",
       "3                                 3.331154                          3.331239   \n",
       "4                                 5.563677                          4.086965   \n",
       "\n",
       "   paymentInstrumentAgeInAccount  ipState - LogOddsForClass_0  \\\n",
       "0                    3279.574306                     1.218157   \n",
       "1                      61.970139                     4.035601   \n",
       "2                       0.000000                     3.314186   \n",
       "3                       0.000000                     3.529398   \n",
       "4                       0.001389                     3.529398   \n",
       "\n",
       "   transactionAmount  transactionAmountUSD  ipPostalCode - LogOddsForClass_0  \\\n",
       "0             599.00            626.164650                          1.259543   \n",
       "1            1185.44           1185.440000                          3.981118   \n",
       "2              32.09             32.090000                          5.008490   \n",
       "3             133.28            132.729554                          1.324925   \n",
       "4             543.66            543.660000                          2.693451   \n",
       "\n",
       "   localHour - LogOddsForClass_0  Label  \n",
       "0                       4.745402      0  \n",
       "1                       4.921349      0  \n",
       "2                       4.742303      0  \n",
       "3                       4.745402      0  \n",
       "4                       4.876771      0  "
      ]
     },
     "execution_count": 2,
     "metadata": {},
     "output_type": "execute_result"
    }
   ],
   "source": [
    "import pandas as pd\n",
    "\n",
    "url = 'https://raw.githubusercontent.com/albahnsen/PracticalMachineLearningClass/master/datasets/15_fraud_detection.csv.zip'\n",
    "df = pd.read_csv(url, index_col=0)\n",
    "df.head()"
   ]
  },
  {
   "cell_type": "code",
   "execution_count": 3,
   "metadata": {},
   "outputs": [
    {
     "data": {
      "text/html": [
       "<div>\n",
       "<style scoped>\n",
       "    .dataframe tbody tr th:only-of-type {\n",
       "        vertical-align: middle;\n",
       "    }\n",
       "\n",
       "    .dataframe tbody tr th {\n",
       "        vertical-align: top;\n",
       "    }\n",
       "\n",
       "    .dataframe thead th {\n",
       "        text-align: right;\n",
       "    }\n",
       "</style>\n",
       "<table border=\"1\" class=\"dataframe\">\n",
       "  <thead>\n",
       "    <tr style=\"text-align: right;\">\n",
       "      <th></th>\n",
       "      <th>accountAge</th>\n",
       "      <th>digitalItemCount</th>\n",
       "      <th>sumPurchaseCount1Day</th>\n",
       "      <th>sumPurchaseAmount1Day</th>\n",
       "      <th>sumPurchaseAmount30Day</th>\n",
       "      <th>paymentBillingPostalCode - LogOddsForClass_0</th>\n",
       "      <th>accountPostalCode - LogOddsForClass_0</th>\n",
       "      <th>paymentBillingState - LogOddsForClass_0</th>\n",
       "      <th>accountState - LogOddsForClass_0</th>\n",
       "      <th>paymentInstrumentAgeInAccount</th>\n",
       "      <th>ipState - LogOddsForClass_0</th>\n",
       "      <th>transactionAmount</th>\n",
       "      <th>transactionAmountUSD</th>\n",
       "      <th>ipPostalCode - LogOddsForClass_0</th>\n",
       "      <th>localHour - LogOddsForClass_0</th>\n",
       "      <th>Label</th>\n",
       "    </tr>\n",
       "  </thead>\n",
       "  <tbody>\n",
       "    <tr>\n",
       "      <th>0</th>\n",
       "      <td>2000</td>\n",
       "      <td>0</td>\n",
       "      <td>0</td>\n",
       "      <td>0.00</td>\n",
       "      <td>720.25</td>\n",
       "      <td>5.064533</td>\n",
       "      <td>0.421214</td>\n",
       "      <td>1.312186</td>\n",
       "      <td>0.566395</td>\n",
       "      <td>3279.574306</td>\n",
       "      <td>1.218157</td>\n",
       "      <td>599.00</td>\n",
       "      <td>626.164650</td>\n",
       "      <td>1.259543</td>\n",
       "      <td>4.745402</td>\n",
       "      <td>0</td>\n",
       "    </tr>\n",
       "    <tr>\n",
       "      <th>1</th>\n",
       "      <td>62</td>\n",
       "      <td>1</td>\n",
       "      <td>1</td>\n",
       "      <td>1185.44</td>\n",
       "      <td>2530.37</td>\n",
       "      <td>0.538996</td>\n",
       "      <td>0.481838</td>\n",
       "      <td>4.401370</td>\n",
       "      <td>4.500157</td>\n",
       "      <td>61.970139</td>\n",
       "      <td>4.035601</td>\n",
       "      <td>1185.44</td>\n",
       "      <td>1185.440000</td>\n",
       "      <td>3.981118</td>\n",
       "      <td>4.921349</td>\n",
       "      <td>0</td>\n",
       "    </tr>\n",
       "    <tr>\n",
       "      <th>2</th>\n",
       "      <td>2000</td>\n",
       "      <td>0</td>\n",
       "      <td>0</td>\n",
       "      <td>0.00</td>\n",
       "      <td>0.00</td>\n",
       "      <td>5.064533</td>\n",
       "      <td>5.096396</td>\n",
       "      <td>3.056357</td>\n",
       "      <td>3.155226</td>\n",
       "      <td>0.000000</td>\n",
       "      <td>3.314186</td>\n",
       "      <td>32.09</td>\n",
       "      <td>32.090000</td>\n",
       "      <td>5.008490</td>\n",
       "      <td>4.742303</td>\n",
       "      <td>0</td>\n",
       "    </tr>\n",
       "    <tr>\n",
       "      <th>3</th>\n",
       "      <td>1</td>\n",
       "      <td>1</td>\n",
       "      <td>0</td>\n",
       "      <td>0.00</td>\n",
       "      <td>0.00</td>\n",
       "      <td>5.064533</td>\n",
       "      <td>5.096396</td>\n",
       "      <td>3.331154</td>\n",
       "      <td>3.331239</td>\n",
       "      <td>0.000000</td>\n",
       "      <td>3.529398</td>\n",
       "      <td>133.28</td>\n",
       "      <td>132.729554</td>\n",
       "      <td>1.324925</td>\n",
       "      <td>4.745402</td>\n",
       "      <td>0</td>\n",
       "    </tr>\n",
       "    <tr>\n",
       "      <th>4</th>\n",
       "      <td>1</td>\n",
       "      <td>1</td>\n",
       "      <td>0</td>\n",
       "      <td>0.00</td>\n",
       "      <td>132.73</td>\n",
       "      <td>5.412885</td>\n",
       "      <td>0.342945</td>\n",
       "      <td>5.563677</td>\n",
       "      <td>4.086965</td>\n",
       "      <td>0.001389</td>\n",
       "      <td>3.529398</td>\n",
       "      <td>543.66</td>\n",
       "      <td>543.660000</td>\n",
       "      <td>2.693451</td>\n",
       "      <td>4.876771</td>\n",
       "      <td>0</td>\n",
       "    </tr>\n",
       "  </tbody>\n",
       "</table>\n",
       "</div>"
      ],
      "text/plain": [
       "   accountAge  digitalItemCount  sumPurchaseCount1Day  sumPurchaseAmount1Day  \\\n",
       "0        2000                 0                     0                   0.00   \n",
       "1          62                 1                     1                1185.44   \n",
       "2        2000                 0                     0                   0.00   \n",
       "3           1                 1                     0                   0.00   \n",
       "4           1                 1                     0                   0.00   \n",
       "\n",
       "   sumPurchaseAmount30Day  paymentBillingPostalCode - LogOddsForClass_0  \\\n",
       "0                  720.25                                      5.064533   \n",
       "1                 2530.37                                      0.538996   \n",
       "2                    0.00                                      5.064533   \n",
       "3                    0.00                                      5.064533   \n",
       "4                  132.73                                      5.412885   \n",
       "\n",
       "   accountPostalCode - LogOddsForClass_0  \\\n",
       "0                               0.421214   \n",
       "1                               0.481838   \n",
       "2                               5.096396   \n",
       "3                               5.096396   \n",
       "4                               0.342945   \n",
       "\n",
       "   paymentBillingState - LogOddsForClass_0  accountState - LogOddsForClass_0  \\\n",
       "0                                 1.312186                          0.566395   \n",
       "1                                 4.401370                          4.500157   \n",
       "2                                 3.056357                          3.155226   \n",
       "3                                 3.331154                          3.331239   \n",
       "4                                 5.563677                          4.086965   \n",
       "\n",
       "   paymentInstrumentAgeInAccount  ipState - LogOddsForClass_0  \\\n",
       "0                    3279.574306                     1.218157   \n",
       "1                      61.970139                     4.035601   \n",
       "2                       0.000000                     3.314186   \n",
       "3                       0.000000                     3.529398   \n",
       "4                       0.001389                     3.529398   \n",
       "\n",
       "   transactionAmount  transactionAmountUSD  ipPostalCode - LogOddsForClass_0  \\\n",
       "0             599.00            626.164650                          1.259543   \n",
       "1            1185.44           1185.440000                          3.981118   \n",
       "2              32.09             32.090000                          5.008490   \n",
       "3             133.28            132.729554                          1.324925   \n",
       "4             543.66            543.660000                          2.693451   \n",
       "\n",
       "   localHour - LogOddsForClass_0  Label  \n",
       "0                       4.745402      0  \n",
       "1                       4.921349      0  \n",
       "2                       4.742303      0  \n",
       "3                       4.745402      0  \n",
       "4                       4.876771      0  "
      ]
     },
     "execution_count": 3,
     "metadata": {},
     "output_type": "execute_result"
    }
   ],
   "source": [
    "df.head()"
   ]
  },
  {
   "cell_type": "code",
   "execution_count": 4,
   "metadata": {},
   "outputs": [
    {
     "data": {
      "text/plain": [
       "((138721, 16), 797, 0.0057453449730033666)"
      ]
     },
     "execution_count": 4,
     "metadata": {},
     "output_type": "execute_result"
    }
   ],
   "source": [
    "df.shape, df.Label.sum(), df.Label.mean()"
   ]
  },
  {
   "cell_type": "markdown",
   "metadata": {},
   "source": [
    "# Exercise 15.1\n",
    "\n",
    "Estimate a Logistic Regression and a Decision Tree\n",
    "\n",
    "Evaluate using the following metrics:\n",
    "* Accuracy\n",
    "* F1-Score\n",
    "* F_Beta-Score (Beta=10)\n",
    "\n",
    "Comment about the results"
   ]
  },
  {
   "cell_type": "code",
   "execution_count": 5,
   "metadata": {},
   "outputs": [
    {
     "name": "stdout",
     "output_type": "stream",
     "text": [
      "Y sample:  (138721,)\n",
      "X sample:  (138721, 15)\n"
     ]
    }
   ],
   "source": [
    "seed = 42\n",
    "##Train and Test before balancing test database\n",
    "Y = df.Label\n",
    "X = df.drop(['Label'], axis=1)\n",
    "print(\"Y sample: \", Y.shape)\n",
    "print(\"X sample: \", X.shape)"
   ]
  },
  {
   "cell_type": "code",
   "execution_count": 6,
   "metadata": {},
   "outputs": [
    {
     "name": "stdout",
     "output_type": "stream",
     "text": [
      "Rows train:  97104\n",
      "Sum_Label train:  552\n"
     ]
    }
   ],
   "source": [
    "#Train the model selecting the best found parameters\n",
    "from sklearn.model_selection import train_test_split\n",
    "size = 0.30\n",
    "X_train, X_validation, Y_train, Y_validation = train_test_split(X, Y,test_size=size, random_state=seed).copy()\n",
    "print (\"Rows train: \", len(Y_train))\n",
    "print (\"Sum_Label train: \", sum(Y_train))"
   ]
  },
  {
   "cell_type": "markdown",
   "metadata": {},
   "source": [
    "### DecisionTreeClassifier before balancing test database"
   ]
  },
  {
   "cell_type": "code",
   "execution_count": 7,
   "metadata": {},
   "outputs": [
    {
     "data": {
      "text/plain": [
       "DecisionTreeClassifier(class_weight=None, criterion='gini', max_depth=None,\n",
       "            max_features=None, max_leaf_nodes=None,\n",
       "            min_impurity_decrease=0.0, min_impurity_split=None,\n",
       "            min_samples_leaf=1, min_samples_split=2,\n",
       "            min_weight_fraction_leaf=0.0, presort=False, random_state=None,\n",
       "            splitter='best')"
      ]
     },
     "execution_count": 7,
     "metadata": {},
     "output_type": "execute_result"
    }
   ],
   "source": [
    "#Train DecisionTreeClassifier and metrics\n",
    "regTree = DecisionTreeClassifier()\n",
    "regTree.fit(X_train, Y_train)"
   ]
  },
  {
   "cell_type": "code",
   "execution_count": 8,
   "metadata": {},
   "outputs": [
    {
     "name": "stdout",
     "output_type": "stream",
     "text": [
      "accuracy_score:  0.9888507100463753\n",
      "f1_score:  0.13432835820895525\n",
      "fbeta_score:  0.14666612883707797\n"
     ]
    }
   ],
   "source": [
    "Y_pred = regTree.predict(X_validation)\n",
    "print (\"accuracy_score: \",accuracy_score(Y_validation, Y_pred))\n",
    "print (\"f1_score: \",f1_score(Y_validation, Y_pred))\n",
    "print (\"fbeta_score: \",fbeta_score(Y_validation, Y_pred, beta=10))"
   ]
  },
  {
   "cell_type": "markdown",
   "metadata": {},
   "source": [
    "### LogisticRegression before balancing test database"
   ]
  },
  {
   "cell_type": "code",
   "execution_count": 9,
   "metadata": {},
   "outputs": [
    {
     "name": "stderr",
     "output_type": "stream",
     "text": [
      "C:\\Users\\ivandario.gomez\\AppData\\Local\\Continuum\\anaconda3\\lib\\site-packages\\sklearn\\svm\\base.py:922: ConvergenceWarning: Liblinear failed to converge, increase the number of iterations.\n",
      "  \"the number of iterations.\", ConvergenceWarning)\n"
     ]
    },
    {
     "data": {
      "text/plain": [
       "LogisticRegression(C=1.0, class_weight=None, dual=False, fit_intercept=True,\n",
       "          intercept_scaling=1, max_iter=200, multi_class='warn',\n",
       "          n_jobs=None, penalty='l2', random_state=None, solver='liblinear',\n",
       "          tol=0.0001, verbose=0, warm_start=False)"
      ]
     },
     "execution_count": 9,
     "metadata": {},
     "output_type": "execute_result"
    }
   ],
   "source": [
    "#Train LogisticRegression and metrics\n",
    "logreg = LogisticRegression(solver='liblinear', max_iter=200)\n",
    "logreg.fit(X_train, Y_train)"
   ]
  },
  {
   "cell_type": "code",
   "execution_count": 10,
   "metadata": {},
   "outputs": [
    {
     "name": "stdout",
     "output_type": "stream",
     "text": [
      "accuracy_score:  0.994112982675349\n",
      "f1_score:  0.0\n",
      "fbeta_score:  0.0\n"
     ]
    },
    {
     "name": "stderr",
     "output_type": "stream",
     "text": [
      "C:\\Users\\ivandario.gomez\\AppData\\Local\\Continuum\\anaconda3\\lib\\site-packages\\sklearn\\metrics\\classification.py:1143: UndefinedMetricWarning: F-score is ill-defined and being set to 0.0 due to no predicted samples.\n",
      "  'precision', 'predicted', average, warn_for)\n"
     ]
    }
   ],
   "source": [
    "Y_pred = logreg.predict(X_validation)\n",
    "print (\"accuracy_score: \",accuracy_score(Y_validation, Y_pred))\n",
    "print (\"f1_score: \",f1_score(Y_validation, Y_pred))\n",
    "print (\"fbeta_score: \",fbeta_score(Y_validation, Y_pred, beta=10))"
   ]
  },
  {
   "cell_type": "markdown",
   "metadata": {},
   "source": [
    "# Exercise 15.2\n",
    "\n",
    "Under-sample the negative class using random-under-sampling\n",
    "\n",
    "Which is parameter for target_percentage did you choose?\n",
    "How the results change?\n",
    "\n",
    "**Only apply under-sampling to the training set, evaluate using the whole test set**"
   ]
  },
  {
   "cell_type": "code",
   "execution_count": 11,
   "metadata": {},
   "outputs": [
    {
     "name": "stdout",
     "output_type": "stream",
     "text": [
      "Total rows in train dataset:  97104\n",
      "Sum frauds in train dataset:  552\n",
      "Sum non in frauds train:  96552\n"
     ]
    }
   ],
   "source": [
    "print (\"Total rows in train dataset: \", len(Y_train))\n",
    "print (\"Sum frauds in train dataset: \", sum(Y_train))\n",
    "non_fraud_indices = Y_train[Y_train == 0].index\n",
    "print (\"Sum non in frauds train: \", len(non_fraud_indices))"
   ]
  },
  {
   "cell_type": "code",
   "execution_count": 130,
   "metadata": {},
   "outputs": [],
   "source": [
    "def GetInidicesUnderSampling(Y_train, target_percentage=0.5, seed=42):\n",
    "    n_samples_0_new = int(sum(Y_train) / target_percentage - sum(Y_train))\n",
    "    np.random.seed(seed)\n",
    "    random_indices = np.random.choice(non_fraud_indices, n_samples_0_new, replace=False)#, random_state=seed)\n",
    "    #print(\"count under-sampled non fraud indices:\", len(random_indices))\n",
    "\n",
    "    #Find the indices of fraud samples\n",
    "    fraud_indices = Y_train[Y_train== 1].index\n",
    "    #print(\"count total fraud indices:\", len(fraud_indices))\n",
    "\n",
    "    #Concat fraud indices with sample non-fraud ones\n",
    "    indices_train = np.concatenate([fraud_indices,random_indices])\n",
    "    #print(\"total indices to train: \", len(indices_train))\n",
    "\n",
    "    #print(\"indices array: \", indices_train)\n",
    "    \n",
    "    return indices_train"
   ]
  },
  {
   "cell_type": "code",
   "execution_count": 133,
   "metadata": {},
   "outputs": [],
   "source": [
    "def UnderSampling(X, y, target_percentage=0.5, seed=42):\n",
    "    # Assuming minority class is the positive\n",
    "    n_samples = y.shape[0]\n",
    "    n_samples_0 = (y == 0).sum()\n",
    "    n_samples_1 = (y == 1).sum()\n",
    "\n",
    "    n_samples_0_new =  n_samples_1 / target_percentage - n_samples_1\n",
    "    n_samples_0_new_per = n_samples_0_new / n_samples_0\n",
    "\n",
    "    filter_ = y == 0\n",
    "\n",
    "    np.random.seed(seed)\n",
    "    rand_1 = np.random.binomial(n=1, p=n_samples_0_new_per, size=n_samples)\n",
    "    \n",
    "    filter_ = filter_ & rand_1\n",
    "    filter_ = filter_ | (y == 1)\n",
    "    filter_ = filter_.astype(bool)\n",
    "    \n",
    "    return X[filter_], y[filter_]"
   ]
  },
  {
   "cell_type": "markdown",
   "metadata": {},
   "source": [
    "# Test balanced model\n",
    "### DecisionTreeClassifier  under-sampling "
   ]
  },
  {
   "cell_type": "code",
   "execution_count": 141,
   "metadata": {},
   "outputs": [
    {
     "data": {
      "text/html": [
       "<div>\n",
       "<style scoped>\n",
       "    .dataframe tbody tr th:only-of-type {\n",
       "        vertical-align: middle;\n",
       "    }\n",
       "\n",
       "    .dataframe tbody tr th {\n",
       "        vertical-align: top;\n",
       "    }\n",
       "\n",
       "    .dataframe thead th {\n",
       "        text-align: right;\n",
       "    }\n",
       "</style>\n",
       "<table border=\"1\" class=\"dataframe\">\n",
       "  <thead>\n",
       "    <tr style=\"text-align: right;\">\n",
       "      <th></th>\n",
       "      <th>number_records</th>\n",
       "      <th>target_percentage</th>\n",
       "      <th>Accuracy</th>\n",
       "      <th>F1 Score</th>\n",
       "      <th>FBeta Score</th>\n",
       "    </tr>\n",
       "  </thead>\n",
       "  <tbody>\n",
       "    <tr>\n",
       "      <th>0</th>\n",
       "      <td>5409</td>\n",
       "      <td>0.1</td>\n",
       "      <td>0.917390</td>\n",
       "      <td>0.053414</td>\n",
       "      <td>0.351311</td>\n",
       "    </tr>\n",
       "    <tr>\n",
       "      <th>1</th>\n",
       "      <td>2700</td>\n",
       "      <td>0.2</td>\n",
       "      <td>0.847322</td>\n",
       "      <td>0.034347</td>\n",
       "      <td>0.370131</td>\n",
       "    </tr>\n",
       "    <tr>\n",
       "      <th>2</th>\n",
       "      <td>1826</td>\n",
       "      <td>0.3</td>\n",
       "      <td>0.795204</td>\n",
       "      <td>0.034877</td>\n",
       "      <td>0.470108</td>\n",
       "    </tr>\n",
       "    <tr>\n",
       "      <th>3</th>\n",
       "      <td>1358</td>\n",
       "      <td>0.4</td>\n",
       "      <td>0.743422</td>\n",
       "      <td>0.026973</td>\n",
       "      <td>0.424310</td>\n",
       "    </tr>\n",
       "    <tr>\n",
       "      <th>4</th>\n",
       "      <td>1072</td>\n",
       "      <td>0.5</td>\n",
       "      <td>0.633275</td>\n",
       "      <td>0.022919</td>\n",
       "      <td>0.453392</td>\n",
       "    </tr>\n",
       "    <tr>\n",
       "      <th>5</th>\n",
       "      <td>908</td>\n",
       "      <td>0.6</td>\n",
       "      <td>0.588221</td>\n",
       "      <td>0.020463</td>\n",
       "      <td>0.433030</td>\n",
       "    </tr>\n",
       "    <tr>\n",
       "      <th>6</th>\n",
       "      <td>778</td>\n",
       "      <td>0.7</td>\n",
       "      <td>0.482495</td>\n",
       "      <td>0.017607</td>\n",
       "      <td>0.422127</td>\n",
       "    </tr>\n",
       "    <tr>\n",
       "      <th>7</th>\n",
       "      <td>686</td>\n",
       "      <td>0.8</td>\n",
       "      <td>0.425739</td>\n",
       "      <td>0.016381</td>\n",
       "      <td>0.413969</td>\n",
       "    </tr>\n",
       "    <tr>\n",
       "      <th>8</th>\n",
       "      <td>616</td>\n",
       "      <td>0.9</td>\n",
       "      <td>0.253502</td>\n",
       "      <td>0.014215</td>\n",
       "      <td>0.405666</td>\n",
       "    </tr>\n",
       "  </tbody>\n",
       "</table>\n",
       "</div>"
      ],
      "text/plain": [
       "   number_records  target_percentage  Accuracy  F1 Score  FBeta Score\n",
       "0            5409                0.1  0.917390  0.053414     0.351311\n",
       "1            2700                0.2  0.847322  0.034347     0.370131\n",
       "2            1826                0.3  0.795204  0.034877     0.470108\n",
       "3            1358                0.4  0.743422  0.026973     0.424310\n",
       "4            1072                0.5  0.633275  0.022919     0.453392\n",
       "5             908                0.6  0.588221  0.020463     0.433030\n",
       "6             778                0.7  0.482495  0.017607     0.422127\n",
       "7             686                0.8  0.425739  0.016381     0.413969\n",
       "8             616                0.9  0.253502  0.014215     0.405666"
      ]
     },
     "execution_count": 141,
     "metadata": {},
     "output_type": "execute_result"
    }
   ],
   "source": [
    "#Train DecisionTreeClassifier and metrics\n",
    "regTree = DecisionTreeClassifier()\n",
    "eval_DTC = []\n",
    "\n",
    "for target_percentage in [0.1, 0.2, 0.3, 0.4, 0.5, 0.6, 0.7, 0.8, 0.9]:\n",
    "    #indices_for_train = GetInidicesUnderSampling(Y_train, target_percentage)\n",
    "    X_under_sample, Y_under_sample = UnderSampling(X_train, Y_train, target_percentage)\n",
    "    regTree.fit(X_under_sample, Y_under_sample)\n",
    "    Y_pred = regTree.predict(X_validation)\n",
    "    eval_DTC.append([len(Y_under_sample),\n",
    "                 target_percentage,\n",
    "                 accuracy_score(Y_validation, Y_pred), \n",
    "                 f1_score(Y_validation, Y_pred), \n",
    "                 fbeta_score(Y_validation, Y_pred, beta=10)])\n",
    "\n",
    "eval_DTC = pd.DataFrame(eval_DTC, columns=['number_records','target_percentage', 'Accuracy', 'F1 Score', 'FBeta Score'])\n",
    "eval_DTC"
   ]
  },
  {
   "cell_type": "markdown",
   "metadata": {},
   "source": [
    "### LogisticRegression  under-sampling"
   ]
  },
  {
   "cell_type": "code",
   "execution_count": 142,
   "metadata": {},
   "outputs": [
    {
     "data": {
      "text/html": [
       "<div>\n",
       "<style scoped>\n",
       "    .dataframe tbody tr th:only-of-type {\n",
       "        vertical-align: middle;\n",
       "    }\n",
       "\n",
       "    .dataframe tbody tr th {\n",
       "        vertical-align: top;\n",
       "    }\n",
       "\n",
       "    .dataframe thead th {\n",
       "        text-align: right;\n",
       "    }\n",
       "</style>\n",
       "<table border=\"1\" class=\"dataframe\">\n",
       "  <thead>\n",
       "    <tr style=\"text-align: right;\">\n",
       "      <th></th>\n",
       "      <th>number_records</th>\n",
       "      <th>target_percentage</th>\n",
       "      <th>Accuracy</th>\n",
       "      <th>F1 Score</th>\n",
       "      <th>FBeta Score</th>\n",
       "    </tr>\n",
       "  </thead>\n",
       "  <tbody>\n",
       "    <tr>\n",
       "      <th>0</th>\n",
       "      <td>5409</td>\n",
       "      <td>0.1</td>\n",
       "      <td>0.991109</td>\n",
       "      <td>0.010695</td>\n",
       "      <td>0.008202</td>\n",
       "    </tr>\n",
       "    <tr>\n",
       "      <th>1</th>\n",
       "      <td>2700</td>\n",
       "      <td>0.2</td>\n",
       "      <td>0.970084</td>\n",
       "      <td>0.053232</td>\n",
       "      <td>0.138248</td>\n",
       "    </tr>\n",
       "    <tr>\n",
       "      <th>2</th>\n",
       "      <td>1826</td>\n",
       "      <td>0.3</td>\n",
       "      <td>0.932191</td>\n",
       "      <td>0.040789</td>\n",
       "      <td>0.222819</td>\n",
       "    </tr>\n",
       "    <tr>\n",
       "      <th>3</th>\n",
       "      <td>1358</td>\n",
       "      <td>0.4</td>\n",
       "      <td>0.870125</td>\n",
       "      <td>0.034304</td>\n",
       "      <td>0.324802</td>\n",
       "    </tr>\n",
       "    <tr>\n",
       "      <th>4</th>\n",
       "      <td>1072</td>\n",
       "      <td>0.5</td>\n",
       "      <td>0.583584</td>\n",
       "      <td>0.019020</td>\n",
       "      <td>0.404761</td>\n",
       "    </tr>\n",
       "    <tr>\n",
       "      <th>5</th>\n",
       "      <td>908</td>\n",
       "      <td>0.6</td>\n",
       "      <td>0.393349</td>\n",
       "      <td>0.016517</td>\n",
       "      <td>0.428875</td>\n",
       "    </tr>\n",
       "    <tr>\n",
       "      <th>6</th>\n",
       "      <td>778</td>\n",
       "      <td>0.7</td>\n",
       "      <td>0.267126</td>\n",
       "      <td>0.015240</td>\n",
       "      <td>0.431600</td>\n",
       "    </tr>\n",
       "    <tr>\n",
       "      <th>7</th>\n",
       "      <td>686</td>\n",
       "      <td>0.8</td>\n",
       "      <td>0.175962</td>\n",
       "      <td>0.013690</td>\n",
       "      <td>0.407251</td>\n",
       "    </tr>\n",
       "    <tr>\n",
       "      <th>8</th>\n",
       "      <td>616</td>\n",
       "      <td>0.9</td>\n",
       "      <td>0.067208</td>\n",
       "      <td>0.012465</td>\n",
       "      <td>0.389287</td>\n",
       "    </tr>\n",
       "  </tbody>\n",
       "</table>\n",
       "</div>"
      ],
      "text/plain": [
       "   number_records  target_percentage  Accuracy  F1 Score  FBeta Score\n",
       "0            5409                0.1  0.991109  0.010695     0.008202\n",
       "1            2700                0.2  0.970084  0.053232     0.138248\n",
       "2            1826                0.3  0.932191  0.040789     0.222819\n",
       "3            1358                0.4  0.870125  0.034304     0.324802\n",
       "4            1072                0.5  0.583584  0.019020     0.404761\n",
       "5             908                0.6  0.393349  0.016517     0.428875\n",
       "6             778                0.7  0.267126  0.015240     0.431600\n",
       "7             686                0.8  0.175962  0.013690     0.407251\n",
       "8             616                0.9  0.067208  0.012465     0.389287"
      ]
     },
     "execution_count": 142,
     "metadata": {},
     "output_type": "execute_result"
    }
   ],
   "source": [
    "#Train DecisionTreeClassifier and metrics\n",
    "logreg = LogisticRegression(solver='liblinear', max_iter=200)\n",
    "eval_logreg = []\n",
    "\n",
    "for target_percentage in [0.1, 0.2, 0.3, 0.4, 0.5, 0.6, 0.7, 0.8, 0.9]:\n",
    "    #indices_for_train = GetInidicesUnderSampling(Y_train, target_percentage)\n",
    "    X_under_sample, Y_under_sample = UnderSampling(X_train, Y_train, target_percentage)\n",
    "    logreg.fit(X_under_sample, Y_under_sample)\n",
    "    Y_pred = logreg.predict(X_validation)\n",
    "    eval_logreg.append([len(Y_under_sample),\n",
    "                 target_percentage,\n",
    "                 accuracy_score(Y_validation, Y_pred), \n",
    "                 f1_score(Y_validation, Y_pred), \n",
    "                 fbeta_score(Y_validation, Y_pred, beta=10)])\n",
    "\n",
    "eval_logreg = pd.DataFrame(eval_logreg, columns=['number_records','target_percentage', 'Accuracy', 'F1 Score', 'FBeta Score'])\n",
    "eval_logreg"
   ]
  },
  {
   "cell_type": "code",
   "execution_count": 143,
   "metadata": {},
   "outputs": [
    {
     "data": {
      "text/plain": [
       "<matplotlib.axes._subplots.AxesSubplot at 0x1710696a9b0>"
      ]
     },
     "execution_count": 143,
     "metadata": {},
     "output_type": "execute_result"
    },
    {
     "data": {
      "image/png": "[encoded data removed]",
      "text/plain": [
       "<Figure size 432x288 with 1 Axes>"
      ]
     },
     "metadata": {
      "needs_background": "light"
     },
     "output_type": "display_data"
    }
   ],
   "source": [
    "sns.lineplot(x=\"target_percentage\", y=\"Accuracy\", data=eval_DTC)\n",
    "sns.lineplot(x=\"target_percentage\", y=\"Accuracy\", data=eval_logreg)"
   ]
  },
  {
   "cell_type": "code",
   "execution_count": 144,
   "metadata": {},
   "outputs": [
    {
     "data": {
      "text/plain": [
       "<matplotlib.axes._subplots.AxesSubplot at 0x17106b67080>"
      ]
     },
     "execution_count": 144,
     "metadata": {},
     "output_type": "execute_result"
    },
    {
     "data": {
      "image/png": "[encoded data removed]",
      "text/plain": [
       "<Figure size 432x288 with 1 Axes>"
      ]
     },
     "metadata": {
      "needs_background": "light"
     },
     "output_type": "display_data"
    }
   ],
   "source": [
    "sns.lineplot(x=\"un \", y=\"F1 Score\", data=eval_DTC)\n",
    "sns.lineplot(x=\"target_percentage\", y=\"F1 Score\", data=eval_logreg)"
   ]
  },
  {
   "cell_type": "code",
   "execution_count": 145,
   "metadata": {},
   "outputs": [
    {
     "data": {
      "text/plain": [
       "<matplotlib.axes._subplots.AxesSubplot at 0x17106bd9320>"
      ]
     },
     "execution_count": 145,
     "metadata": {},
     "output_type": "execute_result"
    },
    {
     "data": {
      "image/png": "[encoded data removed]",
      "text/plain": [
       "<Figure size 432x288 with 1 Axes>"
      ]
     },
     "metadata": {
      "needs_background": "light"
     },
     "output_type": "display_data"
    }
   ],
   "source": [
    "sns.lineplot(x=\"target_percentage\", y=\"FBeta Score\", data=eval_DTC)\n",
    "sns.lineplot(x=\"target_percentage\", y=\"FBeta Score\", data=eval_logreg)"
   ]
  },
  {
   "cell_type": "markdown",
   "metadata": {},
   "source": [
    "Se selecciona un target_percentage del 50% dado que es el punto donde se puede observar que el FBeta Score y el F1 Score adquieren un comportamiento estable, aunque el accuracy sigue decendiento a mayor target_percentage esto se debe a que la base de datos de test tiene e su mayoría resultados negativos.\n",
    "\n",
    "El error en el accuracy se debe principalmente a que el modelo está generando falso fraudes positivos como se puede ver en la siguiente tabla de confusión "
   ]
  },
  {
   "cell_type": "code",
   "execution_count": 156,
   "metadata": {},
   "outputs": [
    {
     "data": {
      "text/plain": [
       "array([[24119, 17253],\n",
       "       [   77,   168]], dtype=int64)"
      ]
     },
     "execution_count": 156,
     "metadata": {},
     "output_type": "execute_result"
    }
   ],
   "source": [
    "X_under_sample, Y_under_sample = UnderSampling(X_train, Y_train, 0.5)\n",
    "logreg.fit(X_under_sample, Y_under_sample)\n",
    "Y_pred = logreg.predict(X_validation)\n",
    "# Confusion matrix\n",
    "from sklearn.metrics import confusion_matrix\n",
    "confusion_matrix(Y_validation, Y_pred)"
   ]
  },
  {
   "cell_type": "markdown",
   "metadata": {},
   "source": [
    "# Exercise 15.3\n",
    "\n",
    "Same analysis using random-over-sampling"
   ]
  },
  {
   "cell_type": "code",
   "execution_count": 408,
   "metadata": {},
   "outputs": [
    {
     "data": {
      "text/plain": [
       "1"
      ]
     },
     "execution_count": 408,
     "metadata": {},
     "output_type": "execute_result"
    }
   ],
   "source": [
    "filter_ = np.random.choice(X_train[Y_train == 1].index, 10)\n",
    "filter_\n",
    "#X_train.iloc[[8626]]\n",
    "X_train.loc[filter_]\n",
    "#np.nonzero(Y_train == 1)[0][filter_]\n",
    "X_train[Y_train == 1]\n",
    "Y_train[137504]"
   ]
  },
  {
   "cell_type": "code",
   "execution_count": 416,
   "metadata": {},
   "outputs": [],
   "source": [
    "import random\n",
    "def OverSampling(X, y, target_percentage=0.5, seed=42):\n",
    "    # Assuming minority class is the positive\n",
    "    n_samples = y.shape[0]\n",
    "    n_samples_0 = (y == 0).sum()\n",
    "    n_samples_1 = (y == 1).sum()\n",
    "\n",
    "    n_samples_1_new =  -target_percentage * n_samples_0 / (target_percentage- 1)\n",
    "\n",
    "    np.random.seed(seed)\n",
    "    filter_ = np.random.choice(X[y == 1].index, int(n_samples_1_new))\n",
    "    # filter_ is within the positives, change to be of all\n",
    "    #filter_ = np.nonzero(y == 1)[0][filter_]\n",
    "    #filter_ = np.concatenate((filter_, np.nonzero(y == 0)[0]), axis=0)\n",
    "    \n",
    "    filter_ = indices_train = np.concatenate([filter_,X[y == 0].index])    \n",
    "    return X.loc[filter_], y[filter_]"
   ]
  },
  {
   "cell_type": "markdown",
   "metadata": {},
   "source": [
    "### DecisionTreeClassifier random-over-sampling"
   ]
  },
  {
   "cell_type": "code",
   "execution_count": 419,
   "metadata": {},
   "outputs": [
    {
     "data": {
      "text/html": [
       "<div>\n",
       "<style scoped>\n",
       "    .dataframe tbody tr th:only-of-type {\n",
       "        vertical-align: middle;\n",
       "    }\n",
       "\n",
       "    .dataframe tbody tr th {\n",
       "        vertical-align: top;\n",
       "    }\n",
       "\n",
       "    .dataframe thead th {\n",
       "        text-align: right;\n",
       "    }\n",
       "</style>\n",
       "<table border=\"1\" class=\"dataframe\">\n",
       "  <thead>\n",
       "    <tr style=\"text-align: right;\">\n",
       "      <th></th>\n",
       "      <th>number_records</th>\n",
       "      <th>target_percentage</th>\n",
       "      <th>Accuracy</th>\n",
       "      <th>F1 Score</th>\n",
       "      <th>FBeta Score</th>\n",
       "    </tr>\n",
       "  </thead>\n",
       "  <tbody>\n",
       "    <tr>\n",
       "      <th>0</th>\n",
       "      <td>107280</td>\n",
       "      <td>0.1</td>\n",
       "      <td>0.988634</td>\n",
       "      <td>0.119181</td>\n",
       "      <td>0.130365</td>\n",
       "    </tr>\n",
       "    <tr>\n",
       "      <th>1</th>\n",
       "      <td>120690</td>\n",
       "      <td>0.2</td>\n",
       "      <td>0.990316</td>\n",
       "      <td>0.140725</td>\n",
       "      <td>0.134808</td>\n",
       "    </tr>\n",
       "    <tr>\n",
       "      <th>2</th>\n",
       "      <td>137931</td>\n",
       "      <td>0.3</td>\n",
       "      <td>0.989956</td>\n",
       "      <td>0.129167</td>\n",
       "      <td>0.126582</td>\n",
       "    </tr>\n",
       "    <tr>\n",
       "      <th>3</th>\n",
       "      <td>160920</td>\n",
       "      <td>0.4</td>\n",
       "      <td>0.989788</td>\n",
       "      <td>0.127310</td>\n",
       "      <td>0.126546</td>\n",
       "    </tr>\n",
       "    <tr>\n",
       "      <th>4</th>\n",
       "      <td>193104</td>\n",
       "      <td>0.5</td>\n",
       "      <td>0.989836</td>\n",
       "      <td>0.127835</td>\n",
       "      <td>0.126556</td>\n",
       "    </tr>\n",
       "    <tr>\n",
       "      <th>5</th>\n",
       "      <td>241379</td>\n",
       "      <td>0.6</td>\n",
       "      <td>0.990437</td>\n",
       "      <td>0.127193</td>\n",
       "      <td>0.118530</td>\n",
       "    </tr>\n",
       "    <tr>\n",
       "      <th>6</th>\n",
       "      <td>321839</td>\n",
       "      <td>0.7</td>\n",
       "      <td>0.990797</td>\n",
       "      <td>0.139326</td>\n",
       "      <td>0.126761</td>\n",
       "    </tr>\n",
       "    <tr>\n",
       "      <th>7</th>\n",
       "      <td>482760</td>\n",
       "      <td>0.8</td>\n",
       "      <td>0.990509</td>\n",
       "      <td>0.128035</td>\n",
       "      <td>0.118545</td>\n",
       "    </tr>\n",
       "    <tr>\n",
       "      <th>8</th>\n",
       "      <td>965520</td>\n",
       "      <td>0.9</td>\n",
       "      <td>0.990124</td>\n",
       "      <td>0.127389</td>\n",
       "      <td>0.122543</td>\n",
       "    </tr>\n",
       "  </tbody>\n",
       "</table>\n",
       "</div>"
      ],
      "text/plain": [
       "   number_records  target_percentage  Accuracy  F1 Score  FBeta Score\n",
       "0          107280                0.1  0.988634  0.119181     0.130365\n",
       "1          120690                0.2  0.990316  0.140725     0.134808\n",
       "2          137931                0.3  0.989956  0.129167     0.126582\n",
       "3          160920                0.4  0.989788  0.127310     0.126546\n",
       "4          193104                0.5  0.989836  0.127835     0.126556\n",
       "5          241379                0.6  0.990437  0.127193     0.118530\n",
       "6          321839                0.7  0.990797  0.139326     0.126761\n",
       "7          482760                0.8  0.990509  0.128035     0.118545\n",
       "8          965520                0.9  0.990124  0.127389     0.122543"
      ]
     },
     "execution_count": 419,
     "metadata": {},
     "output_type": "execute_result"
    }
   ],
   "source": [
    "#Train DecisionTreeClassifier and metrics\n",
    "regTree = DecisionTreeClassifier()\n",
    "eval_DTC = []\n",
    "\n",
    "for target_percentage in [0.1, 0.2, 0.3, 0.4, 0.5, 0.6, 0.7, 0.8, 0.9]:\n",
    "    #indices_for_train = GetInidicesUnderSampling(Y_train, target_percentage)\n",
    "    X_over_sample, Y_over_sample = OverSampling(X_train, Y_train, target_percentage)\n",
    "    regTree.fit(X_over_sample, Y_over_sample)\n",
    "    Y_pred = regTree.predict(X_validation)\n",
    "    eval_DTC.append([len(Y_over_sample),\n",
    "                 target_percentage,\n",
    "                 accuracy_score(Y_validation, Y_pred), \n",
    "                 f1_score(Y_validation, Y_pred), \n",
    "                 fbeta_score(Y_validation, Y_pred, beta=10)])\n",
    "\n",
    "eval_DTC = pd.DataFrame(eval_DTC, columns=['number_records','target_percentage', 'Accuracy', 'F1 Score', 'FBeta Score'])\n",
    "eval_DTC"
   ]
  },
  {
   "cell_type": "markdown",
   "metadata": {},
   "source": [
    "### LogisticRegression random-over-sampling"
   ]
  },
  {
   "cell_type": "code",
   "execution_count": 425,
   "metadata": {},
   "outputs": [
    {
     "name": "stderr",
     "output_type": "stream",
     "text": [
      "C:\\Users\\ivandario.gomez\\AppData\\Local\\Continuum\\anaconda3\\lib\\site-packages\\sklearn\\svm\\base.py:922: ConvergenceWarning: Liblinear failed to converge, increase the number of iterations.\n",
      "  \"the number of iterations.\", ConvergenceWarning)\n",
      "C:\\Users\\ivandario.gomez\\AppData\\Local\\Continuum\\anaconda3\\lib\\site-packages\\sklearn\\svm\\base.py:922: ConvergenceWarning: Liblinear failed to converge, increase the number of iterations.\n",
      "  \"the number of iterations.\", ConvergenceWarning)\n"
     ]
    },
    {
     "data": {
      "text/html": [
       "<div>\n",
       "<style scoped>\n",
       "    .dataframe tbody tr th:only-of-type {\n",
       "        vertical-align: middle;\n",
       "    }\n",
       "\n",
       "    .dataframe tbody tr th {\n",
       "        vertical-align: top;\n",
       "    }\n",
       "\n",
       "    .dataframe thead th {\n",
       "        text-align: right;\n",
       "    }\n",
       "</style>\n",
       "<table border=\"1\" class=\"dataframe\">\n",
       "  <thead>\n",
       "    <tr style=\"text-align: right;\">\n",
       "      <th></th>\n",
       "      <th>number_records</th>\n",
       "      <th>target_percentage</th>\n",
       "      <th>Accuracy</th>\n",
       "      <th>F1 Score</th>\n",
       "      <th>FBeta Score</th>\n",
       "    </tr>\n",
       "  </thead>\n",
       "  <tbody>\n",
       "    <tr>\n",
       "      <th>0</th>\n",
       "      <td>107280</td>\n",
       "      <td>0.1</td>\n",
       "      <td>0.990821</td>\n",
       "      <td>0.000000</td>\n",
       "      <td>0.000000</td>\n",
       "    </tr>\n",
       "    <tr>\n",
       "      <th>1</th>\n",
       "      <td>120690</td>\n",
       "      <td>0.2</td>\n",
       "      <td>0.991037</td>\n",
       "      <td>0.005333</td>\n",
       "      <td>0.004101</td>\n",
       "    </tr>\n",
       "    <tr>\n",
       "      <th>2</th>\n",
       "      <td>137931</td>\n",
       "      <td>0.3</td>\n",
       "      <td>0.947161</td>\n",
       "      <td>0.043497</td>\n",
       "      <td>0.190179</td>\n",
       "    </tr>\n",
       "    <tr>\n",
       "      <th>3</th>\n",
       "      <td>160920</td>\n",
       "      <td>0.4</td>\n",
       "      <td>0.901627</td>\n",
       "      <td>0.037612</td>\n",
       "      <td>0.283419</td>\n",
       "    </tr>\n",
       "    <tr>\n",
       "      <th>4</th>\n",
       "      <td>193104</td>\n",
       "      <td>0.5</td>\n",
       "      <td>0.576447</td>\n",
       "      <td>0.019687</td>\n",
       "      <td>0.423265</td>\n",
       "    </tr>\n",
       "    <tr>\n",
       "      <th>5</th>\n",
       "      <td>241379</td>\n",
       "      <td>0.6</td>\n",
       "      <td>0.376553</td>\n",
       "      <td>0.017048</td>\n",
       "      <td>0.448658</td>\n",
       "    </tr>\n",
       "    <tr>\n",
       "      <th>6</th>\n",
       "      <td>321839</td>\n",
       "      <td>0.7</td>\n",
       "      <td>0.253238</td>\n",
       "      <td>0.014960</td>\n",
       "      <td>0.427130</td>\n",
       "    </tr>\n",
       "    <tr>\n",
       "      <th>7</th>\n",
       "      <td>482760</td>\n",
       "      <td>0.8</td>\n",
       "      <td>0.111589</td>\n",
       "      <td>0.012869</td>\n",
       "      <td>0.394442</td>\n",
       "    </tr>\n",
       "    <tr>\n",
       "      <th>8</th>\n",
       "      <td>965520</td>\n",
       "      <td>0.9</td>\n",
       "      <td>0.015571</td>\n",
       "      <td>0.011819</td>\n",
       "      <td>0.376556</td>\n",
       "    </tr>\n",
       "  </tbody>\n",
       "</table>\n",
       "</div>"
      ],
      "text/plain": [
       "   number_records  target_percentage  Accuracy  F1 Score  FBeta Score\n",
       "0          107280                0.1  0.990821  0.000000     0.000000\n",
       "1          120690                0.2  0.991037  0.005333     0.004101\n",
       "2          137931                0.3  0.947161  0.043497     0.190179\n",
       "3          160920                0.4  0.901627  0.037612     0.283419\n",
       "4          193104                0.5  0.576447  0.019687     0.423265\n",
       "5          241379                0.6  0.376553  0.017048     0.448658\n",
       "6          321839                0.7  0.253238  0.014960     0.427130\n",
       "7          482760                0.8  0.111589  0.012869     0.394442\n",
       "8          965520                0.9  0.015571  0.011819     0.376556"
      ]
     },
     "execution_count": 425,
     "metadata": {},
     "output_type": "execute_result"
    }
   ],
   "source": [
    "#Train DecisionTreeClassifier and metrics\n",
    "logreg = LogisticRegression(solver='liblinear')\n",
    "eval_logreg = []\n",
    "\n",
    "for target_percentage in [0.1, 0.2, 0.3, 0.4, 0.5, 0.6, 0.7, 0.8, 0.9]:\n",
    "    #indices_for_train = GetInidicesUnderSampling(Y_train, target_percentage)\n",
    "    X_over_sample, Y_over_sample = OverSampling(X_train, Y_train, target_percentage)\n",
    "    logreg.fit(X_over_sample, Y_over_sample)\n",
    "    Y_pred = logreg.predict(X_validation)\n",
    "    eval_logreg.append([len(Y_over_sample),\n",
    "                 target_percentage,\n",
    "                 accuracy_score(Y_validation, Y_pred), \n",
    "                 f1_score(Y_validation, Y_pred), \n",
    "                 fbeta_score(Y_validation, Y_pred, beta=10)])\n",
    "\n",
    "eval_logreg = pd.DataFrame(eval_logreg, columns=['number_records','target_percentage', 'Accuracy', 'F1 Score', 'FBeta Score'])\n",
    "eval_logreg"
   ]
  },
  {
   "cell_type": "code",
   "execution_count": 426,
   "metadata": {},
   "outputs": [
    {
     "data": {
      "text/plain": [
       "<matplotlib.axes._subplots.AxesSubplot at 0x17108d5efd0>"
      ]
     },
     "execution_count": 426,
     "metadata": {},
     "output_type": "execute_result"
    },
    {
     "data": {
      "image/png": "[encoded data removed]",
      "text/plain": [
       "<Figure size 432x288 with 1 Axes>"
      ]
     },
     "metadata": {
      "needs_background": "light"
     },
     "output_type": "display_data"
    }
   ],
   "source": [
    "sns.lineplot(x=\"target_percentage\", y=\"Accuracy\", data=eval_DTC)\n",
    "sns.lineplot(x=\"target_percentage\", y=\"Accuracy\", data=eval_logreg)"
   ]
  },
  {
   "cell_type": "code",
   "execution_count": 427,
   "metadata": {},
   "outputs": [
    {
     "data": {
      "text/plain": [
       "<matplotlib.axes._subplots.AxesSubplot at 0x171083cb908>"
      ]
     },
     "execution_count": 427,
     "metadata": {},
     "output_type": "execute_result"
    },
    {
     "data": {
      "image/png": "[encoded data removed]",
      "text/plain": [
       "<Figure size 432x288 with 1 Axes>"
      ]
     },
     "metadata": {
      "needs_background": "light"
     },
     "output_type": "display_data"
    }
   ],
   "source": [
    "sns.lineplot(x=\"target_percentage\", y=\"F1 Score\", data=eval_DTC)\n",
    "sns.lineplot(x=\"target_percentage\", y=\"F1 Score\", data=eval_logreg)"
   ]
  },
  {
   "cell_type": "code",
   "execution_count": 428,
   "metadata": {},
   "outputs": [
    {
     "data": {
      "text/plain": [
       "<matplotlib.axes._subplots.AxesSubplot at 0x17108391eb8>"
      ]
     },
     "execution_count": 428,
     "metadata": {},
     "output_type": "execute_result"
    },
    {
     "data": {
      "image/png": "[encoded data removed]",
      "text/plain": [
       "<Figure size 432x288 with 1 Axes>"
      ]
     },
     "metadata": {
      "needs_background": "light"
     },
     "output_type": "display_data"
    }
   ],
   "source": [
    "sns.lineplot(x=\"target_percentage\", y=\"FBeta Score\", data=eval_DTC)\n",
    "sns.lineplot(x=\"target_percentage\", y=\"FBeta Score\", data=eval_logreg)"
   ]
  },
  {
   "cell_type": "markdown",
   "metadata": {},
   "source": [
    "Se observa que el arbol de decisión se ve poco afectado por el over sampling dado que sus medidas de error se mantienen constantes, por el contrario la regresión logística tiene una alta variación en el accuracy, con un F1 y FBeta Score que se estabilizan desde el 50%.\n",
    "\n",
    "Por lo cual el balance para cada uno de los modelos debería ser:\n",
    "\n",
    "- DecisionTreeClassifier: 20%\n",
    "- LogisticRegression: 50%\n"
   ]
  },
  {
   "cell_type": "markdown",
   "metadata": {},
   "source": [
    "# Exercise 15.4 (3 points)\n",
    "\n",
    "Evaluate the results using SMOTE\n",
    "\n",
    "Which parameters did you choose?"
   ]
  },
  {
   "cell_type": "code",
   "execution_count": 436,
   "metadata": {},
   "outputs": [],
   "source": [
    "from sklearn.decomposition import PCA\n",
    "# Instanciate a PCA object for the sake of easy visualisation\n",
    "pca = PCA(n_components = 2)\n",
    "\n",
    "# Fit and transform x to visualise inside a 2D feature space\n",
    "x_vis = pca.fit_transform(X)\n",
    "\n",
    "# Number of nearest neighbours to used to construct synthetic samples.\n",
    "k = 5\n",
    "\n",
    "from sklearn.neighbors import NearestNeighbors\n",
    "nearest_neighbour_ = NearestNeighbors(n_neighbors=k + 1)\n",
    "\n",
    "# Look for k-th nearest neighbours, excluding, of course, the\n",
    "# point itself.#\n",
    "x_vis = pca.fit_transform(X)\n",
    "nearest_neighbour_.fit(x_vis[Y_train==1])"
   ]
  },
  {
   "cell_type": "code",
   "execution_count": 449,
   "metadata": {},
   "outputs": [],
   "source": [
    "def SMOTE(X, y, target_percentage=0.5, k=5, seed=None):\n",
    "   \n",
    "    # Calculate the NearestNeighbors\n",
    "    from sklearn.neighbors import NearestNeighbors\n",
    "    nearest_neighbour_ = NearestNeighbors(n_neighbors=k + 1)\n",
    "    nearest_neighbour_.fit(X[y==1])\n",
    "    nns = nearest_neighbour_.kneighbors(X[y==1], return_distance=False)[:, 1:]\n",
    "    \n",
    "    n_samples = y.shape[0]\n",
    "    n_samples_0 = (y == 0).sum()\n",
    "    n_samples_1 = (y == 1).sum()\n",
    "    \n",
    "    # New samples\n",
    "    n_samples_1_new =  int(-target_percentage * n_samples_0 / (target_percentage- 1) - n_samples_1)\n",
    "    \n",
    "    # A matrix to store the synthetic samples\n",
    "    new = np.zeros((n_samples_1_new, X.shape[1]))\n",
    "    \n",
    "    # Create seeds\n",
    "    np.random.seed(seed)\n",
    "    seeds = np.random.randint(1, 1000000, 3)\n",
    "    \n",
    "    # Select examples to use as base\n",
    "    np.random.seed(seeds[0])\n",
    "    sel_ = np.random.choice(y[y==1].shape[0], n_samples_1_new)\n",
    "    \n",
    "    # Define random seeds (2 per example)\n",
    "    np.random.seed(seeds[1])\n",
    "    nn__=[]\n",
    "    # Select one random neighbor for each example to use as base\n",
    "    for i, sel in enumerate(sel_):\n",
    "        nn__.append(np.random.choice(nns[sel]))\n",
    "    \n",
    "    np.random.seed(seeds[2])\n",
    "    steps = np.random.uniform(size=n_samples_1_new)  \n",
    "\n",
    "    # For each selected examples create one synthetic case\n",
    "    for i, sel in enumerate(sel_):\n",
    "        # Select neighbor\n",
    "        nn_ = nn__[i]\n",
    "        step = steps[i]\n",
    "        # Create new sample\n",
    "        new[i, :] = X[y==1][sel] - step * (X[y==1][sel] - X[y==1][nn_])\n",
    "    \n",
    "    X = np.vstack((X, new))\n",
    "    y = np.append(y, np.ones(n_samples_1_new))\n",
    "    \n",
    "    return X, y"
   ]
  },
  {
   "cell_type": "code",
   "execution_count": 451,
   "metadata": {},
   "outputs": [],
   "source": [
    "X_over_sample, Y_over_sample = SMOTE(X_train.values, Y_train, target_percentage)"
   ]
  },
  {
   "cell_type": "markdown",
   "metadata": {},
   "source": [
    "### DecisionTreeClassifier SMOTE"
   ]
  },
  {
   "cell_type": "code",
   "execution_count": 453,
   "metadata": {},
   "outputs": [
    {
     "data": {
      "text/html": [
       "<div>\n",
       "<style scoped>\n",
       "    .dataframe tbody tr th:only-of-type {\n",
       "        vertical-align: middle;\n",
       "    }\n",
       "\n",
       "    .dataframe tbody tr th {\n",
       "        vertical-align: top;\n",
       "    }\n",
       "\n",
       "    .dataframe thead th {\n",
       "        text-align: right;\n",
       "    }\n",
       "</style>\n",
       "<table border=\"1\" class=\"dataframe\">\n",
       "  <thead>\n",
       "    <tr style=\"text-align: right;\">\n",
       "      <th></th>\n",
       "      <th>number_records</th>\n",
       "      <th>target_percentage</th>\n",
       "      <th>Accuracy</th>\n",
       "      <th>F1 Score</th>\n",
       "      <th>FBeta Score</th>\n",
       "    </tr>\n",
       "  </thead>\n",
       "  <tbody>\n",
       "    <tr>\n",
       "      <th>0</th>\n",
       "      <td>120690</td>\n",
       "      <td>0.2</td>\n",
       "      <td>0.984213</td>\n",
       "      <td>0.096286</td>\n",
       "      <td>0.141502</td>\n",
       "    </tr>\n",
       "    <tr>\n",
       "      <th>1</th>\n",
       "      <td>160920</td>\n",
       "      <td>0.4</td>\n",
       "      <td>0.984814</td>\n",
       "      <td>0.109859</td>\n",
       "      <td>0.157781</td>\n",
       "    </tr>\n",
       "    <tr>\n",
       "      <th>2</th>\n",
       "      <td>193104</td>\n",
       "      <td>0.5</td>\n",
       "      <td>0.985174</td>\n",
       "      <td>0.096633</td>\n",
       "      <td>0.133651</td>\n",
       "    </tr>\n",
       "    <tr>\n",
       "      <th>3</th>\n",
       "      <td>241379</td>\n",
       "      <td>0.6</td>\n",
       "      <td>0.982795</td>\n",
       "      <td>0.107232</td>\n",
       "      <td>0.173325</td>\n",
       "    </tr>\n",
       "    <tr>\n",
       "      <th>4</th>\n",
       "      <td>482760</td>\n",
       "      <td>0.8</td>\n",
       "      <td>0.982579</td>\n",
       "      <td>0.074074</td>\n",
       "      <td>0.116982</td>\n",
       "    </tr>\n",
       "  </tbody>\n",
       "</table>\n",
       "</div>"
      ],
      "text/plain": [
       "   number_records  target_percentage  Accuracy  F1 Score  FBeta Score\n",
       "0          120690                0.2  0.984213  0.096286     0.141502\n",
       "1          160920                0.4  0.984814  0.109859     0.157781\n",
       "2          193104                0.5  0.985174  0.096633     0.133651\n",
       "3          241379                0.6  0.982795  0.107232     0.173325\n",
       "4          482760                0.8  0.982579  0.074074     0.116982"
      ]
     },
     "execution_count": 453,
     "metadata": {},
     "output_type": "execute_result"
    }
   ],
   "source": [
    "#Train DecisionTreeClassifier and metrics\n",
    "regTree = DecisionTreeClassifier()\n",
    "eval_DTC = []\n",
    "\n",
    "for target_percentage in [0.2, 0.4, 0.5, 0.6, 0.8]:\n",
    "    X_over_sample, Y_over_sample = SMOTE(X_train.values, Y_train, target_percentage)\n",
    "    regTree.fit(X_over_sample, Y_over_sample)\n",
    "    Y_pred = regTree.predict(X_validation)\n",
    "    eval_DTC.append([len(Y_over_sample),\n",
    "                 target_percentage,\n",
    "                 accuracy_score(Y_validation, Y_pred), \n",
    "                 f1_score(Y_validation, Y_pred), \n",
    "                 fbeta_score(Y_validation, Y_pred, beta=10)])\n",
    "\n",
    "eval_DTC = pd.DataFrame(eval_DTC, columns=['number_records','target_percentage', 'Accuracy', 'F1 Score', 'FBeta Score'])\n",
    "eval_DTC"
   ]
  },
  {
   "cell_type": "markdown",
   "metadata": {},
   "source": [
    "### LogisticRegression SMOTE"
   ]
  },
  {
   "cell_type": "code",
   "execution_count": null,
   "metadata": {},
   "outputs": [
    {
     "name": "stderr",
     "output_type": "stream",
     "text": [
      "C:\\Users\\ivandario.gomez\\AppData\\Local\\Continuum\\anaconda3\\lib\\site-packages\\sklearn\\svm\\base.py:922: ConvergenceWarning: Liblinear failed to converge, increase the number of iterations.\n",
      "  \"the number of iterations.\", ConvergenceWarning)\n",
      "C:\\Users\\ivandario.gomez\\AppData\\Local\\Continuum\\anaconda3\\lib\\site-packages\\sklearn\\metrics\\classification.py:1143: UndefinedMetricWarning: F-score is ill-defined and being set to 0.0 due to no predicted samples.\n",
      "  'precision', 'predicted', average, warn_for)\n",
      "C:\\Users\\ivandario.gomez\\AppData\\Local\\Continuum\\anaconda3\\lib\\site-packages\\sklearn\\metrics\\classification.py:1143: UndefinedMetricWarning: F-score is ill-defined and being set to 0.0 due to no predicted samples.\n",
      "  'precision', 'predicted', average, warn_for)\n",
      "C:\\Users\\ivandario.gomez\\AppData\\Local\\Continuum\\anaconda3\\lib\\site-packages\\sklearn\\svm\\base.py:922: ConvergenceWarning: Liblinear failed to converge, increase the number of iterations.\n",
      "  \"the number of iterations.\", ConvergenceWarning)\n"
     ]
    }
   ],
   "source": [
    "#Train DecisionTreeClassifier and metrics\n",
    "logreg = LogisticRegression(solver='liblinear')\n",
    "eval_logreg = []\n",
    "\n",
    "for target_percentage in [0.1, 0.2, 0.3, 0.4, 0.5, 0.6, 0.7, 0.8, 0.9]:\n",
    "    #indices_for_train = GetInidicesUnderSampling(Y_train, target_percentage)\n",
    "    X_over_sample, Y_over_sample = SMOTE(X_train.values, Y_train, target_percentage)\n",
    "    logreg.fit(X_over_sample, Y_over_sample)\n",
    "    Y_pred = logreg.predict(X_validation)\n",
    "    eval_logreg.append([len(Y_over_sample),\n",
    "                 target_percentage,\n",
    "                 accuracy_score(Y_validation, Y_pred), \n",
    "                 f1_score(Y_validation, Y_pred), \n",
    "                 fbeta_score(Y_validation, Y_pred, beta=10)])\n",
    "\n",
    "eval_logreg = pd.DataFrame(eval_logreg, columns=['number_records','target_percentage', 'Accuracy', 'F1 Score', 'FBeta Score'])\n",
    "eval_logreg"
   ]
  },
  {
   "cell_type": "code",
   "execution_count": 426,
   "metadata": {},
   "outputs": [
    {
     "data": {
      "text/plain": [
       "<matplotlib.axes._subplots.AxesSubplot at 0x17108d5efd0>"
      ]
     },
     "execution_count": 426,
     "metadata": {},
     "output_type": "execute_result"
    },
    {
     "data": {
      "image/png": "[encoded data removed]",
      "text/plain": [
       "<Figure size 432x288 with 1 Axes>"
      ]
     },
     "metadata": {
      "needs_background": "light"
     },
     "output_type": "display_data"
    }
   ],
   "source": [
    "sns.lineplot(x=\"target_percentage\", y=\"Accuracy\", data=eval_DTC)\n",
    "sns.lineplot(x=\"target_percentage\", y=\"Accuracy\", data=eval_logreg)"
   ]
  },
  {
   "cell_type": "code",
   "execution_count": 427,
   "metadata": {},
   "outputs": [
    {
     "data": {
      "text/plain": [
       "<matplotlib.axes._subplots.AxesSubplot at 0x171083cb908>"
      ]
     },
     "execution_count": 427,
     "metadata": {},
     "output_type": "execute_result"
    },
    {
     "data": {
      "image/png": "[encoded data removed]",
      "text/plain": [
       "<Figure size 432x288 with 1 Axes>"
      ]
     },
     "metadata": {
      "needs_background": "light"
     },
     "output_type": "display_data"
    }
   ],
   "source": [
    "sns.lineplot(x=\"target_percentage\", y=\"F1 Score\", data=eval_DTC)\n",
    "sns.lineplot(x=\"target_percentage\", y=\"F1 Score\", data=eval_logreg)"
   ]
  },
  {
   "cell_type": "code",
   "execution_count": 428,
   "metadata": {},
   "outputs": [
    {
     "data": {
      "text/plain": [
       "<matplotlib.axes._subplots.AxesSubplot at 0x17108391eb8>"
      ]
     },
     "execution_count": 428,
     "metadata": {},
     "output_type": "execute_result"
    },
    {
     "data": {
      "image/png": "[encoded data removed]",
      "text/plain": [
       "<Figure size 432x288 with 1 Axes>"
      ]
     },
     "metadata": {
      "needs_background": "light"
     },
     "output_type": "display_data"
    }
   ],
   "source": [
    "sns.lineplot(x=\"target_percentage\", y=\"FBeta Score\", data=eval_DTC)\n",
    "sns.lineplot(x=\"target_percentage\", y=\"FBeta Score\", data=eval_logreg)"
   ]
  },
  {
   "cell_type": "markdown",
   "metadata": {},
   "source": [
    "Se observa que el arbol de decisión se ve poco afectado por el over sampling dado que sus medidas de error se mantienen constantes, por el contrario la regresión logística tiene una alta variación en el accuracy, con un F1 y FBeta Score que se estabilizan desde el 50%.\n",
    "\n",
    "Por lo cual el balance para cada uno de los modelos debería ser:\n",
    "\n",
    "- DecisionTreeClassifier: 20%\n",
    "- LogisticRegression: 50%\n"
   ]
  },
  {
   "cell_type": "markdown",
   "metadata": {},
   "source": [
    "# Exercise 15.5 (3 points)\n",
    "\n",
    "Evaluate the results using Adaptive Synthetic Sampling Approach for Imbalanced\n",
    "Learning (ADASYN)\n",
    "\n",
    "http://www.ele.uri.edu/faculty/he/PDFfiles/adasyn.pdf\n",
    "https://imbalanced-learn.readthedocs.io/en/stable/generated/imblearn.over_sampling.ADASYN.html#rf9172e970ca5-1"
   ]
  },
  {
   "cell_type": "code",
   "execution_count": null,
   "metadata": {},
   "outputs": [],
   "source": [
    "#import library and sample the train dataset\n",
    "from collections import Counter\n",
    "from imblearn.over_sampling import ADASYN \n",
    "ada = ADASYN(random_state=42)\n",
    "X_ada, y_ada = ada.fit_resample(X_train, Y_train)\n",
    "print('Resampled dataset shape %s' % Counter(y_train))"
   ]
  },
  {
   "cell_type": "markdown",
   "metadata": {},
   "source": [
    "### DecisionTreeClassifier SMOTE"
   ]
  },
  {
   "cell_type": "code",
   "execution_count": null,
   "metadata": {},
   "outputs": [],
   "source": [
    "#Train DecisionTreeClassifier\n",
    "regTreeADASYN = DecisionTreeClassifier()\n",
    "regTreeADASYN.fit(X_ada, y_ada)\n",
    "Y_pred = regTreeADASYN.predict(X_validation)\n",
    "\n",
    "eval_models.append([\"DecisionTreeClassifier\",\n",
    "             len(Y_over_sample),\n",
    "             target_percentage,\n",
    "             accuracy_score(Y_validation, Y_pred), \n",
    "             f1_score(Y_validation, Y_pred), \n",
    "             fbeta_score(Y_validation, Y_pred, beta=10)])\n",
    "\n",
    "eval_models = pd.DataFrame(eval_DTC, columns=['number_records','target_percentage', 'Accuracy', 'F1 Score', 'FBeta Score'])\n",
    "eval_models"
   ]
  },
  {
   "cell_type": "markdown",
   "metadata": {},
   "source": [
    "### LogisticRegression SMOTE"
   ]
  },
  {
   "cell_type": "code",
   "execution_count": null,
   "metadata": {},
   "outputs": [],
   "source": [
    "#Train DecisionTreeClassifier and metrics\n",
    "logregADASYN = LogisticRegression(solver='liblinear')\n",
    "\n",
    "logregADASYN.fit(X_ada, y_ada)\n",
    "Y_pred = logregADASYN.predict(X_validation)\n",
    "\n",
    "eval_models.append([\"DecisionTreeClassifier\",\n",
    "             len(Y_over_sample),\n",
    "             target_percentage,\n",
    "             accuracy_score(Y_validation, Y_pred), \n",
    "             f1_score(Y_validation, Y_pred), \n",
    "             fbeta_score(Y_validation, Y_pred, beta=10)])\n",
    "\n",
    "eval_models = pd.DataFrame(eval_DTC, columns=['number_records','target_percentage', 'Accuracy', 'F1 Score', 'FBeta Score'])\n",
    "eval_models"
   ]
  },
  {
   "cell_type": "markdown",
   "metadata": {},
   "source": [
    "# Exercise 15.6 (3 points)\n",
    "\n",
    "Compare and comment about the results"
   ]
  },
  {
   "cell_type": "markdown",
   "metadata": {
    "collapsed": true
   },
   "source": [
    "Con base en el punto 15.2 y 15.3 se puede concluir que el arbol necesita un menor balanceo que un mondelo lineal como la requesión logística\n"
   ]
  }
 ],
 "metadata": {
  "kernelspec": {
   "display_name": "Python 3",
   "language": "python",
   "name": "python3"
  },
  "language_info": {
   "codemirror_mode": {
    "name": "ipython",
    "version": 3
   },
   "file_extension": ".py",
   "mimetype": "text/x-python",
   "name": "python",
   "nbconvert_exporter": "python",
   "pygments_lexer": "ipython3",
   "version": "3.7.1"
  }
 },
 "nbformat": 4,
 "nbformat_minor": 1
}
