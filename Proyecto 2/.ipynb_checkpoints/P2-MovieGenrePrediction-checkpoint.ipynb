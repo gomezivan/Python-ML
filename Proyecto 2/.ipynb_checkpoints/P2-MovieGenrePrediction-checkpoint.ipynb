{
 "cells": [
  {
   "cell_type": "markdown",
   "metadata": {},
   "source": [
    "# Project 2\n",
    "\n",
    "\n",
    "# Movie Genre Classification\n",
    "\n",
    "Classify a movie genre based on its plot.\n",
    "\n",
    "<img src=\"moviegenre.png\"\n",
    "     style=\"float: left; margin-right: 10px;\" />\n",
    "\n",
    "\n",
    "\n",
    "\n",
    "https://www.kaggle.com/c/miia4200-20191-p2-moviegenreclassification/overview\n",
    "\n",
    "\n",
    "### Data\n",
    "\n",
    "Input:\n",
    "- movie plot\n",
    "\n",
    "Output:\n",
    "Probability of the movie belong to each genre\n",
    "\n",
    "\n",
    "### Evaluation\n",
    "\n",
    "- 20% API\n",
    "- 30% Create a solution using with a Machine Learning algorithm - Presentation (5 slides)\n",
    "- 50% Performance in the Kaggle competition (Normalized acording to class performance in the private leaderboard)\n",
    "\n",
    "\n",
    "### Acknowledgements\n",
    "\n",
    "We thank Professor Fabio Gonzalez, Ph.D. and his student John Arevalo for providing this dataset.\n",
    "\n",
    "See https://arxiv.org/abs/1702.01992"
   ]
  },
  {
   "cell_type": "markdown",
   "metadata": {},
   "source": [
    "## Sample Submission"
   ]
  },
  {
   "cell_type": "code",
   "execution_count": 22,
   "metadata": {},
   "outputs": [],
   "source": [
    "import pandas as pd\n",
    "import os\n",
    "import numpy as np\n",
    "import category_encoders as ce\n",
    "from sklearn.feature_extraction.text import CountVectorizer\n",
    "from sklearn.feature_extraction.text import TfidfVectorizer  \n",
    "from sklearn.preprocessing import MultiLabelBinarizer\n",
    "from sklearn.multiclass import OneVsRestClassifier\n",
    "from sklearn.ensemble import RandomForestRegressor, RandomForestClassifier\n",
    "from sklearn.metrics import r2_score, roc_auc_score\n",
    "from sklearn.model_selection import train_test_split, cross_val_score\n",
    "import matplotlib.pyplot as plt\n",
    "import xgboost as xgb\n",
    "from nltk.stem import WordNetLemmatizer\n",
    "from nltk.stem.snowball import SnowballStemmer\n",
    "from sklearn.externals import joblib\n",
    "import nltk\n",
    "import re  "
   ]
  },
  {
   "cell_type": "code",
   "execution_count": 2,
   "metadata": {},
   "outputs": [],
   "source": [
    "dataTraining = pd.read_csv('https://github.com/albahnsen/PracticalMachineLearningClass/raw/master/datasets/dataTraining.zip', encoding='UTF-8', index_col=0)\n",
    "dataTesting = pd.read_csv('https://github.com/albahnsen/PracticalMachineLearningClass/raw/master/datasets/dataTesting.zip', encoding='UTF-8', index_col=0)"
   ]
  },
  {
   "cell_type": "code",
   "execution_count": 3,
   "metadata": {},
   "outputs": [],
   "source": [
    "dataTraining.to_csv('dataTraining.csv')"
   ]
  },
  {
   "cell_type": "code",
   "execution_count": 4,
   "metadata": {},
   "outputs": [
    {
     "data": {
      "text/html": [
       "<div>\n",
       "<style scoped>\n",
       "    .dataframe tbody tr th:only-of-type {\n",
       "        vertical-align: middle;\n",
       "    }\n",
       "\n",
       "    .dataframe tbody tr th {\n",
       "        vertical-align: top;\n",
       "    }\n",
       "\n",
       "    .dataframe thead th {\n",
       "        text-align: right;\n",
       "    }\n",
       "</style>\n",
       "<table border=\"1\" class=\"dataframe\">\n",
       "  <thead>\n",
       "    <tr style=\"text-align: right;\">\n",
       "      <th></th>\n",
       "      <th>year</th>\n",
       "      <th>title</th>\n",
       "      <th>plot</th>\n",
       "      <th>genres</th>\n",
       "      <th>rating</th>\n",
       "    </tr>\n",
       "  </thead>\n",
       "  <tbody>\n",
       "    <tr>\n",
       "      <th>3107</th>\n",
       "      <td>2003</td>\n",
       "      <td>Most</td>\n",
       "      <td>most is the story of a single father who takes...</td>\n",
       "      <td>['Short', 'Drama']</td>\n",
       "      <td>8.0</td>\n",
       "    </tr>\n",
       "    <tr>\n",
       "      <th>900</th>\n",
       "      <td>2008</td>\n",
       "      <td>How to Be a Serial Killer</td>\n",
       "      <td>a serial killer decides to teach the secrets o...</td>\n",
       "      <td>['Comedy', 'Crime', 'Horror']</td>\n",
       "      <td>5.6</td>\n",
       "    </tr>\n",
       "    <tr>\n",
       "      <th>6724</th>\n",
       "      <td>1941</td>\n",
       "      <td>A Woman's Face</td>\n",
       "      <td>in sweden ,  a female blackmailer with a disfi...</td>\n",
       "      <td>['Drama', 'Film-Noir', 'Thriller']</td>\n",
       "      <td>7.2</td>\n",
       "    </tr>\n",
       "    <tr>\n",
       "      <th>4704</th>\n",
       "      <td>1954</td>\n",
       "      <td>Executive Suite</td>\n",
       "      <td>in a friday afternoon in new york ,  the presi...</td>\n",
       "      <td>['Drama']</td>\n",
       "      <td>7.4</td>\n",
       "    </tr>\n",
       "    <tr>\n",
       "      <th>2582</th>\n",
       "      <td>1990</td>\n",
       "      <td>Narrow Margin</td>\n",
       "      <td>in los angeles ,  the editor of a publishing h...</td>\n",
       "      <td>['Action', 'Crime', 'Thriller']</td>\n",
       "      <td>6.6</td>\n",
       "    </tr>\n",
       "  </tbody>\n",
       "</table>\n",
       "</div>"
      ],
      "text/plain": [
       "      year                      title  \\\n",
       "3107  2003                       Most   \n",
       "900   2008  How to Be a Serial Killer   \n",
       "6724  1941             A Woman's Face   \n",
       "4704  1954            Executive Suite   \n",
       "2582  1990              Narrow Margin   \n",
       "\n",
       "                                                   plot  \\\n",
       "3107  most is the story of a single father who takes...   \n",
       "900   a serial killer decides to teach the secrets o...   \n",
       "6724  in sweden ,  a female blackmailer with a disfi...   \n",
       "4704  in a friday afternoon in new york ,  the presi...   \n",
       "2582  in los angeles ,  the editor of a publishing h...   \n",
       "\n",
       "                                  genres  rating  \n",
       "3107                  ['Short', 'Drama']     8.0  \n",
       "900        ['Comedy', 'Crime', 'Horror']     5.6  \n",
       "6724  ['Drama', 'Film-Noir', 'Thriller']     7.2  \n",
       "4704                           ['Drama']     7.4  \n",
       "2582     ['Action', 'Crime', 'Thriller']     6.6  "
      ]
     },
     "execution_count": 4,
     "metadata": {},
     "output_type": "execute_result"
    }
   ],
   "source": [
    "dataTraining.head()"
   ]
  },
  {
   "cell_type": "code",
   "execution_count": 5,
   "metadata": {},
   "outputs": [
    {
     "data": {
      "text/html": [
       "<div>\n",
       "<style scoped>\n",
       "    .dataframe tbody tr th:only-of-type {\n",
       "        vertical-align: middle;\n",
       "    }\n",
       "\n",
       "    .dataframe tbody tr th {\n",
       "        vertical-align: top;\n",
       "    }\n",
       "\n",
       "    .dataframe thead th {\n",
       "        text-align: right;\n",
       "    }\n",
       "</style>\n",
       "<table border=\"1\" class=\"dataframe\">\n",
       "  <thead>\n",
       "    <tr style=\"text-align: right;\">\n",
       "      <th></th>\n",
       "      <th>year</th>\n",
       "      <th>title</th>\n",
       "      <th>plot</th>\n",
       "    </tr>\n",
       "  </thead>\n",
       "  <tbody>\n",
       "    <tr>\n",
       "      <th>1</th>\n",
       "      <td>1999</td>\n",
       "      <td>Message in a Bottle</td>\n",
       "      <td>who meets by fate ,  shall be sealed by fate ....</td>\n",
       "    </tr>\n",
       "    <tr>\n",
       "      <th>4</th>\n",
       "      <td>1978</td>\n",
       "      <td>Midnight Express</td>\n",
       "      <td>the true story of billy hayes ,  an american c...</td>\n",
       "    </tr>\n",
       "    <tr>\n",
       "      <th>5</th>\n",
       "      <td>1996</td>\n",
       "      <td>Primal Fear</td>\n",
       "      <td>martin vail left the chicago da ' s office to ...</td>\n",
       "    </tr>\n",
       "    <tr>\n",
       "      <th>6</th>\n",
       "      <td>1950</td>\n",
       "      <td>Crisis</td>\n",
       "      <td>husband and wife americans dr .  eugene and mr...</td>\n",
       "    </tr>\n",
       "    <tr>\n",
       "      <th>7</th>\n",
       "      <td>1959</td>\n",
       "      <td>The Tingler</td>\n",
       "      <td>the coroner and scientist dr .  warren chapin ...</td>\n",
       "    </tr>\n",
       "  </tbody>\n",
       "</table>\n",
       "</div>"
      ],
      "text/plain": [
       "   year                title  \\\n",
       "1  1999  Message in a Bottle   \n",
       "4  1978     Midnight Express   \n",
       "5  1996          Primal Fear   \n",
       "6  1950               Crisis   \n",
       "7  1959          The Tingler   \n",
       "\n",
       "                                                plot  \n",
       "1  who meets by fate ,  shall be sealed by fate ....  \n",
       "4  the true story of billy hayes ,  an american c...  \n",
       "5  martin vail left the chicago da ' s office to ...  \n",
       "6  husband and wife americans dr .  eugene and mr...  \n",
       "7  the coroner and scientist dr .  warren chapin ...  "
      ]
     },
     "execution_count": 5,
     "metadata": {},
     "output_type": "execute_result"
    }
   ],
   "source": [
    "dataTesting.head()"
   ]
  },
  {
   "cell_type": "markdown",
   "metadata": {},
   "source": [
    "### Create y"
   ]
  },
  {
   "cell_type": "code",
   "execution_count": 6,
   "metadata": {},
   "outputs": [
    {
     "name": "stdout",
     "output_type": "stream",
     "text": [
      "(7895, 24)\n"
     ]
    },
    {
     "data": {
      "text/plain": [
       "array([[0, 0, 0, ..., 0, 0, 0],\n",
       "       [0, 0, 0, ..., 0, 0, 0],\n",
       "       [0, 0, 0, ..., 1, 0, 0],\n",
       "       ...,\n",
       "       [0, 1, 0, ..., 0, 0, 0],\n",
       "       [0, 1, 1, ..., 0, 0, 0],\n",
       "       [0, 1, 1, ..., 0, 0, 0]])"
      ]
     },
     "execution_count": 6,
     "metadata": {},
     "output_type": "execute_result"
    }
   ],
   "source": [
    "dataTraining['genres'] = dataTraining['genres'].map(lambda x: eval(x))\n",
    "le = MultiLabelBinarizer()\n",
    "y_genres = le.fit_transform(dataTraining['genres'])\n",
    "print(y_genres.shape)\n",
    "y_genres"
   ]
  },
  {
   "cell_type": "code",
   "execution_count": 7,
   "metadata": {},
   "outputs": [
    {
     "data": {
      "text/plain": [
       "p_Action         1303\n",
       "p_Adventure      1024\n",
       "p_Animation       260\n",
       "p_Biography       373\n",
       "p_Comedy         3046\n",
       "p_Crime          1447\n",
       "p_Documentary     419\n",
       "p_Drama          3965\n",
       "p_Family          682\n",
       "p_Fantasy         707\n",
       "p_Film-Noir       168\n",
       "p_History         273\n",
       "p_Horror          954\n",
       "p_Music           341\n",
       "p_Musical         271\n",
       "p_Mystery         759\n",
       "p_News              7\n",
       "p_Romance        1892\n",
       "p_Sci-Fi          723\n",
       "p_Short            92\n",
       "p_Sport           261\n",
       "p_Thriller       2024\n",
       "p_War             348\n",
       "p_Western         237\n",
       "dtype: int64"
      ]
     },
     "execution_count": 7,
     "metadata": {},
     "output_type": "execute_result"
    },
    {
     "data": {
      "image/png": "[encoded data removed]",
      "text/plain": [
       "<Figure size 1152x288 with 1 Axes>"
      ]
     },
     "metadata": {
      "needs_background": "light"
     },
     "output_type": "display_data"
    }
   ],
   "source": [
    "cols = ['p_Action', 'p_Adventure', 'p_Animation', 'p_Biography', 'p_Comedy', 'p_Crime', 'p_Documentary', 'p_Drama', 'p_Family',\n",
    "        'p_Fantasy', 'p_Film-Noir', 'p_History', 'p_Horror', 'p_Music', 'p_Musical', 'p_Mystery', 'p_News', 'p_Romance',\n",
    "        'p_Sci-Fi', 'p_Short', 'p_Sport', 'p_Thriller', 'p_War', 'p_Western']\n",
    "\n",
    "#train_DFY = pd.concat([train_DFY, dataTraining[['year']].reset_index()], axis=1)\n",
    "# ploter = train_DFY.groupby(\"year\").sum().iloc[:,:24]\n",
    "# ploter.head()\n",
    "\n",
    "train_DFY = pd.DataFrame(y_genres, columns=cols)\n",
    "pd.Series(train_DFY.sum().plot(kind = \"bar\",figsize=(16,4),rot = 0))\n",
    "plt.xticks(rotation=90)\n",
    "train_DFY.sum()"
   ]
  },
  {
   "cell_type": "markdown",
   "metadata": {},
   "source": [
    "# Preprocessing\n",
    "### Function for clean plot and title\n"
   ]
  },
  {
   "cell_type": "code",
   "execution_count": 10,
   "metadata": {},
   "outputs": [
    {
     "name": "stdout",
     "output_type": "stream",
     "text": [
      "a serial killer decides to teach the secrets of his satisfying career to a video store clerk .\n"
     ]
    },
    {
     "data": {
      "text/plain": [
       "'serial killer decid teach secret satisfi career video store clerk'"
      ]
     },
     "execution_count": 10,
     "metadata": {},
     "output_type": "execute_result"
    }
   ],
   "source": [
    "# This function transform the text in order get ready data, remove stop words, stimming, Lemmatisation and n_grams\n",
    "# This function is call by the count vectorizer\n",
    "def text_clean(text, remove_stop_words=True):\n",
    "    wordnet_lemmatizer = WordNetLemmatizer()\n",
    "    stemmer = SnowballStemmer('english')\n",
    "    document = text\n",
    "    \n",
    "    # Remove all the special characters\n",
    "    document = re.sub(r'\\W', ' ', document)\n",
    "\n",
    "    # remove all single characters\n",
    "    document = re.sub(r'\\s+[a-zA-Z]\\s+', ' ', document)\n",
    "\n",
    "    # Remove single characters from the start\n",
    "    document = re.sub(r'\\^[a-zA-Z]\\s+', ' ', document) \n",
    "\n",
    "    # Substituting multiple spaces with single space\n",
    "    document = re.sub(r'\\s+', ' ', document, flags=re.I)\n",
    "\n",
    "    # Removing prefixed 'b'\n",
    "    document = re.sub(r'^b\\s+', '', document)\n",
    "    \n",
    "    #Removing punctuation\n",
    "    document = re.sub(r'[^\\w\\s]', '', document)\n",
    "\n",
    "    #LowerCase    \n",
    "    document = document.lower()\n",
    "    \n",
    "    #Split document word a word\n",
    "    words_document = text.split()\n",
    "    \n",
    "    #Remove clean_words\n",
    "    words_document = [word for word in words_document if word not in waste_words]\n",
    "    #Remove stop words\n",
    "    if remove_stop_words:\n",
    "        words_document = [word for word in words_document if word not in custom_stopwords]\n",
    "    \n",
    "    #stimming\n",
    "    words_document = [stemmer.stem(word) for word in words_document]\n",
    "    \n",
    "    #Lemmatisation\n",
    "    words_document = [wordnet_lemmatizer.lemmatize(word) for word in words_document]\n",
    "    words_document = [wordnet_lemmatizer.lemmatize(word, pos='v') for word in words_document]\n",
    "           \n",
    "    return ' '.join(words_document)\n",
    "\n",
    "\n",
    "# The next lines are just for test the function\n",
    "var = dataTraining.iloc[1,2]\n",
    "#var = dataTraining.iloc[1,2] + \" \"+ dataTraining.iloc[1,1] + \" \"+str(dataTraining.iloc[1,0])\n",
    "print(var)\n",
    "text_clean(var, remove_stop_words=True)"
   ]
  },
  {
   "cell_type": "code",
   "execution_count": 11,
   "metadata": {},
   "outputs": [],
   "source": [
    "#Pre - process plot texts\n",
    "plot_clean = []\n",
    "for text in dataTraining[\"plot\"]:\n",
    "    plot_clean.append(text_clean(text))\n",
    "    \n",
    "#Pre - process title texts\n",
    "title_clean = []\n",
    "for text in dataTraining[\"title\"]:\n",
    "    title_clean.append(text_clean(text, remove_stop_words=False))"
   ]
  },
  {
   "cell_type": "markdown",
   "metadata": {},
   "source": [
    "# Build the features\n",
    "### Create count vectorizer function"
   ]
  },
  {
   "cell_type": "code",
   "execution_count": 24,
   "metadata": {},
   "outputs": [],
   "source": [
    "YearBinaryEnco = ce.BinaryEncoder()\n",
    "tfidf_plot = TfidfVectorizer()\n",
    "tfidf_title = TfidfVectorizer()\n",
    "vect_plot = CountVectorizer()\n",
    "vect_title = CountVectorizer()\n",
    "\n",
    "def create_XFeatures(plot_clean, title_clean, year, indexer, useCount=True, fit=True): \n",
    "    \n",
    "    #year BinaryEncoder\n",
    "    dataTraining.year = dataTraining.year.astype(str)\n",
    "    if fit: YearBinaryEnco.fit(year)\n",
    "    YearBinary = YearBinaryEnco.transform(year)\n",
    "    #print(\"YearBinary: \" + str(YearBinary.shape))\n",
    "    joblib.dump(YearBinaryEnco, 'YearBinaryEnco.pkl', compress=3)\n",
    "    \n",
    "\n",
    "    #TfidfVectorizer plot\n",
    "    if fit: tfidf_plot.fit(plot_clean)\n",
    "    plot_tfidf_dtm = tfidf_plot.transform(plot_clean)\n",
    "    print(\"plot_tfidf_dtm: \" + str(plot_tfidf_dtm.shape))\n",
    "    plot_feat_tfidf = pd.DataFrame(plot_tfidf_dtm.toarray(), columns=tfidf_plot.get_feature_names(), index=indexer)\n",
    "    #print(plot_feat_tfidf.head())\n",
    "    joblib.dump(tfidf_plot, 'tfidf_plot.pkl', compress=3)\n",
    "    \n",
    "    #TfidfVectorizer title\n",
    "    if fit: tfidf_title.fit(title_clean)\n",
    "    title_tfidf_dtm = tfidf_title.transform(title_clean)\n",
    "    print(\"title_tfidf_dtm: \" + str(title_tfidf_dtm.shape))\n",
    "    title_feat_tfidf = pd.DataFrame(title_tfidf_dtm.toarray(), columns=tfidf_title.get_feature_names(), index=indexer)\n",
    "    #print(title_feat_tfidf.head())\n",
    "    joblib.dump(tfidf_title, 'tfidf_title.pkl', compress=3)\n",
    "    \n",
    "    if useCount:\n",
    "        #CountVectorizer plot\n",
    "        if fit: vect_plot.fit(plot_clean)\n",
    "        plot_dtm = vect_plot.transform(plot_clean)\n",
    "        print(\"plot_dtm: \" + str(plot_dtm.shape))\n",
    "        plot_features = pd.DataFrame(plot_dtm.toarray(), columns=vect_plot.get_feature_names(), index=indexer)\n",
    "        #print(plot_features.head())\n",
    "        \n",
    "        #CountVectorizer title\n",
    "        if fit: vect_title.fit(title_clean)\n",
    "        title_dtm = vect_title.transform(title_clean)\n",
    "        print(\"title_dtm: \" + str(title_dtm.shape))\n",
    "        title_features = pd.DataFrame(title_dtm.toarray(), columns=vect_title.get_feature_names(), index=indexer)\n",
    "        #print(title_features.head())\n",
    "        \n",
    "        #concat all vectors\n",
    "        return pd.concat([plot_feat_tfidf.add_suffix('_1'), \n",
    "                          title_feat_tfidf.add_suffix('_2'), \n",
    "                          plot_features.add_suffix('_3'), \n",
    "                          title_features.add_suffix('_4'),\n",
    "                          YearBinary], axis=1)\n",
    "        \n",
    "    return pd.concat([plot_feat_tfidf.add_suffix('_1'), \n",
    "                      title_feat_tfidf.add_suffix('_2'), \n",
    "                      YearBinary], axis=1) "
   ]
  },
  {
   "cell_type": "markdown",
   "metadata": {},
   "source": [
    "### Set the vectorizer functión parameters and run "
   ]
  },
  {
   "cell_type": "code",
   "execution_count": 27,
   "metadata": {},
   "outputs": [
    {
     "name": "stdout",
     "output_type": "stream",
     "text": [
      "plot_tfidf_dtm: (7895, 8951)\n",
      "title_tfidf_dtm: (7895, 4172)\n",
      "(7895, 13131)\n"
     ]
    }
   ],
   "source": [
    "#TD-IDF Vectorizer\n",
    "tfidf_plot = TfidfVectorizer(ngram_range=(1, 3), max_features=12000,  min_df=7, max_df=0.6)\n",
    "tfidf_title = TfidfVectorizer(ngram_range=(1, 3), max_features=8000, min_df=2, max_df=0.7)\n",
    "#CountVectorizer\n",
    "vect_plot = CountVectorizer(ngram_range=(1, 3), max_features=8000,  min_df=7, max_df=0.5)\n",
    "vect_title = CountVectorizer(ngram_range=(1, 3), max_features=8000,  min_df=2, max_df=0.5)\n",
    "#Year Binary encode\n",
    "YearBinaryEnco = ce.BinaryEncoder()\n",
    "\n",
    "#Fit the vectorizers and run with the clean data\n",
    "X_features = create_XFeatures(plot_clean, title_clean, dataTraining[[\"year\"]], dataTraining.index, False, True)\n",
    "print(X_features.shape)\n",
    "#X_features.head()\n",
    "\n",
    "# YearBinary: (7895, 8)\n",
    "# plot_tfidf_dtm: (7895, 5297)\n",
    "# title_tfidf_dtm: (7895, 4310)\n",
    "# plot_dtm: (7895, 5297)\n",
    "# title_dtm: (7895, 4310)\n",
    "# (7895, 19222)"
   ]
  },
  {
   "cell_type": "markdown",
   "metadata": {},
   "source": [
    "# Split train and test"
   ]
  },
  {
   "cell_type": "code",
   "execution_count": 29,
   "metadata": {},
   "outputs": [
    {
     "data": {
      "text/plain": [
       "(5526, 13131)"
      ]
     },
     "execution_count": 29,
     "metadata": {},
     "output_type": "execute_result"
    }
   ],
   "source": [
    "X_train, X_test, y_train_genres, y_test_genres = train_test_split(X_features, y_genres, test_size=0.3, random_state=42)\n",
    "X_train.shape"
   ]
  },
  {
   "cell_type": "code",
   "execution_count": 15,
   "metadata": {},
   "outputs": [
    {
     "name": "stdout",
     "output_type": "stream",
     "text": [
      "p_Action          916\n",
      "p_Adventure       716\n",
      "p_Animation       174\n",
      "p_Biography       250\n",
      "p_Comedy         2108\n",
      "p_Crime          1020\n",
      "p_Documentary     305\n",
      "p_Drama          2787\n",
      "p_Family          451\n",
      "p_Fantasy         496\n",
      "p_Film-Noir       114\n",
      "p_History         203\n",
      "p_Horror          688\n",
      "p_Music           230\n",
      "p_Musical         185\n",
      "p_Mystery         537\n",
      "p_News              4\n",
      "p_Romance        1310\n",
      "p_Sci-Fi          490\n",
      "p_Short            65\n",
      "p_Sport           180\n",
      "p_Thriller       1426\n",
      "p_War             252\n",
      "p_Western         158\n",
      "dtype: int64\n"
     ]
    },
    {
     "data": {
      "image/png": "[encoded data removed]",
      "text/plain": [
       "<Figure size 1152x288 with 1 Axes>"
      ]
     },
     "metadata": {
      "needs_background": "light"
     },
     "output_type": "display_data"
    }
   ],
   "source": [
    "train_count_category = pd.DataFrame(y_train_genres, columns=cols, index=X_train.index)\n",
    "pd.Series(train_count_category.sum().plot(kind = \"bar\",figsize=(16,4),rot = 0))\n",
    "plt.xticks(rotation=90)\n",
    "print(train_count_category.sum())"
   ]
  },
  {
   "cell_type": "markdown",
   "metadata": {},
   "source": [
    "## Balancing clases\n",
    "less than 800 rows oversampling to 800"
   ]
  },
  {
   "cell_type": "code",
   "execution_count": 30,
   "metadata": {},
   "outputs": [
    {
     "data": {
      "text/plain": [
       "(15926, 13131)"
      ]
     },
     "execution_count": 30,
     "metadata": {},
     "output_type": "execute_result"
    }
   ],
   "source": [
    "def overSampleData (X_features, y_categories ):    \n",
    "    overSampled_X = X_features\n",
    "    train_count_category = pd.DataFrame(y_categories, columns=cols, index=X_train.index)\n",
    "    overSampled_Y = train_count_category\n",
    "    for i in range(1,24):\n",
    "        if overSampled_Y.iloc[:,i].sum() < 800:\n",
    "            #print(\"i=\" + str(i) + \" Cant: \" + str(train_count_category.iloc[:,i].sum()))\n",
    "            OverSampleIds = np.random.choice(X_train[train_count_category.iloc[:,i] == 1].index, 800)\n",
    "            #print(dataTraining.loc[OverSampleIds].head())\n",
    "            overSampled_X = pd.concat([overSampled_X, X_train.loc[OverSampleIds]], axis=0)\n",
    "            overSampled_Y = pd.concat([overSampled_Y, train_count_category.loc[OverSampleIds]], axis=0)\n",
    "            #print(overSampledDF.shape)\n",
    "    return overSampled_X, overSampled_Y\n",
    "\n",
    "overSampled_X, overSampled_Y = overSampleData(X_train, y_train_genres )     \n",
    "overSampled_X.shape"
   ]
  },
  {
   "cell_type": "code",
   "execution_count": null,
   "metadata": {},
   "outputs": [],
   "source": [
    "pd.Series(overSampled_Y.sum().plot(kind = \"bar\",figsize=(16,4),rot = 0))\n",
    "plt.xticks(rotation=90)\n",
    "print (overSampled_category.sum())"
   ]
  },
  {
   "cell_type": "code",
   "execution_count": null,
   "metadata": {},
   "outputs": [
    {
     "name": "stdout",
     "output_type": "stream",
     "text": [
      "Fitting 3 folds for each of 1008 candidates, totalling 3024 fits\n"
     ]
    },
    {
     "name": "stderr",
     "output_type": "stream",
     "text": [
      "[Parallel(n_jobs=-1)]: Using backend LokyBackend with 4 concurrent workers.\n",
      "[Parallel(n_jobs=-1)]: Done  33 tasks      | elapsed: 17.5min\n",
      "[Parallel(n_jobs=-1)]: Done 154 tasks      | elapsed: 89.1min\n",
      "[Parallel(n_jobs=-1)]: Done 357 tasks      | elapsed: 256.0min\n",
      "[Parallel(n_jobs=-1)]: Done 640 tasks      | elapsed: 571.7min\n",
      "[Parallel(n_jobs=-1)]: Done 1005 tasks      | elapsed: 1055.6min\n"
     ]
    }
   ],
   "source": [
    "#from sklearn.model_selection import RandomizedSearchCV\n",
    "from sklearn.model_selection import GridSearchCV\n",
    "\n",
    "\n",
    "param_grid   = {\"n_estimators\": range(600,1000,100), \n",
    "              \"max_features\": range(20,200,10), \n",
    "              \"max_depth\": range(10,80,10),\n",
    "              \"bootstrap\": [True, False]}\n",
    "\n",
    "rf = RandomForestClassifier()\n",
    "\n",
    "# Instantiate the grid search model\n",
    "grid_search = GridSearchCV(estimator = rf, param_grid = param_grid, \n",
    "                          cv = 3, n_jobs = -1, verbose = 2)\n",
    "\n",
    "grid_search.fit(overSampled_X, overSampled_Y)\n",
    "\n",
    "grid_search.best_params_"
   ]
  },
  {
   "cell_type": "code",
   "execution_count": 37,
   "metadata": {
    "scrolled": false
   },
   "outputs": [
    {
     "data": {
      "text/plain": [
       "OneVsRestClassifier(estimator=RandomForestClassifier(bootstrap=True, class_weight=None, criterion='gini',\n",
       "            max_depth=14, max_features=16, max_leaf_nodes=None,\n",
       "            min_impurity_decrease=0.0, min_impurity_split=None,\n",
       "            min_samples_leaf=1, min_samples_split=2,\n",
       "            min_weight_fraction_leaf=0.0, n_estimators=10, n_jobs=-1,\n",
       "            oob_score=False, random_state=17, verbose=0, warm_start=False),\n",
       "          n_jobs=None)"
      ]
     },
     "execution_count": 37,
     "metadata": {},
     "output_type": "execute_result"
    }
   ],
   "source": [
    "clf = OneVsRestClassifier(RandomForestClassifier(n_jobs=-1, n_estimators=10, max_features=16, max_depth=14,  random_state=17))\n",
    "clf.fit(overSampled_X, overSampled_Y)"
   ]
  },
  {
   "cell_type": "code",
   "execution_count": 33,
   "metadata": {},
   "outputs": [],
   "source": [
    "y_pred_genres = clf.predict_proba(X_test)"
   ]
  },
  {
   "cell_type": "code",
   "execution_count": 34,
   "metadata": {},
   "outputs": [
    {
     "data": {
      "text/plain": [
       "0.8250444894461388"
      ]
     },
     "execution_count": 34,
     "metadata": {},
     "output_type": "execute_result"
    }
   ],
   "source": [
    "roc_auc_score(y_test_genres, y_pred_genres, average='macro')\n",
    "#Kaggle: 0.8542582153925989\n",
    "#last: 0.8576888447837199"
   ]
  },
  {
   "cell_type": "code",
   "execution_count": 38,
   "metadata": {},
   "outputs": [],
   "source": [
    "\n",
    "#joblib.dump(BinEncoder, 'BinEncoder.pkl', compress=3)\n",
    "#joblib.dump(clf, 'RF_generos2.pkl', compress=3)"
   ]
  },
  {
   "cell_type": "markdown",
   "metadata": {},
   "source": [
    "# Ensemble "
   ]
  },
  {
   "cell_type": "code",
   "execution_count": null,
   "metadata": {},
   "outputs": [],
   "source": [
    "from sklearn.linear_model import LogisticRegression\n",
    "from sklearn.tree import DecisionTreeClassifier\n",
    "from sklearn.naive_bayes import GaussianNB\n",
    "from sklearn.neighbors import KNeighborsClassifier\n",
    "\n",
    "models = {'lr': OneVsRestClassifier(LogisticRegression()),\n",
    "          'dt': OneVsRestClassifier(DecisionTreeClassifier()),\n",
    "          'nb': OneVsRestClassifier(GaussianNB()),\n",
    "          'kn': OneVsRestClassifier(KNeighborsClassifier()),\n",
    "          'rf': OneVsRestClassifier(RandomForestClassifier())}"
   ]
  },
  {
   "cell_type": "code",
   "execution_count": null,
   "metadata": {},
   "outputs": [],
   "source": [
    "for model in models.keys():\n",
    "    models[model].fit(overSampled_X, overSampled_Y)"
   ]
  },
  {
   "cell_type": "code",
   "execution_count": null,
   "metadata": {},
   "outputs": [],
   "source": []
  },
  {
   "cell_type": "markdown",
   "metadata": {},
   "source": [
    "### Predict the testing dataset"
   ]
  },
  {
   "cell_type": "code",
   "execution_count": 188,
   "metadata": {},
   "outputs": [
    {
     "data": {
      "text/plain": [
       "OneVsRestClassifier(estimator=RandomForestClassifier(bootstrap=True, class_weight=None, criterion='gini',\n",
       "            max_depth=14, max_features=16, max_leaf_nodes=None,\n",
       "            min_impurity_decrease=0.0, min_impurity_split=None,\n",
       "            min_samples_leaf=1, min_samples_split=2,\n",
       "            min_weight_fraction_leaf=0.0, n_estimators=900, n_jobs=-1,\n",
       "            oob_score=False, random_state=17, verbose=0, warm_start=False),\n",
       "          n_jobs=None)"
      ]
     },
     "execution_count": 188,
     "metadata": {},
     "output_type": "execute_result"
    }
   ],
   "source": [
    "## Train with full data\n",
    "clf.fit(X_features, y_genres_2)"
   ]
  },
  {
   "cell_type": "code",
   "execution_count": 191,
   "metadata": {
    "scrolled": true
   },
   "outputs": [],
   "source": [
    "#Pre - process title texts\n",
    "title_test_clean = []\n",
    "for text in dataTesting[\"title\"]:\n",
    "    title_test_clean.append(text_clean(text, remove_stop_words=False))\n",
    "    \n",
    "#Pre - process plot texts\n",
    "plot_test_clean = []\n",
    "for text in dataTesting[\"plot\"]:\n",
    "    plot_test_clean.append(text_clean(text))"
   ]
  },
  {
   "cell_type": "code",
   "execution_count": 192,
   "metadata": {
    "scrolled": false
   },
   "outputs": [
    {
     "name": "stdout",
     "output_type": "stream",
     "text": [
      "YearBinary: (3383, 8)\n",
      "plot_tfidf_dtm: (3383, 7000)\n",
      "title_tfidf_dtm: (3383, 7000)\n",
      "plot_dtm: (3383, 7000)\n",
      "title_dtm: (3383, 7000)\n",
      "(3383, 28008)\n"
     ]
    },
    {
     "data": {
      "text/html": [
       "<div>\n",
       "<style scoped>\n",
       "    .dataframe tbody tr th:only-of-type {\n",
       "        vertical-align: middle;\n",
       "    }\n",
       "\n",
       "    .dataframe tbody tr th {\n",
       "        vertical-align: top;\n",
       "    }\n",
       "\n",
       "    .dataframe thead th {\n",
       "        text-align: right;\n",
       "    }\n",
       "</style>\n",
       "<table border=\"1\" class=\"dataframe\">\n",
       "  <thead>\n",
       "    <tr style=\"text-align: right;\">\n",
       "      <th></th>\n",
       "      <th>aaron_1</th>\n",
       "      <th>aaron stori_1</th>\n",
       "      <th>aaron stori touch_1</th>\n",
       "      <th>aaron stori touch nerv_1</th>\n",
       "      <th>aaron swartz_1</th>\n",
       "      <th>aaron swartz swartz_1</th>\n",
       "      <th>aaron swartz swartz help_1</th>\n",
       "      <th>abandon_1</th>\n",
       "      <th>abbi_1</th>\n",
       "      <th>abbott_1</th>\n",
       "      <th>...</th>\n",
       "      <th>zulu_4</th>\n",
       "      <th>zulu dawn_4</th>\n",
       "      <th>year_0</th>\n",
       "      <th>year_1</th>\n",
       "      <th>year_2</th>\n",
       "      <th>year_3</th>\n",
       "      <th>year_4</th>\n",
       "      <th>year_5</th>\n",
       "      <th>year_6</th>\n",
       "      <th>year_7</th>\n",
       "    </tr>\n",
       "  </thead>\n",
       "  <tbody>\n",
       "    <tr>\n",
       "      <th>1</th>\n",
       "      <td>0.000000</td>\n",
       "      <td>0.0</td>\n",
       "      <td>0.0</td>\n",
       "      <td>0.0</td>\n",
       "      <td>0.0</td>\n",
       "      <td>0.0</td>\n",
       "      <td>0.0</td>\n",
       "      <td>0.0</td>\n",
       "      <td>0.0</td>\n",
       "      <td>0.0</td>\n",
       "      <td>...</td>\n",
       "      <td>0</td>\n",
       "      <td>0</td>\n",
       "      <td>0</td>\n",
       "      <td>0</td>\n",
       "      <td>0</td>\n",
       "      <td>0</td>\n",
       "      <td>0</td>\n",
       "      <td>0</td>\n",
       "      <td>0</td>\n",
       "      <td>0</td>\n",
       "    </tr>\n",
       "    <tr>\n",
       "      <th>4</th>\n",
       "      <td>0.000000</td>\n",
       "      <td>0.0</td>\n",
       "      <td>0.0</td>\n",
       "      <td>0.0</td>\n",
       "      <td>0.0</td>\n",
       "      <td>0.0</td>\n",
       "      <td>0.0</td>\n",
       "      <td>0.0</td>\n",
       "      <td>0.0</td>\n",
       "      <td>0.0</td>\n",
       "      <td>...</td>\n",
       "      <td>0</td>\n",
       "      <td>0</td>\n",
       "      <td>0</td>\n",
       "      <td>0</td>\n",
       "      <td>0</td>\n",
       "      <td>0</td>\n",
       "      <td>0</td>\n",
       "      <td>0</td>\n",
       "      <td>0</td>\n",
       "      <td>0</td>\n",
       "    </tr>\n",
       "    <tr>\n",
       "      <th>5</th>\n",
       "      <td>0.312774</td>\n",
       "      <td>0.0</td>\n",
       "      <td>0.0</td>\n",
       "      <td>0.0</td>\n",
       "      <td>0.0</td>\n",
       "      <td>0.0</td>\n",
       "      <td>0.0</td>\n",
       "      <td>0.0</td>\n",
       "      <td>0.0</td>\n",
       "      <td>0.0</td>\n",
       "      <td>...</td>\n",
       "      <td>0</td>\n",
       "      <td>0</td>\n",
       "      <td>0</td>\n",
       "      <td>0</td>\n",
       "      <td>0</td>\n",
       "      <td>0</td>\n",
       "      <td>0</td>\n",
       "      <td>0</td>\n",
       "      <td>0</td>\n",
       "      <td>0</td>\n",
       "    </tr>\n",
       "    <tr>\n",
       "      <th>6</th>\n",
       "      <td>0.000000</td>\n",
       "      <td>0.0</td>\n",
       "      <td>0.0</td>\n",
       "      <td>0.0</td>\n",
       "      <td>0.0</td>\n",
       "      <td>0.0</td>\n",
       "      <td>0.0</td>\n",
       "      <td>0.0</td>\n",
       "      <td>0.0</td>\n",
       "      <td>0.0</td>\n",
       "      <td>...</td>\n",
       "      <td>0</td>\n",
       "      <td>0</td>\n",
       "      <td>0</td>\n",
       "      <td>0</td>\n",
       "      <td>0</td>\n",
       "      <td>0</td>\n",
       "      <td>0</td>\n",
       "      <td>0</td>\n",
       "      <td>0</td>\n",
       "      <td>0</td>\n",
       "    </tr>\n",
       "    <tr>\n",
       "      <th>7</th>\n",
       "      <td>0.000000</td>\n",
       "      <td>0.0</td>\n",
       "      <td>0.0</td>\n",
       "      <td>0.0</td>\n",
       "      <td>0.0</td>\n",
       "      <td>0.0</td>\n",
       "      <td>0.0</td>\n",
       "      <td>0.0</td>\n",
       "      <td>0.0</td>\n",
       "      <td>0.0</td>\n",
       "      <td>...</td>\n",
       "      <td>0</td>\n",
       "      <td>0</td>\n",
       "      <td>0</td>\n",
       "      <td>0</td>\n",
       "      <td>0</td>\n",
       "      <td>0</td>\n",
       "      <td>0</td>\n",
       "      <td>0</td>\n",
       "      <td>0</td>\n",
       "      <td>0</td>\n",
       "    </tr>\n",
       "  </tbody>\n",
       "</table>\n",
       "<p>5 rows × 28008 columns</p>\n",
       "</div>"
      ],
      "text/plain": [
       "    aaron_1  aaron stori_1  aaron stori touch_1  aaron stori touch nerv_1  \\\n",
       "1  0.000000            0.0                  0.0                       0.0   \n",
       "4  0.000000            0.0                  0.0                       0.0   \n",
       "5  0.312774            0.0                  0.0                       0.0   \n",
       "6  0.000000            0.0                  0.0                       0.0   \n",
       "7  0.000000            0.0                  0.0                       0.0   \n",
       "\n",
       "   aaron swartz_1  aaron swartz swartz_1  aaron swartz swartz help_1  \\\n",
       "1             0.0                    0.0                         0.0   \n",
       "4             0.0                    0.0                         0.0   \n",
       "5             0.0                    0.0                         0.0   \n",
       "6             0.0                    0.0                         0.0   \n",
       "7             0.0                    0.0                         0.0   \n",
       "\n",
       "   abandon_1  abbi_1  abbott_1   ...    zulu_4  zulu dawn_4  year_0  year_1  \\\n",
       "1        0.0     0.0       0.0   ...         0            0       0       0   \n",
       "4        0.0     0.0       0.0   ...         0            0       0       0   \n",
       "5        0.0     0.0       0.0   ...         0            0       0       0   \n",
       "6        0.0     0.0       0.0   ...         0            0       0       0   \n",
       "7        0.0     0.0       0.0   ...         0            0       0       0   \n",
       "\n",
       "   year_2  year_3  year_4  year_5  year_6  year_7  \n",
       "1       0       0       0       0       0       0  \n",
       "4       0       0       0       0       0       0  \n",
       "5       0       0       0       0       0       0  \n",
       "6       0       0       0       0       0       0  \n",
       "7       0       0       0       0       0       0  \n",
       "\n",
       "[5 rows x 28008 columns]"
      ]
     },
     "execution_count": 192,
     "metadata": {},
     "output_type": "execute_result"
    }
   ],
   "source": [
    "#Fit with data train\n",
    "X_features_test = create_XFeatures(plot_clean = plot_test_clean, \n",
    "                              title_clean = title_test_clean, \n",
    "                              year = dataTesting[[\"year\"]], \n",
    "                              indexer = dataTesting.index, \n",
    "                              useCount = True, \n",
    "                              fit=False)\n",
    "print(X_features_test.shape)\n",
    "X_features_test.head()"
   ]
  },
  {
   "cell_type": "code",
   "execution_count": 193,
   "metadata": {},
   "outputs": [],
   "source": [
    "y_pred_test_genres = clf.predict_proba(X_features_test)"
   ]
  },
  {
   "cell_type": "code",
   "execution_count": 194,
   "metadata": {},
   "outputs": [],
   "source": [
    "cols = ['p_Action', 'p_Adventure', 'p_Animation', 'p_Biography', 'p_Comedy', 'p_Crime', 'p_Documentary', 'p_Drama', 'p_Family',\n",
    "        'p_Fantasy', 'p_Film-Noir', 'p_History', 'p_Horror', 'p_Music', 'p_Musical', 'p_Mystery', 'p_News', 'p_Romance',\n",
    "        'p_Sci-Fi', 'p_Short', 'p_Sport', 'p_Thriller', 'p_War', 'p_Western']\n",
    "\n",
    "res = pd.DataFrame(y_pred_test_genres, index=dataTesting.index, columns=cols)"
   ]
  },
  {
   "cell_type": "code",
   "execution_count": 195,
   "metadata": {},
   "outputs": [
    {
     "data": {
      "text/html": [
       "<div>\n",
       "<style scoped>\n",
       "    .dataframe tbody tr th:only-of-type {\n",
       "        vertical-align: middle;\n",
       "    }\n",
       "\n",
       "    .dataframe tbody tr th {\n",
       "        vertical-align: top;\n",
       "    }\n",
       "\n",
       "    .dataframe thead th {\n",
       "        text-align: right;\n",
       "    }\n",
       "</style>\n",
       "<table border=\"1\" class=\"dataframe\">\n",
       "  <thead>\n",
       "    <tr style=\"text-align: right;\">\n",
       "      <th></th>\n",
       "      <th>p_Action</th>\n",
       "      <th>p_Adventure</th>\n",
       "      <th>p_Animation</th>\n",
       "      <th>p_Biography</th>\n",
       "      <th>p_Comedy</th>\n",
       "      <th>p_Crime</th>\n",
       "      <th>p_Documentary</th>\n",
       "      <th>p_Drama</th>\n",
       "      <th>p_Family</th>\n",
       "      <th>p_Fantasy</th>\n",
       "      <th>...</th>\n",
       "      <th>p_Musical</th>\n",
       "      <th>p_Mystery</th>\n",
       "      <th>p_News</th>\n",
       "      <th>p_Romance</th>\n",
       "      <th>p_Sci-Fi</th>\n",
       "      <th>p_Short</th>\n",
       "      <th>p_Sport</th>\n",
       "      <th>p_Thriller</th>\n",
       "      <th>p_War</th>\n",
       "      <th>p_Western</th>\n",
       "    </tr>\n",
       "  </thead>\n",
       "  <tbody>\n",
       "    <tr>\n",
       "      <th>1</th>\n",
       "      <td>0.120406</td>\n",
       "      <td>0.148729</td>\n",
       "      <td>0.099304</td>\n",
       "      <td>0.106029</td>\n",
       "      <td>0.314727</td>\n",
       "      <td>0.120767</td>\n",
       "      <td>0.106813</td>\n",
       "      <td>0.434924</td>\n",
       "      <td>0.163479</td>\n",
       "      <td>0.140169</td>\n",
       "      <td>...</td>\n",
       "      <td>0.080192</td>\n",
       "      <td>0.102456</td>\n",
       "      <td>0.009846</td>\n",
       "      <td>0.195012</td>\n",
       "      <td>0.101353</td>\n",
       "      <td>0.053346</td>\n",
       "      <td>0.062788</td>\n",
       "      <td>0.188381</td>\n",
       "      <td>0.077518</td>\n",
       "      <td>0.058756</td>\n",
       "    </tr>\n",
       "    <tr>\n",
       "      <th>4</th>\n",
       "      <td>0.118547</td>\n",
       "      <td>0.145966</td>\n",
       "      <td>0.099284</td>\n",
       "      <td>0.118253</td>\n",
       "      <td>0.312931</td>\n",
       "      <td>0.126682</td>\n",
       "      <td>0.115295</td>\n",
       "      <td>0.445674</td>\n",
       "      <td>0.162210</td>\n",
       "      <td>0.126535</td>\n",
       "      <td>...</td>\n",
       "      <td>0.076350</td>\n",
       "      <td>0.099407</td>\n",
       "      <td>0.013963</td>\n",
       "      <td>0.176169</td>\n",
       "      <td>0.095159</td>\n",
       "      <td>0.060279</td>\n",
       "      <td>0.066464</td>\n",
       "      <td>0.182486</td>\n",
       "      <td>0.083581</td>\n",
       "      <td>0.058421</td>\n",
       "    </tr>\n",
       "    <tr>\n",
       "      <th>5</th>\n",
       "      <td>0.120240</td>\n",
       "      <td>0.145894</td>\n",
       "      <td>0.089018</td>\n",
       "      <td>0.105198</td>\n",
       "      <td>0.298205</td>\n",
       "      <td>0.189659</td>\n",
       "      <td>0.100156</td>\n",
       "      <td>0.471908</td>\n",
       "      <td>0.152176</td>\n",
       "      <td>0.134672</td>\n",
       "      <td>...</td>\n",
       "      <td>0.075625</td>\n",
       "      <td>0.137680</td>\n",
       "      <td>0.007107</td>\n",
       "      <td>0.197980</td>\n",
       "      <td>0.106838</td>\n",
       "      <td>0.047709</td>\n",
       "      <td>0.068556</td>\n",
       "      <td>0.254880</td>\n",
       "      <td>0.085256</td>\n",
       "      <td>0.061868</td>\n",
       "    </tr>\n",
       "    <tr>\n",
       "      <th>6</th>\n",
       "      <td>0.123879</td>\n",
       "      <td>0.152125</td>\n",
       "      <td>0.097130</td>\n",
       "      <td>0.119891</td>\n",
       "      <td>0.297822</td>\n",
       "      <td>0.126485</td>\n",
       "      <td>0.111477</td>\n",
       "      <td>0.456144</td>\n",
       "      <td>0.161548</td>\n",
       "      <td>0.125475</td>\n",
       "      <td>...</td>\n",
       "      <td>0.085251</td>\n",
       "      <td>0.117023</td>\n",
       "      <td>0.009277</td>\n",
       "      <td>0.192964</td>\n",
       "      <td>0.110890</td>\n",
       "      <td>0.050046</td>\n",
       "      <td>0.066055</td>\n",
       "      <td>0.205257</td>\n",
       "      <td>0.101321</td>\n",
       "      <td>0.060682</td>\n",
       "    </tr>\n",
       "    <tr>\n",
       "      <th>7</th>\n",
       "      <td>0.127543</td>\n",
       "      <td>0.167805</td>\n",
       "      <td>0.103997</td>\n",
       "      <td>0.103999</td>\n",
       "      <td>0.307789</td>\n",
       "      <td>0.129546</td>\n",
       "      <td>0.107770</td>\n",
       "      <td>0.414528</td>\n",
       "      <td>0.167584</td>\n",
       "      <td>0.151533</td>\n",
       "      <td>...</td>\n",
       "      <td>0.077712</td>\n",
       "      <td>0.110988</td>\n",
       "      <td>0.008161</td>\n",
       "      <td>0.191572</td>\n",
       "      <td>0.156702</td>\n",
       "      <td>0.059641</td>\n",
       "      <td>0.060934</td>\n",
       "      <td>0.199872</td>\n",
       "      <td>0.075681</td>\n",
       "      <td>0.056339</td>\n",
       "    </tr>\n",
       "  </tbody>\n",
       "</table>\n",
       "<p>5 rows × 24 columns</p>\n",
       "</div>"
      ],
      "text/plain": [
       "   p_Action  p_Adventure  p_Animation  p_Biography  p_Comedy   p_Crime  \\\n",
       "1  0.120406     0.148729     0.099304     0.106029  0.314727  0.120767   \n",
       "4  0.118547     0.145966     0.099284     0.118253  0.312931  0.126682   \n",
       "5  0.120240     0.145894     0.089018     0.105198  0.298205  0.189659   \n",
       "6  0.123879     0.152125     0.097130     0.119891  0.297822  0.126485   \n",
       "7  0.127543     0.167805     0.103997     0.103999  0.307789  0.129546   \n",
       "\n",
       "   p_Documentary   p_Drama  p_Family  p_Fantasy    ...      p_Musical  \\\n",
       "1       0.106813  0.434924  0.163479   0.140169    ...       0.080192   \n",
       "4       0.115295  0.445674  0.162210   0.126535    ...       0.076350   \n",
       "5       0.100156  0.471908  0.152176   0.134672    ...       0.075625   \n",
       "6       0.111477  0.456144  0.161548   0.125475    ...       0.085251   \n",
       "7       0.107770  0.414528  0.167584   0.151533    ...       0.077712   \n",
       "\n",
       "   p_Mystery    p_News  p_Romance  p_Sci-Fi   p_Short   p_Sport  p_Thriller  \\\n",
       "1   0.102456  0.009846   0.195012  0.101353  0.053346  0.062788    0.188381   \n",
       "4   0.099407  0.013963   0.176169  0.095159  0.060279  0.066464    0.182486   \n",
       "5   0.137680  0.007107   0.197980  0.106838  0.047709  0.068556    0.254880   \n",
       "6   0.117023  0.009277   0.192964  0.110890  0.050046  0.066055    0.205257   \n",
       "7   0.110988  0.008161   0.191572  0.156702  0.059641  0.060934    0.199872   \n",
       "\n",
       "      p_War  p_Western  \n",
       "1  0.077518   0.058756  \n",
       "4  0.083581   0.058421  \n",
       "5  0.085256   0.061868  \n",
       "6  0.101321   0.060682  \n",
       "7  0.075681   0.056339  \n",
       "\n",
       "[5 rows x 24 columns]"
      ]
     },
     "execution_count": 195,
     "metadata": {},
     "output_type": "execute_result"
    }
   ],
   "source": [
    "res.head()"
   ]
  },
  {
   "cell_type": "code",
   "execution_count": 196,
   "metadata": {},
   "outputs": [],
   "source": [
    "res.to_csv('pred_genres_text_RF.csv', index_label='ID')"
   ]
  },
  {
   "cell_type": "code",
   "execution_count": null,
   "metadata": {},
   "outputs": [],
   "source": []
  },
  {
   "cell_type": "markdown",
   "metadata": {},
   "source": [
    "## Stopwords"
   ]
  },
  {
   "cell_type": "code",
   "execution_count": 9,
   "metadata": {},
   "outputs": [],
   "source": [
    "custom_stopwords =['a', 'about', 'above', 'across', 'after', 'afterwards', 'again',\n",
    "       'against', 'ain', 'all', 'almost', 'alone', 'along', 'already',\n",
    "       'also', 'although', 'always', 'am', 'among', 'amongst', 'amoungst',\n",
    "       'amount', 'an', 'and', 'another', 'any', 'anyhow', 'anyone',\n",
    "       'anything', 'anyway', 'anywhere', 'are', 'aren', \"aren't\",\n",
    "       'around', 'as', 'at', 'back', 'be', 'became', 'because', 'become',\n",
    "       'becomes', 'becoming', 'been', 'before', 'beforehand', 'behind',\n",
    "       'being', 'below', 'beside', 'besides', 'between', 'beyond', 'bill',\n",
    "       'both', 'bottom', 'but', 'by', 'call', 'can', 'cannot', 'cant',\n",
    "       'co', 'con', 'could', 'couldn', \"couldn't\", 'couldnt', 'cry', 'd',\n",
    "       'de', 'describe', 'detail', 'did', 'didn', \"didn't\", 'do', 'does',\n",
    "       'doesn', \"doesn't\", 'doing', 'don', \"don't\", 'done', 'down', 'due',\n",
    "       'during', 'each', 'eg', 'eight', 'either', 'eleven', 'else',\n",
    "       'elsewhere', 'empty', 'enough', 'etc', 'even', 'ever', 'every',\n",
    "       'everyone', 'everything', 'everywhere', 'except', 'few', 'fifteen',\n",
    "       'fifty', 'fill', 'find', 'fire', 'first', 'five', 'for', 'former',\n",
    "       'formerly', 'forty', 'found', 'four', 'from', 'front', 'full',\n",
    "       'further', 'get', 'give', 'go', 'had', 'hadn', \"hadn't\", 'has',\n",
    "       'hasn', \"hasn't\", 'hasnt', 'have', 'haven', \"haven't\", 'having',\n",
    "       'he', 'hence', 'her', 'here', 'hereafter', 'hereby', 'herein',\n",
    "       'hereupon', 'hers', 'herself', 'him', 'himself', 'his', 'how',\n",
    "       'however', 'hundred', 'i', 'ie', 'if', 'in', 'inc', 'indeed',\n",
    "       'interest', 'into', 'is', 'isn', \"isn't\", 'it', \"it's\", 'its',\n",
    "       'itself', 'just', 'keep', 'last', 'latter', 'latterly', 'least',\n",
    "       'less', 'll', 'ltd', 'm', 'ma', 'made', 'many', 'may', 'me',\n",
    "       'meanwhile', 'might', 'mightn', \"mightn't\", 'mill', 'mine', 'more',\n",
    "       'moreover', 'most', 'mostly', 'move', 'much', 'must', 'mustn',\n",
    "       \"mustn't\", 'my', 'myself', 'name', 'namely', 'needn', \"needn't\",\n",
    "       'neither', 'never', 'nevertheless', 'next', 'nine', 'no', 'nobody',\n",
    "       'none', 'noone', 'nor', 'not', 'nothing', 'now', 'nowhere', 'o',\n",
    "       'of', 'off', 'often', 'on', 'once', 'one', 'only', 'onto', 'or',\n",
    "       'other', 'others', 'otherwise', 'our', 'ours', 'ourselves', 'out',\n",
    "       'over', 'own', 'part', 'per', 'perhaps', 'please', 'put', 'rather',\n",
    "       're', 's', 'same', 'see', 'seem', 'seemed', 'seeming', 'seems',\n",
    "       'serious', 'several', 'shan', \"shan't\", 'she', \"she's\", 'should',\n",
    "       \"should've\", 'shouldn', \"shouldn't\", 'show', 'side', 'since',\n",
    "       'sincere', 'six', 'sixty', 'so', 'some', 'somehow', 'someone',\n",
    "       'something', 'sometime', 'sometimes', 'somewhere', 'still', 'such',\n",
    "       'system', 't', 'take', 'ten', 'than', 'that', \"that'll\", 'the',\n",
    "       'their', 'theirs', 'them', 'themselves', 'then', 'thence', 'there',\n",
    "       'thereafter', 'thereby', 'therefore', 'therein', 'thereupon',\n",
    "       'these', 'they', 'thick', 'thin', 'third', 'this', 'those',\n",
    "       'though', 'three', 'through', 'throughout', 'thru', 'thus', 'to',\n",
    "       'together', 'too', 'top', 'toward', 'towards', 'twelve', 'twenty',\n",
    "       'two', 'un', 'under', 'until', 'up', 'upon', 'us', 've', 'very',\n",
    "       'via', 'was', 'wasn', \"wasn't\", 'we', 'well', 'were', 'weren',\n",
    "       \"weren't\", 'what', 'whatever', 'when', 'whence', 'whenever',\n",
    "       'where', 'whereafter', 'whereas', 'whereby', 'wherein',\n",
    "       'whereupon', 'wherever', 'whether', 'which', 'while', 'whither',\n",
    "       'who', 'whoever', 'whole', 'whom', 'whose', 'why', 'will', 'with',\n",
    "       'within', 'without', 'won', \"won't\", 'would', 'wouldn', \"wouldn't\",\n",
    "       'y', 'yet', 'you', \"you'd\", \"you'll\", \"you're\", \"you've\", 'your',\n",
    "       'yours', 'yourself', 'yourselves']\n",
    "\n",
    "waste_words =['!',\n",
    " '\"',\n",
    " '$',\n",
    " '%',\n",
    " '&',\n",
    " \"'\",\n",
    " '(',\n",
    " ')',\n",
    " ',',\n",
    " '-',\n",
    " '.',\n",
    " '/',\n",
    " ':',\n",
    " ';',\n",
    " '=',\n",
    " '?',\n",
    " 'a$$',\n",
    " 'a&m',\n",
    " 'aa',\n",
    " 'aaa',\n",
    " 'aam',\n",
    " '+',\n",
    " 'aang']"
   ]
  },
  {
   "cell_type": "markdown",
   "metadata": {},
   "source": [
    "## xgboost"
   ]
  },
  {
   "cell_type": "code",
   "execution_count": null,
   "metadata": {},
   "outputs": [],
   "source": [
    "# Train the model\n",
    "xg_clf = OneVsRestClassifier(xgb.XGBClassifier(objective ='binary:logistic', max_depth = 20, n_estimators = 600))\n",
    "#xg_clf.fit(X_train, y_train)\n",
    "xg_clf.fit(X_train, y_train_genres)"
   ]
  },
  {
   "cell_type": "code",
   "execution_count": null,
   "metadata": {},
   "outputs": [],
   "source": [
    "y_pred_xgboost = xg_clf.predict(data_dmatrix_test)\n",
    "y_pred_xgboost"
   ]
  },
  {
   "cell_type": "code",
   "execution_count": null,
   "metadata": {},
   "outputs": [],
   "source": [
    "roc_auc_score(y_test_genres, y_pred_xgboost, average='macro')"
   ]
  },
  {
   "cell_type": "code",
   "execution_count": 18,
   "metadata": {
    "scrolled": true
   },
   "outputs": [
    {
     "name": "stdout",
     "output_type": "stream",
     "text": [
      "YearBinary: (7895, 8)\n",
      "plot_tfidf_dtm: (7895, 4642)\n",
      "title_tfidf_dtm: (7895, 4359)\n",
      "(7895, 9009)\n",
      "YearBinary: (7895, 8)\n",
      "plot_tfidf_dtm: (7895, 4385)\n",
      "title_tfidf_dtm: (7895, 2089)\n",
      "(7895, 6482)\n",
      "YearBinary: (7895, 8)\n",
      "plot_tfidf_dtm: (7895, 4153)\n",
      "title_tfidf_dtm: (7895, 1383)\n",
      "(7895, 5544)\n",
      "YearBinary: (7895, 8)\n",
      "plot_tfidf_dtm: (7895, 3971)\n",
      "title_tfidf_dtm: (7895, 1026)\n",
      "(7895, 5005)\n",
      "YearBinary: (7895, 8)\n",
      "plot_tfidf_dtm: (7895, 3789)\n",
      "title_tfidf_dtm: (7895, 781)\n",
      "(7895, 4578)\n",
      "YearBinary: (7895, 8)\n",
      "plot_tfidf_dtm: (7895, 3629)\n",
      "title_tfidf_dtm: (7895, 639)\n",
      "(7895, 4276)\n",
      "YearBinary: (7895, 8)\n",
      "plot_tfidf_dtm: (7895, 3470)\n",
      "title_tfidf_dtm: (7895, 517)\n",
      "(7895, 3995)\n",
      "YearBinary: (7895, 8)\n",
      "plot_tfidf_dtm: (7895, 3325)\n",
      "title_tfidf_dtm: (7895, 452)\n",
      "(7895, 3785)\n",
      "YearBinary: (7895, 8)\n",
      "plot_tfidf_dtm: (7895, 3207)\n",
      "title_tfidf_dtm: (7895, 389)\n",
      "(7895, 3604)\n",
      "YearBinary: (7895, 8)\n",
      "plot_tfidf_dtm: (7895, 3077)\n",
      "title_tfidf_dtm: (7895, 342)\n",
      "(7895, 3427)\n",
      "YearBinary: (7895, 8)\n",
      "plot_tfidf_dtm: (7895, 2966)\n",
      "title_tfidf_dtm: (7895, 292)\n",
      "(7895, 3266)\n",
      "YearBinary: (7895, 8)\n",
      "plot_tfidf_dtm: (7895, 2857)\n",
      "title_tfidf_dtm: (7895, 250)\n",
      "(7895, 3115)\n",
      "YearBinary: (7895, 8)\n",
      "plot_tfidf_dtm: (7895, 2757)\n",
      "title_tfidf_dtm: (7895, 220)\n",
      "(7895, 2985)\n",
      "best_param:  2\n"
     ]
    },
    {
     "data": {
      "text/plain": [
       "Text(0, 0.5, 'NEG_RMSE')"
      ]
     },
     "execution_count": 18,
     "metadata": {},
     "output_type": "execute_result"
    },
    {
     "data": {
      "image/png": "[encoded data removed]",
      "text/plain": [
       "<Figure size 432x288 with 1 Axes>"
      ]
     },
     "metadata": {
      "needs_background": "light"
     },
     "output_type": "display_data"
    }
   ],
   "source": [
    "# Cross validation to find the best parameters \n",
    "range_for = range(2, 15, 1)\n",
    "RMSE_scores_featu = []\n",
    "\n",
    "for param in range_for:\n",
    "    YearBinaryEnco = ce.BinaryEncoder()\n",
    "    tfidf_plot = TfidfVectorizer(ngram_range=(1, (4+param)), max_features=7000+(param*500),  min_df=12+param)\n",
    "    tfidf_title = TfidfVectorizer(ngram_range=(1, (4+param)), max_features=7000+(param*500), min_df=param)\n",
    "    \n",
    "    X_features = create_XFeatures(plot_clean, title_clean, dataTraining[[\"year\"]], dataTraining.index, False, True)\n",
    "    print(X_features.shape)\n",
    "    X_train, X_test, y_train_genres, y_test_genres = train_test_split(X_features, y_genres, test_size=0.33, random_state=42)\n",
    "    \n",
    "    clf = OneVsRestClassifier(RandomForestClassifier(n_jobs=-1, n_estimators=600, max_features=14, max_depth=20,  random_state=42))\n",
    "    RMSE_scores_featu.append(cross_val_score(clf, X_train, y_train_genres, cv=3, scoring='roc_auc').mean())\n",
    "\n",
    "best_param = range_for[RMSE_scores_featu.index(max(RMSE_scores_featu))]\n",
    "print (\"best_param: \", best_param)\n",
    "plt.plot(range_for, RMSE_scores_featu)\n",
    "plt.xlabel('min_df')\n",
    "plt.ylabel('NEG_RMSE')\n",
    "\n"
   ]
  },
  {
   "cell_type": "code",
   "execution_count": 19,
   "metadata": {},
   "outputs": [
    {
     "name": "stdout",
     "output_type": "stream",
     "text": [
      "YearBinary: (7895, 8)\n",
      "plot_tfidf_dtm: (7895, 4642)\n",
      "title_tfidf_dtm: (7895, 4359)\n",
      "plot_dtm: (7895, 5297)\n",
      "title_dtm: (7895, 4310)\n"
     ]
    }
   ],
   "source": [
    "YearBinaryEnco = ce.BinaryEncoder()\n",
    "tfidf_plot = TfidfVectorizer(ngram_range=(1, (4+best_param)), max_features=7000+(best_param*500),  min_df=12+best_param)\n",
    "tfidf_title = TfidfVectorizer(ngram_range=(1, (4+best_param)), max_features=7000+(best_param*500), min_df=best_param)\n",
    "vect_plot = CountVectorizer(ngram_range=(1, 4), max_features=7000,  min_df=12)\n",
    "vect_title = CountVectorizer(ngram_range=(1, 4), max_features=7000,  min_df=2)\n",
    "\n",
    "X_features = create_XFeatures(plot_clean, title_clean, dataTraining[[\"year\"]], dataTraining.index, True, True)\n",
    "X_train, X_test, y_train_genres, y_test_genres = train_test_split(X_features, y_genres, test_size=0.33, random_state=42)\n"
   ]
  },
  {
   "cell_type": "markdown",
   "metadata": {},
   "source": [
    "### Train multi-class multi-label model Random Forest"
   ]
  },
  {
   "cell_type": "code",
   "execution_count": 20,
   "metadata": {},
   "outputs": [
    {
     "name": "stdout",
     "output_type": "stream",
     "text": [
      "best_maxdepth:  14\n"
     ]
    },
    {
     "data": {
      "text/plain": [
       "Text(0, 0.5, 'NEG_RMSE')"
      ]
     },
     "execution_count": 20,
     "metadata": {},
     "output_type": "execute_result"
    },
    {
     "data": {
      "image/png": "[encoded data removed]",
      "text/plain": [
       "<Figure size 432x288 with 1 Axes>"
      ]
     },
     "metadata": {
      "needs_background": "light"
     },
     "output_type": "display_data"
    }
   ],
   "source": [
    "# Cross validation to find the best depth parameter \n",
    "max_depth_range = range(8, 30, 2)\n",
    "RMSE_scores_featu = []\n",
    "\n",
    "for depth in max_depth_range:\n",
    "    clf = OneVsRestClassifier(RandomForestClassifier(n_jobs=-1, n_estimators=600, max_features=14, max_depth=depth,  random_state=17))\n",
    "    RMSE_scores_featu.append(cross_val_score(clf, X_train, y_train_genres, cv=3, scoring='roc_auc').mean())\n",
    "\n",
    "best_maxdepth = max_depth_range[RMSE_scores_featu.index(max(RMSE_scores_featu))]\n",
    "print (\"best_maxdepth: \", best_maxdepth)\n",
    "plt.plot(max_depth_range, RMSE_scores_featu)\n",
    "plt.xlabel('MAX DEPTH')\n",
    "plt.ylabel('NEG_RMSE')"
   ]
  },
  {
   "cell_type": "code",
   "execution_count": 27,
   "metadata": {},
   "outputs": [
    {
     "name": "stdout",
     "output_type": "stream",
     "text": [
      "best_max_features:  16\n"
     ]
    },
    {
     "data": {
      "text/plain": [
       "Text(0, 0.5, 'NEG_RMSE')"
      ]
     },
     "execution_count": 27,
     "metadata": {},
     "output_type": "execute_result"
    },
    {
     "data": {
      "image/png": "[encoded data removed]",
      "text/plain": [
       "<Figure size 432x288 with 1 Axes>"
      ]
     },
     "metadata": {
      "needs_background": "light"
     },
     "output_type": "display_data"
    }
   ],
   "source": [
    "# Cross validation to find the best max_features\n",
    "max_features_range = range(10, 40, 3)\n",
    "RMSE_scores_featu = []\n",
    "\n",
    "for features in max_features_range:\n",
    "    clf = OneVsRestClassifier(RandomForestClassifier(n_jobs=-1, n_estimators=600, max_features=features, max_depth=best_maxdepth,  random_state=17))\n",
    "    RMSE_scores_featu.append(cross_val_score(clf, X_train, y_train_genres, cv=3, scoring='roc_auc').mean())\n",
    "\n",
    "best_max_features = max_features_range[RMSE_scores_featu.index(max(RMSE_scores_featu))]\n",
    "print (\"best_max_features: \", best_max_features)\n",
    "plt.plot(max_features_range, RMSE_scores_featu)\n",
    "plt.xlabel('MAX FEATURES')\n",
    "plt.ylabel('NEG_RMSE')"
   ]
  },
  {
   "cell_type": "code",
   "execution_count": 22,
   "metadata": {},
   "outputs": [
    {
     "name": "stdout",
     "output_type": "stream",
     "text": [
      "best_n_estimators:  22\n"
     ]
    },
    {
     "data": {
      "text/plain": [
       "Text(0, 0.5, 'NEG_RMSE')"
      ]
     },
     "execution_count": 22,
     "metadata": {},
     "output_type": "execute_result"
    },
    {
     "data": {
      "image/png": "[encoded data removed]",
      "text/plain": [
       "<Figure size 432x288 with 1 Axes>"
      ]
     },
     "metadata": {
      "needs_background": "light"
     },
     "output_type": "display_data"
    }
   ],
   "source": [
    "# Cross validation to find the best n_estimators\n",
    "max_n_estimators = range(100, 900, 100)\n",
    "RMSE_scores_featu = []\n",
    "\n",
    "for estimators in max_n_estimators:\n",
    "    clf = OneVsRestClassifier(RandomForestClassifier(n_jobs=-1, n_estimators=estimators, max_features=best_max_features, max_depth=best_maxdepth,  random_state=17))\n",
    "    RMSE_scores_featu.append(cross_val_score(clf, X_train, y_train_genres, cv=3, scoring='roc_auc').mean())\n",
    "\n",
    "best_n_estimators = max_depth_range[RMSE_scores_featu.index(max(RMSE_scores_featu))]\n",
    "print (\"best_n_estimators: \", best_n_estimators)\n",
    "plt.plot(max_n_estimators, RMSE_scores_featu)\n",
    "plt.xlabel('N ESTIMATORS')\n",
    "plt.ylabel('NEG_RMSE')"
   ]
  }
 ],
 "metadata": {
  "kernelspec": {
   "display_name": "Python 3",
   "language": "python",
   "name": "python3"
  },
  "language_info": {
   "codemirror_mode": {
    "name": "ipython",
    "version": 3
   },
   "file_extension": ".py",
   "mimetype": "text/x-python",
   "name": "python",
   "nbconvert_exporter": "python",
   "pygments_lexer": "ipython3",
   "version": "3.7.1"
  }
 },
 "nbformat": 4,
 "nbformat_minor": 1
}
