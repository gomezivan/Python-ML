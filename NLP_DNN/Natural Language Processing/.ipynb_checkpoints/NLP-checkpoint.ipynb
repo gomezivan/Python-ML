{
 "cells": [
  {
   "cell_type": "code",
   "execution_count": 220,
   "metadata": {},
   "outputs": [
    {
     "name": "stdout",
     "output_type": "stream",
     "text": [
      "38 parrafos\n"
     ]
    }
   ],
   "source": [
    "# libreria para leer .docx\n",
    "from docx import Document\n",
    "# libreria para expresiones regulares\n",
    "import re\n",
    "## SQL Server library\n",
    "import pyodbc\n",
    "sql_conn = pyodbc.connect('DRIVER={ODBC Driver 13 for SQL Server};SERVER=CO2038696W2\\SQLEXPRESS;DATABASE=ComoNuevos;Trusted_Connection=yes') \n",
    "#Dataframes\n",
    "import pandas as pd\n",
    "\n",
    "f = open('contrato_compra_MKS126.docx', 'rb')\n",
    "document = Document(f)\n",
    "docVector = []\n",
    "for p in document.paragraphs:\n",
    "    docVector.append(p.text)\n",
    "print (len(docVector), 'parrafos')\n",
    "\n"
   ]
  },
  {
   "cell_type": "code",
   "execution_count": 181,
   "metadata": {},
   "outputs": [
    {
     "data": {
      "text/plain": [
       "'\\nCONTRATO DE COMPRAVENTA DE VEHÍCULO AUTOMOTOR\\n\\nEl señor IVAN DARIO GOMEZ RINCON, mayor de edad, domiciliado en Bogotá, identificado con cedula de ciudadanía No.1.012.343.635, quien en adelante se denominará EL COMPRADOR, y JOSÉ OMAR FRANCO BAUTISTA, mayor de edad, domiciliada en Bogotá, identificada con cedula de ciudadanía No. 19.050.527 y en adelante se denominará EL VENDEDOR, hemos acordado celebrar contrato de compraventa que se regirá por las normas civiles y comerciales que regulan la materia, según las siguientes cláusulas:\\nPrimera. Objeto: EL VENDEDOR transfiere a título de venta a EL COMPRADOR la propiedad del vehículo automotor que a continuación se identifica:\\nCLASE: Automóvil\\tMARCA: HYUNDAI\\tMODELO: 2013\\t \\tLÍNEA: i 30 GLS\\nPLACA: MKS126\\t\\tCOLOR: PLATA CONTINENTAL\\tCAPACIDAD: 5 psj MATRICULADO EN: Bogotá\\nPUERTAS: 5 \\t\\tPOTENCIA HP: 121\\nNÚMERO DE MOTOR:  G4FGCU528020\\nNÚMERO DE SERIE: KMHD351BADU010226 \\nNÚMERO DE CHASIS: KMHD351BADU010226\\nSegunda. Precio: Las partes pactan la suma de TREINTA Y SEIS MILLONES SETECIENTOS CINCUENTA MIL PESOS M/CTE. ($ 36.750.000). \\nTercera. Forma de pago: EL COMPRADOR paga el precio a que se refiere la cláusula anterior en la siguiente forma: \\n____________________________________________________________________________________\\n____________________________________________________________________________________\\n____________________________________________________________________________________\\n\\nCuarta. Obligaciones de EL VENDEDOR: EL VENDEDOR se obliga a hacer entrega del vehículo en buen estado, libre de gravámenes embargos, multas, impuestos, pactos de reserva de dominio y cualquiera otra circunstancia que afecte el libre comercio del bien objeto del presente contrato. \\nParágrafo: EL VENDEDOR se obliga a firmar el formulario de traspaso dentro de los ocho (8) días posteriores a la firma del presente escrito. \\nQuinta. Gastos: Los gastos como impuestos, multas y demás que recaigan sobre el vehículo antes de la inscripción del traspaso ante la Oficina de Tránsito correspondiente por cuenta de EL VENDEDOR. Los gastos de registro se pagarán en partes iguales, excepto la Retención en la Fuente a título de impuesto de renta que corre por cuenta de EL VENDEDOR.\\nSexta. Cláusula penal: Las partes establecen que quien incumpla cualquiera de las estipulaciones derivadas de este contrato, pagará a la otra como sanción la suma de UN MILLON DE PESOS ($ 1.000.000).\\nSéptima. Cláusula Compromisoria: Toda controversia o diferencia relativa a este contrato, su ejecución y liquidación se resolverá por un mecanismo alternativo de justicia como un Tribunal de Arbitramento o un Centro de Arbitraje o Conciliación, si no existe arreglo por este medio, se agotará esta etapa y se podrá acudir a la Justicia Ordinaria.\\nEsta acta de Compraventa se firma en dos (2) ejemplares iguales, en la ciudad de Bogotá a los cinco (5) días del mes de febrero del año 2019.\\n\\n\\n\\n_____________________________\\t\\t\\t\\t_____________________________\\nEL VENDEDOR\\t\\t\\t\\t\\t\\tEL COMPRADOR\\nNombre:\\t\\t\\t\\t\\t\\t\\tNombre:\\nC.C.\\t\\t\\t\\t\\t\\t\\t\\tC.C.\\n\\n\\n\\n_________________\\nTESTIGO:\\nC.C.\\n\\n\\n'"
      ]
     },
     "execution_count": 181,
     "metadata": {},
     "output_type": "execute_result"
    }
   ],
   "source": [
    "tabsPart = set(docVector[4].split('\\t'))\n",
    "tabsPart\n",
    "docVector[4]\n",
    "\n",
    "sequence = \"\"\n",
    "for i in range(len(docVector)):\n",
    "    sequence = sequence + \"\\n\" + docVector[i]   \n",
    "sequence"
   ]
  },
  {
   "cell_type": "code",
   "execution_count": 230,
   "metadata": {
    "scrolled": true
   },
   "outputs": [],
   "source": [
    "def contratosETL(documento):\n",
    "    #Extraeer clase\n",
    "    searchResult = re.search(r\"CLASE:.*?[\\n|\\t]\", documento).group()\n",
    "    clase = searchResult[7:len(searchResult)-1]\n",
    "    #Extraer marca\n",
    "    searchResult = re.search(r\"MARCA:.*?[\\n|\\t]\", documento).group()\n",
    "    marca = searchResult[7:len(searchResult)-1]\n",
    "    #Extraer modelo\n",
    "    searchResult = re.search(r\"MODELO:.*?[\\n|\\t]\", documento).group()\n",
    "    modelo = searchResult[8:len(searchResult)-1]\n",
    "    #Extraer línea\n",
    "    searchResult = re.search(r\"LÍNEA:.*?[\\n|\\t]\", documento).group()\n",
    "    linea = searchResult[7:len(searchResult)-1]\n",
    "    #Extraer placa\n",
    "    searchResult = re.search(r\"PLACA:.*?[\\n|\\t]\", documento).group()\n",
    "    placa = searchResult[7:len(searchResult)-1]\n",
    "    #Extraer color\n",
    "    searchResult = re.search(r\"COLOR:.*?[\\n|\\t]\", documento).group()\n",
    "    color = searchResult[7:len(searchResult)-1]\n",
    "    #Extraer puertas\n",
    "    searchResult = re.search(r\"PUERTAS:.*?[\\n|\\t]\", documento).group()\n",
    "    puertas = searchResult[9:len(searchResult)-1]\n",
    "    #Extraer potencia\n",
    "    searchResult = re.search(r\"POTENCIA HP:.*?[\\n|\\t]\", documento).group()\n",
    "    potencia = searchResult[13:len(searchResult)-1]\n",
    "    #Extraer num_motor\n",
    "    searchResult = re.search(r\"MOTOR:.*?[\\n|\\t]\", documento).group()\n",
    "    num_motor = searchResult[8:len(searchResult)-1]\n",
    "    #Extraer precio\n",
    "    searchResult = re.search(r\"Precio.*?\\)\", documento).group()\n",
    "    searchResult = re.search(r\"\\(.*?\\)\", searchResult).group()\n",
    "    precio = searchResult[3:len(searchResult)-1].replace('.','')\n",
    "    precio\n",
    "\n",
    "    #Conectar e insertar en base de datos\n",
    "    cursor = sql_conn.cursor()\n",
    "    query = \"INSERT INTO Contratos VALUES ('%s','%s', '%s','%s', '%s','%s', '%s','%s', '%s','%s')\" % (clase, marca, modelo, linea, placa, color, puertas, potencia, num_motor, precio)\n",
    "    cursor.execute(query)\n",
    "    sql_conn.commit()\n",
    "    "
   ]
  },
  {
   "cell_type": "code",
   "execution_count": 226,
   "metadata": {},
   "outputs": [],
   "source": []
  },
  {
   "cell_type": "code",
   "execution_count": 228,
   "metadata": {},
   "outputs": [
    {
     "data": {
      "text/html": [
       "<div>\n",
       "<style scoped>\n",
       "    .dataframe tbody tr th:only-of-type {\n",
       "        vertical-align: middle;\n",
       "    }\n",
       "\n",
       "    .dataframe tbody tr th {\n",
       "        vertical-align: top;\n",
       "    }\n",
       "\n",
       "    .dataframe thead th {\n",
       "        text-align: right;\n",
       "    }\n",
       "</style>\n",
       "<table border=\"1\" class=\"dataframe\">\n",
       "  <thead>\n",
       "    <tr style=\"text-align: right;\">\n",
       "      <th></th>\n",
       "      <th>CLASE</th>\n",
       "      <th>MARCA</th>\n",
       "      <th>MODELO</th>\n",
       "      <th>LINEA</th>\n",
       "      <th>PLACA</th>\n",
       "      <th>COLOR</th>\n",
       "      <th>PUERTAS</th>\n",
       "      <th>POTENCIA</th>\n",
       "      <th>NUM_MOTOR</th>\n",
       "      <th>PRECIO</th>\n",
       "    </tr>\n",
       "  </thead>\n",
       "  <tbody>\n",
       "    <tr>\n",
       "      <th>0</th>\n",
       "      <td>Automóvil</td>\n",
       "      <td>HYUNDAI</td>\n",
       "      <td>2013</td>\n",
       "      <td>i 30 GLS</td>\n",
       "      <td>MKS126</td>\n",
       "      <td>PLATA CONTINENTAL</td>\n",
       "      <td>5</td>\n",
       "      <td>121</td>\n",
       "      <td>G4FGCU528020</td>\n",
       "      <td>36750000</td>\n",
       "    </tr>\n",
       "    <tr>\n",
       "      <th>1</th>\n",
       "      <td>Automóvil</td>\n",
       "      <td>HYUNDAI</td>\n",
       "      <td>2013</td>\n",
       "      <td>i 30 GLS</td>\n",
       "      <td>MKS126</td>\n",
       "      <td>PLATA CONTINENTAL</td>\n",
       "      <td>5</td>\n",
       "      <td>121</td>\n",
       "      <td>G4FGCU528020</td>\n",
       "      <td>36750000</td>\n",
       "    </tr>\n",
       "    <tr>\n",
       "      <th>2</th>\n",
       "      <td>Automóvil</td>\n",
       "      <td>HYUNDAI</td>\n",
       "      <td>2013</td>\n",
       "      <td>i 30 GLS</td>\n",
       "      <td>MKS126</td>\n",
       "      <td>PLATA CONTINENTAL</td>\n",
       "      <td>5</td>\n",
       "      <td>121</td>\n",
       "      <td>G4FGCU528020</td>\n",
       "      <td>36750000</td>\n",
       "    </tr>\n",
       "    <tr>\n",
       "      <th>3</th>\n",
       "      <td>Automóvil</td>\n",
       "      <td>HYUNDAI</td>\n",
       "      <td>2013</td>\n",
       "      <td>i 30 GLS</td>\n",
       "      <td>MKS126</td>\n",
       "      <td>PLATA CONTINENTAL</td>\n",
       "      <td>5</td>\n",
       "      <td>121</td>\n",
       "      <td>G4FGCU528020</td>\n",
       "      <td>36750000</td>\n",
       "    </tr>\n",
       "    <tr>\n",
       "      <th>4</th>\n",
       "      <td>Automóvil</td>\n",
       "      <td>HYUNDAI</td>\n",
       "      <td>2013</td>\n",
       "      <td>i 30 GLS</td>\n",
       "      <td>MKS126</td>\n",
       "      <td>PLATA CONTINENTAL</td>\n",
       "      <td>5</td>\n",
       "      <td>121</td>\n",
       "      <td>G4FGCU528020</td>\n",
       "      <td>36750000</td>\n",
       "    </tr>\n",
       "  </tbody>\n",
       "</table>\n",
       "</div>"
      ],
      "text/plain": [
       "       CLASE    MARCA MODELO     LINEA   PLACA              COLOR PUERTAS  \\\n",
       "0  Automóvil  HYUNDAI   2013  i 30 GLS  MKS126  PLATA CONTINENTAL       5   \n",
       "1  Automóvil  HYUNDAI   2013  i 30 GLS  MKS126  PLATA CONTINENTAL      5    \n",
       "2  Automóvil  HYUNDAI   2013  i 30 GLS  MKS126  PLATA CONTINENTAL      5    \n",
       "3  Automóvil  HYUNDAI   2013  i 30 GLS  MKS126  PLATA CONTINENTAL      5    \n",
       "4  Automóvil  HYUNDAI   2013  i 30 GLS  MKS126  PLATA CONTINENTAL      5    \n",
       "\n",
       "  POTENCIA     NUM_MOTOR    PRECIO  \n",
       "0      121  G4FGCU528020  36750000  \n",
       "1      121  G4FGCU528020  36750000  \n",
       "2      121  G4FGCU528020  36750000  \n",
       "3      121  G4FGCU528020  36750000  \n",
       "4      121  G4FGCU528020  36750000  "
      ]
     },
     "execution_count": 228,
     "metadata": {},
     "output_type": "execute_result"
    }
   ],
   "source": [
    "contratos = pd.read_sql(\"SELECT * FROM Contratos\", sql_conn)\n",
    "contratos"
   ]
  },
  {
   "cell_type": "code",
   "execution_count": null,
   "metadata": {},
   "outputs": [],
   "source": [
    "sql_conn.close()"
   ]
  }
 ],
 "metadata": {
  "kernelspec": {
   "display_name": "Python 3",
   "language": "python",
   "name": "python3"
  },
  "language_info": {
   "codemirror_mode": {
    "name": "ipython",
    "version": 3
   },
   "file_extension": ".py",
   "mimetype": "text/x-python",
   "name": "python",
   "nbconvert_exporter": "python",
   "pygments_lexer": "ipython3",
   "version": "3.6.5"
  }
 },
 "nbformat": 4,
 "nbformat_minor": 2
}
