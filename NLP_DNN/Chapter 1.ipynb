{
 "cells": [
  {
   "cell_type": "markdown",
   "metadata": {},
   "source": [
    "# Language Features\n",
    "## Gender Classification"
   ]
  },
  {
   "cell_type": "code",
   "execution_count": 1,
   "metadata": {},
   "outputs": [],
   "source": [
    "MALE = 'male'\n",
    "FEMALE = 'female'\n",
    "UNKNOWN = 'unknown'\n",
    "BOTH = 'both'\n",
    "\n",
    "MALE_WORDS = set([\n",
    "    'guy','spokesman','chairman',\"men's\",'men','him',\"he's\",'his',\n",
    "    'boy','boyfriend','boyfriends','boys','brother','brothers','dad',\n",
    "    'dads','dude','father','fathers','fiance','gentleman','gentlemen',\n",
    "    'god','grandfather','grandpa','grandson','groom','he','himself',\n",
    "    'husband','husbands','king','male','man','mr','nephew','nephews',\n",
    "    'priest','prince','son','sons','uncle','uncles','waiter','widower',\n",
    "    'widowers'\n",
    "])\n",
    "\n",
    "FEMALE_WORDS = set([\n",
    "    'heroine','spokeswoman','chairwoman',\"women's\",'actress','women',\n",
    "    \"she's\",'her','aunt','aunts','bride','daughter','daughters','female',\n",
    "    'fiancee','girl','girlfriend','girlfriends','girls','goddess',\n",
    "    'granddaughter','grandma','grandmother','herself','ladies','lady',\n",
    "    'lady','mom','moms','mother','mothers','mrs','ms','niece','nieces',\n",
    "    'priestess','princess','queens','she','sister','sisters','waitress',\n",
    "    'widow','widows','wife','wives','woman'\n",
    "])"
   ]
  },
  {
   "cell_type": "code",
   "execution_count": 2,
   "metadata": {},
   "outputs": [],
   "source": [
    "def genderize(words):\n",
    "    mwlen = len(MALE_WORDS.intersection(words))\n",
    "    fwlen = len(FEMALE_WORDS.intersection(words))\n",
    "    if mwlen > 0 and fwlen == 0:\n",
    "        return MALE\n",
    "    elif mwlen == 0 and fwlen > 0:\n",
    "        return FEMALE\n",
    "    elif mwlen > 0 and fwlen > 0:\n",
    "        return BOTH\n",
    "    else:\n",
    "        return UNKNOWN"
   ]
  },
  {
   "cell_type": "code",
   "execution_count": 4,
   "metadata": {},
   "outputs": [],
   "source": [
    "from collections import Counter\n",
    "def count_gender(sentences):\n",
    "    sents = Counter()\n",
    "    words = Counter()\n",
    "    for sentence in sentences:\n",
    "        gender = genderize(sentence)\n",
    "        sents[gender] += 1\n",
    "        words[gender] += len(sentence)\n",
    "    return sents, words"
   ]
  },
  {
   "cell_type": "code",
   "execution_count": 20,
   "metadata": {},
   "outputs": [],
   "source": [
    "import nltk\n",
    "def parse_gender(text):\n",
    "    sentences = [\n",
    "        [word.lower() for word in nltk.word_tokenize(sentence)]\n",
    "        for sentence in nltk.sent_tokenize(text)\n",
    "]\n",
    "    sents, words = count_gender(sentences)\n",
    "    total = sum(words.values())\n",
    "    for gender, count in words.items():\n",
    "        pcent = (count / total) * 100\n",
    "        nsents = sents[gender]\n",
    "        print(\n",
    "        \"{}% {} ({} sentences)\".format(round(pcent,2), gender, nsents)\n",
    "        )"
   ]
  },
  {
   "cell_type": "code",
   "execution_count": 23,
   "metadata": {},
   "outputs": [
    {
     "name": "stdout",
     "output_type": "stream",
     "text": [
      "82.13% unknown (56 sentences)\n",
      "15.82% male (10 sentences)\n",
      "2.05% female (1 sentences)\n"
     ]
    }
   ],
   "source": [
    "parse_gender('''\n",
    "After Boeing Crashes, Sharp Questions About Industry Regulating Itself.\n",
    "Seven years ago, an internal government watchdog took a hard look at the part of the Federal Aviation Administration responsible for certifying new Boeing jetliners. The watchdog’s investigation came to some alarming conclusions.\n",
    "F.A.A. employees viewed their management, the inquiry by the Transportation Department’s inspector general’s office found, as “having too close a relationship with Boeing officials.” F.A.A. managers, the report said, had not always backed efforts by agency employees “to hold Boeing accountable,” and employees feared retaliation for trying to do so.\n",
    "The part of the F.A.A. under scrutiny, the Transport Airplane Directorate, was led at the time by an aerospace engineer named Ali Bahrami. The next year, he took a job at the Aerospace Industries Association, a trade group whose members include Boeing. In that position, he urged his former agency to allow manufacturers like Boeing to perform as much of the work of certifying new planes as possible.\n",
    "Mr. Bahrami is now back at the F.A.A. as its top safety official.\n",
    "The question of whether the F.A.A. has gone too far in allowing Boeing to regulate itself has emerged as one of the key issues after the crash of a Boeing 737 Max in Ethiopia this month, the second deadly crash of the new plane in less than five months. The practice is already coming under scrutiny from Congress, and lawmakers are likely to press the F.A.A.’s acting administrator on Wednesday when he appears at a Senate hearing.\n",
    "The practice has been repeatedly endorsed by Congress and successive administrations to speed up the certification process for Boeing and the rest of the aviation industry while holding down costs for the government.\n",
    "In theory, delegating much of the day-to-day regulatory work to Boeing allows the F.A.A. to focus its limited resources on the most critical safety work, taps into existing industry technical expertise at a time when airliners are becoming increasingly complex, and allows Boeing in particular to bring out new planes faster at a time of intense global competition with its European rival Airbus.\n",
    "But over the years, government watchdogs and unions have raised flags, warnings that are getting renewed attention in light of the two Boeing crashes.\n",
    "It is not clear what role Boeing employees played in vetting the automated flight-control system, known as MCAS, that appears to have played a central role in the crash of Lion Air Flight 610 in October, and may have played a role in the crash of Ethiopian Airlines Flight 302 this month as well. The Seattle Times reported last week that a safety analysis for MCAS was delegated to Boeing, and that the company produced a document that had significant flaws.\n",
    "Transportation Secretary Elaine Chao has requested that her department’s inspector general conduct an audit of how the 737 Max 8, the model involved in both deadly crashes, was certified. Lawmakers have asked the inspector general to examine the role that the delegation program played in the Max’s certification. And the Justice Department is investigating the plane’s development, a person briefed on the inquiry said.\n",
    "Under the delegation program, “the staff responsible for regulating aircraft safety are answerable to the manufacturers who profit from cutting corners, not the American people who may be put at risk,” Senator Richard Blumenthal, Democrat of Connecticut, wrote to the inspector general last week.\n",
    "In testimony prepared for the Senate hearing on Wednesday, the F.A.A.’s acting administrator, Daniel K. Elwell, described the system of delegating authority outside of his agency as “critical to the success and effectiveness of the certification process.”\n",
    "“This is not self-certification; the F.A.A. retains strict oversight authority,” Mr. Elwell said in the prepared remarks.\n",
    "In the case of the 737 Max, Mr. Elwell said that the F.A.A. was “directly involved” in reviewing the safety of MCAS. The agency’s engineers and flight test pilots participated in evaluating the system, he said, calling the certification process for the plane “detailed and thorough.”\n",
    "In draft testimony for the Senate hearing, the Transportation Department’s inspector general, Calvin L. Scovel III, said the F.A.A. was revamping how it supervises manufacturers that perform certification work on its behalf. He said the F.A.A. planned by July “to introduce a new process that represents a significant change in its oversight approach.”\n",
    "The practice of delegating authority from regulators to plane makers stretches back decades. For the Boeing 747-400, approved in 1989 as an update to the iconic jumbo jet, the F.A.A. estimated that it had delegated 95 percent of the certification work, according to a 1993 report from the agency now known as the Government Accountability Office.\n",
    "The report raised concerns that the F.A.A. had turned over responsibility for critical work, including “analyses of hypothetical failures of systems.”\n",
    "The F.A.A. overhauled its approach to delegation in 2005, creating a new program that expanded the authority given to manufacturers to help certify their own products. Under the new program, called Organization Designation Authorization, companies like Boeing can choose their own employees to work on behalf of the F.A.A.\n",
    "When the F.A.A. moved to create the program, Boeing called it “an important building block toward increased delegation throughout the aviation industry.”\n",
    "But not everyone in aviation circles shared that positive view. The National Air Traffic Controllers Association, whose members include F.A.A. certification employees, said at the time that the F.A.A.’s new approach “provides less specific and technical F.A.A. oversight and therefore would in time lower the safety of the flying public.”\n",
    "Another F.A.A. union now known as the Professional Aviation Safety Specialists said it would oppose “any system that allows industry to self-regulate oversight via the honor system.” The union wrote that the F.A.A.’s “blatant outsourcing” was “reckless” and would “actually compromise public air safety, not enhance it.”\n",
    "The F.A.A. was “rushing to hand off their oversight responsibilities to industry and virtually establishing a ‘fox guarding the henhouse’ mentality,” the union wrote.\n",
    "The delegation program has come under scrutiny on multiple occasions since then.\n",
    "In 2011, after a review stretching nearly two years, the Transportation Department’s inspector general’s office released an audit that raised concerns about the F.A.A.’s oversight of the program.\n",
    "The report warned that the new delegation program created the risk that plane makers could choose employees “with inadequate qualifications or a history of poor performance to approve certification projects.” The report cited an instance where F.A.A. engineers were concerned about the “integrity” of an employee acting on the agency’s behalf at an unnamed manufacturer because the employee was “advocating a position that directly opposed F.A.A. rules on an aircraft fuel system in favor of the manufacturer.”\n",
    "Representative Daniel Lipinski, Democrat of Illinois, had requested the review. On Monday, he said that the delegation program, known in aviation lingo as the O.D.A. program, had not been a source of concern in recent years, but that the two crashes should prompt another look at it.\n",
    "“Part of the question is, did the O.D.A. program, did that in any way impact the certification of these planes?” he said. “I think it’s a legitimate question.”\n",
    "In another audit released in 2015, the inspector general’s office again reviewed the F.A.A.’s oversight of the delegation program. Once again, the watchdog raised concerns about the F.A.A.’s supervision of the program, including about the focus of its oversight work and whether there was adequate staffing to perform that work.\n",
    "“Industry representatives expressed concern that F.A.A.’s focus was often on paperwork — not on safety-critical items,” the report said.\n",
    "One factor in the debate is the F.A.A.’s budget. If Congress wanted the government to handle more certification work without slowing down the approval of new planes, lawmakers would most likely need to drastically increase funding for the F.A.A. so it could expand its staff. Instead, Congress has encouraged the F.A.A. to delegate more certification work to manufacturers.\n",
    "A report accompanying a spending bill last year said that utilizing the F.A.A.’s program for delegating authority to manufacturers was “key to improving the effectiveness and efficiency of product certification.”\n",
    "“Ideally, if resources are no constraint, you would want the regulator to be doing it all,” said Christopher A. Hart, a former F.A.A. official and National Transportation Safety Board chairman. “But this isn’t the ideal world and resources are constrained.”\n",
    "Mr. Hart cited the stellar safety record of commercial air travel in the United States in recent years as evidence of the delegation system’s success. “If it’s properly done,” he said, “it can equate to the safety of not delegating.”\n",
    "''')"
   ]
  }
 ],
 "metadata": {
  "kernelspec": {
   "display_name": "Python 3",
   "language": "python",
   "name": "python3"
  },
  "language_info": {
   "codemirror_mode": {
    "name": "ipython",
    "version": 3
   },
   "file_extension": ".py",
   "mimetype": "text/x-python",
   "name": "python",
   "nbconvert_exporter": "python",
   "pygments_lexer": "ipython3",
   "version": "3.7.1"
  }
 },
 "nbformat": 4,
 "nbformat_minor": 2
}
