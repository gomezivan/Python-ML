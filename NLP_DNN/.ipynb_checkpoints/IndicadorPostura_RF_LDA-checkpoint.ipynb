{
 "cells": [
  {
   "cell_type": "code",
   "execution_count": 49,
   "metadata": {},
   "outputs": [
    {
     "name": "stderr",
     "output_type": "stream",
     "text": [
      "[nltk_data] Downloading package wordnet to\n",
      "[nltk_data]     C:\\Users\\ivandario.gomez\\AppData\\Roaming\\nltk_data...\n",
      "[nltk_data]   Package wordnet is already up-to-date!\n"
     ]
    },
    {
     "data": {
      "text/plain": [
       "True"
      ]
     },
     "execution_count": 49,
     "metadata": {},
     "output_type": "execute_result"
    }
   ],
   "source": [
    "from sklearn.model_selection import train_test_split, cross_val_score\n",
    "from sklearn.feature_extraction.text import CountVectorizer, TfidfVectorizer\n",
    "from sklearn.ensemble import RandomForestRegressor\n",
    "from nltk.stem import WordNetLemmatizer, SnowballStemmer\n",
    "import numpy as np\n",
    "import scipy as sc\n",
    "import matplotlib.pyplot as plt\n",
    "import pandas as pd\n",
    "from sklearn.datasets import make_circles\n",
    "import warnings\n",
    "warnings.filterwarnings(\"ignore\")\n",
    "import gensim\n",
    "from gensim import corpora, models\n",
    "from gensim.utils import simple_preprocess\n",
    "from gensim.parsing.preprocessing import STOPWORDS\n",
    "from nltk.stem.porter import *\n",
    "from nltk.stem import *\n",
    "import nltk\n",
    "nltk.download('wordnet')"
   ]
  },
  {
   "cell_type": "code",
   "execution_count": 2,
   "metadata": {},
   "outputs": [],
   "source": [
    "#Para listar los archivos de directorios\n",
    "from os import listdir\n",
    "mypath = \"C:/Users/ivandario.gomez/Documents/Varios IDGR/GitUniandes/Uniandes/Comunicados/\"\n",
    "files = listdir(mypath)\n",
    "\n",
    "#cargar textos en un vector\n",
    "docVector = []\n",
    "for i in range(len(files)):\n",
    "    file = open(mypath + files[i],\"r\", encoding=\"utf8\") \n",
    "    #print(file.read())\n",
    "    docVector.append({'text': file.read(), 'Date': files[i][:7]})"
   ]
  },
  {
   "cell_type": "code",
   "execution_count": 3,
   "metadata": {},
   "outputs": [
    {
     "data": {
      "text/html": [
       "<div>\n",
       "<style scoped>\n",
       "    .dataframe tbody tr th:only-of-type {\n",
       "        vertical-align: middle;\n",
       "    }\n",
       "\n",
       "    .dataframe tbody tr th {\n",
       "        vertical-align: top;\n",
       "    }\n",
       "\n",
       "    .dataframe thead th {\n",
       "        text-align: right;\n",
       "    }\n",
       "</style>\n",
       "<table border=\"1\" class=\"dataframe\">\n",
       "  <thead>\n",
       "    <tr style=\"text-align: right;\">\n",
       "      <th></th>\n",
       "      <th>Date</th>\n",
       "      <th>text</th>\n",
       "    </tr>\n",
       "  </thead>\n",
       "  <tbody>\n",
       "    <tr>\n",
       "      <th>0</th>\n",
       "      <td>2007-06</td>\n",
       "      <td>La Junta Directiva del Banco de la República e...</td>\n",
       "    </tr>\n",
       "    <tr>\n",
       "      <th>1</th>\n",
       "      <td>2007-07</td>\n",
       "      <td>La Junta Directiva del Banco de la República e...</td>\n",
       "    </tr>\n",
       "    <tr>\n",
       "      <th>2</th>\n",
       "      <td>2007-08</td>\n",
       "      <td>La Junta Directiva del Banco de la República e...</td>\n",
       "    </tr>\n",
       "    <tr>\n",
       "      <th>3</th>\n",
       "      <td>2007-09</td>\n",
       "      <td>La Junta Directiva del Banco de la República e...</td>\n",
       "    </tr>\n",
       "    <tr>\n",
       "      <th>4</th>\n",
       "      <td>2007-10</td>\n",
       "      <td>La Junta Directiva del Banco de la República e...</td>\n",
       "    </tr>\n",
       "  </tbody>\n",
       "</table>\n",
       "</div>"
      ],
      "text/plain": [
       "      Date                                               text\n",
       "0  2007-06  La Junta Directiva del Banco de la República e...\n",
       "1  2007-07  La Junta Directiva del Banco de la República e...\n",
       "2  2007-08  La Junta Directiva del Banco de la República e...\n",
       "3  2007-09  La Junta Directiva del Banco de la República e...\n",
       "4  2007-10  La Junta Directiva del Banco de la República e..."
      ]
     },
     "execution_count": 3,
     "metadata": {},
     "output_type": "execute_result"
    }
   ],
   "source": [
    "#cargar textos en un dataframe\n",
    "docDataF = pd.DataFrame(docVector)\n",
    "docDataF.head()"
   ]
  },
  {
   "cell_type": "code",
   "execution_count": 50,
   "metadata": {},
   "outputs": [
    {
     "data": {
      "text/html": [
       "<div>\n",
       "<style scoped>\n",
       "    .dataframe tbody tr th:only-of-type {\n",
       "        vertical-align: middle;\n",
       "    }\n",
       "\n",
       "    .dataframe tbody tr th {\n",
       "        vertical-align: top;\n",
       "    }\n",
       "\n",
       "    .dataframe thead th {\n",
       "        text-align: right;\n",
       "    }\n",
       "</style>\n",
       "<table border=\"1\" class=\"dataframe\">\n",
       "  <thead>\n",
       "    <tr style=\"text-align: right;\">\n",
       "      <th></th>\n",
       "      <th>ANIO_MES</th>\n",
       "      <th>IPC</th>\n",
       "    </tr>\n",
       "  </thead>\n",
       "  <tbody>\n",
       "    <tr>\n",
       "      <th>0</th>\n",
       "      <td>2007-06</td>\n",
       "      <td>0.056114</td>\n",
       "    </tr>\n",
       "    <tr>\n",
       "      <th>1</th>\n",
       "      <td>2007-07</td>\n",
       "      <td>0.053881</td>\n",
       "    </tr>\n",
       "    <tr>\n",
       "      <th>2</th>\n",
       "      <td>2007-08</td>\n",
       "      <td>0.051937</td>\n",
       "    </tr>\n",
       "    <tr>\n",
       "      <th>3</th>\n",
       "      <td>2007-09</td>\n",
       "      <td>0.049796</td>\n",
       "    </tr>\n",
       "    <tr>\n",
       "      <th>4</th>\n",
       "      <td>2007-10</td>\n",
       "      <td>0.052569</td>\n",
       "    </tr>\n",
       "  </tbody>\n",
       "</table>\n",
       "</div>"
      ],
      "text/plain": [
       "  ANIO_MES       IPC\n",
       "0  2007-06  0.056114\n",
       "1  2007-07  0.053881\n",
       "2  2007-08  0.051937\n",
       "3  2007-09  0.049796\n",
       "4  2007-10  0.052569"
      ]
     },
     "execution_count": 50,
     "metadata": {},
     "output_type": "execute_result"
    }
   ],
   "source": [
    "#cargar IP en un dataframe\n",
    "ipc = pd.read_excel(open('inflación.xlsx', 'rb'),sheet_name='ipc')\n",
    "ipc.head()"
   ]
  },
  {
   "cell_type": "code",
   "execution_count": 5,
   "metadata": {},
   "outputs": [
    {
     "data": {
      "text/html": [
       "<div>\n",
       "<style scoped>\n",
       "    .dataframe tbody tr th:only-of-type {\n",
       "        vertical-align: middle;\n",
       "    }\n",
       "\n",
       "    .dataframe tbody tr th {\n",
       "        vertical-align: top;\n",
       "    }\n",
       "\n",
       "    .dataframe thead th {\n",
       "        text-align: right;\n",
       "    }\n",
       "</style>\n",
       "<table border=\"1\" class=\"dataframe\">\n",
       "  <thead>\n",
       "    <tr style=\"text-align: right;\">\n",
       "      <th></th>\n",
       "      <th>IPC</th>\n",
       "      <th>text</th>\n",
       "    </tr>\n",
       "    <tr>\n",
       "      <th>ANIO_MES</th>\n",
       "      <th></th>\n",
       "      <th></th>\n",
       "    </tr>\n",
       "  </thead>\n",
       "  <tbody>\n",
       "    <tr>\n",
       "      <th>2007-06</th>\n",
       "      <td>5.611418</td>\n",
       "      <td>La Junta Directiva del Banco de la República e...</td>\n",
       "    </tr>\n",
       "    <tr>\n",
       "      <th>2007-07</th>\n",
       "      <td>5.388066</td>\n",
       "      <td>La Junta Directiva del Banco de la República e...</td>\n",
       "    </tr>\n",
       "    <tr>\n",
       "      <th>2007-08</th>\n",
       "      <td>5.193734</td>\n",
       "      <td>La Junta Directiva del Banco de la República e...</td>\n",
       "    </tr>\n",
       "    <tr>\n",
       "      <th>2007-09</th>\n",
       "      <td>4.979589</td>\n",
       "      <td>La Junta Directiva del Banco de la República e...</td>\n",
       "    </tr>\n",
       "    <tr>\n",
       "      <th>2007-10</th>\n",
       "      <td>5.256945</td>\n",
       "      <td>La Junta Directiva del Banco de la República e...</td>\n",
       "    </tr>\n",
       "  </tbody>\n",
       "</table>\n",
       "</div>"
      ],
      "text/plain": [
       "               IPC                                               text\n",
       "ANIO_MES                                                             \n",
       "2007-06   5.611418  La Junta Directiva del Banco de la República e...\n",
       "2007-07   5.388066  La Junta Directiva del Banco de la República e...\n",
       "2007-08   5.193734  La Junta Directiva del Banco de la República e...\n",
       "2007-09   4.979589  La Junta Directiva del Banco de la República e...\n",
       "2007-10   5.256945  La Junta Directiva del Banco de la República e..."
      ]
     },
     "execution_count": 5,
     "metadata": {},
     "output_type": "execute_result"
    }
   ],
   "source": [
    "#Unir los textos y la serie de tiempo en un solo dataframe\n",
    "data = ipc.set_index('ANIO_MES').join(docDataF.set_index('Date'))\n",
    "data['IPC'] = data.IPC * 100\n",
    "data.head()"
   ]
  },
  {
   "cell_type": "markdown",
   "metadata": {},
   "source": [
    "# Radom Forest for predict IPC"
   ]
  },
  {
   "cell_type": "code",
   "execution_count": 51,
   "metadata": {},
   "outputs": [],
   "source": [
    "#Text: será preprocesaro para generar las features\n",
    "#IPC: Variables a predecir\n",
    "X = data['text']\n",
    "y = data['IPC']\n",
    "X_train, X_test, y_train, y_test=train_test_split(X, y, test_size=0.33, random_state=42)"
   ]
  },
  {
   "cell_type": "code",
   "execution_count": 7,
   "metadata": {},
   "outputs": [
    {
     "name": "stdout",
     "output_type": "stream",
     "text": [
      "['000', '02', '06', '07', '10', '100', '11', '12', '13', '14', '15', '15948', '16', '17', '18', '19', '1995', '1997', '1pp', '20', '200', '2000', '2006', '2007', '2008', '2009', '2010', '2011', '2012', '2013', '2014', '2015', '2016', '2017', '21', '22', '23', '24', '25', '2500', '25pb', '27', '28', '29', '30', '300', '3000', '31', '33', '34', '35', '36', '38', '381', '39', '40', '41', '42', '43', '44', '45', '46', '47', '50', '500', '52', '53', '54', '55', '550', '56', '57', '58', '59', '63', '64', '65', '66', '668', '67', '69', '700', '72', '73', '74', '75', '750', '76', '77', '79', '81', '82', '84', '86', '87', '89', '92', '925', '98', 'abajo', 'abarcando', 'abierta', 'abril', 'abundancia', 'acceso', 'accionarios', 'acciones', 'acción', 'aceleración', 'acelerado', 'acelere', 'acelerándose', 'aceleró', 'acentuada', 'acentuado', 'acentuados', 'acentuarse', 'acercaron', 'acercarse', 'acercará', 'acontecimientos', 'acordó', 'acreedores', 'activación', 'activado', 'activas', 'actividad', 'activos', 'actual', 'actuales', 'actualidad', 'acuerdo', 'acuerdos', 'acumulación', 'acumulada', 'acumulado', 'acumulará', 'adecuado', 'adelante', 'además', 'adicional', 'adicionales', 'adicionalmente', 'adicionará', 'adopta', 'adoptada', 'adoptadas', 'adoptar', 'adquisitiva', 'adversamente', 'adversas', 'adverso', 'adversos', 'afecta', 'afectada', 'afectado', 'afectados', 'afectan', 'afectando', 'afectar', 'afectará', 'afectaría', 'afecte', 'afectó', 'afianzar', 'agentes', 'agosto', 'agregada', 'agregado', 'agregados', 'agricultura', 'agropecuario', 'agrícola', 'agrícolas', 'ahora', 'ahorro', 'ajeno', 'ajusta', 'ajustado', 'ajustan', 'ajustando', 'ajustar', 'ajustarse', 'ajuste', 'ajustes', 'ajustándose', 'al', 'alcanza', 'alcanzada', 'alcanzado', 'alcanzaron', 'alcanzó', 'alcista', 'alcistas', 'alemana', 'algo', 'alguna', 'algunas', 'algunos', 'alimentos', 'allá', 'alrededor', 'alta', 'altas', 'alto', 'altos', 'alza', 'alzas', 'ambiente', 'americano', 'amortigüe', 'amplia', 'ampliación', 'ampliado', 'ampliar', 'amplitud', 'amplía', 'américa', 'analistas', 'analizar', 'analizó', 'ancladas', 'anclaje', 'anclar', 'ante', 'antecedentes', 'anterior', 'anteriores', 'anteriormente', 'antes', 'anticipada', 'anticipadas', 'anticipado', 'anual', 'anuales', 'anuncia', 'anunciadas', 'anunciado', 'anunciados', 'anunciaron', 'anuncio', 'anunció', 'apalancamiento', 'aparecer', 'aparición', 'aporte', 'apoyada', 'apoyan', 'apoyando', 'aprecia', 'apreciable', 'apreciación', 'apreciado', 'apreciaron', 'apreció', 'apretadas', 'apropiadas', 'apropiado', 'aproximan', 'apunta', 'aquella', 'aquellas', 'aquellos', 'arriba', 'arrojó', 'asalariado', 'ascendente', 'ascendiendo', 'ascendió', 'asegura', 'asegurar', 'asia', 'asimismo', 'asiáticas', 'asiáticos', 'asociado', 'asociados', 'aspectos', 'así', 'atender', 'atenderá', 'atenta', 'atenten', 'atrasos', 'atribuido', 'atrás', 'aumentado', 'aumentan', 'aumentando', 'aumentar', 'aumentaron', 'aumente', 'aumenten', 'aumento', 'aumentos', 'aumentó', 'aunada', 'aunque', 'austera', 'auto', 'autoridad', 'autoridades', 'autorizado', 'avanzadas', 'avanzados', 'aversión', 'año', 'años', 'aún', 'baja', 'bajando', 'bajas', 'bajo', 'bajos', 'balance', 'balanceado', 'balances', 'balanza', 'bancario', 'bancarios', 'banco', 'bancos', 'basados', 'base', 'beneficiarán', 'bien', 'bienes', 'billón', 'bisemana', 'bogotá', 'bonos', 'brasil', 'brecha', 'bruscos', 'bruto', 'buen', 'buena', 'busca', 'buscando', 'básica', 'básicas', 'básicos', 'cabe', 'cada', 'caen', 'caer', 'caerán', 'caerían', 'café', 'caiga', 'caigan', 'calcula', 'calculada', 'calculadas', 'calculado', 'calculados', 'calidad', 'call', 'cambiado', 'cambian', 'cambiaria', 'cambiario', 'cambio', 'cambios', 'canasta', 'capacidad', 'capital', 'capitales', 'captación', 'caracterizado', 'carbón', 'carreteras', 'cartera', 'carácter', 'casi', 'caso', 'casos', 'causada', 'cayendo', 'cayeron', 'cayó', 'caída', 'caídas', 'caído', 'cemento', 'central', 'centrales', 'cerca', 'cercana', 'cercanas', 'cercano', 'cercanos', 'cerrar', 'cerromatoso', 'cerró', 'certeza', 'china', 'choque', 'choques', 'ciclos', 'ciento', 'cierre', 'cifra', 'cifras', 'cinco', 'circunstancias', 'civiles', 'claramente', 'climáticas', 'coherencia', 'coherente', 'coherentes', 'coincide', 'colaterales', 'colocación', 'colombia', 'colombiana', 'colombianas', 'colombiano', 'colombianos', 'combustibles', 'comenzado', 'comercial', 'comerciales', 'comerciantes', 'comercio', 'comidas', 'comience', 'comienzo', 'comienzos', 'como', 'comparación', 'compatible', 'compatibles', 'compensación', 'compensado', 'compensados', 'compensar', 'compensó', 'competitivas', 'competitividad', 'compiten', 'completo', 'completó', 'componente', 'componentes', 'comportamiento', 'composición', 'compra', 'comprar', 'comprará', 'compras', 'comprometa', 'comprometer', 'compromiso', 'comunicaciones', 'comunicado', 'común', 'con', 'concentrada', 'concerniente', 'concluyó', 'condiciones', 'condición', 'conducente', 'confianza', 'confirma', 'confirman', 'confirmó', 'conforme', 'confía', 'conjeturas', 'conocen', 'conocido', 'conocidos', 'consciente', 'consecuencia', 'consecuencias', 'consecuente', 'consecutivo', 'consecutivos', 'consenso', 'conservó', 'considera', 'consideraba', 'considerablemente', 'consideración', 'considerando', 'consideró', 'consistente', 'consolida', 'consolidación', 'consolidar', 'constitucional', 'constitutivos', 'constituye', 'construcciones', 'construcción', 'construye', 'consumidor', 'consumidores', 'consumo', 'contagio', 'contemplado', 'contenida', 'contenido', 'contexto', 'continente', 'continua', 'continuado', 'continuando', 'continuar', 'continuaron', 'continuará', 'continuarán', 'continuaría', 'continuarían', 'continuo', 'continuos', 'continuó', 'continúa', 'continúan', 'continúe', 'continúen', 'contra', 'contracciones', 'contracción', 'contraería', 'contraiga', 'contrajeron', 'contrajo', 'contrarrestar', 'contrasta', 'contraste', 'contrayendo', 'contrayéndose', 'contraído', 'contribución', 'contribuido', 'contribuir', 'contribuirán', 'contribuya', 'contribuyan', 'contribuye', 'contribuyen', 'contribuyendo', 'contribuyeron', 'contribuyó', 'controlar', 'conveniencia', 'conveniente', 'convergencia', 'convergente', 'convergerá', 'convergiendo', 'converja', 'converjan', 'conviertan', 'convocará', 'coordinar', 'copando', 'corea', 'corporación', 'corrección', 'corregido', 'corresponde', 'correspondieron', 'corrido', 'corriente', 'corrientes', 'corrigiéndose', 'corrigió', 'corto', 'costo', 'costos', 'costosa', 'costosos', 'cotizaciones', 'cotización', 'coyuntura', 'crean', 'crece', 'crecen', 'crecer', 'crecerá', 'crecerán', 'crecería', 'crecido', 'creciendo', 'creciente', 'crecientes', 'crecieron', 'crecimiento', 'crecimientos', 'creció', 'credibilidad', 'cree', 'crezca', 'crisis', 'criterio', 'crudo', 'crédito', 'créditos', 'cual', 'cuales', 'cualquier', 'cuando', 'cuanto', 'cuarto', 'cuatro', 'cuenta', 'cuentas', 'cuidadosamente', 'cuidadoso', 'culmine', 'cumplimiento', 'cumplir', 'cupo', 'cuya', 'cálculo', 'cámara', 'cómputo', 'da', 'dada', 'dado', 'dados', 'dan', 'dane', 'dar', 'darán', 'daría', 'dato', 'datos', 'de', 'debajo', 'debate', 'debe', 'debería', 'deberían', 'debida', 'debido', 'debilidad', 'debilitamiento', 'debilitando', 'debilitándose', 'debilitó', 'debió', 'decidió', 'decisiones', 'decisión', 'declive', 'decreciente', 'definido', 'definitiva', 'definió', 'deflactadas', 'dejado', 'dejar', 'dejaron', 'dejó', 'del', 'demanda', 'demandas', 'demuestra', 'demás', 'den', 'dentro', 'dependerá', 'depreciaciones', 'depreciación', 'depreciado', 'depreciaron', 'depreciándose', 'depósitos', 'derivadas', 'derivado', 'derivados', 'derivan', 'desaceleración', 'desacelerado', 'desacelerando', 'desaceleraron', 'desacelerarse', 'desacelerándose', 'desaceleró', 'desacumulación', 'desanclaje', 'desanclar', 'desarrolladas', 'desarrollados', 'desarrollo', 'desarrollos', 'desbalances', 'descartar', 'descendente', 'descender', 'descendido', 'descendiendo', 'descendieron', 'descendió', 'descenso', 'descensos', 'descritas', 'descrito', 'desde', 'desempeño', 'desempleo', 'desenvolviéndose', 'desequilibrios', 'desestacionalizada', 'desigual', 'desinflación', 'desordenada', 'desordenado', 'despachos', 'despreciables', 'después', 'destaca', 'destacándose', 'destacó', 'destinada', 'desviación', 'desviado', 'desviarse', 'desvíe', 'detectado', 'detectar', 'deteriorado', 'deteriorando', 'deteriorarse', 'deterioro', 'detiene', 'detuvo', 'deuda', 'devaluación', 'devaluado', 'diarias', 'diariasla', 'diarios', 'dicha', 'dichas', 'dicho', 'diciembre', 'diferencia', 'diferenciales', 'diferencias', 'diferente', 'diferentes', 'dificultades', 'difícil', 'diluya', 'diluyan', 'dinamismo', 'dinámica', 'dinámicas', 'dinámico', 'dinámicos', 'dio', 'dirección', 'directa', 'directiva', 'directo', 'directores', 'dirigidas', 'dirigido', 'disipe', 'disminución', 'disminuido', 'disminuir', 'disminuyan', 'disminuyendo', 'disminuyeran', 'disminuyeron', 'disminuyó', 'disponible', 'disponibles', 'distintas', 'distintos', 'diversas', 'diversos', 'divisas', 'donde', 'dos', 'drástica', 'durables', 'duradera', 'duradero', 'durante', 'dé', 'débil', 'décimo', 'déficit', 'día', 'días', 'dígito', 'dólar', 'dólares', 'economía', 'economías', 'económica', 'económicas', 'económico', 'económicos', 'edificaciones', 'eeuu', 'efectivo', 'efecto', 'efectos', 'efectuados', 'efectuará', 'ejecutando', 'ejemplo', 'ejercen', 'ejercicio', 'ejerciendo', 'ejercieron', 'el', 'eleva', 'elevada', 'elevadas', 'elevado', 'elevados', 'elevan', 'elevando', 'elevó', 'eliminarán', 'ellas', 'ello', 'ellos', 'eléctrica', 'embargo', 'emergentes', 'empezado', 'empezando', 'empleado', 'empleados', 'empleo', 'empresariales', 'empresarios', 'empresas', 'en', 'encaje', 'encaminadas', 'encarecimiento', 'encima', 'encuentra', 'encuentran', 'encuentre', 'encuesta', 'encuestas', 'ende', 'endeudamiento', 'endurecimiento', 'energético', 'energéticos', 'energía', 'enero', 'enfatizó', 'enfrentar', 'enfrentarla', 'entorno', 'entradas', 'entrante', 'entre', 'equipo', 'equivalente', 'era', 'es', 'esa', 'escaso', 'escenario', 'ese', 'esfuerzos', 'esos', 'espacio', 'especial', 'especialmente', 'espera', 'esperaba', 'esperada', 'esperadas', 'esperado', 'esperados', 'esperan', 'esperar', 'esta', 'estabilidad', 'estabilización', 'estabilizado', 'estabilizando', 'estabilizaron', 'estabilizarse', 'estabilizándose', 'estabilizó', 'estable', 'establecer', 'establecida', 'establecidas', 'establecido', 'estableció', 'estables', 'estado', 'estados', 'estar', 'estará', 'estaría', 'estas', 'este', 'esterilización', 'esterilizada', 'estima', 'estimaciones', 'estimación', 'estimada', 'estimadas', 'estimado', 'estimulada', 'estimulan', 'estimulando', 'estimule', 'estimó', 'esto', 'estos', 'estrategia', 'estructural', 'estudios', 'estuvo', 'está', 'están', 'esté', 'estímulo', 'estímulos', 'euro', 'europa', 'europea', 'europeas', 'europeo', 'europeos', 'eurozona', 'evaluación', 'evaluar', 'evaluó', 'evento', 'eventos', 'eventual', 'eventualmente', 'evidencia', 'evitar', 'evolución', 'exacerbase', 'exceda', 'excepción', 'excepto', 'exceptuando', 'excesiva', 'excesivas', 'excesivo', 'exceso', 'excesos', 'excluye', 'excluyendo', 'existe', 'existen', 'existencia', 'existencias', 'exitosa', 'expanda', 'expande', 'expanden', 'expandieron', 'expandiéndose', 'expandió', 'expansiones', 'expansionista', 'expansiva', 'expansivas', 'expansivo', 'expansivos', 'expansión', 'expectativa', 'expectativas', 'explica', 'explicación', 'explicada', 'explicado', 'explican', 'explicando', 'explicarse', 'explicó', 'exporta', 'exportables', 'exportaciones', 'exportación', 'exportador', 'exportadores', 'exportan', 'extender', 'extendió', 'extendía', 'exterior', 'externa', 'externas', 'externo', 'externos', 'extranjera', 'extranjero', 'extraídas', 'extrema', 'facilitar', 'factible', 'factor', 'factores', 'faltantes', 'familiar', 'familias', 'fase', 'favorable', 'favorables', 'febrero', 'fed', 'federal', 'fedesarrollo', 'fenómeno', 'fenómenos', 'ferroníquel', 'fija', 'fijada', 'fijado', 'fijó', 'fin', 'final', 'finales', 'finalizar', 'finalmente', 'financiamiento', 'financiar', 'financiera', 'financieras', 'financiero', 'financieros', 'finanzas', 'firme', 'fiscal', 'fiscales', 'fluctuado', 'flujos', 'fmi', 'forma', 'fortalecido', 'fortaleciendo', 'fortalecimiento', 'fortaleciéndose', 'fortaleció', 'fortaleza', 'frenado', 'frente', 'frágil', 'fue', 'fuente', 'fuera', 'fueran', 'fueron', 'fuerte', 'fuertemente', 'fuertes', 'fuerza', 'funcionamiento', 'fundamental', 'fundamentalmente', 'futura', 'futuras', 'futuro', 'futuros', 'garantizar', 'gasto', 'generado', 'general', 'generales', 'generalizadas', 'generar', 'generaron', 'genere', 'global', 'globales', 'gobierno', 'gracias', 'grado', 'gradual', 'graduales', 'gradualmente', 'gran', 'grandes', 'grecia', 'grupo', 'guiar', 'ha', 'haber', 'haberse', 'habilitar', 'habría', 'habrían', 'había', 'hace', 'hacen', 'hacer', 'hacia', 'hacienda', 'haciendo', 'haciéndolo', 'han', 'hará', 'harán', 'hasta', 'hay', 'haya', 'hecha', 'hecho', 'hechos', 'herramientas', 'heterogénea', 'heterogéneos', 'hipotecaria', 'hipotecario', 'históricamente', 'históricos', 'hogar', 'hogares', 'horizonte', 'horizontes', 'hoy', 'huelga', 'hábiles', 'identifica', 'identificó', 'ido', 'igual', 'impacto', 'impactos', 'implementó', 'implica', 'implicaciones', 'implicado', 'implican', 'implícitas', 'importa', 'importaciones', 'importadas', 'importadores', 'importados', 'importancia', 'importante', 'importantes', 'imposición', 'impulsa', 'impulsada', 'impulsado', 'impulsan', 'impulsando', 'impulsarán', 'impulso', 'inalterada', 'inalteradas', 'inalterado', 'incentivado', 'incentiven', 'incentivos', 'incertidumbre', 'incidencia', 'incidido', 'incidir', 'incierta', 'inciertos', 'incluida', 'incluido', 'incluso', 'incluyendo', 'incorpora', 'incorporan', 'incorporando', 'incrementa', 'incrementada', 'incrementado', 'incrementan', 'incrementando', 'incrementar', 'incrementaron', 'incrementarse', 'incremente', 'incremento', 'incrementos', 'incrementó', 'incumplimiento', 'indexación', 'india', 'indica', 'indicador', 'indicadores', 'indican', 'indicando', 'inducidos', 'induciría', 'industria', 'industrial', 'industriales', 'industrializadas', 'inesperada', 'inexistencia', 'inferior', 'inferiores', 'infieren', 'inflacionarias', 'inflaciones', 'inflación', 'información', 'informado', 'informe', 'informó', 'ingreso', 'ingresos', 'inicia', 'iniciada', 'iniciado', 'inicialmente', 'iniciará', 'inicio', 'inicios', 'inició', 'injustificados', 'inmodificados', 'inserción', 'instalada', 'instrumento', 'instrumentos', 'intensidad', 'intensificación', 'intensificado', 'intensificó', 'interbancaria', 'intercambio', 'interna', 'internacional', 'internacionales', 'internacionalesla', 'interno', 'internos', 'interrumpió', 'intervalo', 'intervenciones', 'intervención', 'intervenciónla', 'interés', 'invernal', 'inversionistas', 'inversión', 'invertir', 'ipc', 'irrigación', 'ise', 'jalonada', 'japón', 'julio', 'junio', 'junta', 'junto', 'juzgó', 'la', 'laboral', 'lado', 'largo', 'las', 'latina', 'le', 'legales', 'lenta', 'lentamente', 'lento', 'leve', 'levemente', 'liberarán', 'liderado', 'ligeramente', 'liquidez', 'llegado', 'llevaban', 'llevado', 'llevaron', 'llevó', 'lo', 'local', 'lograr', 'logro', 'lombarda', 'los', 'luego', 'lunes', 'lustro', 'líderes', 'límite', 'línea', 'macroeconómica', 'macroeconómicas', 'macroeconómico', 'magnitud', 'mandato', 'manejo', 'manera', 'mantendrá', 'mantendría', 'mantendrían', 'mantener', 'mantenerla', 'mantenerse', 'mantenga', 'mantengan', 'mantenido', 'mantiene', 'mantienen', 'mantuviera', 'mantuvieron', 'mantuvo', 'manufacturera', 'manufacturero', 'maquinaria', 'marcada', 'marcado', 'marginal', 'marzo', 'materia', 'materializarse', 'materias', 'maximizar', 'mayo', 'mayor', 'mayores', 'mayormente', 'mayoría', 'mecanismo', 'mecanismos', 'media', 'mediados', 'mediano', 'mediante', 'medida', 'medidas', 'medio', 'mejor', 'mejora', 'mejorado', 'mejorando', 'mejorar', 'mejoras', 'mejores', 'mejoró', 'mencionó', 'menor', 'menores', 'menos', 'mensuales', 'mensualmente', 'mercado', 'mercados', 'mes', 'meses', 'meta', 'metas', 'miembros', 'mientras', 'mil', 'millones', 'minera', 'minero', 'minería', 'ministerio', 'ministro', 'misma', 'mismas', 'mismo', 'mismos', 'mitad', 'mitigados', 'mitigar', 'modalidad', 'modalidades', 'modelos', 'modera', 'moderación', 'moderada', 'moderado', 'moderados', 'moderar', 'modestas', 'modesto', 'modestos', 'modificaciones', 'modifican', 'modificar', 'modificó', 'momento', 'moneda', 'monedas', 'monetaria', 'monetarias', 'monetario', 'monetarios', 'monitoreados', 'monitoreando', 'monitoreo', 'monto', 'montos', 'mostrado', 'mostrando', 'mostrar', 'mostraron', 'mostró', 'motivado', 'motivo', 'movimiento', 'movimientos', 'mucho', 'muchos', 'muestra', 'muestran', 'mundial', 'mundiales', 'mundo', 'muy', 'más', 'máximo', 'máximos', 'méxico', 'mínimos', 'móvil', 'nacional', 'nacionales', 'natural', 'naturales', 'naturaleza', 'necesaria', 'necesarias', 'necesario', 'necesidad', 'necesidades', 'negativa', 'negativamente', 'negativas', 'negativo', 'negativos', 'neta', 'netas', 'neto', 'ni', 'nivel', 'niveles', 'niña', 'niño', 'no', 'nominal', 'nominales', 'normalización', 'notable', 'notorio', 'noveno', 'noviembre', 'nuestra', 'nuestras', 'nuestro', 'nuestros', 'nueva', 'nuevamente', 'nuevas', 'nuevo', 'nuevos', 'numero', 'número', 'obedece', 'obedecido', 'obedeció', 'objetivo', 'obras', 'observa', 'observada', 'observadas', 'observado', 'observados', 'observan', 'observando', 'observarse', 'observó', 'obstante', 'obtener', 'obtenidas', 'octavo', 'octubre', 'ocurra', 'ocurre', 'ocurrencia', 'ocurrido', 'oferta', 'opciones', 'operaciones', 'operando', 'opinión', 'oportunamente', 'oportuno', 'orden', 'ordenada', 'ordinarios', 'organismos', 'orienta', 'orientación', 'origen', 'origina', 'originar', 'otorgar', 'otra', 'otras', 'otro', 'otros', 'pagos', 'panorama', 'papeles', 'par', 'para', 'parcial', 'parcialmente', 'parecen', 'pareciera', 'parte', 'particular', 'particularmente', 'partiendo', 'partir', 'pasada', 'pasado', 'pasados', 'pasará', 'pasivas', 'paso', 'pausa', 'pausada', 'pausado', 'país', 'países', 'pb', 'pbs', 'pedidos', 'pensar', 'pequeño', 'percepción', 'perdurables', 'perecederos', 'periodo', 'permanece', 'permanecen', 'permanecieron', 'permaneció', 'permanencia', 'permanente', 'permite', 'permiten', 'permitido', 'permitieron', 'permitirá', 'pero', 'persista', 'persiste', 'persistencia', 'persistente', 'persistentemente', 'perspectiva', 'perspectivas', 'período', 'pesar', 'pese', 'peso', 'pesos', 'petroleras', 'petrolero', 'petróleo', 'pib', 'plazo', 'plazos', 'plena', 'pleno', 'poco', 'podido', 'podrá', 'podrán', 'podría', 'podrían', 'política', 'políticas', 'políticos', 'poner', 'pongan', 'por', 'porcentaje', 'porcentual', 'porcentuales', 'portafolio', 'posibilidad', 'posibilidades', 'posible', 'posibles', 'posición', 'positiva', 'positivo', 'positivos', 'postergar', 'posteriores', 'posteriormente', 'postura', 'potencial', 'potenciales', 'pp', 'precio', 'precios', 'presencia', 'presenta', 'presentaba', 'presentada', 'presentado', 'presentan', 'presentando', 'presentar', 'presentaron', 'presente', 'presenten', 'presentes', 'presentó', 'preservar', 'presionando', 'presiones', 'presión', 'prever', 'previas', 'previsible', 'prevista', 'previstas', 'previsto', 'previstos', 'prevé', 'prevén', 'prima', 'primas', 'primer', 'primera', 'primero', 'primeros', 'principal', 'principales', 'principalmente', 'principio', 'privada', 'privado', 'probabilidad', 'probable', 'probablemente', 'probables', 'problema', 'problemas', 'proceso', 'producción', 'productiva', 'productividad', 'productivo', 'producto', 'productores', 'productos', 'produjeron', 'produzcan', 'profundización', 'programa', 'programas', 'prolongado', 'prolongar', 'prolongue', 'promedio', 'promedios', 'pronostica', 'pronosticado', 'pronto', 'pronunciada', 'pronunciado', 'pronóstico', 'pronósticos', 'propicio', 'proporción', 'propusieron', 'propósito', 'proveniente', 'provenientes', 'proviene', 'proyecciones', 'proyección', 'proyecta', 'proyectaba', 'proyectada', 'proyectado', 'proyectados', 'proyectando', 'proyectaron', 'proyectos', 'prudente', 'préstamo', 'préstamos', 'próximo', 'próximos', 'publicado', 'publicados', 'pudiera', 'pudieran', 'pueda', 'puedan', 'puede', 'pueden', 'puesto', 'punto', 'puntos', 'puntual', 'pérdida', 'pública', 'públicas', 'público', 'públicos', 'que', 'quiebre', 'rango', 'ratifica', 'ratifican', 'ratificó', 'razón', 're', 'reaccionar', 'reaccione', 'reacción', 'reactivación', 'reafirma', 'real', 'reales', 'realizadas', 'realizado', 'realizar', 'recalentamiento', 'recesión', 'recibida', 'reciente', 'recientemente', 'recientes', 'reconoce', 'reconociendo', 'reconocía', 'recortes', 'recrudecimiento', 'recupera', 'recuperación', 'recuperando', 'recuperarse', 'recuperándose', 'recursos', 'reducciones', 'reducción', 'reduce', 'reducen', 'reducido', 'reducir', 'reducirse', 'reducirá', 'reducirán', 'reducirían', 'redujera', 'redujeron', 'redujo', 'reduzcan', 'reemplaza', 'referencia', 'refleja', 'reflejado', 'reflejan', 'reflejando', 'reflejar', 'reflejará', 'reforma', 'reforzado', 'reforzar', 'regiones', 'registra', 'registraba', 'registrada', 'registradas', 'registrado', 'registrados', 'registran', 'registrar', 'registraron', 'registro', 'registros', 'registró', 'región', 'regulados', 'regularmente', 'reitera', 'reiteró', 'relacionada', 'relacionadas', 'relacionados', 'relación', 'relativamente', 'relativo', 'relativos', 'relevantes', 'remesas', 'remunerados', 'renovó', 'repo', 'reportaron', 'repos', 'representa', 'representativa', 'republica', 'repuntaron', 'repunte', 'república', 'requerida', 'requerido', 'requería', 'requiera', 'requiere', 'reserva', 'reservas', 'residenciales', 'resistencia', 'respectivamente', 'respecto', 'responder', 'respuesta', 'resta', 'restablecerse', 'restado', 'restaron', 'resto', 'restricciones', 'restricción', 'restrictiva', 'restringido', 'restringiendo', 'resultado', 'resultados', 'resultan', 'resultaron', 'resultó', 'resumen', 'retirar', 'retomando', 'retomar', 'retorne', 'reunión', 'revaluacionista', 'revelan', 'reversión', 'revertido', 'revertir', 'revertirán', 'reviertan', 'revirtieron', 'revirtiéndose', 'revisadas', 'revisado', 'revisados', 'revisando', 'revisión', 'revisó', 'rezagado', 'rezagos', 'riesgo', 'riesgos', 'ritmo', 'ritmos', 'robusta', 'robusto', 'rubro', 'rubros', 'rápida', 'rápidamente', 'rápido', 'sa', 'salarial', 'salariales', 'salarios', 'saldo', 'saludable', 'salvo', 'se', 'sea', 'sean', 'sector', 'sectores', 'sectorial', 'seguida', 'seguido', 'seguimiento', 'seguir', 'seguirá', 'seguirán', 'seguiría', 'segunda', 'segundo', 'según', 'semanas', 'semestre', 'senda', 'sensible', 'sentido', 'septiembre', 'sequías', 'ser', 'serie', 'series', 'servicios', 'servirán', 'será', 'serán', 'sería', 'sesión', 'sexto', 'señalan', 'señalando', 'señales', 'si', 'sido', 'siempre', 'siendo', 'siga', 'sigan', 'siglo', 'significativa', 'significativamente', 'significativo', 'significativos', 'signifique', 'signos', 'sigue', 'siguen', 'siguiente', 'siguientes', 'siguieron', 'siguió', 'similar', 'similares', 'simultáneamente', 'sin', 'sino', 'sintiendo', 'sistema', 'situación', 'situado', 'situaron', 'situarse', 'situará', 'situándose', 'situó', 'sitúa', 'sitúan', 'sitúe', 'sitúo', 'soberana', 'soberanos', 'sobre', 'sobresale', 'sobresaliente', 'sociedad', 'socio', 'socios', 'solidez', 'solo', 'solucionar', 'solución', 'son', 'soportada', 'soportan', 'sorpresiva', 'sostenibilidad', 'sostenible', 'sostenibles', 'sostenido', 'spot', 'su', 'subasta', 'subastas', 'subestimación', 'subido', 'subiendo', 'subieron', 'subir', 'subió', 'subrayar', 'sucesivo', 'suficientes', 'sufrido', 'sugerirían', 'sugiere', 'sugieren', 'sujeto', 'suma', 'sumaron', 'suministrado', 'suministrar', 'suministro', 'sumó', 'supera', 'superación', 'superado', 'superan', 'superando', 'superaron', 'superará', 'superior', 'superiores', 'superó', 'suponer', 'sur', 'surgen', 'surgido', 'surgir', 'sus', 'suspende', 'sustancial', 'sustancialmente', 'sustitución', 'séptimo', 'síntesis', 'tal', 'tales', 'tamaño', 'también', 'tampoco', 'tanto', 'tarifas', 'tarjetas', 'tasa', 'tasas', 'techo', 'temores', 'temporal', 'temporales', 'temporalmente', 'temprano', 'tendencia', 'tendencias', 'tendrá', 'tendrán', 'tendría', 'tendrían', 'tener', 'tengan', 'tenido', 'teniendo', 'tenía', 'tercer', 'tercero', 'terminar', 'terminará', 'termine', 'terminó', 'terreno', 'tes', 'tesorería', 'tesoro', 'tiempo', 'tiende', 'tiene', 'tienen', 'todas', 'todavía', 'todo', 'todos', 'toma', 'tomadas', 'tomando', 'tomar', 'tomará', 'tomó', 'total', 'totales', 'totalidad', 'tradicionales', 'transable', 'transables', 'transcurso', 'transitoria', 'transitorias', 'transitorio', 'transitorios', 'transmisión', 'transmitido', 'transmitiendo', 'transmitiéndose', 'transporte', 'traslade', 'traslado', 'traspase', 'traspaso', 'tratarse', 'través', 'tres', 'tributaria', 'trilla', 'trimestrales', 'trimestre', 'trimestres', 'trm', 'turbulencia', 'tuvo', 'técnico', 'técnicos', 'término', 'términos', 'título', 'títulos', 'ubica', 'ubicaron', 'ubicará', 'ubicó', 'ubique', 'un', 'una', 'unanimidad', 'unas', 'une', 'unido', 'unidos', 'uno', 'unos', 'unánime', 'urbano', 'us', 'usa', 'usada', 'usd', 'usd500', 'uso', 'usualmente', 'utilización', 'utilizada', 'utilizar', 'va', 'valor', 'valores', 'valorización', 'valorizado', 'variaciones', 'variación', 'varias', 'variedad', 'varios', 'vaya', 'veces', 'vehículos', 'velocidad', 'ven', 'venezolano', 'venezuela', 'venido', 'venta', 'ventanilla', 'ventas', 'venía', 'verá', 'verán', 'vez', 'viendo', 'viene', 'vigencia', 'vigentes', 'vigorosa', 'vigoroso', 'vinculación', 'vislumbran', 'vista', 'visto', 'vivienda', 'volatilidad', 'volumen', 'volver', 'volvieron', 'volvió', 'volátil', 'volátiles', 'vuelve', 'vulnerabilidad', 'vía', 'vías', 'ya', 'yuan', 'zona', 'ésta', 'éstas', 'índice', 'índices', 'última', 'últimas', 'último', 'últimos']\n"
     ]
    }
   ],
   "source": [
    "#Calculate vectorizer and print the words\n",
    "vect = CountVectorizer()\n",
    "X_dtm_train = vect.fit_transform(X_train)\n",
    "print(vect.get_feature_names())"
   ]
  },
  {
   "cell_type": "code",
   "execution_count": 22,
   "metadata": {},
   "outputs": [
    {
     "data": {
      "text/plain": [
       "(73, 2203)"
      ]
     },
     "execution_count": 22,
     "metadata": {},
     "output_type": "execute_result"
    }
   ],
   "source": [
    "X_dtm_train.toarray().shape"
   ]
  },
  {
   "cell_type": "code",
   "execution_count": 9,
   "metadata": {},
   "outputs": [
    {
     "data": {
      "text/plain": [
       "count    10.000000\n",
       "mean     -1.134656\n",
       "std       0.577831\n",
       "min      -2.028126\n",
       "25%      -1.505558\n",
       "50%      -1.019938\n",
       "75%      -0.733687\n",
       "max      -0.286566\n",
       "dtype: float64"
      ]
     },
     "execution_count": 9,
     "metadata": {},
     "output_type": "execute_result"
    }
   ],
   "source": [
    "# Use Random Forest to predict the IPC\n",
    "rfc = RandomForestRegressor(random_state=42, n_jobs=-1) \n",
    "pd.Series(cross_val_score(rfc, X_dtm_train, y_train, cv=10, scoring='neg_mean_squared_error')).describe()"
   ]
  },
  {
   "cell_type": "code",
   "execution_count": 10,
   "metadata": {},
   "outputs": [
    {
     "data": {
      "text/plain": [
       "Text(0, 0.5, 'NEG_RMSE')"
      ]
     },
     "execution_count": 10,
     "metadata": {},
     "output_type": "execute_result"
    },
    {
     "data": {
      "image/png": "[encoded data removed]",
      "text/plain": [
       "<Figure size 432x288 with 1 Axes>"
      ]
     },
     "metadata": {
      "needs_background": "light"
     },
     "output_type": "display_data"
    }
   ],
   "source": [
    "max_depth_range = range(50, 1000, 25)\n",
    "RMSE_scores_featu = []\n",
    "\n",
    "for depth in max_depth_range:\n",
    "    rfc = RandomForestRegressor(max_depth=depth, random_state=42, n_jobs=-1) \n",
    "    RMSE_scores_featu.append(cross_val_score(rfc, X_dtm_train, y_train, cv=4, scoring='neg_mean_squared_error').mean())\n",
    "\n",
    "#best_maxfeatures = feature_range[RMSE_scores_featu.index(max(RMSE_scores_featu))]\n",
    "#print (\"best_maxfeatures: \", best_maxfeatures)\n",
    "plt.plot(max_depth_range, RMSE_scores_featu)\n",
    "plt.xlabel('MAX DEPTH')\n",
    "plt.ylabel('NEG_RMSE')"
   ]
  },
  {
   "cell_type": "markdown",
   "metadata": {},
   "source": [
    "# Latent Dirichlet Allocation (LDA)"
   ]
  },
  {
   "cell_type": "code",
   "execution_count": 30,
   "metadata": {
    "scrolled": true
   },
   "outputs": [],
   "source": [
    "#revisar esta función porque genera error con la librería de \"stem\" esta comentariada adentro de la función preprocess\n",
    "def lemmatize_stemming(text):\n",
    "    return stemmer.stem(WordNetLemmatizer().lemmatize(text, pos='v')\n",
    "\n",
    "\n",
    "# Write a function to perform lemmatize and stem preprocessing steps on the data set.\n",
    "def preprocess(text):\n",
    "    result = []\n",
    "    for token in gensim.utils.simple_preprocess(text):\n",
    "        if token not in gensim.parsing.preprocessing.STOPWORDS and len(token) > 3:\n",
    "            #result.append(lemmatize_stemming(token))\n",
    "            result.append(token)\n",
    "    return result\n",
    "\n",
    "documents = []\n",
    "#Select a document to preview after preprocessing\n",
    "for texto in data.text:\n",
    "    documents.append(preprocess(texto))\n",
    "    \n",
    "dictionary = gensim.corpora.Dictionary(documents)\n",
    "\n",
    "#Filter out tokens that appear in\n",
    "#less than 15 documents (absolute number) or\n",
    "#more than 0.5 documents (fraction of total corpus size, not absolute number).\n",
    "#after the above two steps, keep only the first 100000 most frequent tokens.\n",
    "dictionary.filter_extremes(no_below=15, no_above=0.5, keep_n=100000)"
   ]
  },
  {
   "cell_type": "markdown",
   "metadata": {},
   "source": [
    "## Running LDA using Bag of Words"
   ]
  },
  {
   "cell_type": "code",
   "execution_count": 42,
   "metadata": {},
   "outputs": [],
   "source": [
    "bow_corpus = [dictionary.doc2bow(doc) for doc in documents]\n",
    "lda_model = gensim.models.LdaMulticore(bow_corpus, num_topics=10, id2word=dictionary, passes=2, workers=2)"
   ]
  },
  {
   "cell_type": "code",
   "execution_count": 44,
   "metadata": {},
   "outputs": [
    {
     "name": "stdout",
     "output_type": "stream",
     "text": [
      "Topic: 0 \n",
      "Words: 0.017*\"caída\" + 0.014*\"país\" + 0.012*\"liquidez\" + 0.011*\"reducir\" + 0.011*\"productiva\" + 0.010*\"presiones\" + 0.010*\"inversión\" + 0.010*\"debajo\" + 0.010*\"contexto\" + 0.010*\"meses\"\n",
      "Topic: 1 \n",
      "Words: 0.013*\"mantienen\" + 0.012*\"situó\" + 0.010*\"frente\" + 0.010*\"país\" + 0.010*\"riesgo\" + 0.010*\"ritmo\" + 0.010*\"mismo\" + 0.008*\"hacia\" + 0.008*\"convergencia\" + 0.008*\"tiempo\"\n",
      "Topic: 2 \n",
      "Words: 0.014*\"confianza\" + 0.012*\"industria\" + 0.012*\"incremento\" + 0.010*\"mismo\" + 0.010*\"también\" + 0.010*\"nivel\" + 0.010*\"comercio\" + 0.010*\"continúa\" + 0.009*\"futura\" + 0.008*\"metas\"\n",
      "Topic: 3 \n",
      "Words: 0.014*\"ingreso\" + 0.011*\"país\" + 0.011*\"riesgo\" + 0.011*\"nacional\" + 0.011*\"desaceleración\" + 0.011*\"continúa\" + 0.010*\"caída\" + 0.010*\"petróleo\" + 0.010*\"principalmente\" + 0.010*\"situó\"\n",
      "Topic: 4 \n",
      "Words: 0.013*\"país\" + 0.013*\"continúa\" + 0.011*\"petróleo\" + 0.010*\"riesgo\" + 0.010*\"incremento\" + 0.010*\"presente\" + 0.009*\"gasto\" + 0.009*\"algunos\" + 0.009*\"primer\" + 0.009*\"ritmo\"\n",
      "Topic: 5 \n",
      "Words: 0.011*\"inversión\" + 0.010*\"europa\" + 0.010*\"siguiente\" + 0.010*\"riesgo\" + 0.010*\"inalterada\" + 0.010*\"altos\" + 0.009*\"hogares\" + 0.009*\"bienes\" + 0.009*\"debajo\" + 0.009*\"sigue\"\n",
      "Topic: 6 \n",
      "Words: 0.015*\"recuperación\" + 0.011*\"menos\" + 0.010*\"debajo\" + 0.010*\"segundo\" + 0.010*\"aumento\" + 0.009*\"referencia\" + 0.009*\"confianza\" + 0.009*\"emergentes\" + 0.008*\"américa\" + 0.008*\"latina\"\n",
      "Topic: 7 \n",
      "Words: 0.017*\"peso\" + 0.012*\"mismo\" + 0.012*\"atrás\" + 0.011*\"petróleo\" + 0.011*\"incremento\" + 0.011*\"continúa\" + 0.010*\"probable\" + 0.010*\"país\" + 0.010*\"pero\" + 0.010*\"tanto\"\n",
      "Topic: 8 \n",
      "Words: 0.012*\"nivel\" + 0.011*\"punto\" + 0.011*\"producto\" + 0.010*\"emergentes\" + 0.009*\"medio\" + 0.009*\"coherente\" + 0.009*\"meses\" + 0.009*\"capacidad\" + 0.008*\"puntos\" + 0.008*\"metas\"\n",
      "Topic: 9 \n",
      "Words: 0.021*\"caída\" + 0.018*\"punto\" + 0.015*\"cayendo\" + 0.015*\"porcentual\" + 0.013*\"será\" + 0.013*\"menores\" + 0.013*\"presiones\" + 0.013*\"efectos\" + 0.013*\"inflacionarias\" + 0.012*\"mostrando\"\n"
     ]
    }
   ],
   "source": [
    "#For each topic, we will explore the words occuring in that topic and its relative weight.\n",
    "for idx, topic in lda_model.print_topics(-1):\n",
    "    print('Topic: {} \\nWords: {}'.format(idx, topic))"
   ]
  },
  {
   "cell_type": "markdown",
   "metadata": {},
   "source": [
    "## Running LDA using TF-IDF"
   ]
  },
  {
   "cell_type": "code",
   "execution_count": null,
   "metadata": {},
   "outputs": [],
   "source": [
    "tfidf = models.TfidfModel(bow_corpus)\n",
    "corpus_tfidf = tfidf[bow_corpus]\n",
    "lda_model_tfidf = gensim.models.LdaMulticore(corpus_tfidf, num_topics=10, id2word=dictionary, passes=2, workers=4)"
   ]
  },
  {
   "cell_type": "code",
   "execution_count": 48,
   "metadata": {},
   "outputs": [
    {
     "name": "stdout",
     "output_type": "stream",
     "text": [
      "Topic: 0 Word: 0.007*\"punto\" + 0.007*\"último\" + 0.007*\"confianza\" + 0.006*\"colombiana\" + 0.006*\"mayoría\" + 0.006*\"metas\" + 0.006*\"dentro\" + 0.006*\"están\" + 0.006*\"inflacionarias\" + 0.006*\"cayendo\"\n",
      "Topic: 1 Word: 0.010*\"puntos\" + 0.008*\"mayoría\" + 0.008*\"últimos\" + 0.008*\"incrementos\" + 0.008*\"durante\" + 0.007*\"moderación\" + 0.007*\"primer\" + 0.007*\"coherente\" + 0.007*\"semestre\" + 0.007*\"incremento\"\n",
      "Topic: 2 Word: 0.007*\"observado\" + 0.007*\"sugieren\" + 0.006*\"evaluación\" + 0.006*\"desacelerándose\" + 0.006*\"finalmente\" + 0.006*\"acciones\" + 0.006*\"pero\" + 0.006*\"petróleo\" + 0.006*\"riesgos\" + 0.006*\"moneda\"\n",
      "Topic: 3 Word: 0.010*\"proyecta\" + 0.009*\"probable\" + 0.008*\"años\" + 0.008*\"enero\" + 0.008*\"ingreso\" + 0.008*\"mayores\" + 0.007*\"proyectado\" + 0.007*\"convergencia\" + 0.007*\"ajuste\" + 0.007*\"situó\"\n",
      "Topic: 4 Word: 0.014*\"caída\" + 0.012*\"tendencia\" + 0.009*\"sitúan\" + 0.009*\"disminuyeron\" + 0.009*\"durante\" + 0.008*\"cayendo\" + 0.008*\"bien\" + 0.007*\"región\" + 0.007*\"febrero\" + 0.007*\"continúe\"\n",
      "Topic: 5 Word: 0.010*\"meses\" + 0.008*\"marzo\" + 0.008*\"importaciones\" + 0.007*\"colombiano\" + 0.007*\"disminución\" + 0.007*\"durante\" + 0.007*\"últimas\" + 0.007*\"atrás\" + 0.006*\"superiores\" + 0.006*\"también\"\n",
      "Topic: 6 Word: 0.009*\"julio\" + 0.008*\"efectos\" + 0.008*\"considera\" + 0.008*\"coherente\" + 0.007*\"convergencia\" + 0.007*\"agregada\" + 0.007*\"transables\" + 0.006*\"obstante\" + 0.006*\"reciente\" + 0.006*\"inflacionarias\"\n",
      "Topic: 7 Word: 0.015*\"siguen\" + 0.010*\"disminución\" + 0.010*\"enero\" + 0.009*\"aquella\" + 0.009*\"excluye\" + 0.009*\"fijado\" + 0.009*\"aumentos\" + 0.009*\"volátiles\" + 0.009*\"semestre\" + 0.008*\"recuperación\"\n",
      "Topic: 8 Word: 0.008*\"tercer\" + 0.008*\"oferta\" + 0.007*\"similar\" + 0.007*\"anteriores\" + 0.007*\"aunque\" + 0.007*\"todo\" + 0.006*\"ventas\" + 0.006*\"estable\" + 0.006*\"observado\" + 0.006*\"mitad\"\n",
      "Topic: 9 Word: 0.016*\"choques\" + 0.016*\"depreciación\" + 0.015*\"niño\" + 0.010*\"gasto\" + 0.009*\"mecanismos\" + 0.009*\"años\" + 0.009*\"devaluación\" + 0.009*\"fenómeno\" + 0.008*\"peso\" + 0.008*\"estabilidad\"\n"
     ]
    }
   ],
   "source": [
    "for idx, topic in lda_model_tfidf.print_topics(-1):\n",
    "    print('Topic: {} Word: {}'.format(idx, topic))"
   ]
  },
  {
   "cell_type": "code",
   "execution_count": 52,
   "metadata": {},
   "outputs": [
    {
     "ename": "IndexError",
     "evalue": "list index out of range",
     "output_type": "error",
     "traceback": [
      "\u001b[1;31m---------------------------------------------------------------------------\u001b[0m",
      "\u001b[1;31mIndexError\u001b[0m                                Traceback (most recent call last)",
      "\u001b[1;32m<ipython-input-52-49cc05178220>\u001b[0m in \u001b[0;36m<module>\u001b[1;34m\u001b[0m\n\u001b[0;32m      1\u001b[0m \u001b[1;31m#Performance evaluation by classifying sample document using LDA Bag of Words model\u001b[0m\u001b[1;33m\u001b[0m\u001b[1;33m\u001b[0m\u001b[1;33m\u001b[0m\u001b[0m\n\u001b[1;32m----> 2\u001b[1;33m \u001b[1;32mfor\u001b[0m \u001b[0mindex\u001b[0m\u001b[1;33m,\u001b[0m \u001b[0mscore\u001b[0m \u001b[1;32min\u001b[0m \u001b[0msorted\u001b[0m\u001b[1;33m(\u001b[0m\u001b[0mlda_model\u001b[0m\u001b[1;33m[\u001b[0m\u001b[0mbow_corpus\u001b[0m\u001b[1;33m]\u001b[0m\u001b[1;33m,\u001b[0m \u001b[0mkey\u001b[0m\u001b[1;33m=\u001b[0m\u001b[1;32mlambda\u001b[0m \u001b[0mtup\u001b[0m\u001b[1;33m:\u001b[0m \u001b[1;33m-\u001b[0m\u001b[1;36m1\u001b[0m\u001b[1;33m*\u001b[0m\u001b[0mtup\u001b[0m\u001b[1;33m[\u001b[0m\u001b[1;36m1\u001b[0m\u001b[1;33m]\u001b[0m\u001b[1;33m)\u001b[0m\u001b[1;33m:\u001b[0m\u001b[1;33m\u001b[0m\u001b[1;33m\u001b[0m\u001b[0m\n\u001b[0m\u001b[0;32m      3\u001b[0m     \u001b[0mprint\u001b[0m\u001b[1;33m(\u001b[0m\u001b[1;34m\"\\nScore: {}\\t \\nTopic: {}\"\u001b[0m\u001b[1;33m.\u001b[0m\u001b[0mformat\u001b[0m\u001b[1;33m(\u001b[0m\u001b[0mscore\u001b[0m\u001b[1;33m,\u001b[0m \u001b[0mlda_model\u001b[0m\u001b[1;33m.\u001b[0m\u001b[0mprint_topic\u001b[0m\u001b[1;33m(\u001b[0m\u001b[0mindex\u001b[0m\u001b[1;33m,\u001b[0m \u001b[1;36m10\u001b[0m\u001b[1;33m)\u001b[0m\u001b[1;33m)\u001b[0m\u001b[1;33m)\u001b[0m\u001b[1;33m\u001b[0m\u001b[1;33m\u001b[0m\u001b[0m\n",
      "\u001b[1;32m<ipython-input-52-49cc05178220>\u001b[0m in \u001b[0;36m<lambda>\u001b[1;34m(tup)\u001b[0m\n\u001b[0;32m      1\u001b[0m \u001b[1;31m#Performance evaluation by classifying sample document using LDA Bag of Words model\u001b[0m\u001b[1;33m\u001b[0m\u001b[1;33m\u001b[0m\u001b[1;33m\u001b[0m\u001b[0m\n\u001b[1;32m----> 2\u001b[1;33m \u001b[1;32mfor\u001b[0m \u001b[0mindex\u001b[0m\u001b[1;33m,\u001b[0m \u001b[0mscore\u001b[0m \u001b[1;32min\u001b[0m \u001b[0msorted\u001b[0m\u001b[1;33m(\u001b[0m\u001b[0mlda_model\u001b[0m\u001b[1;33m[\u001b[0m\u001b[0mbow_corpus\u001b[0m\u001b[1;33m]\u001b[0m\u001b[1;33m,\u001b[0m \u001b[0mkey\u001b[0m\u001b[1;33m=\u001b[0m\u001b[1;32mlambda\u001b[0m \u001b[0mtup\u001b[0m\u001b[1;33m:\u001b[0m \u001b[1;33m-\u001b[0m\u001b[1;36m1\u001b[0m\u001b[1;33m*\u001b[0m\u001b[0mtup\u001b[0m\u001b[1;33m[\u001b[0m\u001b[1;36m1\u001b[0m\u001b[1;33m]\u001b[0m\u001b[1;33m)\u001b[0m\u001b[1;33m:\u001b[0m\u001b[1;33m\u001b[0m\u001b[1;33m\u001b[0m\u001b[0m\n\u001b[0m\u001b[0;32m      3\u001b[0m     \u001b[0mprint\u001b[0m\u001b[1;33m(\u001b[0m\u001b[1;34m\"\\nScore: {}\\t \\nTopic: {}\"\u001b[0m\u001b[1;33m.\u001b[0m\u001b[0mformat\u001b[0m\u001b[1;33m(\u001b[0m\u001b[0mscore\u001b[0m\u001b[1;33m,\u001b[0m \u001b[0mlda_model\u001b[0m\u001b[1;33m.\u001b[0m\u001b[0mprint_topic\u001b[0m\u001b[1;33m(\u001b[0m\u001b[0mindex\u001b[0m\u001b[1;33m,\u001b[0m \u001b[1;36m10\u001b[0m\u001b[1;33m)\u001b[0m\u001b[1;33m)\u001b[0m\u001b[1;33m)\u001b[0m\u001b[1;33m\u001b[0m\u001b[1;33m\u001b[0m\u001b[0m\n",
      "\u001b[1;31mIndexError\u001b[0m: list index out of range"
     ]
    }
   ],
   "source": [
    "#Performance evaluation by classifying sample document using LDA Bag of Words model\n",
    "for index, score in sorted(lda_model[bow_corpus], key=lambda tup: -1*tup[1]):\n",
    "    print(\"\\nScore: {}\\t \\nTopic: {}\".format(score, lda_model.print_topic(index, 10)))"
   ]
  },
  {
   "cell_type": "code",
   "execution_count": 53,
   "metadata": {},
   "outputs": [
    {
     "ename": "IndexError",
     "evalue": "list index out of range",
     "output_type": "error",
     "traceback": [
      "\u001b[1;31m---------------------------------------------------------------------------\u001b[0m",
      "\u001b[1;31mIndexError\u001b[0m                                Traceback (most recent call last)",
      "\u001b[1;32m<ipython-input-53-4cc78ec81244>\u001b[0m in \u001b[0;36m<module>\u001b[1;34m\u001b[0m\n\u001b[0;32m      1\u001b[0m \u001b[1;31m#Performance evaluation by classifying sample document using LDA TF-IDF model.\u001b[0m\u001b[1;33m\u001b[0m\u001b[1;33m\u001b[0m\u001b[1;33m\u001b[0m\u001b[0m\n\u001b[1;32m----> 2\u001b[1;33m \u001b[1;32mfor\u001b[0m \u001b[0mindex\u001b[0m\u001b[1;33m,\u001b[0m \u001b[0mscore\u001b[0m \u001b[1;32min\u001b[0m \u001b[0msorted\u001b[0m\u001b[1;33m(\u001b[0m\u001b[0mlda_model_tfidf\u001b[0m\u001b[1;33m[\u001b[0m\u001b[0mbow_corpus\u001b[0m\u001b[1;33m]\u001b[0m\u001b[1;33m,\u001b[0m \u001b[0mkey\u001b[0m\u001b[1;33m=\u001b[0m\u001b[1;32mlambda\u001b[0m \u001b[0mtup\u001b[0m\u001b[1;33m:\u001b[0m \u001b[1;33m-\u001b[0m\u001b[1;36m1\u001b[0m\u001b[1;33m*\u001b[0m\u001b[0mtup\u001b[0m\u001b[1;33m[\u001b[0m\u001b[1;36m1\u001b[0m\u001b[1;33m]\u001b[0m\u001b[1;33m)\u001b[0m\u001b[1;33m:\u001b[0m\u001b[1;33m\u001b[0m\u001b[1;33m\u001b[0m\u001b[0m\n\u001b[0m\u001b[0;32m      3\u001b[0m     \u001b[0mprint\u001b[0m\u001b[1;33m(\u001b[0m\u001b[1;34m\"\\nScore: {}\\t \\nTopic: {}\"\u001b[0m\u001b[1;33m.\u001b[0m\u001b[0mformat\u001b[0m\u001b[1;33m(\u001b[0m\u001b[0mscore\u001b[0m\u001b[1;33m,\u001b[0m \u001b[0mlda_model_tfidf\u001b[0m\u001b[1;33m.\u001b[0m\u001b[0mprint_topic\u001b[0m\u001b[1;33m(\u001b[0m\u001b[0mindex\u001b[0m\u001b[1;33m,\u001b[0m \u001b[1;36m10\u001b[0m\u001b[1;33m)\u001b[0m\u001b[1;33m)\u001b[0m\u001b[1;33m)\u001b[0m\u001b[1;33m\u001b[0m\u001b[1;33m\u001b[0m\u001b[0m\n",
      "\u001b[1;32m<ipython-input-53-4cc78ec81244>\u001b[0m in \u001b[0;36m<lambda>\u001b[1;34m(tup)\u001b[0m\n\u001b[0;32m      1\u001b[0m \u001b[1;31m#Performance evaluation by classifying sample document using LDA TF-IDF model.\u001b[0m\u001b[1;33m\u001b[0m\u001b[1;33m\u001b[0m\u001b[1;33m\u001b[0m\u001b[0m\n\u001b[1;32m----> 2\u001b[1;33m \u001b[1;32mfor\u001b[0m \u001b[0mindex\u001b[0m\u001b[1;33m,\u001b[0m \u001b[0mscore\u001b[0m \u001b[1;32min\u001b[0m \u001b[0msorted\u001b[0m\u001b[1;33m(\u001b[0m\u001b[0mlda_model_tfidf\u001b[0m\u001b[1;33m[\u001b[0m\u001b[0mbow_corpus\u001b[0m\u001b[1;33m]\u001b[0m\u001b[1;33m,\u001b[0m \u001b[0mkey\u001b[0m\u001b[1;33m=\u001b[0m\u001b[1;32mlambda\u001b[0m \u001b[0mtup\u001b[0m\u001b[1;33m:\u001b[0m \u001b[1;33m-\u001b[0m\u001b[1;36m1\u001b[0m\u001b[1;33m*\u001b[0m\u001b[0mtup\u001b[0m\u001b[1;33m[\u001b[0m\u001b[1;36m1\u001b[0m\u001b[1;33m]\u001b[0m\u001b[1;33m)\u001b[0m\u001b[1;33m:\u001b[0m\u001b[1;33m\u001b[0m\u001b[1;33m\u001b[0m\u001b[0m\n\u001b[0m\u001b[0;32m      3\u001b[0m     \u001b[0mprint\u001b[0m\u001b[1;33m(\u001b[0m\u001b[1;34m\"\\nScore: {}\\t \\nTopic: {}\"\u001b[0m\u001b[1;33m.\u001b[0m\u001b[0mformat\u001b[0m\u001b[1;33m(\u001b[0m\u001b[0mscore\u001b[0m\u001b[1;33m,\u001b[0m \u001b[0mlda_model_tfidf\u001b[0m\u001b[1;33m.\u001b[0m\u001b[0mprint_topic\u001b[0m\u001b[1;33m(\u001b[0m\u001b[0mindex\u001b[0m\u001b[1;33m,\u001b[0m \u001b[1;36m10\u001b[0m\u001b[1;33m)\u001b[0m\u001b[1;33m)\u001b[0m\u001b[1;33m)\u001b[0m\u001b[1;33m\u001b[0m\u001b[1;33m\u001b[0m\u001b[0m\n",
      "\u001b[1;31mIndexError\u001b[0m: list index out of range"
     ]
    }
   ],
   "source": [
    "#Performance evaluation by classifying sample document using LDA TF-IDF model.\n",
    "for index, score in sorted(lda_model_tfidf[bow_corpus], key=lambda tup: -1*tup[1]):\n",
    "    print(\"\\nScore: {}\\t \\nTopic: {}\".format(score, lda_model_tfidf.print_topic(index, 10)))"
   ]
  },
  {
   "cell_type": "code",
   "execution_count": 54,
   "metadata": {},
   "outputs": [
    {
     "name": "stdout",
     "output_type": "stream",
     "text": [
      "Score: 0.5499550700187683\t Topic: 0.021*\"caída\" + 0.018*\"punto\" + 0.015*\"cayendo\" + 0.015*\"porcentual\" + 0.013*\"será\"\n",
      "Score: 0.0500195249915123\t Topic: 0.015*\"recuperación\" + 0.011*\"menos\" + 0.010*\"debajo\" + 0.010*\"segundo\" + 0.010*\"aumento\"\n",
      "Score: 0.050006162375211716\t Topic: 0.012*\"nivel\" + 0.011*\"punto\" + 0.011*\"producto\" + 0.010*\"emergentes\" + 0.009*\"medio\"\n",
      "Score: 0.050004731863737106\t Topic: 0.011*\"inversión\" + 0.010*\"europa\" + 0.010*\"siguiente\" + 0.010*\"riesgo\" + 0.010*\"inalterada\"\n",
      "Score: 0.05000365898013115\t Topic: 0.017*\"peso\" + 0.012*\"mismo\" + 0.012*\"atrás\" + 0.011*\"petróleo\" + 0.011*\"incremento\"\n",
      "Score: 0.05000358819961548\t Topic: 0.014*\"ingreso\" + 0.011*\"país\" + 0.011*\"riesgo\" + 0.011*\"nacional\" + 0.011*\"desaceleración\"\n",
      "Score: 0.05000203102827072\t Topic: 0.017*\"caída\" + 0.014*\"país\" + 0.012*\"liquidez\" + 0.011*\"reducir\" + 0.011*\"productiva\"\n",
      "Score: 0.050001904368400574\t Topic: 0.013*\"país\" + 0.013*\"continúa\" + 0.011*\"petróleo\" + 0.010*\"riesgo\" + 0.010*\"incremento\"\n",
      "Score: 0.05000173673033714\t Topic: 0.013*\"mantienen\" + 0.012*\"situó\" + 0.010*\"frente\" + 0.010*\"país\" + 0.010*\"riesgo\"\n",
      "Score: 0.050001636147499084\t Topic: 0.014*\"confianza\" + 0.012*\"industria\" + 0.012*\"incremento\" + 0.010*\"mismo\" + 0.010*\"también\"\n"
     ]
    }
   ],
   "source": [
    "#Testing model on unseen document\n",
    "unseen_document = 'How a Pentagon deal became an identity crisis for Google'\n",
    "bow_vector = dictionary.doc2bow(preprocess(unseen_document))\n",
    "for index, score in sorted(lda_model[bow_vector], key=lambda tup: -1*tup[1]):\n",
    "    print(\"Score: {}\\t Topic: {}\".format(score, lda_model.print_topic(index, 5)))"
   ]
  },
  {
   "cell_type": "code",
   "execution_count": null,
   "metadata": {},
   "outputs": [],
   "source": []
  }
 ],
 "metadata": {
  "kernelspec": {
   "display_name": "Python 3",
   "language": "python",
   "name": "python3"
  },
  "language_info": {
   "codemirror_mode": {
    "name": "ipython",
    "version": 3
   },
   "file_extension": ".py",
   "mimetype": "text/x-python",
   "name": "python",
   "nbconvert_exporter": "python",
   "pygments_lexer": "ipython3",
   "version": "3.7.1"
  }
 },
 "nbformat": 4,
 "nbformat_minor": 2
}
