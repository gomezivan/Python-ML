{
 "cells": [
  {
   "cell_type": "markdown",
   "metadata": {},
   "source": [
    "# Exercise 6\n",
    "\n",
    "## SVM & Regularization\n",
    "\n",
    "\n",
    "For this homework we consider a set of observations on a number of red and white wine varieties involving their chemical properties and ranking by tasters. Wine industry shows a recent growth spurt as social drinking is on the rise. The price of wine depends on a rather abstract concept of wine appreciation by wine tasters, opinion among whom may have a high degree of variability. Pricing of wine depends on such a volatile factor to some extent. Another key factor in wine certification and quality assessment is physicochemical tests which are laboratory-based and takes into account factors like acidity, pH level, presence of sugar and other chemical properties. For the wine market, it would be of interest if human quality of tasting can be related to the chemical properties of wine so that certification and quality assessment and assurance process is more controlled.\n",
    "\n",
    "Two datasets are available of which one dataset is on red wine and have 1599 different varieties and the other is on white wine and have 4898 varieties. All wines are produced in a particular area of Portugal. Data are collected on 12 different properties of the wines one of which is Quality, based on sensory data, and the rest are on chemical properties of the wines including density, acidity, alcohol content etc. All chemical properties of wines are continuous variables. Quality is an ordinal variable with possible ranking from 1 (worst) to 10 (best). Each variety of wine is tasted by three independent tasters and the final rank assigned is the median rank given by the tasters.\n",
    "\n",
    "A predictive model developed on this data is expected to provide guidance to vineyards regarding quality and price expected on their produce without heavy reliance on volatility of wine tasters."
   ]
  },
  {
   "cell_type": "code",
   "execution_count": 2,
   "metadata": {},
   "outputs": [],
   "source": [
    "import pandas as pd\n",
    "import numpy as np"
   ]
  },
  {
   "cell_type": "code",
   "execution_count": 3,
   "metadata": {},
   "outputs": [],
   "source": [
    "data_r = pd.read_csv('https://github.com/albahnsen/PracticalMachineLearningClass/raw/master/datasets/Wine_data_red.csv')\n",
    "data_w = pd.read_csv('https://github.com/albahnsen/PracticalMachineLearningClass/raw/master/datasets/Wine_data_white.csv')"
   ]
  },
  {
   "cell_type": "code",
   "execution_count": 4,
   "metadata": {},
   "outputs": [
    {
     "data": {
      "text/html": [
       "<div>\n",
       "<style scoped>\n",
       "    .dataframe tbody tr th:only-of-type {\n",
       "        vertical-align: middle;\n",
       "    }\n",
       "\n",
       "    .dataframe tbody tr th {\n",
       "        vertical-align: top;\n",
       "    }\n",
       "\n",
       "    .dataframe thead th {\n",
       "        text-align: right;\n",
       "    }\n",
       "</style>\n",
       "<table border=\"1\" class=\"dataframe\">\n",
       "  <thead>\n",
       "    <tr style=\"text-align: right;\">\n",
       "      <th></th>\n",
       "      <th>fixed acidity</th>\n",
       "      <th>volatile acidity</th>\n",
       "      <th>citric acid</th>\n",
       "      <th>residual sugar</th>\n",
       "      <th>chlorides</th>\n",
       "      <th>free sulfur dioxide</th>\n",
       "      <th>total sulfur dioxide</th>\n",
       "      <th>density</th>\n",
       "      <th>pH</th>\n",
       "      <th>sulphates</th>\n",
       "      <th>alcohol</th>\n",
       "      <th>quality</th>\n",
       "      <th>type</th>\n",
       "    </tr>\n",
       "  </thead>\n",
       "  <tbody>\n",
       "    <tr>\n",
       "      <th>4060</th>\n",
       "      <td>6.4</td>\n",
       "      <td>0.41</td>\n",
       "      <td>0.01</td>\n",
       "      <td>6.1</td>\n",
       "      <td>0.048</td>\n",
       "      <td>20.0</td>\n",
       "      <td>70.0</td>\n",
       "      <td>0.99362</td>\n",
       "      <td>3.19</td>\n",
       "      <td>0.42</td>\n",
       "      <td>10.00</td>\n",
       "      <td>5</td>\n",
       "      <td>white</td>\n",
       "    </tr>\n",
       "    <tr>\n",
       "      <th>3528</th>\n",
       "      <td>6.9</td>\n",
       "      <td>0.75</td>\n",
       "      <td>0.13</td>\n",
       "      <td>6.3</td>\n",
       "      <td>0.036</td>\n",
       "      <td>19.0</td>\n",
       "      <td>50.0</td>\n",
       "      <td>0.99312</td>\n",
       "      <td>3.09</td>\n",
       "      <td>0.25</td>\n",
       "      <td>11.10</td>\n",
       "      <td>4</td>\n",
       "      <td>white</td>\n",
       "    </tr>\n",
       "    <tr>\n",
       "      <th>5397</th>\n",
       "      <td>8.7</td>\n",
       "      <td>0.69</td>\n",
       "      <td>0.31</td>\n",
       "      <td>3.0</td>\n",
       "      <td>0.086</td>\n",
       "      <td>23.0</td>\n",
       "      <td>81.0</td>\n",
       "      <td>1.00020</td>\n",
       "      <td>3.48</td>\n",
       "      <td>0.74</td>\n",
       "      <td>11.60</td>\n",
       "      <td>6</td>\n",
       "      <td>red</td>\n",
       "    </tr>\n",
       "    <tr>\n",
       "      <th>3736</th>\n",
       "      <td>6.5</td>\n",
       "      <td>0.32</td>\n",
       "      <td>0.48</td>\n",
       "      <td>8.0</td>\n",
       "      <td>0.026</td>\n",
       "      <td>18.0</td>\n",
       "      <td>88.0</td>\n",
       "      <td>0.99144</td>\n",
       "      <td>3.22</td>\n",
       "      <td>0.79</td>\n",
       "      <td>12.70</td>\n",
       "      <td>4</td>\n",
       "      <td>white</td>\n",
       "    </tr>\n",
       "    <tr>\n",
       "      <th>4684</th>\n",
       "      <td>6.0</td>\n",
       "      <td>0.24</td>\n",
       "      <td>0.34</td>\n",
       "      <td>1.0</td>\n",
       "      <td>0.036</td>\n",
       "      <td>52.0</td>\n",
       "      <td>184.0</td>\n",
       "      <td>0.99097</td>\n",
       "      <td>3.44</td>\n",
       "      <td>0.44</td>\n",
       "      <td>11.45</td>\n",
       "      <td>6</td>\n",
       "      <td>white</td>\n",
       "    </tr>\n",
       "  </tbody>\n",
       "</table>\n",
       "</div>"
      ],
      "text/plain": [
       "      fixed acidity  volatile acidity  citric acid  residual sugar  chlorides  \\\n",
       "4060            6.4              0.41         0.01             6.1      0.048   \n",
       "3528            6.9              0.75         0.13             6.3      0.036   \n",
       "5397            8.7              0.69         0.31             3.0      0.086   \n",
       "3736            6.5              0.32         0.48             8.0      0.026   \n",
       "4684            6.0              0.24         0.34             1.0      0.036   \n",
       "\n",
       "      free sulfur dioxide  total sulfur dioxide  density    pH  sulphates  \\\n",
       "4060                 20.0                  70.0  0.99362  3.19       0.42   \n",
       "3528                 19.0                  50.0  0.99312  3.09       0.25   \n",
       "5397                 23.0                  81.0  1.00020  3.48       0.74   \n",
       "3736                 18.0                  88.0  0.99144  3.22       0.79   \n",
       "4684                 52.0                 184.0  0.99097  3.44       0.44   \n",
       "\n",
       "      alcohol  quality   type  \n",
       "4060    10.00        5  white  \n",
       "3528    11.10        4  white  \n",
       "5397    11.60        6    red  \n",
       "3736    12.70        4  white  \n",
       "4684    11.45        6  white  "
      ]
     },
     "execution_count": 4,
     "metadata": {},
     "output_type": "execute_result"
    }
   ],
   "source": [
    "data = data_w.assign(type = 'white')\n",
    "\n",
    "data = data.append(data_r.assign(type = 'red'), ignore_index=True)\n",
    "data.sample(5)"
   ]
  },
  {
   "cell_type": "markdown",
   "metadata": {},
   "source": [
    "# Exercise 6.1\n",
    "\n",
    "Show the frecuency table of the quality by type of wine"
   ]
  },
  {
   "cell_type": "code",
   "execution_count": 5,
   "metadata": {},
   "outputs": [
    {
     "data": {
      "text/html": [
       "<div>\n",
       "<style scoped>\n",
       "    .dataframe tbody tr th:only-of-type {\n",
       "        vertical-align: middle;\n",
       "    }\n",
       "\n",
       "    .dataframe tbody tr th {\n",
       "        vertical-align: top;\n",
       "    }\n",
       "\n",
       "    .dataframe thead th {\n",
       "        text-align: right;\n",
       "    }\n",
       "</style>\n",
       "<table border=\"1\" class=\"dataframe\">\n",
       "  <thead>\n",
       "    <tr style=\"text-align: right;\">\n",
       "      <th></th>\n",
       "      <th></th>\n",
       "      <th>quality</th>\n",
       "    </tr>\n",
       "    <tr>\n",
       "      <th>type</th>\n",
       "      <th>quality</th>\n",
       "      <th></th>\n",
       "    </tr>\n",
       "  </thead>\n",
       "  <tbody>\n",
       "    <tr>\n",
       "      <th rowspan=\"6\" valign=\"top\">red</th>\n",
       "      <th>5</th>\n",
       "      <td>681</td>\n",
       "    </tr>\n",
       "    <tr>\n",
       "      <th>6</th>\n",
       "      <td>638</td>\n",
       "    </tr>\n",
       "    <tr>\n",
       "      <th>7</th>\n",
       "      <td>199</td>\n",
       "    </tr>\n",
       "    <tr>\n",
       "      <th>4</th>\n",
       "      <td>53</td>\n",
       "    </tr>\n",
       "    <tr>\n",
       "      <th>8</th>\n",
       "      <td>18</td>\n",
       "    </tr>\n",
       "    <tr>\n",
       "      <th>3</th>\n",
       "      <td>10</td>\n",
       "    </tr>\n",
       "    <tr>\n",
       "      <th rowspan=\"7\" valign=\"top\">white</th>\n",
       "      <th>6</th>\n",
       "      <td>2198</td>\n",
       "    </tr>\n",
       "    <tr>\n",
       "      <th>5</th>\n",
       "      <td>1457</td>\n",
       "    </tr>\n",
       "    <tr>\n",
       "      <th>7</th>\n",
       "      <td>880</td>\n",
       "    </tr>\n",
       "    <tr>\n",
       "      <th>8</th>\n",
       "      <td>175</td>\n",
       "    </tr>\n",
       "    <tr>\n",
       "      <th>4</th>\n",
       "      <td>163</td>\n",
       "    </tr>\n",
       "    <tr>\n",
       "      <th>3</th>\n",
       "      <td>20</td>\n",
       "    </tr>\n",
       "    <tr>\n",
       "      <th>9</th>\n",
       "      <td>5</td>\n",
       "    </tr>\n",
       "  </tbody>\n",
       "</table>\n",
       "</div>"
      ],
      "text/plain": [
       "               quality\n",
       "type  quality         \n",
       "red   5            681\n",
       "      6            638\n",
       "      7            199\n",
       "      4             53\n",
       "      8             18\n",
       "      3             10\n",
       "white 6           2198\n",
       "      5           1457\n",
       "      7            880\n",
       "      8            175\n",
       "      4            163\n",
       "      3             20\n",
       "      9              5"
      ]
     },
     "execution_count": 5,
     "metadata": {},
     "output_type": "execute_result"
    }
   ],
   "source": [
    "tabla_de_frecuencia = pd.DataFrame(data['quality'].groupby(data['type']).value_counts())\n",
    "tabla_de_frecuencia"
   ]
  },
  {
   "cell_type": "code",
   "execution_count": 23,
   "metadata": {},
   "outputs": [],
   "source": [
    "#tab= pivot_table(data, values='quality', index='quality', columns=['type'],  aggfunc='count')"
   ]
  },
  {
   "cell_type": "markdown",
   "metadata": {},
   "source": [
    "# SVM"
   ]
  },
  {
   "cell_type": "markdown",
   "metadata": {},
   "source": [
    "# Exercise 6.2\n",
    "\n",
    "* Standarized the features (not the quality)\n",
    "* Create a binary target for each type of wine\n",
    "* Create two Linear SVM's for the white and red wines, repectively.\n"
   ]
  },
  {
   "cell_type": "code",
   "execution_count": 18,
   "metadata": {},
   "outputs": [],
   "source": [
    "data['quality_good'] = data[\"quality\"] >= 6 "
   ]
  },
  {
   "cell_type": "code",
   "execution_count": 35,
   "metadata": {},
   "outputs": [
    {
     "data": {
      "text/html": [
       "<div>\n",
       "<style scoped>\n",
       "    .dataframe tbody tr th:only-of-type {\n",
       "        vertical-align: middle;\n",
       "    }\n",
       "\n",
       "    .dataframe tbody tr th {\n",
       "        vertical-align: top;\n",
       "    }\n",
       "\n",
       "    .dataframe thead th {\n",
       "        text-align: right;\n",
       "    }\n",
       "</style>\n",
       "<table border=\"1\" class=\"dataframe\">\n",
       "  <thead>\n",
       "    <tr style=\"text-align: right;\">\n",
       "      <th></th>\n",
       "      <th>fixed acidity</th>\n",
       "      <th>volatile acidity</th>\n",
       "      <th>citric acid</th>\n",
       "      <th>residual sugar</th>\n",
       "      <th>chlorides</th>\n",
       "      <th>free sulfur dioxide</th>\n",
       "      <th>total sulfur dioxide</th>\n",
       "      <th>density</th>\n",
       "      <th>pH</th>\n",
       "      <th>sulphates</th>\n",
       "      <th>alcohol</th>\n",
       "      <th>quality</th>\n",
       "      <th>type</th>\n",
       "      <th>quality_good</th>\n",
       "    </tr>\n",
       "  </thead>\n",
       "  <tbody>\n",
       "    <tr>\n",
       "      <th>4898</th>\n",
       "      <td>7.4</td>\n",
       "      <td>0.70</td>\n",
       "      <td>0.00</td>\n",
       "      <td>1.9</td>\n",
       "      <td>0.076</td>\n",
       "      <td>11.0</td>\n",
       "      <td>34.0</td>\n",
       "      <td>0.9978</td>\n",
       "      <td>3.51</td>\n",
       "      <td>0.56</td>\n",
       "      <td>9.4</td>\n",
       "      <td>5</td>\n",
       "      <td>red</td>\n",
       "      <td>False</td>\n",
       "    </tr>\n",
       "    <tr>\n",
       "      <th>4899</th>\n",
       "      <td>7.8</td>\n",
       "      <td>0.88</td>\n",
       "      <td>0.00</td>\n",
       "      <td>2.6</td>\n",
       "      <td>0.098</td>\n",
       "      <td>25.0</td>\n",
       "      <td>67.0</td>\n",
       "      <td>0.9968</td>\n",
       "      <td>3.20</td>\n",
       "      <td>0.68</td>\n",
       "      <td>9.8</td>\n",
       "      <td>5</td>\n",
       "      <td>red</td>\n",
       "      <td>False</td>\n",
       "    </tr>\n",
       "    <tr>\n",
       "      <th>4900</th>\n",
       "      <td>7.8</td>\n",
       "      <td>0.76</td>\n",
       "      <td>0.04</td>\n",
       "      <td>2.3</td>\n",
       "      <td>0.092</td>\n",
       "      <td>15.0</td>\n",
       "      <td>54.0</td>\n",
       "      <td>0.9970</td>\n",
       "      <td>3.26</td>\n",
       "      <td>0.65</td>\n",
       "      <td>9.8</td>\n",
       "      <td>5</td>\n",
       "      <td>red</td>\n",
       "      <td>False</td>\n",
       "    </tr>\n",
       "    <tr>\n",
       "      <th>4901</th>\n",
       "      <td>11.2</td>\n",
       "      <td>0.28</td>\n",
       "      <td>0.56</td>\n",
       "      <td>1.9</td>\n",
       "      <td>0.075</td>\n",
       "      <td>17.0</td>\n",
       "      <td>60.0</td>\n",
       "      <td>0.9980</td>\n",
       "      <td>3.16</td>\n",
       "      <td>0.58</td>\n",
       "      <td>9.8</td>\n",
       "      <td>6</td>\n",
       "      <td>red</td>\n",
       "      <td>True</td>\n",
       "    </tr>\n",
       "    <tr>\n",
       "      <th>4902</th>\n",
       "      <td>7.4</td>\n",
       "      <td>0.70</td>\n",
       "      <td>0.00</td>\n",
       "      <td>1.9</td>\n",
       "      <td>0.076</td>\n",
       "      <td>11.0</td>\n",
       "      <td>34.0</td>\n",
       "      <td>0.9978</td>\n",
       "      <td>3.51</td>\n",
       "      <td>0.56</td>\n",
       "      <td>9.4</td>\n",
       "      <td>5</td>\n",
       "      <td>red</td>\n",
       "      <td>False</td>\n",
       "    </tr>\n",
       "  </tbody>\n",
       "</table>\n",
       "</div>"
      ],
      "text/plain": [
       "      fixed acidity  volatile acidity  citric acid  residual sugar  chlorides  \\\n",
       "4898            7.4              0.70         0.00             1.9      0.076   \n",
       "4899            7.8              0.88         0.00             2.6      0.098   \n",
       "4900            7.8              0.76         0.04             2.3      0.092   \n",
       "4901           11.2              0.28         0.56             1.9      0.075   \n",
       "4902            7.4              0.70         0.00             1.9      0.076   \n",
       "\n",
       "      free sulfur dioxide  total sulfur dioxide  density    pH  sulphates  \\\n",
       "4898                 11.0                  34.0   0.9978  3.51       0.56   \n",
       "4899                 25.0                  67.0   0.9968  3.20       0.68   \n",
       "4900                 15.0                  54.0   0.9970  3.26       0.65   \n",
       "4901                 17.0                  60.0   0.9980  3.16       0.58   \n",
       "4902                 11.0                  34.0   0.9978  3.51       0.56   \n",
       "\n",
       "      alcohol  quality type  quality_good  \n",
       "4898      9.4        5  red         False  \n",
       "4899      9.8        5  red         False  \n",
       "4900      9.8        5  red         False  \n",
       "4901      9.8        6  red          True  \n",
       "4902      9.4        5  red         False  "
      ]
     },
     "execution_count": 35,
     "metadata": {},
     "output_type": "execute_result"
    }
   ],
   "source": [
    "data_r = data[data.type == 'red' ]\n",
    "data_r.head()"
   ]
  },
  {
   "cell_type": "code",
   "execution_count": 36,
   "metadata": {},
   "outputs": [
    {
     "data": {
      "text/html": [
       "<div>\n",
       "<style scoped>\n",
       "    .dataframe tbody tr th:only-of-type {\n",
       "        vertical-align: middle;\n",
       "    }\n",
       "\n",
       "    .dataframe tbody tr th {\n",
       "        vertical-align: top;\n",
       "    }\n",
       "\n",
       "    .dataframe thead th {\n",
       "        text-align: right;\n",
       "    }\n",
       "</style>\n",
       "<table border=\"1\" class=\"dataframe\">\n",
       "  <thead>\n",
       "    <tr style=\"text-align: right;\">\n",
       "      <th></th>\n",
       "      <th>fixed acidity</th>\n",
       "      <th>volatile acidity</th>\n",
       "      <th>citric acid</th>\n",
       "      <th>residual sugar</th>\n",
       "      <th>chlorides</th>\n",
       "      <th>free sulfur dioxide</th>\n",
       "      <th>total sulfur dioxide</th>\n",
       "      <th>density</th>\n",
       "      <th>pH</th>\n",
       "      <th>sulphates</th>\n",
       "      <th>alcohol</th>\n",
       "      <th>quality</th>\n",
       "      <th>type</th>\n",
       "      <th>quality_good</th>\n",
       "    </tr>\n",
       "  </thead>\n",
       "  <tbody>\n",
       "    <tr>\n",
       "      <th>0</th>\n",
       "      <td>7.0</td>\n",
       "      <td>0.27</td>\n",
       "      <td>0.36</td>\n",
       "      <td>20.7</td>\n",
       "      <td>0.045</td>\n",
       "      <td>45.0</td>\n",
       "      <td>170.0</td>\n",
       "      <td>1.0010</td>\n",
       "      <td>3.00</td>\n",
       "      <td>0.45</td>\n",
       "      <td>8.8</td>\n",
       "      <td>6</td>\n",
       "      <td>white</td>\n",
       "      <td>True</td>\n",
       "    </tr>\n",
       "    <tr>\n",
       "      <th>1</th>\n",
       "      <td>6.3</td>\n",
       "      <td>0.30</td>\n",
       "      <td>0.34</td>\n",
       "      <td>1.6</td>\n",
       "      <td>0.049</td>\n",
       "      <td>14.0</td>\n",
       "      <td>132.0</td>\n",
       "      <td>0.9940</td>\n",
       "      <td>3.30</td>\n",
       "      <td>0.49</td>\n",
       "      <td>9.5</td>\n",
       "      <td>6</td>\n",
       "      <td>white</td>\n",
       "      <td>True</td>\n",
       "    </tr>\n",
       "    <tr>\n",
       "      <th>2</th>\n",
       "      <td>8.1</td>\n",
       "      <td>0.28</td>\n",
       "      <td>0.40</td>\n",
       "      <td>6.9</td>\n",
       "      <td>0.050</td>\n",
       "      <td>30.0</td>\n",
       "      <td>97.0</td>\n",
       "      <td>0.9951</td>\n",
       "      <td>3.26</td>\n",
       "      <td>0.44</td>\n",
       "      <td>10.1</td>\n",
       "      <td>6</td>\n",
       "      <td>white</td>\n",
       "      <td>True</td>\n",
       "    </tr>\n",
       "    <tr>\n",
       "      <th>3</th>\n",
       "      <td>7.2</td>\n",
       "      <td>0.23</td>\n",
       "      <td>0.32</td>\n",
       "      <td>8.5</td>\n",
       "      <td>0.058</td>\n",
       "      <td>47.0</td>\n",
       "      <td>186.0</td>\n",
       "      <td>0.9956</td>\n",
       "      <td>3.19</td>\n",
       "      <td>0.40</td>\n",
       "      <td>9.9</td>\n",
       "      <td>6</td>\n",
       "      <td>white</td>\n",
       "      <td>True</td>\n",
       "    </tr>\n",
       "    <tr>\n",
       "      <th>4</th>\n",
       "      <td>7.2</td>\n",
       "      <td>0.23</td>\n",
       "      <td>0.32</td>\n",
       "      <td>8.5</td>\n",
       "      <td>0.058</td>\n",
       "      <td>47.0</td>\n",
       "      <td>186.0</td>\n",
       "      <td>0.9956</td>\n",
       "      <td>3.19</td>\n",
       "      <td>0.40</td>\n",
       "      <td>9.9</td>\n",
       "      <td>6</td>\n",
       "      <td>white</td>\n",
       "      <td>True</td>\n",
       "    </tr>\n",
       "  </tbody>\n",
       "</table>\n",
       "</div>"
      ],
      "text/plain": [
       "   fixed acidity  volatile acidity  citric acid  residual sugar  chlorides  \\\n",
       "0            7.0              0.27         0.36            20.7      0.045   \n",
       "1            6.3              0.30         0.34             1.6      0.049   \n",
       "2            8.1              0.28         0.40             6.9      0.050   \n",
       "3            7.2              0.23         0.32             8.5      0.058   \n",
       "4            7.2              0.23         0.32             8.5      0.058   \n",
       "\n",
       "   free sulfur dioxide  total sulfur dioxide  density    pH  sulphates  \\\n",
       "0                 45.0                 170.0   1.0010  3.00       0.45   \n",
       "1                 14.0                 132.0   0.9940  3.30       0.49   \n",
       "2                 30.0                  97.0   0.9951  3.26       0.44   \n",
       "3                 47.0                 186.0   0.9956  3.19       0.40   \n",
       "4                 47.0                 186.0   0.9956  3.19       0.40   \n",
       "\n",
       "   alcohol  quality   type  quality_good  \n",
       "0      8.8        6  white          True  \n",
       "1      9.5        6  white          True  \n",
       "2     10.1        6  white          True  \n",
       "3      9.9        6  white          True  \n",
       "4      9.9        6  white          True  "
      ]
     },
     "execution_count": 36,
     "metadata": {},
     "output_type": "execute_result"
    }
   ],
   "source": [
    "data_w = data[data.type == 'white']\n",
    "data_w.head()"
   ]
  },
  {
   "cell_type": "code",
   "execution_count": 37,
   "metadata": {},
   "outputs": [
    {
     "data": {
      "text/plain": [
       "True     4113\n",
       "False    2384\n",
       "Name: quality_good, dtype: int64"
      ]
     },
     "execution_count": 37,
     "metadata": {},
     "output_type": "execute_result"
    }
   ],
   "source": [
    "tabla_de_frecuencia2 = pd.DataFrame(data['quality_good'].groupby(data['type']).value_counts())\n",
    "data['quality_good'].value_counts()"
   ]
  },
  {
   "cell_type": "code",
   "execution_count": 38,
   "metadata": {},
   "outputs": [
    {
     "data": {
      "text/plain": [
       "['fixed acidity',\n",
       " 'volatile acidity',\n",
       " 'citric acid',\n",
       " 'residual sugar',\n",
       " 'chlorides',\n",
       " 'free sulfur dioxide',\n",
       " 'total sulfur dioxide',\n",
       " 'density',\n",
       " 'pH',\n",
       " 'sulphates',\n",
       " 'alcohol']"
      ]
     },
     "execution_count": 38,
     "metadata": {},
     "output_type": "execute_result"
    }
   ],
   "source": [
    "variables = data.columns.values.tolist()\n",
    "variables.remove('quality')\n",
    "variables.remove('quality_good')\n",
    "variables.remove('type')\n",
    "\n",
    "variables_y = ['quality','quality_good']\n",
    "\n",
    "# Tener claro cuáles serán las X's\n",
    "variables"
   ]
  },
  {
   "cell_type": "code",
   "execution_count": 39,
   "metadata": {},
   "outputs": [],
   "source": [
    "# Dividir X e Y\n",
    "X_w = data_w[variables]\n",
    "y_w = data_w[variables_y]\n",
    "\n",
    "X_r = data_r[variables]\n",
    "y_r = data_r[variables_y]\n",
    "\n",
    "# Aquí para dividir en train y test\n",
    "from sklearn.model_selection import train_test_split\n",
    "X_r_train, X_r_test, y_r_train, y_r_test = train_test_split(X_r, y_r)\n",
    "X_w_train, X_w_test, y_w_train, y_w_test = train_test_split(X_w, y_w)\n",
    "\n",
    "# Normalizar datos\n",
    "from sklearn.preprocessing import StandardScaler\n",
    "scaler = StandardScaler()\n",
    "\n",
    "scaler.fit(X_r_train)\n",
    "scaler.fit(X_w_train)\n",
    "X_w_train_scaled = scaler.transform(X_w_train)\n",
    "X_w_test_scaled = scaler.transform(X_w_test)\n",
    "\n",
    "X_r_train_scaled = scaler.transform(X_r_train)\n",
    "X_r_test_scaled = scaler.transform(X_r_test)"
   ]
  },
  {
   "cell_type": "code",
   "execution_count": 40,
   "metadata": {},
   "outputs": [],
   "source": [
    "from sklearn.svm import SVC # \"Support Vector Classifier\"\n",
    "clf_lin = SVC(kernel='linear', gamma='auto')"
   ]
  },
  {
   "cell_type": "code",
   "execution_count": 41,
   "metadata": {},
   "outputs": [
    {
     "data": {
      "text/plain": [
       "6278     True\n",
       "5690     True\n",
       "5738     True\n",
       "5522    False\n",
       "5662     True\n",
       "Name: quality_good, dtype: bool"
      ]
     },
     "execution_count": 41,
     "metadata": {},
     "output_type": "execute_result"
    }
   ],
   "source": [
    "y_r_train['quality_good'].head()"
   ]
  },
  {
   "cell_type": "code",
   "execution_count": 42,
   "metadata": {},
   "outputs": [
    {
     "data": {
      "text/plain": [
       "SVC(C=1.0, cache_size=200, class_weight=None, coef0=0.0,\n",
       "  decision_function_shape='ovr', degree=3, gamma='auto', kernel='linear',\n",
       "  max_iter=-1, probability=False, random_state=None, shrinking=True,\n",
       "  tol=0.001, verbose=False)"
      ]
     },
     "execution_count": 42,
     "metadata": {},
     "output_type": "execute_result"
    }
   ],
   "source": [
    "clf_lin.fit(X_r_train_scaled,y_r_train['quality_good'])"
   ]
  },
  {
   "cell_type": "code",
   "execution_count": 44,
   "metadata": {},
   "outputs": [],
   "source": [
    "y_r_pred_lin = clf_lin.predict(X_r_test_scaled)"
   ]
  },
  {
   "cell_type": "code",
   "execution_count": 47,
   "metadata": {},
   "outputs": [
    {
     "data": {
      "text/plain": [
       "0.74"
      ]
     },
     "execution_count": 47,
     "metadata": {},
     "output_type": "execute_result"
    }
   ],
   "source": [
    "from sklearn.metrics import accuracy_score\n",
    "accuracy_score(y_r_test['quality_good'], y_r_pred_lin)"
   ]
  },
  {
   "cell_type": "code",
   "execution_count": 48,
   "metadata": {},
   "outputs": [
    {
     "data": {
      "text/plain": [
       "SVC(C=1.0, cache_size=200, class_weight=None, coef0=0.0,\n",
       "  decision_function_shape='ovr', degree=3, gamma='auto', kernel='linear',\n",
       "  max_iter=-1, probability=False, random_state=None, shrinking=True,\n",
       "  tol=0.001, verbose=False)"
      ]
     },
     "execution_count": 48,
     "metadata": {},
     "output_type": "execute_result"
    }
   ],
   "source": [
    "clf_lin.fit(X_w_train_scaled,y_w_train['quality_good'])"
   ]
  },
  {
   "cell_type": "code",
   "execution_count": 49,
   "metadata": {},
   "outputs": [],
   "source": [
    "y_w_pred_lin = clf_lin.predict(X_w_test_scaled)"
   ]
  },
  {
   "cell_type": "code",
   "execution_count": 50,
   "metadata": {},
   "outputs": [
    {
     "data": {
      "text/plain": [
       "0.7404081632653061"
      ]
     },
     "execution_count": 50,
     "metadata": {},
     "output_type": "execute_result"
    }
   ],
   "source": [
    "accuracy_score(y_w_test['quality_good'], y_w_pred_lin)"
   ]
  },
  {
   "cell_type": "markdown",
   "metadata": {},
   "source": [
    "# Exercise 6.3\n",
    "\n",
    "Test the two SVM's using the different kernels (‘poly’, ‘rbf’, ‘sigmoid’)\n"
   ]
  },
  {
   "cell_type": "code",
   "execution_count": 55,
   "metadata": {},
   "outputs": [],
   "source": [
    "clf_poly = SVC(kernel='poly', gamma='auto')\n",
    "clf_rbf = SVC(kernel='rbf', gamma='auto')\n",
    "clf_sig = SVC(kernel='sigmoid', gamma='auto')"
   ]
  },
  {
   "cell_type": "code",
   "execution_count": 56,
   "metadata": {},
   "outputs": [
    {
     "data": {
      "text/plain": [
       "SVC(C=1.0, cache_size=200, class_weight=None, coef0=0.0,\n",
       "  decision_function_shape='ovr', degree=3, gamma='auto', kernel='sigmoid',\n",
       "  max_iter=-1, probability=False, random_state=None, shrinking=True,\n",
       "  tol=0.001, verbose=False)"
      ]
     },
     "execution_count": 56,
     "metadata": {},
     "output_type": "execute_result"
    }
   ],
   "source": [
    "clf_poly.fit(X_r_train_scaled, y_r_train['quality_good'])\n",
    "clf_rbf.fit(X_r_train_scaled, y_r_train['quality_good'])\n",
    "clf_sig.fit(X_r_train_scaled, y_r_train['quality_good'])"
   ]
  },
  {
   "cell_type": "code",
   "execution_count": 58,
   "metadata": {},
   "outputs": [
    {
     "name": "stdout",
     "output_type": "stream",
     "text": [
      "Accuracy Score para kernel 'poly' es: 0.76\n",
      "Accuracy Score para kernel 'rbf' es: 0.76\n",
      "Accuracy Score para kernel 'sig' es: 0.59\n"
     ]
    }
   ],
   "source": [
    "y_r_pred_poly = clf_poly.predict(X_r_test_scaled)\n",
    "y_r_pred_rbf = clf_rbf.predict(X_r_test_scaled)\n",
    "y_r_pred_sig = clf_sig.predict(X_r_test_scaled)\n",
    "print(f\"Accuracy Score para kernel 'poly' es: {accuracy_score(y_r_test['quality_good'], y_r_pred_poly)}\")\n",
    "print(f\"Accuracy Score para kernel 'rbf' es: {accuracy_score(y_r_test['quality_good'], y_r_pred_rbf)}\")\n",
    "print(f\"Accuracy Score para kernel 'sig' es: {accuracy_score(y_r_test['quality_good'], y_r_pred_sig)}\")"
   ]
  },
  {
   "cell_type": "code",
   "execution_count": 59,
   "metadata": {},
   "outputs": [],
   "source": [
    "#Accuracy Score para kernel 'rbf' es: 0.8925"
   ]
  },
  {
   "cell_type": "code",
   "execution_count": 61,
   "metadata": {
    "scrolled": true
   },
   "outputs": [
    {
     "name": "stdout",
     "output_type": "stream",
     "text": [
      "Accuracy Score para kernel 'poly' es: 0.7273469387755102\n",
      "Accuracy Score para kernel 'rbf' es: 0.7877551020408163\n",
      "Accuracy Score para kernel 'sig' es: 0.6938775510204082\n"
     ]
    }
   ],
   "source": [
    "#White\n",
    "clf_poly.fit(X_w_train_scaled, y_w_train['quality_good'])\n",
    "clf_rbf.fit(X_w_train_scaled, y_w_train['quality_good'])\n",
    "clf_sig.fit(X_w_train_scaled, y_w_train['quality_good'])\n",
    "\n",
    "y_w_pred_poly = clf_poly.predict(X_w_test_scaled)\n",
    "y_w_pred_rbf = clf_rbf.predict(X_w_test_scaled)\n",
    "y_w_pred_sig = clf_sig.predict(X_w_test_scaled)\n",
    "\n",
    "print(f\"Accuracy Score para kernel 'poly' es: {accuracy_score(y_w_test['quality_good'], y_w_pred_poly)}\")\n",
    "print(f\"Accuracy Score para kernel 'rbf' es: {accuracy_score(y_w_test['quality_good'], y_w_pred_rbf)}\")\n",
    "print(f\"Accuracy Score para kernel 'sig' es: {accuracy_score(y_w_test['quality_good'], y_w_pred_sig)}\")"
   ]
  },
  {
   "cell_type": "code",
   "execution_count": 62,
   "metadata": {},
   "outputs": [],
   "source": [
    "#Accuracy Score para kernel 'rbf' es: 0.7877551020408163"
   ]
  },
  {
   "cell_type": "markdown",
   "metadata": {},
   "source": [
    "# Exercise 6.4\n",
    "Using the best SVM find the parameters that gives the best performance\n",
    "\n",
    "'C': [0.1, 1, 10, 100, 1000], 'gamma': [0.01, 0.001, 0.0001]"
   ]
  },
  {
   "cell_type": "code",
   "execution_count": 65,
   "metadata": {},
   "outputs": [
    {
     "name": "stdout",
     "output_type": "stream",
     "text": [
      "C           1000.00\n",
      "Gamma          0.01\n",
      "Accuracy       0.78\n",
      "Name: 12, dtype: float64\n"
     ]
    }
   ],
   "source": [
    "# Red\n",
    "accuracy = []\n",
    "for c in [0.1, 1, 10, 100, 1000]:\n",
    "    for g in [0.01, 0.001, 0.0001]:\n",
    "        clf_rbf_cg = SVC(kernel='rbf', C=c, gamma=g)\n",
    "        clf_rbf_cg.fit(X_r_train_scaled, y_r_train['quality_good'])\n",
    "        y_r_pred_rbf_cg = clf_rbf_cg.predict(X_r_test_scaled)\n",
    "        accuracy.append([c, g, accuracy_score(y_r_test['quality_good'], y_r_pred_rbf_cg)])\n",
    "accuracy = pd.DataFrame(accuracy, columns = ['C', 'Gamma', 'Accuracy'])\n",
    "print(accuracy.loc[accuracy['Accuracy'].idxmax()])"
   ]
  },
  {
   "cell_type": "code",
   "execution_count": 66,
   "metadata": {},
   "outputs": [
    {
     "name": "stdout",
     "output_type": "stream",
     "text": [
      "C           1000.000000\n",
      "Gamma          0.010000\n",
      "Accuracy       0.787755\n",
      "Name: 12, dtype: float64\n"
     ]
    }
   ],
   "source": [
    "#White\n",
    "accuracy = []\n",
    "for c in [0.1, 1, 10, 100, 1000]:\n",
    "    for g in [0.01, 0.001, 0.0001]:\n",
    "        clf_rbf_cg = SVC(kernel='rbf', C=c, gamma=g)\n",
    "        clf_rbf_cg.fit(X_w_train_scaled, y_w_train['quality_good'])\n",
    "        y_w_pred_rbf_cg = clf_rbf_cg.predict(X_w_test_scaled)\n",
    "        accuracy.append([c, g, accuracy_score(y_w_test['quality_good'], y_w_pred_rbf_cg)])\n",
    "accuracy = pd.DataFrame(accuracy, columns = ['C', 'Gamma', 'Accuracy'])\n",
    "print(accuracy.loc[accuracy['Accuracy'].idxmax()])"
   ]
  },
  {
   "cell_type": "markdown",
   "metadata": {},
   "source": [
    "# Exercise 6.5\n",
    "\n",
    "Compare the results with other methods"
   ]
  },
  {
   "cell_type": "code",
   "execution_count": 68,
   "metadata": {},
   "outputs": [],
   "source": [
    "from sklearn.linear_model import LogisticRegression\n",
    "logreg = LogisticRegression(C=1e9, solver='liblinear', multi_class='ovr')\n",
    "logreg_l1 = LogisticRegression(C=0.1, penalty='l1', solver='liblinear', multi_class='ovr')\n",
    "logreg_l2 = LogisticRegression(C=0.1, penalty='l2', solver='liblinear', multi_class='ovr')"
   ]
  },
  {
   "cell_type": "code",
   "execution_count": 71,
   "metadata": {},
   "outputs": [
    {
     "name": "stdout",
     "output_type": "stream",
     "text": [
      "Accuracy Score para regresión logística es: 0.745\n",
      "Accuracy Score para regresión logística tipo Lasso es: 0.7425\n",
      "Accuracy Score para regresión logística truncada es: 0.7325\n"
     ]
    }
   ],
   "source": [
    "logreg.fit(X_r_train_scaled, y_r_train['quality_good'])\n",
    "logreg_l1.fit(X_r_train_scaled, y_r_train['quality_good'])\n",
    "logreg_l2.fit(X_r_train_scaled, y_r_train['quality_good'])\n",
    "\n",
    "y_r_pred_logreg = logreg.predict(X_r_test_scaled)\n",
    "y_r_pred_logreg_l1 = logreg_l1.predict(X_r_test_scaled)\n",
    "y_r_pred_logreg_l2 = logreg_l2.predict(X_r_test_scaled)\n",
    "\n",
    "print(f\"Accuracy Score para regresión logística es: {accuracy_score(y_r_test['quality_good'], y_r_pred_logreg)}\")\n",
    "print(f\"Accuracy Score para regresión logística tipo Lasso es: {accuracy_score(y_r_test['quality_good'], y_r_pred_logreg_l1)}\")\n",
    "print(f\"Accuracy Score para regresión logística truncada es: {accuracy_score(y_r_test['quality_good'], y_r_pred_logreg_l2)}\")"
   ]
  },
  {
   "cell_type": "markdown",
   "metadata": {},
   "source": [
    "# Regularization"
   ]
  },
  {
   "cell_type": "markdown",
   "metadata": {},
   "source": [
    "# Exercise 6.6\n",
    "\n",
    "\n",
    "* Train a linear regression to predict wine quality (Continous)\n",
    "\n",
    "* Analyze the coefficients\n",
    "\n",
    "* Evaluate the RMSE"
   ]
  },
  {
   "cell_type": "code",
   "execution_count": 74,
   "metadata": {},
   "outputs": [],
   "source": [
    "from sklearn.linear_model import LinearRegression\n",
    "linreg = LinearRegression(normalize=False)"
   ]
  },
  {
   "cell_type": "code",
   "execution_count": 76,
   "metadata": {},
   "outputs": [
    {
     "data": {
      "text/html": [
       "<div>\n",
       "<style scoped>\n",
       "    .dataframe tbody tr th:only-of-type {\n",
       "        vertical-align: middle;\n",
       "    }\n",
       "\n",
       "    .dataframe tbody tr th {\n",
       "        vertical-align: top;\n",
       "    }\n",
       "\n",
       "    .dataframe thead th {\n",
       "        text-align: right;\n",
       "    }\n",
       "</style>\n",
       "<table border=\"1\" class=\"dataframe\">\n",
       "  <thead>\n",
       "    <tr style=\"text-align: right;\">\n",
       "      <th></th>\n",
       "      <th>0</th>\n",
       "      <th>1</th>\n",
       "      <th>2</th>\n",
       "      <th>3</th>\n",
       "      <th>4</th>\n",
       "      <th>5</th>\n",
       "      <th>6</th>\n",
       "      <th>7</th>\n",
       "      <th>8</th>\n",
       "      <th>9</th>\n",
       "      <th>10</th>\n",
       "    </tr>\n",
       "  </thead>\n",
       "  <tbody>\n",
       "    <tr>\n",
       "      <th>Beta</th>\n",
       "      <td>0.008266</td>\n",
       "      <td>-0.102118</td>\n",
       "      <td>-0.018167</td>\n",
       "      <td>0.05811</td>\n",
       "      <td>-0.04554</td>\n",
       "      <td>0.055285</td>\n",
       "      <td>-0.1159</td>\n",
       "      <td>-0.03707</td>\n",
       "      <td>-0.068071</td>\n",
       "      <td>0.116092</td>\n",
       "      <td>0.333367</td>\n",
       "    </tr>\n",
       "  </tbody>\n",
       "</table>\n",
       "</div>"
      ],
      "text/plain": [
       "            0         1         2        3        4         5       6   \\\n",
       "Beta  0.008266 -0.102118 -0.018167  0.05811 -0.04554  0.055285 -0.1159   \n",
       "\n",
       "           7         8         9         10  \n",
       "Beta -0.03707 -0.068071  0.116092  0.333367  "
      ]
     },
     "execution_count": 76,
     "metadata": {},
     "output_type": "execute_result"
    }
   ],
   "source": [
    "linreg.fit(X_r_train_scaled, y_r_train['quality'])\n",
    "\n",
    "coef_linreg_r = pd.DataFrame(linreg.coef_, columns=['Beta'])\n",
    "coef_linreg_r.T"
   ]
  },
  {
   "cell_type": "code",
   "execution_count": 77,
   "metadata": {},
   "outputs": [
    {
     "data": {
      "text/plain": [
       "5.74637907042434"
      ]
     },
     "execution_count": 77,
     "metadata": {},
     "output_type": "execute_result"
    }
   ],
   "source": [
    "linreg.intercept_"
   ]
  },
  {
   "cell_type": "code",
   "execution_count": 78,
   "metadata": {},
   "outputs": [
    {
     "name": "stdout",
     "output_type": "stream",
     "text": [
      "RMSE: 0.6749079572603044\n"
     ]
    }
   ],
   "source": [
    "y_r_pred_linreg = linreg.predict(X_r_test_scaled)\n",
    "\n",
    "from sklearn import metrics\n",
    "print('RMSE:', np.sqrt(metrics.mean_squared_error(y_r_test['quality'], y_r_pred_linreg)))"
   ]
  },
  {
   "cell_type": "code",
   "execution_count": 79,
   "metadata": {},
   "outputs": [
    {
     "data": {
      "text/plain": [
       "5.74637907042434"
      ]
     },
     "execution_count": 79,
     "metadata": {},
     "output_type": "execute_result"
    }
   ],
   "source": [
    "linreg.intercept_"
   ]
  },
  {
   "cell_type": "markdown",
   "metadata": {},
   "source": [
    "# Exercise 6.7\n",
    "\n",
    "* Estimate a ridge regression with alpha equals 0.1 and 1.\n",
    "* Compare the coefficients with the linear regression\n",
    "* Evaluate the RMSE"
   ]
  },
  {
   "cell_type": "code",
   "execution_count": 81,
   "metadata": {},
   "outputs": [],
   "source": [
    "from sklearn.linear_model import Ridge\n",
    "linreg_l2_01 = Ridge(alpha=0.1)\n",
    "linreg_l2_1 = Ridge(alpha=1)"
   ]
  },
  {
   "cell_type": "code",
   "execution_count": 83,
   "metadata": {},
   "outputs": [
    {
     "data": {
      "text/html": [
       "<div>\n",
       "<style scoped>\n",
       "    .dataframe tbody tr th:only-of-type {\n",
       "        vertical-align: middle;\n",
       "    }\n",
       "\n",
       "    .dataframe tbody tr th {\n",
       "        vertical-align: top;\n",
       "    }\n",
       "\n",
       "    .dataframe thead th {\n",
       "        text-align: right;\n",
       "    }\n",
       "</style>\n",
       "<table border=\"1\" class=\"dataframe\">\n",
       "  <thead>\n",
       "    <tr style=\"text-align: right;\">\n",
       "      <th></th>\n",
       "      <th>0</th>\n",
       "      <th>1</th>\n",
       "      <th>2</th>\n",
       "      <th>3</th>\n",
       "      <th>4</th>\n",
       "      <th>5</th>\n",
       "      <th>6</th>\n",
       "      <th>7</th>\n",
       "      <th>8</th>\n",
       "      <th>9</th>\n",
       "      <th>10</th>\n",
       "    </tr>\n",
       "  </thead>\n",
       "  <tbody>\n",
       "    <tr>\n",
       "      <th>Beta</th>\n",
       "      <td>0.008295</td>\n",
       "      <td>-0.102116</td>\n",
       "      <td>-0.018159</td>\n",
       "      <td>0.058112</td>\n",
       "      <td>-0.04554</td>\n",
       "      <td>0.055241</td>\n",
       "      <td>-0.11586</td>\n",
       "      <td>-0.037166</td>\n",
       "      <td>-0.06802</td>\n",
       "      <td>0.116094</td>\n",
       "      <td>0.333293</td>\n",
       "    </tr>\n",
       "  </tbody>\n",
       "</table>\n",
       "</div>"
      ],
      "text/plain": [
       "            0         1         2         3        4         5        6   \\\n",
       "Beta  0.008295 -0.102116 -0.018159  0.058112 -0.04554  0.055241 -0.11586   \n",
       "\n",
       "            7        8         9         10  \n",
       "Beta -0.037166 -0.06802  0.116094  0.333293  "
      ]
     },
     "execution_count": 83,
     "metadata": {},
     "output_type": "execute_result"
    }
   ],
   "source": [
    "linreg_l2_01.fit(X_r_train_scaled, y_r_train['quality'])\n",
    "linreg_l2_1.fit(X_r_train_scaled, y_r_train['quality'])\n",
    "\n",
    "coef_ridgereg_01_r = pd.DataFrame(linreg_l2_01.coef_, columns = ['Beta'])\n",
    "coef_ridgereg_01_r.T"
   ]
  },
  {
   "cell_type": "code",
   "execution_count": 84,
   "metadata": {},
   "outputs": [
    {
     "data": {
      "text/html": [
       "<div>\n",
       "<style scoped>\n",
       "    .dataframe tbody tr th:only-of-type {\n",
       "        vertical-align: middle;\n",
       "    }\n",
       "\n",
       "    .dataframe tbody tr th {\n",
       "        vertical-align: top;\n",
       "    }\n",
       "\n",
       "    .dataframe thead th {\n",
       "        text-align: right;\n",
       "    }\n",
       "</style>\n",
       "<table border=\"1\" class=\"dataframe\">\n",
       "  <thead>\n",
       "    <tr style=\"text-align: right;\">\n",
       "      <th></th>\n",
       "      <th>0</th>\n",
       "      <th>1</th>\n",
       "      <th>2</th>\n",
       "      <th>3</th>\n",
       "      <th>4</th>\n",
       "      <th>5</th>\n",
       "      <th>6</th>\n",
       "      <th>7</th>\n",
       "      <th>8</th>\n",
       "      <th>9</th>\n",
       "      <th>10</th>\n",
       "    </tr>\n",
       "  </thead>\n",
       "  <tbody>\n",
       "    <tr>\n",
       "      <th>Beta</th>\n",
       "      <td>0.008559</td>\n",
       "      <td>-0.102105</td>\n",
       "      <td>-0.018079</td>\n",
       "      <td>0.058116</td>\n",
       "      <td>-0.045539</td>\n",
       "      <td>0.054853</td>\n",
       "      <td>-0.11551</td>\n",
       "      <td>-0.038007</td>\n",
       "      <td>-0.067563</td>\n",
       "      <td>0.116111</td>\n",
       "      <td>0.332627</td>\n",
       "    </tr>\n",
       "  </tbody>\n",
       "</table>\n",
       "</div>"
      ],
      "text/plain": [
       "            0         1         2         3         4         5        6   \\\n",
       "Beta  0.008559 -0.102105 -0.018079  0.058116 -0.045539  0.054853 -0.11551   \n",
       "\n",
       "            7         8         9         10  \n",
       "Beta -0.038007 -0.067563  0.116111  0.332627  "
      ]
     },
     "execution_count": 84,
     "metadata": {},
     "output_type": "execute_result"
    }
   ],
   "source": [
    "coef_ridgereg_1_r = pd.DataFrame(linreg_l2_1.coef_, columns = ['Beta'])\n",
    "coef_ridgereg_1_r.T"
   ]
  },
  {
   "cell_type": "markdown",
   "metadata": {},
   "source": [
    "# Exercise 6.8\n",
    "\n",
    "* Estimate a lasso regression with alpha equals 0.01, 0.1 and 1.\n",
    "* Compare the coefficients with the linear regression\n",
    "* Evaluate the RMSE"
   ]
  },
  {
   "cell_type": "code",
   "execution_count": 86,
   "metadata": {},
   "outputs": [],
   "source": [
    "from sklearn.linear_model import Lasso\n",
    "linreg_l1_001 = Lasso(alpha=0.01)\n",
    "linreg_l1_01 = Lasso(alpha=0.1)\n",
    "linreg_l1_1 = Lasso(alpha=1)"
   ]
  },
  {
   "cell_type": "code",
   "execution_count": 87,
   "metadata": {},
   "outputs": [
    {
     "data": {
      "text/html": [
       "<div>\n",
       "<style scoped>\n",
       "    .dataframe tbody tr th:only-of-type {\n",
       "        vertical-align: middle;\n",
       "    }\n",
       "\n",
       "    .dataframe tbody tr th {\n",
       "        vertical-align: top;\n",
       "    }\n",
       "\n",
       "    .dataframe thead th {\n",
       "        text-align: right;\n",
       "    }\n",
       "</style>\n",
       "<table border=\"1\" class=\"dataframe\">\n",
       "  <thead>\n",
       "    <tr style=\"text-align: right;\">\n",
       "      <th></th>\n",
       "      <th>0</th>\n",
       "      <th>1</th>\n",
       "      <th>2</th>\n",
       "      <th>3</th>\n",
       "      <th>4</th>\n",
       "      <th>5</th>\n",
       "      <th>6</th>\n",
       "      <th>7</th>\n",
       "      <th>8</th>\n",
       "      <th>9</th>\n",
       "      <th>10</th>\n",
       "    </tr>\n",
       "  </thead>\n",
       "  <tbody>\n",
       "    <tr>\n",
       "      <th>Beta</th>\n",
       "      <td>0.0</td>\n",
       "      <td>-0.100482</td>\n",
       "      <td>-0.003805</td>\n",
       "      <td>0.0</td>\n",
       "      <td>-0.042861</td>\n",
       "      <td>0.0</td>\n",
       "      <td>-0.072364</td>\n",
       "      <td>-0.0</td>\n",
       "      <td>-0.049017</td>\n",
       "      <td>0.10834</td>\n",
       "      <td>0.334407</td>\n",
       "    </tr>\n",
       "  </tbody>\n",
       "</table>\n",
       "</div>"
      ],
      "text/plain": [
       "       0         1         2    3         4    5         6    7         8   \\\n",
       "Beta  0.0 -0.100482 -0.003805  0.0 -0.042861  0.0 -0.072364 -0.0 -0.049017   \n",
       "\n",
       "           9         10  \n",
       "Beta  0.10834  0.334407  "
      ]
     },
     "execution_count": 87,
     "metadata": {},
     "output_type": "execute_result"
    }
   ],
   "source": [
    "linreg_l1_001.fit(X_r_train_scaled, y_r_train['quality'])\n",
    "linreg_l1_01.fit(X_r_train_scaled, y_r_train['quality'])\n",
    "linreg_l1_1.fit(X_r_train_scaled, y_r_train['quality'])\n",
    "\n",
    "coef_lasso_001_r = pd.DataFrame(linreg_l1_001.coef_, columns=['Beta'])\n",
    "coef_lasso_001_r.T"
   ]
  },
  {
   "cell_type": "code",
   "execution_count": 88,
   "metadata": {},
   "outputs": [
    {
     "data": {
      "text/plain": [
       "False    7\n",
       "True     4\n",
       "Name: Beta, dtype: int64"
      ]
     },
     "execution_count": 88,
     "metadata": {},
     "output_type": "execute_result"
    }
   ],
   "source": [
    "comp_lasso_001_linreg_r = pd.DataFrame(coef_linreg_r >= coef_lasso_001_r)\n",
    "comp_lasso_001_linreg_r.Beta.value_counts()"
   ]
  },
  {
   "cell_type": "code",
   "execution_count": 89,
   "metadata": {},
   "outputs": [
    {
     "data": {
      "text/html": [
       "<div>\n",
       "<style scoped>\n",
       "    .dataframe tbody tr th:only-of-type {\n",
       "        vertical-align: middle;\n",
       "    }\n",
       "\n",
       "    .dataframe tbody tr th {\n",
       "        vertical-align: top;\n",
       "    }\n",
       "\n",
       "    .dataframe thead th {\n",
       "        text-align: right;\n",
       "    }\n",
       "</style>\n",
       "<table border=\"1\" class=\"dataframe\">\n",
       "  <thead>\n",
       "    <tr style=\"text-align: right;\">\n",
       "      <th></th>\n",
       "      <th>0</th>\n",
       "      <th>1</th>\n",
       "      <th>2</th>\n",
       "      <th>3</th>\n",
       "      <th>4</th>\n",
       "      <th>5</th>\n",
       "      <th>6</th>\n",
       "      <th>7</th>\n",
       "      <th>8</th>\n",
       "      <th>9</th>\n",
       "      <th>10</th>\n",
       "    </tr>\n",
       "  </thead>\n",
       "  <tbody>\n",
       "    <tr>\n",
       "      <th>Beta</th>\n",
       "      <td>0.0</td>\n",
       "      <td>-0.101703</td>\n",
       "      <td>0.0</td>\n",
       "      <td>-0.0</td>\n",
       "      <td>-0.015179</td>\n",
       "      <td>-0.0</td>\n",
       "      <td>-0.0</td>\n",
       "      <td>-0.0</td>\n",
       "      <td>-0.0</td>\n",
       "      <td>0.061603</td>\n",
       "      <td>0.241032</td>\n",
       "    </tr>\n",
       "  </tbody>\n",
       "</table>\n",
       "</div>"
      ],
      "text/plain": [
       "       0         1    2    3         4    5    6    7    8         9   \\\n",
       "Beta  0.0 -0.101703  0.0 -0.0 -0.015179 -0.0 -0.0 -0.0 -0.0  0.061603   \n",
       "\n",
       "            10  \n",
       "Beta  0.241032  "
      ]
     },
     "execution_count": 89,
     "metadata": {},
     "output_type": "execute_result"
    }
   ],
   "source": [
    "coef_lasso_01_r = pd.DataFrame(linreg_l1_01.coef_, columns=['Beta'])\n",
    "coef_lasso_01_r.T"
   ]
  },
  {
   "cell_type": "code",
   "execution_count": 91,
   "metadata": {},
   "outputs": [
    {
     "data": {
      "text/plain": [
       "False    6\n",
       "True     5\n",
       "Name: Beta, dtype: int64"
      ]
     },
     "execution_count": 91,
     "metadata": {},
     "output_type": "execute_result"
    }
   ],
   "source": [
    "comp_lasso_01_linreg_r = pd.DataFrame(coef_linreg_r >= coef_lasso_01_r)\n",
    "comp_lasso_01_linreg_r.Beta.value_counts()"
   ]
  },
  {
   "cell_type": "code",
   "execution_count": 92,
   "metadata": {},
   "outputs": [
    {
     "data": {
      "text/html": [
       "<div>\n",
       "<style scoped>\n",
       "    .dataframe tbody tr th:only-of-type {\n",
       "        vertical-align: middle;\n",
       "    }\n",
       "\n",
       "    .dataframe tbody tr th {\n",
       "        vertical-align: top;\n",
       "    }\n",
       "\n",
       "    .dataframe thead th {\n",
       "        text-align: right;\n",
       "    }\n",
       "</style>\n",
       "<table border=\"1\" class=\"dataframe\">\n",
       "  <thead>\n",
       "    <tr style=\"text-align: right;\">\n",
       "      <th></th>\n",
       "      <th>0</th>\n",
       "      <th>1</th>\n",
       "      <th>2</th>\n",
       "      <th>3</th>\n",
       "      <th>4</th>\n",
       "      <th>5</th>\n",
       "      <th>6</th>\n",
       "      <th>7</th>\n",
       "      <th>8</th>\n",
       "      <th>9</th>\n",
       "      <th>10</th>\n",
       "    </tr>\n",
       "  </thead>\n",
       "  <tbody>\n",
       "    <tr>\n",
       "      <th>Beta</th>\n",
       "      <td>0.0</td>\n",
       "      <td>-0.0</td>\n",
       "      <td>0.0</td>\n",
       "      <td>0.0</td>\n",
       "      <td>-0.0</td>\n",
       "      <td>-0.0</td>\n",
       "      <td>-0.0</td>\n",
       "      <td>-0.0</td>\n",
       "      <td>-0.0</td>\n",
       "      <td>0.0</td>\n",
       "      <td>0.0</td>\n",
       "    </tr>\n",
       "  </tbody>\n",
       "</table>\n",
       "</div>"
      ],
      "text/plain": [
       "       0    1    2    3    4    5    6    7    8    9    10\n",
       "Beta  0.0 -0.0  0.0  0.0 -0.0 -0.0 -0.0 -0.0 -0.0  0.0  0.0"
      ]
     },
     "execution_count": 92,
     "metadata": {},
     "output_type": "execute_result"
    }
   ],
   "source": [
    "coef_lasso_1_r = pd.DataFrame(linreg_l1_1.coef_, columns=['Beta'])\n",
    "coef_lasso_1_r.T"
   ]
  },
  {
   "cell_type": "code",
   "execution_count": 93,
   "metadata": {},
   "outputs": [
    {
     "data": {
      "text/plain": [
       "False    6\n",
       "True     5\n",
       "Name: Beta, dtype: int64"
      ]
     },
     "execution_count": 93,
     "metadata": {},
     "output_type": "execute_result"
    }
   ],
   "source": [
    "comp_lasso_1_linreg_r = pd.DataFrame(coef_linreg_r >= coef_lasso_1_r)\n",
    "comp_lasso_1_linreg_r.Beta.value_counts()"
   ]
  },
  {
   "cell_type": "code",
   "execution_count": 94,
   "metadata": {},
   "outputs": [
    {
     "name": "stdout",
     "output_type": "stream",
     "text": [
      "RMSE con alpha(0.01) = 0.6789798589685276\n",
      "RMSE con alpha(0.1) = 0.7019375113911199\n",
      "RMSE con alpha(1) = 0.8372811298654157\n"
     ]
    }
   ],
   "source": [
    "y_r_pred_linreg_l1_001 = linreg_l1_001.predict(X_r_test_scaled)\n",
    "y_r_pred_linreg_l1_01 = linreg_l1_01.predict(X_r_test_scaled)\n",
    "y_r_pred_linreg_l1_1 = linreg_l1_1.predict(X_r_test_scaled)\n",
    "\n",
    "print('RMSE con alpha(0.01) =', np.sqrt(metrics.mean_squared_error(y_r_test['quality'], y_r_pred_linreg_l1_001)))\n",
    "print('RMSE con alpha(0.1) =', np.sqrt(metrics.mean_squared_error(y_r_test['quality'], y_r_pred_linreg_l1_01)))\n",
    "print('RMSE con alpha(1) =', np.sqrt(metrics.mean_squared_error(y_r_test['quality'], y_r_pred_linreg_l1_1)))"
   ]
  },
  {
   "cell_type": "markdown",
   "metadata": {},
   "source": [
    "# Exercise 6.9\n",
    "\n",
    "* Create a binary target\n",
    "\n",
    "* Train a logistic regression to predict wine quality (binary)\n",
    "\n",
    "* Analyze the coefficients\n",
    "\n",
    "* Evaluate the f1score"
   ]
  },
  {
   "cell_type": "code",
   "execution_count": 96,
   "metadata": {},
   "outputs": [],
   "source": [
    "from sklearn.linear_model import LogisticRegression\n",
    "logreg = LogisticRegression(C=1e9, solver='liblinear', multi_class='ovr')"
   ]
  },
  {
   "cell_type": "code",
   "execution_count": 98,
   "metadata": {},
   "outputs": [
    {
     "data": {
      "text/html": [
       "<div>\n",
       "<style scoped>\n",
       "    .dataframe tbody tr th:only-of-type {\n",
       "        vertical-align: middle;\n",
       "    }\n",
       "\n",
       "    .dataframe tbody tr th {\n",
       "        vertical-align: top;\n",
       "    }\n",
       "\n",
       "    .dataframe thead th {\n",
       "        text-align: right;\n",
       "    }\n",
       "</style>\n",
       "<table border=\"1\" class=\"dataframe\">\n",
       "  <thead>\n",
       "    <tr style=\"text-align: right;\">\n",
       "      <th></th>\n",
       "      <th>0</th>\n",
       "      <th>1</th>\n",
       "      <th>2</th>\n",
       "      <th>3</th>\n",
       "      <th>4</th>\n",
       "      <th>5</th>\n",
       "      <th>6</th>\n",
       "      <th>7</th>\n",
       "      <th>8</th>\n",
       "      <th>9</th>\n",
       "      <th>10</th>\n",
       "    </tr>\n",
       "  </thead>\n",
       "  <tbody>\n",
       "    <tr>\n",
       "      <th>Beta</th>\n",
       "      <td>0.057478</td>\n",
       "      <td>-0.300557</td>\n",
       "      <td>-0.141402</td>\n",
       "      <td>0.192292</td>\n",
       "      <td>-0.122578</td>\n",
       "      <td>0.336114</td>\n",
       "      <td>-0.688245</td>\n",
       "      <td>-0.071444</td>\n",
       "      <td>-0.108711</td>\n",
       "      <td>0.360799</td>\n",
       "      <td>1.025323</td>\n",
       "    </tr>\n",
       "  </tbody>\n",
       "</table>\n",
       "</div>"
      ],
      "text/plain": [
       "            0         1         2         3         4         5         6   \\\n",
       "Beta  0.057478 -0.300557 -0.141402  0.192292 -0.122578  0.336114 -0.688245   \n",
       "\n",
       "            7         8         9         10  \n",
       "Beta -0.071444 -0.108711  0.360799  1.025323  "
      ]
     },
     "execution_count": 98,
     "metadata": {},
     "output_type": "execute_result"
    }
   ],
   "source": [
    "logreg.fit(X_r_train_scaled, y_r_train['quality_good'])\n",
    "\n",
    "coef_logreg_r = pd.DataFrame(logreg.coef_, index=['Beta'])\n",
    "coef_logreg_r"
   ]
  },
  {
   "cell_type": "code",
   "execution_count": 99,
   "metadata": {},
   "outputs": [
    {
     "data": {
      "text/plain": [
       "0.7723214285714286"
      ]
     },
     "execution_count": 99,
     "metadata": {},
     "output_type": "execute_result"
    }
   ],
   "source": [
    "y_r_pred_logreg = logreg.predict(X_r_test_scaled)\n",
    "\n",
    "from sklearn.metrics import f1_score\n",
    "\n",
    "f1_score(y_r_test['quality_good'], y_r_pred_logreg)"
   ]
  },
  {
   "cell_type": "code",
   "execution_count": null,
   "metadata": {},
   "outputs": [],
   "source": []
  },
  {
   "cell_type": "markdown",
   "metadata": {},
   "source": [
    "# Exercise 6.10\n",
    "\n",
    "* Estimate a regularized logistic regression using:\n",
    "* C = 0.01, 0.1 & 1.0\n",
    "* penalty = ['l1, 'l2']\n",
    "* Compare the coefficients and the f1score"
   ]
  },
  {
   "cell_type": "code",
   "execution_count": 100,
   "metadata": {},
   "outputs": [],
   "source": [
    "score = []\n",
    "def logreg_fun(X_train, y_train, X_test, y_test):\n",
    "    for p in ['l1', 'l2']:\n",
    "        for c in [0.01, 0.1, 1.0]:\n",
    "            logreg = LogisticRegression(C=c, penalty=p, solver='liblinear', multi_class='ovr')\n",
    "            logreg.fit(X_train, y_train)\n",
    "            y_pred_logreg = logreg.predict(X_test)\n",
    "            score.append([p, c, f1_score(y_test, y_pred_logreg)])"
   ]
  },
  {
   "cell_type": "code",
   "execution_count": 103,
   "metadata": {},
   "outputs": [
    {
     "name": "stdout",
     "output_type": "stream",
     "text": [
      "Penalty           l1\n",
      "C                  1\n",
      "F1_Score    0.773333\n",
      "Name: 2, dtype: object\n"
     ]
    }
   ],
   "source": [
    "score = []\n",
    "logreg_fun(X_r_train_scaled, y_r_train['quality_good'], X_r_test_scaled, y_r_test['quality_good'])\n",
    "score = pd.DataFrame(score, columns=['Penalty', 'C', 'F1_Score'])\n",
    "print(score.loc[score['F1_Score'].idxmax()])"
   ]
  },
  {
   "cell_type": "code",
   "execution_count": 104,
   "metadata": {},
   "outputs": [
    {
     "name": "stdout",
     "output_type": "stream",
     "text": [
      "Penalty           l2\n",
      "C                0.1\n",
      "F1_Score    0.822978\n",
      "Name: 4, dtype: object\n"
     ]
    }
   ],
   "source": [
    "score = []\n",
    "logreg_fun(X_w_train_scaled, y_w_train['quality_good'], X_w_test_scaled, y_w_test['quality_good'])\n",
    "score = pd.DataFrame(score, columns=['Penalty', 'C', 'F1_Score'])\n",
    "print(score.loc[score['F1_Score'].idxmax()])"
   ]
  },
  {
   "cell_type": "code",
   "execution_count": null,
   "metadata": {},
   "outputs": [],
   "source": []
  },
  {
   "cell_type": "code",
   "execution_count": null,
   "metadata": {},
   "outputs": [],
   "source": []
  },
  {
   "cell_type": "code",
   "execution_count": null,
   "metadata": {},
   "outputs": [],
   "source": []
  }
 ],
 "metadata": {
  "kernelspec": {
   "display_name": "Python 3",
   "language": "python",
   "name": "python3"
  },
  "language_info": {
   "codemirror_mode": {
    "name": "ipython",
    "version": 3
   },
   "file_extension": ".py",
   "mimetype": "text/x-python",
   "name": "python",
   "nbconvert_exporter": "python",
   "pygments_lexer": "ipython3",
   "version": "3.6.5"
  }
 },
 "nbformat": 4,
 "nbformat_minor": 1
}
